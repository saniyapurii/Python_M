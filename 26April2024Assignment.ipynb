{
 "cells": [
  {
   "cell_type": "code",
   "execution_count": null,
   "id": "8bccad79-70ca-4edf-bc18-0c0208a30a2e",
   "metadata": {},
   "outputs": [],
   "source": [
    "# to find out whether a 4digit number is a armstrong\n",
    "# to find all the unique word from a string no duplicacy\n",
    "#    \"hey hello user tushar tushar hello\"\n",
    "#   [hey, user]"
   ]
  },
  {
   "cell_type": "code",
   "execution_count": 55,
   "id": "369a1f49-6496-4d79-a5a9-b1f547428de2",
   "metadata": {},
   "outputs": [
    {
     "name": "stdin",
     "output_type": "stream",
     "text": [
      "Enter a 4 digit number to check if it is Armstrong Number =  8208\n"
     ]
    },
    {
     "name": "stdout",
     "output_type": "stream",
     "text": [
      "Armstrong number\n"
     ]
    }
   ],
   "source": [
    "# to find out whether a 4digit number is a armstrong\n",
    "x=int(input(\"Enter a 4 digit number to check if it is Armstrong Number = \"))\n",
    "a=x\n",
    "rem1=x%10\n",
    "x=x//10\n",
    "rem2=x%10\n",
    "x=x//10\n",
    "rem3=x%10\n",
    "x=x//10\n",
    "rem4=x%10\n",
    "sum=rem1**4 + rem2**4+rem3**4+rem4**4\n",
    "if a==sum:\n",
    "    print(\"Armstrong number\")\n",
    "else:\n",
    "    print(\"Not Armstrong number\")"
   ]
  },
  {
   "cell_type": "code",
   "execution_count": 42,
   "id": "1ec80b2d-325c-4589-8f3d-332248f6b884",
   "metadata": {},
   "outputs": [
    {
     "name": "stdout",
     "output_type": "stream",
     "text": [
      "['hey', 'hello', 'user', 'tushar', 'tushar', 'hello']\n",
      "['hey', 'user', 'tushar']\n",
      "['hey', 'user']\n"
     ]
    }
   ],
   "source": [
    "# to find all the unique word from a string no duplicacy\n",
    "#    \"hey hello user tushar tushar hello\"\n",
    "#   [hey, user]\n",
    "\n",
    "data = \"hey hello user tushar tushar hello\"\n",
    "\n",
    "mylist = data.split()\n",
    "print(mylist)\n",
    "new_list = []\n",
    "\n",
    "for word in mylist:\n",
    "    if word not in new_list:\n",
    "        new_list.append(word)\n",
    "        mylist.remove(word)\n",
    "print(new_list)\n",
    "for i in mylist:\n",
    "    if i in new_list:\n",
    "        new_list.remove(i)\n",
    "print(new_list)"
   ]
  }
 ],
 "metadata": {
  "kernelspec": {
   "display_name": "Python 3 (ipykernel)",
   "language": "python",
   "name": "python3"
  },
  "language_info": {
   "codemirror_mode": {
    "name": "ipython",
    "version": 3
   },
   "file_extension": ".py",
   "mimetype": "text/x-python",
   "name": "python",
   "nbconvert_exporter": "python",
   "pygments_lexer": "ipython3",
   "version": "3.9.0"
  }
 },
 "nbformat": 4,
 "nbformat_minor": 5
}
