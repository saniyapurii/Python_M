{
 "cells": [
  {
   "cell_type": "code",
   "execution_count": null,
   "id": "18ce4ca9-ec49-401f-9b6d-f96408c1aacf",
   "metadata": {},
   "outputs": [],
   "source": [
    "#list comphrension :- List comprehension offers a shorter syntax when you want to create a new list based on the values of an existing list.\n",
    "#set & dictionary comprehnsion \n",
    "\n",
    "#what is class, object, \n",
    "#feature of oops\n",
    "\n"
   ]
  },
  {
   "cell_type": "code",
   "execution_count": null,
   "id": "9b6f3f9d-76b6-4992-8514-3bb73817b6f7",
   "metadata": {},
   "outputs": [],
   "source": [
    "\"\"\"\n",
    "Comprehensions:- Comprehensions in Python provide us with a short and concise way to construct new sequences \n",
    "(such as lists, sets, dictionaries, etc.) using previously defined sequences\n",
    "\"\"\"\n",
    "\n",
    "\"\"\"\n",
    "list comphrension :- List comprehension offers a shorter syntax when you want to create a new list based on the values of an existing list.\n",
    " list comprehensions can used to describe and construct lists with an expression.\n",
    "\n",
    "example:-\n",
    "fruits = [\"apple\", \"banana\", \"cherry\", \"kiwi\", \"mango\"]\n",
    "\n",
    "newlist = [x for x in fruits if \"a\" in x]\n",
    "\n",
    "print(newlist)\n",
    "\n",
    "\"\"\"\n",
    "\n",
    "\"\"\"\n",
    "Dictionary Comprehnsion\n",
    "keys = ['a','b','c','d','e']\n",
    "values = [1,2,3,4,5]  \n",
    "myDict = { k:v for (k,v) in zip(keys, values)} \n",
    "print (myDict)\n",
    "\"\"\"\n",
    "\n",
    "\"\"\"\n",
    "Set comprehensions :-Set comprehensions are pretty similar to list comprehensions. The only difference between them is that \n",
    "set comprehensions use curly brackets { }\n",
    "\n",
    "example:-\n",
    "input_list = [1, 2, 3, 4, 4, 5, 6, 6, 6, 7, 7]\n",
    "set_using_comp = {var for var in input_list if var % 2 == 0}\n",
    "print(\"Output Set using set comprehensions:\", set_using_comp)\n",
    "\n",
    "\"\"\"\n"
   ]
  },
  {
   "cell_type": "code",
   "execution_count": null,
   "id": "4f26e4a8-f501-4349-9799-97f331cc8eb2",
   "metadata": {},
   "outputs": [],
   "source": [
    "\"\"\"\n",
    "What is class, object?\n",
    "A class is a code template for creating objects. Objects have member variables and have behaviour associated with them. \n",
    "In python a class is created by the keyword class.\n",
    "\n",
    "An object is created using the constructor of the class. This object will then be called the instance of the class. \n",
    "\"\"\""
   ]
  },
  {
   "cell_type": "code",
   "execution_count": null,
   "id": "88b699c9-e468-476f-9505-05cdbac2cb55",
   "metadata": {},
   "outputs": [],
   "source": [
    "\"\"\"\n",
    "Features of OOPS:-\n",
    "\n",
    "Class\n",
    "Object\n",
    "Method\n",
    "Inheritance\n",
    "Polymorphism\n",
    "Data Abstraction\n",
    "Encapsulation\n",
    "\"\"\""
   ]
  },
  {
   "cell_type": "code",
   "execution_count": null,
   "id": "984442ab-3b7f-4ddb-9126-a647276bedc4",
   "metadata": {},
   "outputs": [],
   "source": [
    "\"\"\"\n",
    "object:- real time entity, (characterstics- how it looks and behaviour:- how it behave/work)\n",
    "class: blue print for objects (characterstics, functionality)\n",
    "\n",
    "\n",
    "objects are instance of class.\n",
    "\n",
    "from one class we can make multiple objects.\n",
    "class is needed to make object.\n",
    "\n",
    "\n",
    "characterstics are variables.\n",
    "\n",
    "every object has different memory address, as we can make different houses from one blueprint, we can make different object from one class, \n",
    "but we cannot make house at same location, sp memory address of object are different.\n",
    "\"\"\""
   ]
  },
  {
   "cell_type": "code",
   "execution_count": 7,
   "id": "04700879-7d0d-4234-a2d1-df201f365335",
   "metadata": {},
   "outputs": [],
   "source": [
    "#class\n",
    "class House:\n",
    "    color = \"white\"\n",
    "    room = 5"
   ]
  },
  {
   "cell_type": "code",
   "execution_count": 8,
   "id": "c739e1b4-cb3f-458d-9d0a-23adb81bdeaa",
   "metadata": {},
   "outputs": [
    {
     "name": "stdout",
     "output_type": "stream",
     "text": [
      "<__main__.House object at 0x0000021EA66A8670>\n",
      "white\n",
      "5\n"
     ]
    }
   ],
   "source": [
    "#object\n",
    "\n",
    "h1=House()\n",
    "\n",
    "type(h1)\n",
    "print(h1)\n",
    "print(h1.color)\n",
    "print(h1.room)"
   ]
  },
  {
   "cell_type": "code",
   "execution_count": 10,
   "id": "dacde553-1781-4f66-a813-40dc45f72d46",
   "metadata": {},
   "outputs": [
    {
     "name": "stdout",
     "output_type": "stream",
     "text": [
      "5\n"
     ]
    }
   ],
   "source": [
    "h2=House()\n",
    "print(h2.room)"
   ]
  },
  {
   "cell_type": "code",
   "execution_count": 12,
   "id": "ec36e4f0-dc54-4b0a-bb67-9b92c8e606d5",
   "metadata": {},
   "outputs": [],
   "source": [
    "class House:\n",
    "    #class variable:- made in class, class bhi access krskti hai and objects bhi\n",
    "    color=\"White\"\n",
    "    room= 5\n",
    "\n",
    "    def info(self):\n",
    "        print(\"House has characterstics\", self.color, self.room)"
   ]
  },
  {
   "cell_type": "code",
   "execution_count": 13,
   "id": "90e6b136-d097-4253-ac14-4cbaca2caef5",
   "metadata": {},
   "outputs": [
    {
     "name": "stdout",
     "output_type": "stream",
     "text": [
      "House has characterstics White 5\n"
     ]
    }
   ],
   "source": [
    "h1=House()\n",
    "h1.info()"
   ]
  },
  {
   "cell_type": "code",
   "execution_count": 14,
   "id": "bb260ae2-896b-49e8-9c37-67178031b651",
   "metadata": {},
   "outputs": [
    {
     "data": {
      "text/plain": [
       "'White'"
      ]
     },
     "execution_count": 14,
     "metadata": {},
     "output_type": "execute_result"
    }
   ],
   "source": [
    "h1.color"
   ]
  },
  {
   "cell_type": "code",
   "execution_count": 15,
   "id": "8b4df6da-9e0b-4704-a605-5780684b6ae2",
   "metadata": {},
   "outputs": [
    {
     "data": {
      "text/plain": [
       "'White'"
      ]
     },
     "execution_count": 15,
     "metadata": {},
     "output_type": "execute_result"
    }
   ],
   "source": [
    "House.color"
   ]
  },
  {
   "cell_type": "code",
   "execution_count": 16,
   "id": "bb5514a9-93d7-4086-a8b1-01dc4f9ed0e7",
   "metadata": {},
   "outputs": [
    {
     "name": "stdout",
     "output_type": "stream",
     "text": [
      "House has characterstics Yellow 5\n"
     ]
    }
   ],
   "source": [
    "h1=House()\n",
    "h1.color = \"Yellow\" #how to change attribute for object using variable, of class\n",
    "h1.info()"
   ]
  },
  {
   "cell_type": "code",
   "execution_count": null,
   "id": "94a91376-a466-4ef5-8c1b-d9216fe540c7",
   "metadata": {},
   "outputs": [],
   "source": [
    "#Constructor:- sort of a function use to initialize objects,\n",
    "#Types:- Default &\n"
   ]
  },
  {
   "cell_type": "code",
   "execution_count": 19,
   "id": "329912e0-73d8-4129-a1e5-00f72729e464",
   "metadata": {},
   "outputs": [],
   "source": [
    "class House:\n",
    "    def __init__(self): #Default constructor\n",
    "        print(\"Hey\")"
   ]
  },
  {
   "cell_type": "code",
   "execution_count": 21,
   "id": "a40e1b4f-0ed0-402f-af71-397fe272a842",
   "metadata": {},
   "outputs": [
    {
     "name": "stdout",
     "output_type": "stream",
     "text": [
      "Hey\n"
     ]
    }
   ],
   "source": [
    "h1=House() #h1 is variable or object of class"
   ]
  },
  {
   "cell_type": "code",
   "execution_count": 23,
   "id": "5d5229a7-d89e-4e01-a585-ec83e4f90156",
   "metadata": {},
   "outputs": [
    {
     "name": "stdout",
     "output_type": "stream",
     "text": [
      "Hey\n",
      "<__main__.House object at 0x0000021EA55D21C0>\n"
     ]
    }
   ],
   "source": [
    "h1=House()\n",
    "print(h1)"
   ]
  },
  {
   "cell_type": "code",
   "execution_count": 24,
   "id": "27051aa5-09a9-4c54-a7c1-3675c3819cf1",
   "metadata": {},
   "outputs": [
    {
     "name": "stdout",
     "output_type": "stream",
     "text": [
      "Hey\n",
      "<__main__.House object at 0x0000021EA6648DF0>\n"
     ]
    }
   ],
   "source": [
    "h2=House() # storing memory address of class, jitni bhi bar memory address store krwaege utni bar alg memory address milegi\n",
    "print(h2) "
   ]
  },
  {
   "cell_type": "code",
   "execution_count": 28,
   "id": "16b97684-a70a-44a0-8e69-c1e30478b809",
   "metadata": {},
   "outputs": [],
   "source": [
    "class House:\n",
    "    def __init__(self): \n",
    "        print(\"Hey\", self) #self used to store the address of object that calls the constructor"
   ]
  },
  {
   "cell_type": "code",
   "execution_count": 26,
   "id": "6ea6263b-eaa5-4d8d-8a8e-22933ab11648",
   "metadata": {},
   "outputs": [
    {
     "name": "stdout",
     "output_type": "stream",
     "text": [
      "Hey <__main__.House object at 0x0000021EA6757400>\n",
      "<__main__.House object at 0x0000021EA6757400>\n"
     ]
    }
   ],
   "source": [
    "h1=House()\n",
    "print(h1) "
   ]
  },
  {
   "cell_type": "code",
   "execution_count": 29,
   "id": "ca2648a1-cb29-4deb-bf47-5b52f254701e",
   "metadata": {},
   "outputs": [
    {
     "name": "stdout",
     "output_type": "stream",
     "text": [
      "Hey <__main__.House object at 0x0000021EA6757A00>\n",
      "<__main__.House object at 0x0000021EA6757A00>\n"
     ]
    }
   ],
   "source": [
    "h2=House() \n",
    "print(h2) "
   ]
  },
  {
   "cell_type": "code",
   "execution_count": null,
   "id": "dd2b25ed-ab81-4062-9fcd-9ee559bbb5d1",
   "metadata": {},
   "outputs": [],
   "source": [
    "class House:\n",
    "    def __init__(self): \n",
    "        print(\"Hey\")"
   ]
  },
  {
   "cell_type": "code",
   "execution_count": 36,
   "id": "6baa7290-07ad-4134-966e-9157d53519f5",
   "metadata": {},
   "outputs": [
    {
     "ename": "TypeError",
     "evalue": "__init__() takes 1 positional argument but 2 were given",
     "output_type": "error",
     "traceback": [
      "\u001b[1;31m---------------------------------------------------------------------------\u001b[0m",
      "\u001b[1;31mTypeError\u001b[0m                                 Traceback (most recent call last)",
      "Cell \u001b[1;32mIn[36], line 1\u001b[0m\n\u001b[1;32m----> 1\u001b[0m h1\u001b[38;5;241m=\u001b[39m\u001b[43mHouse\u001b[49m\u001b[43m(\u001b[49m\u001b[38;5;124;43m\"\u001b[39;49m\u001b[38;5;124;43mPink\u001b[39;49m\u001b[38;5;124;43m\"\u001b[39;49m\u001b[43m)\u001b[49m\n",
      "\u001b[1;31mTypeError\u001b[0m: __init__() takes 1 positional argument but 2 were given"
     ]
    }
   ],
   "source": [
    "h1=House(\"Pink\")"
   ]
  },
  {
   "cell_type": "code",
   "execution_count": 37,
   "id": "0ec588eb-3d68-4566-853c-b784b39bb3fa",
   "metadata": {},
   "outputs": [],
   "source": [
    "class House:\n",
    "    def __init__(self, x): \n",
    "        print(\"Hey\", x)"
   ]
  },
  {
   "cell_type": "code",
   "execution_count": 42,
   "id": "610233b0-a228-48ad-bb7e-9f2398002322",
   "metadata": {},
   "outputs": [
    {
     "name": "stdout",
     "output_type": "stream",
     "text": [
      "Hey Pink\n"
     ]
    }
   ],
   "source": [
    "#House() is basically is constructr of a class \n",
    "#constuctor is the function\n",
    "#function is __iniit__()\n",
    "#self is the current object reference by default\n",
    "h1=House(\"Pink\")\n",
    "\n",
    "#x cannot be accessed outside the class because it is local variable"
   ]
  },
  {
   "cell_type": "code",
   "execution_count": 43,
   "id": "cfefd451-a4a0-4cee-bad9-686e04e142a5",
   "metadata": {},
   "outputs": [
    {
     "name": "stdout",
     "output_type": "stream",
     "text": [
      "Hey Green\n"
     ]
    }
   ],
   "source": [
    "h2=House(\"Green\")"
   ]
  },
  {
   "cell_type": "code",
   "execution_count": 48,
   "id": "5be8e114-3c01-41b6-9dfe-cf8cfd4d1fb3",
   "metadata": {},
   "outputs": [],
   "source": [
    "class House:\n",
    "    def __init__(self, x): \n",
    "        self.color=x #to access the x outside the class. :- #self.color = object variable"
   ]
  },
  {
   "cell_type": "code",
   "execution_count": 45,
   "id": "0d98a019-887e-4b29-ab05-046f670bb945",
   "metadata": {},
   "outputs": [
    {
     "data": {
      "text/plain": [
       "'Green'"
      ]
     },
     "execution_count": 45,
     "metadata": {},
     "output_type": "execute_result"
    }
   ],
   "source": [
    "h2=House(\"Green\")\n",
    "h2.color"
   ]
  },
  {
   "cell_type": "code",
   "execution_count": 63,
   "id": "ebca3ef5-b1ce-4cc3-8191-77feb904724e",
   "metadata": {},
   "outputs": [
    {
     "data": {
      "text/plain": [
       "4"
      ]
     },
     "execution_count": 63,
     "metadata": {},
     "output_type": "execute_result"
    }
   ],
   "source": [
    "class House:\n",
    "    def __init__(self, x, y): \n",
    "        #instance variable / object variable\n",
    "        self.color = x #to access the x outside the class.\n",
    "        self.room = y\n",
    "\n",
    "#object\n",
    "h2=House(\"Green\", 4)\n",
    "h2.room"
   ]
  },
  {
   "cell_type": "code",
   "execution_count": 64,
   "id": "3d12a8bb-d6b0-467d-9f25-0cf79a8adfc8",
   "metadata": {},
   "outputs": [
    {
     "name": "stdout",
     "output_type": "stream",
     "text": [
      "Black\n"
     ]
    }
   ],
   "source": [
    "h3=House(\"Black\", 4)\n",
    "print(h3.color)"
   ]
  },
  {
   "cell_type": "code",
   "execution_count": 65,
   "id": "ed26119e-4480-43e9-8c24-d8478206da13",
   "metadata": {},
   "outputs": [
    {
     "data": {
      "text/plain": [
       "4"
      ]
     },
     "execution_count": 65,
     "metadata": {},
     "output_type": "execute_result"
    }
   ],
   "source": [
    "class House:\n",
    "    def __init__(self, color, room): \n",
    "        #instance variable / object variable\n",
    "        self.color = color #to access the x outside the class.\n",
    "        self.room = room\n",
    "\n",
    "#object\n",
    "h2=House(\"Green\", 4)\n",
    "h2.room"
   ]
  },
  {
   "cell_type": "code",
   "execution_count": 124,
   "id": "23e40a84-9337-4793-94a9-1fde5bc66401",
   "metadata": {},
   "outputs": [
    {
     "name": "stdout",
     "output_type": "stream",
     "text": [
      "Employee details:- 12 gmail.com 120000\n"
     ]
    }
   ],
   "source": [
    "class Employee:\n",
    "    company= \"RegexSoftware\"\n",
    "    \n",
    "    def __init__(self, eid, ename, email, salary):\n",
    "        self.eid = eid\n",
    "        self.ename = ename\n",
    "        self.email = email\n",
    "        self.salary = salary\n",
    "\n",
    "    def emp_info(self):\n",
    "        mail, domain = self.email.split(\"@\")\n",
    "        print(\"Employee details:-\", self.eid, domain, self.salary)\n",
    "        \n",
    "emp1=Employee(12, \"xyz\", \"xyz@gmail.com\", 120000)\n",
    "emp1.emp_info()\n",
    "\n",
    "#company is class variable, baki instance variable"
   ]
  },
  {
   "cell_type": "code",
   "execution_count": 112,
   "id": "5ef41a86-95b0-4050-8f48-d2f59e7ff54c",
   "metadata": {},
   "outputs": [],
   "source": [
    "#inheritance, polymorphism, data abstraction, encapsulation\n",
    "\n",
    "#what is oops, "
   ]
  },
  {
   "cell_type": "code",
   "execution_count": null,
   "id": "4442f4a7-b7e6-4927-a4ee-3e2a8a269f0f",
   "metadata": {},
   "outputs": [],
   "source": []
  }
 ],
 "metadata": {
  "kernelspec": {
   "display_name": "Python 3 (ipykernel)",
   "language": "python",
   "name": "python3"
  },
  "language_info": {
   "codemirror_mode": {
    "name": "ipython",
    "version": 3
   },
   "file_extension": ".py",
   "mimetype": "text/x-python",
   "name": "python",
   "nbconvert_exporter": "python",
   "pygments_lexer": "ipython3",
   "version": "3.9.0"
  }
 },
 "nbformat": 4,
 "nbformat_minor": 5
}
