{
 "cells": [
  {
   "cell_type": "code",
   "execution_count": 16,
   "id": "4d40c46f-9c12-4197-922a-3c3abeb315b1",
   "metadata": {},
   "outputs": [
    {
     "name": "stdin",
     "output_type": "stream",
     "text": [
      "Enter your text Hey, How are you?\n"
     ]
    },
    {
     "name": "stdout",
     "output_type": "stream",
     "text": [
      "{'H': 1}\n",
      "{'H': 1, 'e': 1}\n",
      "{'H': 1, 'e': 1, 'y': 1}\n",
      "{'H': 1, 'e': 1, 'y': 1, ',': 1}\n",
      "{'H': 1, 'e': 1, 'y': 1, ',': 1, ' ': 1}\n",
      "{'H': 2, 'e': 1, 'y': 1, ',': 1, ' ': 1}\n",
      "{'H': 2, 'e': 1, 'y': 1, ',': 1, ' ': 1, 'o': 1}\n",
      "{'H': 2, 'e': 1, 'y': 1, ',': 1, ' ': 1, 'o': 1, 'w': 1}\n",
      "{'H': 2, 'e': 1, 'y': 1, ',': 1, ' ': 2, 'o': 1, 'w': 1}\n",
      "{'H': 2, 'e': 1, 'y': 1, ',': 1, ' ': 2, 'o': 1, 'w': 1, 'a': 1}\n",
      "{'H': 2, 'e': 1, 'y': 1, ',': 1, ' ': 2, 'o': 1, 'w': 1, 'a': 1, 'r': 1}\n",
      "{'H': 2, 'e': 2, 'y': 1, ',': 1, ' ': 2, 'o': 1, 'w': 1, 'a': 1, 'r': 1}\n",
      "{'H': 2, 'e': 2, 'y': 1, ',': 1, ' ': 3, 'o': 1, 'w': 1, 'a': 1, 'r': 1}\n",
      "{'H': 2, 'e': 2, 'y': 2, ',': 1, ' ': 3, 'o': 1, 'w': 1, 'a': 1, 'r': 1}\n",
      "{'H': 2, 'e': 2, 'y': 2, ',': 1, ' ': 3, 'o': 2, 'w': 1, 'a': 1, 'r': 1}\n",
      "{'H': 2, 'e': 2, 'y': 2, ',': 1, ' ': 3, 'o': 2, 'w': 1, 'a': 1, 'r': 1, 'u': 1}\n",
      "{'H': 2, 'e': 2, 'y': 2, ',': 1, ' ': 3, 'o': 2, 'w': 1, 'a': 1, 'r': 1, 'u': 1, '?': 1}\n",
      "{'H': 2, 'e': 2, 'y': 2, ',': 1, ' ': 3, 'o': 2, 'w': 1, 'a': 1, 'r': 1, 'u': 1, '?': 1}\n"
     ]
    }
   ],
   "source": [
    "def count(string):\n",
    "    frequency = {}\n",
    "    for char in string:\n",
    "        frequency[char] = frequency.get(char, 0) + 1\n",
    "        print (frequency)\n",
    "    return frequency\n",
    "\n",
    "\n",
    "string = \"Hello, How are you?\"\n",
    "string = input(\"Enter your text\")\n",
    "word_count = count(string)\n",
    "print(word_count)"
   ]
  },
  {
   "cell_type": "code",
   "execution_count": 21,
   "id": "0422a47b-a4a6-49ed-96bd-5cab69bad9b5",
   "metadata": {},
   "outputs": [
    {
     "data": {
      "text/plain": [
       "'first'"
      ]
     },
     "execution_count": 21,
     "metadata": {},
     "output_type": "execute_result"
    }
   ],
   "source": [
    "def new():\n",
    "    a=10\n",
    "    return \"first\"\n",
    "    return \"second\"\n",
    "\n",
    "new=new()\n",
    "new"
   ]
  },
  {
   "cell_type": "code",
   "execution_count": 26,
   "id": "f00a978c-45b5-415a-ba23-d093132a2b33",
   "metadata": {},
   "outputs": [
    {
     "name": "stdin",
     "output_type": "stream",
     "text": [
      "Enter the first number:  2\n",
      "Enter the second number:  3\n",
      "Enter the third number:  4\n"
     ]
    },
    {
     "name": "stdout",
     "output_type": "stream",
     "text": [
      "The maximum of the three numbers is: 4\n"
     ]
    }
   ],
   "source": [
    "#Max from 3 numbers\n",
    "\n",
    "\n",
    "lambda a,b,c: (a if (a>b and a>c) else b if b>c else c)\n",
    "\n",
    "num1 = int(input(\"Enter the first number: \"))\n",
    "num2 = int(input(\"Enter the second number: \"))\n",
    "num3 = int(input(\"Enter the third number: \"))\n",
    "\n",
    "\n",
    "print(\"The maximum of the three numbers is:\", maximum)\n"
   ]
  },
  {
   "cell_type": "code",
   "execution_count": 32,
   "id": "f6df1d9a-3c80-4a76-a8af-cde5aa6b529d",
   "metadata": {},
   "outputs": [
    {
     "data": {
      "text/plain": [
       "[1, 2, 3, 5, 5, 6]"
      ]
     },
     "execution_count": 32,
     "metadata": {},
     "output_type": "execute_result"
    }
   ],
   "source": [
    "a =[1,2,3]\n",
    "a.extend([5,5,6])\n",
    "a"
   ]
  },
  {
   "cell_type": "code",
   "execution_count": 29,
   "id": "0f9074b9-931e-4b0f-a368-27165a675096",
   "metadata": {},
   "outputs": [
    {
     "data": {
      "text/plain": [
       "[1, 2, 3, [5, 5, 6]]"
      ]
     },
     "execution_count": 29,
     "metadata": {},
     "output_type": "execute_result"
    }
   ],
   "source": [
    "a =[1,2,3]\n",
    "a.append([5,5,6])\n",
    "a"
   ]
  },
  {
   "cell_type": "code",
   "execution_count": 33,
   "id": "934a1699-9f57-4a18-9d8c-e6b8cae677d3",
   "metadata": {},
   "outputs": [
    {
     "data": {
      "text/plain": [
       "[1, 2, 3, [5, 5, 6]]"
      ]
     },
     "execution_count": 33,
     "metadata": {},
     "output_type": "execute_result"
    }
   ],
   "source": [
    "a =[1,2,3]\n",
    "a.append([5,5,6])\n",
    "a"
   ]
  },
  {
   "cell_type": "code",
   "execution_count": 35,
   "id": "713ea3b6-163c-4f2a-a95f-35afb5f12c07",
   "metadata": {},
   "outputs": [
    {
     "data": {
      "text/plain": [
       "'regex software'"
      ]
     },
     "execution_count": 35,
     "metadata": {},
     "output_type": "execute_result"
    }
   ],
   "source": [
    "a = \"Regex Software\"\n",
    "a.casefold()"
   ]
  },
  {
   "cell_type": "code",
   "execution_count": 42,
   "id": "6acd67cd-8b6c-4996-9eaa-36ada616f852",
   "metadata": {},
   "outputs": [
    {
     "data": {
      "text/plain": [
       "1"
      ]
     },
     "execution_count": 42,
     "metadata": {},
     "output_type": "execute_result"
    }
   ],
   "source": [
    "a = \"regex Software\"\n",
    "a.count(\"r\")\n",
    "a.count(\"r\",5) #(starting position)"
   ]
  },
  {
   "cell_type": "code",
   "execution_count": 46,
   "id": "d19b24f1-ad21-4fb7-850b-124068f4b6bf",
   "metadata": {},
   "outputs": [
    {
     "data": {
      "text/plain": [
       "0"
      ]
     },
     "execution_count": 46,
     "metadata": {},
     "output_type": "execute_result"
    }
   ],
   "source": [
    "a = \"regex Software\"\n",
    "a.find(\"r\")"
   ]
  },
  {
   "cell_type": "code",
   "execution_count": 47,
   "id": "ccf69ce4-c87c-43d5-b38f-f1b50d37d199",
   "metadata": {},
   "outputs": [
    {
     "data": {
      "text/plain": [
       "0"
      ]
     },
     "execution_count": 47,
     "metadata": {},
     "output_type": "execute_result"
    }
   ],
   "source": [
    "a = \"regex Software\"\n",
    "a.index(\"r\")"
   ]
  },
  {
   "cell_type": "code",
   "execution_count": 48,
   "id": "f07cb737-ec21-4085-8aca-c0287065fe7a",
   "metadata": {},
   "outputs": [
    {
     "ename": "ValueError",
     "evalue": "substring not found",
     "output_type": "error",
     "traceback": [
      "\u001b[1;31m---------------------------------------------------------------------------\u001b[0m",
      "\u001b[1;31mValueError\u001b[0m                                Traceback (most recent call last)",
      "Cell \u001b[1;32mIn[48], line 2\u001b[0m\n\u001b[0;32m      1\u001b[0m a \u001b[38;5;241m=\u001b[39m \u001b[38;5;124m\"\u001b[39m\u001b[38;5;124mregex Software\u001b[39m\u001b[38;5;124m\"\u001b[39m\n\u001b[1;32m----> 2\u001b[0m \u001b[43ma\u001b[49m\u001b[38;5;241;43m.\u001b[39;49m\u001b[43mindex\u001b[49m\u001b[43m(\u001b[49m\u001b[38;5;124;43m\"\u001b[39;49m\u001b[38;5;124;43mq\u001b[39;49m\u001b[38;5;124;43m\"\u001b[39;49m\u001b[43m)\u001b[49m\n",
      "\u001b[1;31mValueError\u001b[0m: substring not found"
     ]
    }
   ],
   "source": [
    "a = \"regex Software\"\n",
    "a.index(\"q\") #give error because q is not available"
   ]
  },
  {
   "cell_type": "code",
   "execution_count": 50,
   "id": "5745e6ba-0b2d-46e5-ade7-c414cdaba2f3",
   "metadata": {},
   "outputs": [
    {
     "data": {
      "text/plain": [
       "-1"
      ]
     },
     "execution_count": 50,
     "metadata": {},
     "output_type": "execute_result"
    }
   ],
   "source": [
    "a = \"regex Software\"\n",
    "a.find(\"q\") #will not give error instead it give -1 index"
   ]
  },
  {
   "cell_type": "code",
   "execution_count": 51,
   "id": "e7c1db65-4c57-4fd9-8f52-d1dec36547d3",
   "metadata": {},
   "outputs": [
    {
     "data": {
      "text/plain": [
       "False"
      ]
     },
     "execution_count": 51,
     "metadata": {},
     "output_type": "execute_result"
    }
   ],
   "source": [
    "a = \"regex Software\"\n",
    "a.endswith(\"q\") "
   ]
  },
  {
   "cell_type": "code",
   "execution_count": 52,
   "id": "39853cbf-d174-4fe2-a109-d3add99d9ea6",
   "metadata": {},
   "outputs": [
    {
     "data": {
      "text/plain": [
       "True"
      ]
     },
     "execution_count": 52,
     "metadata": {},
     "output_type": "execute_result"
    }
   ],
   "source": [
    "a = \"regex Software\"\n",
    "a.endswith(\"e\") "
   ]
  },
  {
   "cell_type": "code",
   "execution_count": 53,
   "id": "6e788cba-5c62-4115-bcbd-3737d572471b",
   "metadata": {},
   "outputs": [
    {
     "data": {
      "text/plain": [
       "2444391659104"
      ]
     },
     "execution_count": 53,
     "metadata": {},
     "output_type": "execute_result"
    }
   ],
   "source": [
    "a = set([1,2,3])\n",
    "id(a)"
   ]
  },
  {
   "cell_type": "code",
   "execution_count": 58,
   "id": "161e832a-38d9-4ef4-8bfe-dbb618cc6bc9",
   "metadata": {},
   "outputs": [
    {
     "name": "stdout",
     "output_type": "stream",
     "text": [
      "{1, 2, 3, 5}\n"
     ]
    },
    {
     "data": {
      "text/plain": [
       "2444391659104"
      ]
     },
     "execution_count": 58,
     "metadata": {},
     "output_type": "execute_result"
    }
   ],
   "source": [
    "a.add(5)\n",
    "print(a)\n",
    "id(a)"
   ]
  },
  {
   "cell_type": "code",
   "execution_count": 59,
   "id": "d44077aa-8cef-43c0-98e1-8c33c9c04aa9",
   "metadata": {},
   "outputs": [
    {
     "data": {
      "text/plain": [
       "{1, 2, 5}"
      ]
     },
     "execution_count": 59,
     "metadata": {},
     "output_type": "execute_result"
    }
   ],
   "source": [
    "a.remove(3)\n",
    "a"
   ]
  },
  {
   "cell_type": "code",
   "execution_count": 60,
   "id": "f9b2c4ea-a072-43ca-8304-a1fa0e4c40bb",
   "metadata": {},
   "outputs": [
    {
     "data": {
      "text/plain": [
       "{1, 2, 5}"
      ]
     },
     "execution_count": 60,
     "metadata": {},
     "output_type": "execute_result"
    }
   ],
   "source": [
    "b = [1,2,3,4,5]\n",
    "a"
   ]
  },
  {
   "cell_type": "code",
   "execution_count": 63,
   "id": "27d287a2-986e-45ef-a741-5e4dd197e20c",
   "metadata": {},
   "outputs": [
    {
     "data": {
      "text/plain": [
       "[1, 100, 3, 4, 5]"
      ]
     },
     "execution_count": 63,
     "metadata": {},
     "output_type": "execute_result"
    }
   ],
   "source": [
    "b[1] =100\n",
    "b"
   ]
  },
  {
   "cell_type": "code",
   "execution_count": 65,
   "id": "d5a280be-b47d-4cc1-a3b4-f6f14e37c0c6",
   "metadata": {},
   "outputs": [
    {
     "data": {
      "text/plain": [
       "{1, 2, 5}"
      ]
     },
     "execution_count": 65,
     "metadata": {},
     "output_type": "execute_result"
    }
   ],
   "source": [
    "a\n"
   ]
  },
  {
   "cell_type": "code",
   "execution_count": 67,
   "id": "16c64270-ec6e-46c6-9cfe-7384cb43c016",
   "metadata": {},
   "outputs": [
    {
     "ename": "TypeError",
     "evalue": "'set' object is not subscriptable",
     "output_type": "error",
     "traceback": [
      "\u001b[1;31m---------------------------------------------------------------------------\u001b[0m",
      "\u001b[1;31mTypeError\u001b[0m                                 Traceback (most recent call last)",
      "Cell \u001b[1;32mIn[67], line 1\u001b[0m\n\u001b[1;32m----> 1\u001b[0m \u001b[43ma\u001b[49m\u001b[43m[\u001b[49m\u001b[38;5;241;43m0\u001b[39;49m\u001b[43m]\u001b[49m\n",
      "\u001b[1;31mTypeError\u001b[0m: 'set' object is not subscriptable"
     ]
    }
   ],
   "source": [
    "a[0]"
   ]
  },
  {
   "cell_type": "code",
   "execution_count": 69,
   "id": "9852d61b-5fa8-45a7-8a13-6e32e05d0ee8",
   "metadata": {},
   "outputs": [
    {
     "data": {
      "text/plain": [
       "tuple"
      ]
     },
     "execution_count": 69,
     "metadata": {},
     "output_type": "execute_result"
    }
   ],
   "source": [
    "a=(1,2,3)\n",
    "type(a)"
   ]
  },
  {
   "cell_type": "code",
   "execution_count": 70,
   "id": "562ac144-c03e-41fa-8a60-6af181d85255",
   "metadata": {},
   "outputs": [
    {
     "data": {
      "text/plain": [
       "tuple"
      ]
     },
     "execution_count": 70,
     "metadata": {},
     "output_type": "execute_result"
    }
   ],
   "source": [
    "a=1,2,3\n",
    "type(a)"
   ]
  },
  {
   "cell_type": "code",
   "execution_count": 71,
   "id": "a612779c-6cc7-4e3f-b1ac-22bc0721025d",
   "metadata": {},
   "outputs": [
    {
     "data": {
      "text/plain": [
       "list"
      ]
     },
     "execution_count": 71,
     "metadata": {},
     "output_type": "execute_result"
    }
   ],
   "source": [
    "a=[1,2,3]\n",
    "type(a)"
   ]
  },
  {
   "cell_type": "code",
   "execution_count": 72,
   "id": "9d1f2ea0-fc5e-4129-b71a-3ec11433152f",
   "metadata": {},
   "outputs": [],
   "source": [
    "b=[1,2,3]"
   ]
  },
  {
   "cell_type": "code",
   "execution_count": 73,
   "id": "5f7a7ee0-6bd6-4924-b9bd-93dfd3b7ea11",
   "metadata": {},
   "outputs": [],
   "source": [
    "import sys"
   ]
  },
  {
   "cell_type": "code",
   "execution_count": 74,
   "id": "ea0b42d1-7f37-4178-93ed-94c7f5c09bd7",
   "metadata": {},
   "outputs": [
    {
     "data": {
      "text/plain": [
       "120"
      ]
     },
     "execution_count": 74,
     "metadata": {},
     "output_type": "execute_result"
    }
   ],
   "source": [
    "sys.getsizeof(b)"
   ]
  },
  {
   "cell_type": "code",
   "execution_count": 75,
   "id": "c693e989-6039-4d15-b151-8eade1c53e33",
   "metadata": {},
   "outputs": [
    {
     "data": {
      "text/plain": [
       "64"
      ]
     },
     "execution_count": 75,
     "metadata": {},
     "output_type": "execute_result"
    }
   ],
   "source": [
    "b=1,2,3\n",
    "sys.getsizeof(b)"
   ]
  },
  {
   "cell_type": "code",
   "execution_count": 76,
   "id": "fafd45e8-42ae-490f-8dc3-633a99ddc7e1",
   "metadata": {},
   "outputs": [
    {
     "data": {
      "text/plain": [
       "56"
      ]
     },
     "execution_count": 76,
     "metadata": {},
     "output_type": "execute_result"
    }
   ],
   "source": [
    "a=(1,2)\n",
    "sys.getsizeof(a)"
   ]
  },
  {
   "cell_type": "code",
   "execution_count": 77,
   "id": "a4eae57c-b1a2-472a-912d-8c870ee6ff1c",
   "metadata": {},
   "outputs": [
    {
     "data": {
      "text/plain": [
       "64"
      ]
     },
     "execution_count": 77,
     "metadata": {},
     "output_type": "execute_result"
    }
   ],
   "source": [
    "a=(1,2,3)\n",
    "sys.getsizeof(a)"
   ]
  },
  {
   "cell_type": "code",
   "execution_count": 78,
   "id": "81f3e4f5-197f-465a-903c-93dee88adb9f",
   "metadata": {},
   "outputs": [
    {
     "data": {
      "text/plain": [
       "56"
      ]
     },
     "execution_count": 78,
     "metadata": {},
     "output_type": "execute_result"
    }
   ],
   "source": [
    "a=(8,2)\n",
    "sys.getsizeof(a)"
   ]
  },
  {
   "cell_type": "code",
   "execution_count": 79,
   "id": "88262161-b14d-4cb1-a3bd-fdd27e437a73",
   "metadata": {},
   "outputs": [
    {
     "data": {
      "text/plain": [
       "72"
      ]
     },
     "execution_count": 79,
     "metadata": {},
     "output_type": "execute_result"
    }
   ],
   "source": [
    "b=[8,2]\n",
    "sys.getsizeof(b)"
   ]
  },
  {
   "cell_type": "code",
   "execution_count": 80,
   "id": "7df31007-9eea-4897-86b9-c46fb398a216",
   "metadata": {},
   "outputs": [
    {
     "data": {
      "text/plain": [
       "40"
      ]
     },
     "execution_count": 80,
     "metadata": {},
     "output_type": "execute_result"
    }
   ],
   "source": [
    "a=()\n",
    "sys.getsizeof(a)"
   ]
  },
  {
   "cell_type": "code",
   "execution_count": 81,
   "id": "15d19348-ef64-4095-b9ad-f2437ea5f1b9",
   "metadata": {},
   "outputs": [
    {
     "data": {
      "text/plain": [
       "56"
      ]
     },
     "execution_count": 81,
     "metadata": {},
     "output_type": "execute_result"
    }
   ],
   "source": [
    "b=[]\n",
    "sys.getsizeof(b)"
   ]
  },
  {
   "cell_type": "code",
   "execution_count": 82,
   "id": "312808f8-e1e6-4bf4-ab40-bf6dd541a814",
   "metadata": {},
   "outputs": [
    {
     "data": {
      "text/plain": [
       "80"
      ]
     },
     "execution_count": 82,
     "metadata": {},
     "output_type": "execute_result"
    }
   ],
   "source": [
    "a=(1,2,3,4,5)\n",
    "sys.getsizeof(a)"
   ]
  },
  {
   "cell_type": "code",
   "execution_count": 85,
   "id": "fc7aff55-4f43-4801-9cea-42da323a7930",
   "metadata": {},
   "outputs": [
    {
     "name": "stdout",
     "output_type": "stream",
     "text": [
      "<class 'int'>\n",
      "<class 'tuple'>\n"
     ]
    }
   ],
   "source": [
    "a=10\n",
    "b=10,\n",
    "print(type(a))\n",
    "print(type(b))"
   ]
  },
  {
   "cell_type": "code",
   "execution_count": null,
   "id": "21fb3a82-8935-4c6e-8056-4406e9dc1d2b",
   "metadata": {},
   "outputs": [],
   "source": []
  }
 ],
 "metadata": {
  "kernelspec": {
   "display_name": "Python 3 (ipykernel)",
   "language": "python",
   "name": "python3"
  },
  "language_info": {
   "codemirror_mode": {
    "name": "ipython",
    "version": 3
   },
   "file_extension": ".py",
   "mimetype": "text/x-python",
   "name": "python",
   "nbconvert_exporter": "python",
   "pygments_lexer": "ipython3",
   "version": "3.9.0"
  }
 },
 "nbformat": 4,
 "nbformat_minor": 5
}
