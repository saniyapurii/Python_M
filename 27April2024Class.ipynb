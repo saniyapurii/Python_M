{
 "cells": [
  {
   "cell_type": "code",
   "execution_count": null,
   "id": "f4dd800e-d6fe-4a33-832f-601c54ea6a96",
   "metadata": {},
   "outputs": [],
   "source": [
    "#dictonary\n",
    "#collection of element\n",
    "#comma\n",
    "#key:value(element)\n",
    "#key:value, key:value\n",
    "#don't have index position\n",
    "#mutable in nature\n",
    "#data access using key\n",
    "#key is always in square bracket"
   ]
  },
  {
   "cell_type": "code",
   "execution_count": 2,
   "id": "316df8b5-8394-4fce-b21c-bf22c6be4934",
   "metadata": {},
   "outputs": [
    {
     "name": "stdout",
     "output_type": "stream",
     "text": [
      "{1: 'tushar', 2: 'aman', 3: 'aditya', 'company': 'regex software'}\n"
     ]
    }
   ],
   "source": [
    "mydictionary={1:\"tushar\", 2:\"aman\", 3:\"aditya\", \"company\":\"regex software\"}\n",
    "print(mydictionary)"
   ]
  },
  {
   "cell_type": "code",
   "execution_count": 3,
   "id": "a46e2c4a-0ddf-4522-b636-d9f4c13f486e",
   "metadata": {},
   "outputs": [
    {
     "ename": "KeyError",
     "evalue": "0",
     "output_type": "error",
     "traceback": [
      "\u001b[1;31m---------------------------------------------------------------------------\u001b[0m",
      "\u001b[1;31mKeyError\u001b[0m                                  Traceback (most recent call last)",
      "Cell \u001b[1;32mIn[3], line 2\u001b[0m\n\u001b[0;32m      1\u001b[0m mydictionary\u001b[38;5;241m=\u001b[39m{\u001b[38;5;241m1\u001b[39m:\u001b[38;5;124m\"\u001b[39m\u001b[38;5;124mtushar\u001b[39m\u001b[38;5;124m\"\u001b[39m, \u001b[38;5;241m2\u001b[39m:\u001b[38;5;124m\"\u001b[39m\u001b[38;5;124maman\u001b[39m\u001b[38;5;124m\"\u001b[39m, \u001b[38;5;241m3\u001b[39m:\u001b[38;5;124m\"\u001b[39m\u001b[38;5;124maditya\u001b[39m\u001b[38;5;124m\"\u001b[39m, \u001b[38;5;124m\"\u001b[39m\u001b[38;5;124mcompany\u001b[39m\u001b[38;5;124m\"\u001b[39m:\u001b[38;5;124m\"\u001b[39m\u001b[38;5;124mregex software\u001b[39m\u001b[38;5;124m\"\u001b[39m}\n\u001b[1;32m----> 2\u001b[0m \u001b[43mmydictionary\u001b[49m\u001b[43m[\u001b[49m\u001b[38;5;241;43m0\u001b[39;49m\u001b[43m]\u001b[49m\n",
      "\u001b[1;31mKeyError\u001b[0m: 0"
     ]
    }
   ],
   "source": [
    "mydictionary={1:\"tushar\", 2:\"aman\", 3:\"aditya\", \"company\":\"regex software\"}\n",
    "mydictionary[0]\n",
    "#access using key, 0 is no key here\n",
    "#key is always in square bracket"
   ]
  },
  {
   "cell_type": "code",
   "execution_count": 4,
   "id": "eee6ede5-626b-4221-bc57-79deed9f0f64",
   "metadata": {},
   "outputs": [
    {
     "data": {
      "text/plain": [
       "'tushar'"
      ]
     },
     "execution_count": 4,
     "metadata": {},
     "output_type": "execute_result"
    }
   ],
   "source": [
    "mydictionary={1:\"tushar\", 2:\"aman\", 3:\"aditya\", \"company\":\"regex software\"}\n",
    "mydictionary[1]"
   ]
  },
  {
   "cell_type": "code",
   "execution_count": 9,
   "id": "63848c91-713f-432b-9eff-27cfc54b08eb",
   "metadata": {},
   "outputs": [
    {
     "data": {
      "text/plain": [
       "'regex software'"
      ]
     },
     "execution_count": 9,
     "metadata": {},
     "output_type": "execute_result"
    }
   ],
   "source": [
    "mydictionary={1:\"tushar\", 2:\"aman\", 3:\"aditya\", \"company\":\"regex software\"}\n",
    "mydictionary[\"company\"]"
   ]
  },
  {
   "cell_type": "code",
   "execution_count": 11,
   "id": "cdcc60b0-03c0-4eb8-a8df-a5be4f44e354",
   "metadata": {},
   "outputs": [
    {
     "data": {
      "text/plain": [
       "{1: 'yash', 2: 'aman', 3: 'aditya', 'company': 'regex software'}"
      ]
     },
     "execution_count": 11,
     "metadata": {},
     "output_type": "execute_result"
    }
   ],
   "source": [
    "mydictionary={1:\"tushar\", 2:\"aman\", 3:\"aditya\", \"company\":\"regex software\"}\n",
    "#update\n",
    "mydictionary[1]=\"yash\"\n",
    "mydictionary"
   ]
  },
  {
   "cell_type": "code",
   "execution_count": 23,
   "id": "065a89ef-ec16-4f85-bac4-ba8593a8a658",
   "metadata": {},
   "outputs": [
    {
     "data": {
      "text/plain": [
       "{1: 'tushar', 2: 'aman', 3: 'aditya', 'company': 'regex software', 4: 500}"
      ]
     },
     "execution_count": 23,
     "metadata": {},
     "output_type": "execute_result"
    }
   ],
   "source": [
    "mydictionary={1:\"tushar\", 2:\"aman\", 3:\"aditya\", \"company\":\"regex software\"}\n",
    "\n",
    "#insert based on key\n",
    "mydictionary[4]=500\n",
    "\n",
    "mydictionary"
   ]
  },
  {
   "cell_type": "code",
   "execution_count": 24,
   "id": "5b2f7231-a2c7-4cd1-956f-593dd974bf81",
   "metadata": {},
   "outputs": [
    {
     "name": "stdout",
     "output_type": "stream",
     "text": [
      "aman\n"
     ]
    }
   ],
   "source": [
    "x=mydictionary.pop(2)\n",
    "print(x)"
   ]
  },
  {
   "cell_type": "code",
   "execution_count": 26,
   "id": "3171f493-636a-41c2-8e57-13ec49007298",
   "metadata": {},
   "outputs": [
    {
     "name": "stdout",
     "output_type": "stream",
     "text": [
      "('company', 'regex software')\n"
     ]
    }
   ],
   "source": [
    "#key value pair delete and return\n",
    "x=mydictionary.popitem()\n",
    "print(x)\n",
    "#return value in tuple"
   ]
  },
  {
   "cell_type": "code",
   "execution_count": 29,
   "id": "213be6c3-fd14-4bc7-83ee-b2590f564478",
   "metadata": {},
   "outputs": [
    {
     "data": {
      "text/plain": [
       "{1: 'tushar', 3: 'aditya'}"
      ]
     },
     "execution_count": 29,
     "metadata": {},
     "output_type": "execute_result"
    }
   ],
   "source": [
    "mydictionary"
   ]
  },
  {
   "cell_type": "code",
   "execution_count": 30,
   "id": "9ffd2244-ccfb-42f2-aea1-3a5383734e34",
   "metadata": {},
   "outputs": [
    {
     "data": {
      "text/plain": [
       "True"
      ]
     },
     "execution_count": 30,
     "metadata": {},
     "output_type": "execute_result"
    }
   ],
   "source": [
    "1 in mydictionary\n",
    "\n",
    "#search using in operator"
   ]
  },
  {
   "cell_type": "code",
   "execution_count": 31,
   "id": "345748c3-977e-4f2e-864a-0a179f5235db",
   "metadata": {},
   "outputs": [
    {
     "data": {
      "text/plain": [
       "False"
      ]
     },
     "execution_count": 31,
     "metadata": {},
     "output_type": "execute_result"
    }
   ],
   "source": [
    "\"hello\" in mydictionary"
   ]
  },
  {
   "cell_type": "code",
   "execution_count": 32,
   "id": "863938e1-ab0b-43b6-82e8-a1b078d47750",
   "metadata": {},
   "outputs": [
    {
     "data": {
      "text/plain": [
       "False"
      ]
     },
     "execution_count": 32,
     "metadata": {},
     "output_type": "execute_result"
    }
   ],
   "source": [
    "\"tushar\" in mydictionary"
   ]
  },
  {
   "cell_type": "code",
   "execution_count": 33,
   "id": "4a63e5c9-2e37-4ed2-84af-ea800c34f42f",
   "metadata": {},
   "outputs": [
    {
     "data": {
      "text/plain": [
       "dict_keys([1, 3])"
      ]
     },
     "execution_count": 33,
     "metadata": {},
     "output_type": "execute_result"
    }
   ],
   "source": [
    "mydictionary.keys()"
   ]
  },
  {
   "cell_type": "code",
   "execution_count": 34,
   "id": "01486dd1-0607-4423-a9c1-8cce86b9a6db",
   "metadata": {},
   "outputs": [
    {
     "data": {
      "text/plain": [
       "dict_values(['tushar', 'aditya'])"
      ]
     },
     "execution_count": 34,
     "metadata": {},
     "output_type": "execute_result"
    }
   ],
   "source": [
    "mydictionary.values()"
   ]
  },
  {
   "cell_type": "code",
   "execution_count": 35,
   "id": "a3ff5e3e-53a7-48a4-88da-51da0817cc20",
   "metadata": {},
   "outputs": [
    {
     "data": {
      "text/plain": [
       "dict_items([(1, 'tushar'), (3, 'aditya')])"
      ]
     },
     "execution_count": 35,
     "metadata": {},
     "output_type": "execute_result"
    }
   ],
   "source": [
    "mydictionary.items()"
   ]
  },
  {
   "cell_type": "code",
   "execution_count": 37,
   "id": "0d0066a2-d8e6-42d5-bd43-7a117bbaef3f",
   "metadata": {},
   "outputs": [
    {
     "data": {
      "text/plain": [
       "{1: 'tushar', 3: 'aditya'}"
      ]
     },
     "execution_count": 37,
     "metadata": {},
     "output_type": "execute_result"
    }
   ],
   "source": [
    "mydictionary"
   ]
  },
  {
   "cell_type": "code",
   "execution_count": 141,
   "id": "a7fbf7d2-d354-4827-bc81-bec22576b792",
   "metadata": {},
   "outputs": [],
   "source": [
    "x=100\n",
    "if(x in mydictionary):\n",
    "    print(x)"
   ]
  },
  {
   "cell_type": "code",
   "execution_count": 52,
   "id": "395f3ea4-391b-43e1-90fa-3b62d2a4fd44",
   "metadata": {},
   "outputs": [
    {
     "name": "stdout",
     "output_type": "stream",
     "text": [
      "{1: 'tushar', 3: 'aditya', 100: 1}\n"
     ]
    }
   ],
   "source": [
    "x=100\n",
    "if(x not in mydictionary):\n",
    "    mydictionary[x]=1\n",
    "print(mydictionary)\n",
    " "
   ]
  },
  {
   "cell_type": "code",
   "execution_count": 55,
   "id": "ab233438-1656-41e6-a94b-bdf467d8a385",
   "metadata": {},
   "outputs": [
    {
     "name": "stdout",
     "output_type": "stream",
     "text": [
      "key value is 501\n",
      "{1: 'tushar', 3: 'aditya', 100: 1}\n"
     ]
    }
   ],
   "source": [
    "x=100\n",
    "if(x not in mydictionary):\n",
    "    mydictionary[x]=1\n",
    "else:\n",
    "    print(\"key value is\", mydictionary[x]+500)\n",
    "print(mydictionary)\n",
    " "
   ]
  },
  {
   "cell_type": "code",
   "execution_count": 56,
   "id": "fcabb3cf-d46c-4c6c-9d43-e3c2ca384986",
   "metadata": {},
   "outputs": [
    {
     "name": "stdout",
     "output_type": "stream",
     "text": [
      "{1: 'tushar', 3: 'aditya', 100: 1, 200: 50}\n"
     ]
    }
   ],
   "source": [
    "x=100\n",
    "if(x not in mydictionary):\n",
    "    mydictionary[x]=1\n",
    "else:\n",
    "    mydictionary[200] = 50\n",
    "    #print(\"key value is\", mydictionary[x]+500)\n",
    "print(mydictionary)\n",
    " "
   ]
  },
  {
   "cell_type": "code",
   "execution_count": 62,
   "id": "71b1dd2b-ee41-45b8-bf59-ae18bcfbb392",
   "metadata": {},
   "outputs": [
    {
     "name": "stdout",
     "output_type": "stream",
     "text": [
      "{1: 'tushar', 3: 'aditya', 100: 1, 200: 53}\n"
     ]
    }
   ],
   "source": [
    "x=100\n",
    "if(x not in mydictionary):\n",
    "    mydictionary[x]=1\n",
    "else:\n",
    "    mydictionary[200] = mydictionary[200]+1\n",
    "    #print(\"key value is\", mydictionary[x]+500)\n",
    "print(mydictionary)\n",
    " "
   ]
  },
  {
   "cell_type": "code",
   "execution_count": 61,
   "id": "e8040b7e-5683-4c3e-a957-fb81d67c7416",
   "metadata": {},
   "outputs": [
    {
     "data": {
      "text/plain": [
       "'tusharhello'"
      ]
     },
     "execution_count": 61,
     "metadata": {},
     "output_type": "execute_result"
    }
   ],
   "source": [
    "mydictionary[1]+\"hello\""
   ]
  },
  {
   "cell_type": "code",
   "execution_count": 44,
   "id": "47bc669a-30fe-4d9e-92a3-12c56c218b14",
   "metadata": {},
   "outputs": [],
   "source": [
    "#using dictionary find out how many numbers of vowels are present"
   ]
  },
  {
   "cell_type": "code",
   "execution_count": 50,
   "id": "7e090b6e-23ac-429e-b452-43de52d5be99",
   "metadata": {},
   "outputs": [
    {
     "name": "stdout",
     "output_type": "stream",
     "text": [
      "12\n"
     ]
    }
   ],
   "source": [
    "#using dictionary find out how many numbers of char pesent\n",
    "#\"hello tushar\"\n",
    "#{totalcharacter:12}\n",
    "x=\"hello tushar\"\n",
    "count_dict = 0\n",
    "for chr in x:\n",
    "    count_dict+=1\n",
    "print(count_dict)\n",
    "    "
   ]
  },
  {
   "cell_type": "code",
   "execution_count": 82,
   "id": "6caee348-2301-46d3-8cc3-e2420ba44922",
   "metadata": {},
   "outputs": [
    {
     "name": "stdout",
     "output_type": "stream",
     "text": [
      "{'total': 12}\n"
     ]
    }
   ],
   "source": [
    "#using dictionary find out how many numbers of char pesent\n",
    "#\"hello tushar\"\n",
    "#{totalcharacter:12}\n",
    "x=\"hello tushar\"\n",
    "count_dict = {}\n",
    "for chr in x:\n",
    "    if(\"total\" not in count_dict):\n",
    "        count_dict[\"total\"]=1\n",
    "    else:\n",
    "        count_dict[\"total\"] = count_dict[\"total\"]+1\n",
    "print(count_dict)\n"
   ]
  },
  {
   "cell_type": "code",
   "execution_count": 83,
   "id": "b1d936b5-b766-4768-8c31-9c943c11b590",
   "metadata": {},
   "outputs": [
    {
     "name": "stdout",
     "output_type": "stream",
     "text": [
      "{'total': 12}\n"
     ]
    }
   ],
   "source": [
    "#using dictionary find out how many numbers of char pesent\n",
    "#\"hello tushar\"\n",
    "#{totalcharacter:12}\n",
    "x=\"hello tushar\"\n",
    "count_dict = {}\n",
    "for chr in \"hello tushar\":\n",
    "    if(\"total\" not in count_dict):\n",
    "        count_dict[\"total\"]=1\n",
    "    else:\n",
    "        count_dict[\"total\"] = count_dict[\"total\"]+1\n",
    "print(count_dict)\n"
   ]
  },
  {
   "cell_type": "code",
   "execution_count": 144,
   "id": "295b5b21-5eb6-4d0a-aa92-bc2f0f2fcdbf",
   "metadata": {},
   "outputs": [
    {
     "name": "stdout",
     "output_type": "stream",
     "text": [
      "{'i': 21}\n"
     ]
    }
   ],
   "source": [
    "#\"hello tushar yash hey\"\n",
    "#number of vowels\n",
    "#number of char\n",
    "\n",
    "str = \"hello tushar yash hey\"\n",
    "char_count = {}\n",
    "for chr in \"hello tushar yash hey\":\n",
    "    if (\"i\" not in char_count):\n",
    "        char_count[\"i\"]=1\n",
    "    else:\n",
    "        char_count[\"i\"] = char_count[\"i\"]+1\n",
    "        \n",
    "print(char_count)\n"
   ]
  },
  {
   "cell_type": "code",
   "execution_count": 149,
   "id": "9d618649-4094-4671-a2f6-454ec22a8dcc",
   "metadata": {},
   "outputs": [
    {
     "name": "stdout",
     "output_type": "stream",
     "text": [
      "{'h': 2, 'e': 2, 'l': 2, 'o': 1, ' ': 1, 'y': 1}\n"
     ]
    }
   ],
   "source": [
    "mydictionary={}\n",
    "for i in \"hello hey\":\n",
    "    if (i not in mydictionary):\n",
    "        mydictionary[i]=1\n",
    "    else:\n",
    "        mydictionary[i]+=1\n",
    "        \n",
    "print(mydictionary)"
   ]
  },
  {
   "cell_type": "code",
   "execution_count": 151,
   "id": "3d6cfe56-2ae3-42bf-8e5d-0146e1ff8d43",
   "metadata": {},
   "outputs": [
    {
     "name": "stdout",
     "output_type": "stream",
     "text": [
      "{'h': 4, 'e': 2, 'l': 2, 'o': 1, ' ': 3, 't': 1, 'u': 1, 's': 2, 'a': 2, 'r': 1, 'y': 2}\n"
     ]
    }
   ],
   "source": [
    "#\"hello tushar yash hey\"\n",
    "#number of vowels\n",
    "#number of char\n",
    "\n",
    "char_count={}\n",
    "\n",
    "for i in \"hello tushar yash hey\":\n",
    "    if (i not in char_count):\n",
    "        char_count[i]=1\n",
    "    else:\n",
    "        char_count[i]+=1\n",
    "print(char_count)\n"
   ]
  },
  {
   "cell_type": "code",
   "execution_count": 166,
   "id": "2bdacb83-69a2-4922-bfb2-cfd2c58e79f6",
   "metadata": {},
   "outputs": [
    {
     "name": "stdout",
     "output_type": "stream",
     "text": [
      "{'e': 1, 'o': 1, 'u': 1, 'a': 1}\n",
      "6\n"
     ]
    }
   ],
   "source": [
    "#\"hello tushar yash hey\"\n",
    "#number of vowels\n",
    "vowel_count=0\n",
    "vowel_counting={}\n",
    "vowels=\"aeiouAEIOU\"\n",
    "for i in \"hello tushar yash hey\":\n",
    "    if i in vowels:\n",
    "        vowel_counting[i] = 1\n",
    "        vowel_count += 1\n",
    "print(vowel_counting)\n",
    "print(vowel_count)"
   ]
  },
  {
   "cell_type": "code",
   "execution_count": null,
   "id": "9df7e089-0c7a-4af9-8cef-b02f7dc81937",
   "metadata": {},
   "outputs": [],
   "source": []
  }
 ],
 "metadata": {
  "kernelspec": {
   "display_name": "Python 3 (ipykernel)",
   "language": "python",
   "name": "python3"
  },
  "language_info": {
   "codemirror_mode": {
    "name": "ipython",
    "version": 3
   },
   "file_extension": ".py",
   "mimetype": "text/x-python",
   "name": "python",
   "nbconvert_exporter": "python",
   "pygments_lexer": "ipython3",
   "version": "3.9.0"
  }
 },
 "nbformat": 4,
 "nbformat_minor": 5
}
