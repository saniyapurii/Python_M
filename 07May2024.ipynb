{
 "cells": [
  {
   "cell_type": "code",
   "execution_count": null,
   "id": "96f2edbe-4cc7-44aa-a86c-5f87aa78efb6",
   "metadata": {},
   "outputs": [],
   "source": [
    "#type of function\n",
    "#positional\n",
    "#keyword\n",
    "#default\n",
    "#variable length argument"
   ]
  },
  {
   "cell_type": "code",
   "execution_count": 1,
   "id": "71e0d5e1-3d1b-48fa-bf18-a39d89965e28",
   "metadata": {},
   "outputs": [
    {
     "name": "stdout",
     "output_type": "stream",
     "text": [
      "Eid: tushar \n",
      "Ename: tushar@gmail.com \n",
      "Email: 100\n"
     ]
    }
   ],
   "source": [
    "def employee(eid, ename, email):\n",
    "    print(f\"Eid: {eid} \\nEname: {ename} \\nEmail: {email}\" )\n",
    "    \n",
    "#positional argument:- should be at left most side\n",
    "employee(\"tushar\", \"tushar@gmail.com\", 100)"
   ]
  },
  {
   "cell_type": "code",
   "execution_count": 77,
   "id": "6a02d00d-bb7c-44cd-8435-c21ff6a62ce1",
   "metadata": {},
   "outputs": [
    {
     "name": "stdout",
     "output_type": "stream",
     "text": [
      "Eid: 100 \n",
      "Ename: tushar \n",
      "Email: tushar@gmail.com\n"
     ]
    }
   ],
   "source": [
    "\n",
    "def employee(eid, ename, email):\n",
    "    print(f\"Eid: {eid} \\nEname: {ename} \\nEmail: {email}\" )\n",
    "    \n",
    "#keyword argument:- should be at right most side\n",
    "employee(ename=\"tushar\", email=\"tushar@gmail.com\", eid=100)"
   ]
  },
  {
   "cell_type": "code",
   "execution_count": 4,
   "id": "a4e4ff59-5bf2-441b-af93-6dbabdfb7a5b",
   "metadata": {},
   "outputs": [
    {
     "name": "stdout",
     "output_type": "stream",
     "text": [
      "Eid: 100 \n",
      "Ename: tushar \n",
      "Email: tushar@gmail.com\n"
     ]
    }
   ],
   "source": [
    "\n",
    "def employee(eid, ename, email):\n",
    "    print(f\"Eid: {eid} \\nEname: {ename} \\nEmail: {email}\" )\n",
    "    \n",
    "#positional + keyword argument\n",
    "employee(100, ename=\"tushar\", email=\"tushar@gmail.com\")"
   ]
  },
  {
   "cell_type": "code",
   "execution_count": 75,
   "id": "8452bb50-5744-4615-b724-e00d1197f485",
   "metadata": {},
   "outputs": [
    {
     "ename": "TypeError",
     "evalue": "employee() got multiple values for argument 'eid'",
     "output_type": "error",
     "traceback": [
      "\u001b[1;31m---------------------------------------------------------------------------\u001b[0m",
      "\u001b[1;31mTypeError\u001b[0m                                 Traceback (most recent call last)",
      "Cell \u001b[1;32mIn[75], line 5\u001b[0m\n\u001b[0;32m      2\u001b[0m     \u001b[38;5;28mprint\u001b[39m(\u001b[38;5;124mf\u001b[39m\u001b[38;5;124m\"\u001b[39m\u001b[38;5;124mEid: \u001b[39m\u001b[38;5;132;01m{\u001b[39;00meid\u001b[38;5;132;01m}\u001b[39;00m\u001b[38;5;124m \u001b[39m\u001b[38;5;130;01m\\n\u001b[39;00m\u001b[38;5;124mEname: \u001b[39m\u001b[38;5;132;01m{\u001b[39;00mename\u001b[38;5;132;01m}\u001b[39;00m\u001b[38;5;124m \u001b[39m\u001b[38;5;130;01m\\n\u001b[39;00m\u001b[38;5;124mEmail: \u001b[39m\u001b[38;5;132;01m{\u001b[39;00memail\u001b[38;5;132;01m}\u001b[39;00m\u001b[38;5;124m\"\u001b[39m )\n\u001b[0;32m      4\u001b[0m \u001b[38;5;66;03m#positional + keyword argument\u001b[39;00m\n\u001b[1;32m----> 5\u001b[0m \u001b[43memployee\u001b[49m\u001b[43m(\u001b[49m\u001b[38;5;241;43m100\u001b[39;49m\u001b[43m,\u001b[49m\u001b[43m \u001b[49m\u001b[43mename\u001b[49m\u001b[38;5;241;43m=\u001b[39;49m\u001b[38;5;124;43m\"\u001b[39;49m\u001b[38;5;124;43mtushar\u001b[39;49m\u001b[38;5;124;43m\"\u001b[39;49m\u001b[43m,\u001b[49m\u001b[43m \u001b[49m\u001b[43memail\u001b[49m\u001b[38;5;241;43m=\u001b[39;49m\u001b[38;5;124;43m\"\u001b[39;49m\u001b[38;5;124;43mtushar@gmail.com\u001b[39;49m\u001b[38;5;124;43m\"\u001b[39;49m\u001b[43m,\u001b[49m\u001b[43m \u001b[49m\u001b[43meid\u001b[49m\u001b[38;5;241;43m=\u001b[39;49m\u001b[38;5;241;43m100\u001b[39;49m\u001b[43m)\u001b[49m\n",
      "\u001b[1;31mTypeError\u001b[0m: employee() got multiple values for argument 'eid'"
     ]
    }
   ],
   "source": [
    "\n",
    "def employee(eid, ename, email):\n",
    "    print(f\"Eid: {eid} \\nEname: {ename} \\nEmail: {email}\" )\n",
    "    \n",
    "#positional + keyword argument\n",
    "employee(100, ename=\"tushar\", email=\"tushar@gmail.com\", eid=100)"
   ]
  },
  {
   "cell_type": "code",
   "execution_count": 89,
   "id": "6085800b-e9f3-4bd7-9bcf-327f24242098",
   "metadata": {},
   "outputs": [
    {
     "name": "stdout",
     "output_type": "stream",
     "text": [
      "Eid: 100 \n",
      "Ename: tushar \n",
      "Email: regex@gmail.com\n",
      "Eid: 100 \n",
      "Ename: tushar \n",
      "Email: aman@gmail.com\n"
     ]
    }
   ],
   "source": [
    "\n",
    "def employee(eid,ename, email= \"regex@gmail.com\"):\n",
    "    print(f\"Eid: {eid} \\nEname: {ename} \\nEmail: {email}\" )\n",
    "    \n",
    "#default argument:- at function declaration, also, they should be at the end of the function, rightmost side\n",
    "employee(100, \"tushar\")\n",
    "\n",
    "employee(100, \"tushar\", \"aman@gmail.com\")"
   ]
  },
  {
   "cell_type": "code",
   "execution_count": 13,
   "id": "8299aac5-7e7b-47e8-8386-16ab63637e52",
   "metadata": {},
   "outputs": [
    {
     "ename": "TypeError",
     "evalue": "instagram() missing 1 required positional argument: 'mobile'",
     "output_type": "error",
     "traceback": [
      "\u001b[1;31m---------------------------------------------------------------------------\u001b[0m",
      "\u001b[1;31mTypeError\u001b[0m                                 Traceback (most recent call last)",
      "Cell \u001b[1;32mIn[13], line 4\u001b[0m\n\u001b[0;32m      1\u001b[0m \u001b[38;5;28;01mdef\u001b[39;00m \u001b[38;5;21minstagram\u001b[39m(username, dob, mobile):\n\u001b[0;32m      2\u001b[0m     \u001b[38;5;28mprint\u001b[39m(username, dob, mobile)\n\u001b[1;32m----> 4\u001b[0m \u001b[43minstagram\u001b[49m\u001b[43m(\u001b[49m\u001b[38;5;124;43m\"\u001b[39;49m\u001b[38;5;124;43maman\u001b[39;49m\u001b[38;5;124;43m\"\u001b[39;49m\u001b[43m,\u001b[49m\u001b[43m \u001b[49m\u001b[38;5;124;43m\"\u001b[39;49m\u001b[38;5;124;43m17/02/2000\u001b[39;49m\u001b[38;5;124;43m\"\u001b[39;49m\u001b[43m)\u001b[49m\n",
      "\u001b[1;31mTypeError\u001b[0m: instagram() missing 1 required positional argument: 'mobile'"
     ]
    }
   ],
   "source": [
    "#variabe length argument\n",
    "def instagram(username, dob, mobile):\n",
    "    print(username, dob, mobile)\n",
    "\n",
    "instagram(\"aman\", \"17/02/2000\")"
   ]
  },
  {
   "cell_type": "code",
   "execution_count": 94,
   "id": "2713edfe-d996-494e-9bc8-eb8670b4b244",
   "metadata": {},
   "outputs": [
    {
     "name": "stdout",
     "output_type": "stream",
     "text": [
      "('hello', 1000) <class 'tuple'>\n"
     ]
    }
   ],
   "source": [
    "#variabe length argument:- take values as per user requirement\n",
    "def instagram(*data):\n",
    "    print(data, type(data))\n",
    "\n",
    "instagram(\"hello\", 1000)\n",
    "#drawback:- we dont know the sequence of value:- to overcome we use keyword length argument in python"
   ]
  },
  {
   "cell_type": "code",
   "execution_count": 114,
   "id": "6b7d4d74-5c56-4782-8169-7b4b0970bcbf",
   "metadata": {},
   "outputs": [
    {
     "name": "stdout",
     "output_type": "stream",
     "text": [
      "{'salary': 100000, 'age': 24, 'msg': 'hello'} <class 'dict'>\n",
      "{'msg': 'happy', 'salary': 99} <class 'dict'>\n"
     ]
    }
   ],
   "source": [
    "#keyword-variable length argument\n",
    "#*args vs **kwargs :- variable length argument(we dont define the key) vs keyword length argument(we define the key only in keyword argument)\n",
    "def instagram(**data):\n",
    "    print(data, type(data))\n",
    "\n",
    "instagram(salary=100000,age=24,msg=\"hello\")\n",
    "instagram(msg=\"happy\", salary=99)\n",
    "#drwback:- we dont know the sequence of value:- to overcome we use keyword length argument in python"
   ]
  },
  {
   "cell_type": "code",
   "execution_count": 29,
   "id": "30d64dd5-ffae-4ac2-8b80-27904426931f",
   "metadata": {},
   "outputs": [],
   "source": [
    "#first class functions and \n",
    "#high ordered function\n"
   ]
  },
  {
   "cell_type": "code",
   "execution_count": 31,
   "id": "317f3f20-9a0a-4833-85f6-f7cf6bc5c6be",
   "metadata": {},
   "outputs": [
    {
     "data": {
      "text/plain": [
       "<function __main__.func()>"
      ]
     },
     "execution_count": 31,
     "metadata": {},
     "output_type": "execute_result"
    }
   ],
   "source": [
    "def func():\n",
    "    print(\"Hello\")\n",
    "\n",
    "func"
   ]
  },
  {
   "cell_type": "code",
   "execution_count": 38,
   "id": "c3ffb7b8-f639-446b-ba00-3e0593226595",
   "metadata": {},
   "outputs": [
    {
     "name": "stdout",
     "output_type": "stream",
     "text": [
      "<function func at 0x000002C1C7616040>\n",
      "<function func at 0x000002C1C7616040>\n",
      "Hello\n"
     ]
    }
   ],
   "source": [
    "#first class function:- we have stored function in a variable, that is called first class function\n",
    "def func():\n",
    "    print(\"Hello\")\n",
    "\n",
    "print(func) #memory address\n",
    "x=func #store memory address of func, we dont use () when we store memory address\n",
    "print(x)\n",
    "x()"
   ]
  },
  {
   "cell_type": "code",
   "execution_count": 39,
   "id": "b460dfb3-e876-4781-98a5-28453f20dce9",
   "metadata": {},
   "outputs": [
    {
     "name": "stdout",
     "output_type": "stream",
     "text": [
      "<function func at 0x000002C1C76168B0>\n",
      "Hello\n",
      "None\n"
     ]
    },
    {
     "ename": "TypeError",
     "evalue": "'NoneType' object is not callable",
     "output_type": "error",
     "traceback": [
      "\u001b[1;31m---------------------------------------------------------------------------\u001b[0m",
      "\u001b[1;31mTypeError\u001b[0m                                 Traceback (most recent call last)",
      "Cell \u001b[1;32mIn[39], line 7\u001b[0m\n\u001b[0;32m      5\u001b[0m x\u001b[38;5;241m=\u001b[39mfunc() \u001b[38;5;66;03m#function is called and it dont return anything  so output is none\u001b[39;00m\n\u001b[0;32m      6\u001b[0m \u001b[38;5;28mprint\u001b[39m(x)\n\u001b[1;32m----> 7\u001b[0m \u001b[43mx\u001b[49m\u001b[43m(\u001b[49m\u001b[43m)\u001b[49m\n",
      "\u001b[1;31mTypeError\u001b[0m: 'NoneType' object is not callable"
     ]
    }
   ],
   "source": [
    "def func():\n",
    "    print(\"Hello\")\n",
    "\n",
    "print(func) #memory address\n",
    "x=func() #function is called and it dont return anything  so output is none\n",
    "print(x)\n",
    "x()"
   ]
  },
  {
   "cell_type": "code",
   "execution_count": 50,
   "id": "eb5d1350-86a1-4290-a944-6700274e9976",
   "metadata": {},
   "outputs": [
    {
     "name": "stdout",
     "output_type": "stream",
     "text": [
      "100\n",
      "None\n"
     ]
    }
   ],
   "source": [
    "def square(x):\n",
    "    print(x*x)\n",
    "    \n",
    "print(square(10)) #none as it does not return anything"
   ]
  },
  {
   "cell_type": "code",
   "execution_count": 51,
   "id": "2c3edf9a-697b-4ed1-b78a-c9f658bce5b8",
   "metadata": {},
   "outputs": [
    {
     "name": "stdout",
     "output_type": "stream",
     "text": [
      "100\n",
      "hey\n"
     ]
    }
   ],
   "source": [
    "def square(x):\n",
    "    print(x*x)\n",
    "    return \"hey\"\n",
    "print(square(10))"
   ]
  },
  {
   "cell_type": "code",
   "execution_count": 54,
   "id": "8129aefa-9fb6-4466-be62-65d789b1cc5a",
   "metadata": {},
   "outputs": [
    {
     "name": "stdout",
     "output_type": "stream",
     "text": [
      "30\n",
      "100\n"
     ]
    }
   ],
   "source": [
    "def square(x):\n",
    "    print(x*x)\n",
    "\n",
    "def addNo(z, func):\n",
    "    print(z+func)\n",
    "    \n",
    "addNo(10,20)\n",
    "square(10)\n"
   ]
  },
  {
   "cell_type": "code",
   "execution_count": 57,
   "id": "f055a4eb-7da0-4469-a876-56258f4d6c9f",
   "metadata": {},
   "outputs": [
    {
     "name": "stdout",
     "output_type": "stream",
     "text": [
      "225\n",
      "10 None\n"
     ]
    }
   ],
   "source": [
    "def square(x):\n",
    "    print(x*x)\n",
    "\n",
    "def addNo(z, func):\n",
    "    print(z, func)\n",
    "    \n",
    "addNo(10, square(15))\n"
   ]
  },
  {
   "cell_type": "code",
   "execution_count": 59,
   "id": "64b4eaed-e0b6-4c03-91d3-9fa9498bca23",
   "metadata": {},
   "outputs": [
    {
     "name": "stdout",
     "output_type": "stream",
     "text": [
      "10 225\n"
     ]
    }
   ],
   "source": [
    "def square(x):\n",
    "    return x*x\n",
    "\n",
    "def addNo(z, func):\n",
    "    print(z, func)\n",
    "    \n",
    "addNo(10, square(15))\n"
   ]
  },
  {
   "cell_type": "code",
   "execution_count": 67,
   "id": "e6da8cbe-d419-4c19-bb1d-ea9c0ab1ec43",
   "metadata": {},
   "outputs": [
    {
     "name": "stdout",
     "output_type": "stream",
     "text": [
      "10 <function square at 0x000002C1C75F6CA0>\n"
     ]
    }
   ],
   "source": [
    "#high order function \n",
    "#pass square as argument in another function\n",
    "def square(x):\n",
    "    return x*x\n",
    "\n",
    "def addNo(z, func):\n",
    "    print(z, func)\n",
    "    \n",
    "addNo(10, square)#memory address of square\n"
   ]
  },
  {
   "cell_type": "code",
   "execution_count": 64,
   "id": "fe12bf80-9b35-41e6-95fd-f5d7ba2393dc",
   "metadata": {},
   "outputs": [
    {
     "ename": "TypeError",
     "evalue": "square() missing 1 required positional argument: 'x'",
     "output_type": "error",
     "traceback": [
      "\u001b[1;31m---------------------------------------------------------------------------\u001b[0m",
      "\u001b[1;31mTypeError\u001b[0m                                 Traceback (most recent call last)",
      "Cell \u001b[1;32mIn[64], line 8\u001b[0m\n\u001b[0;32m      5\u001b[0m \u001b[38;5;28;01mdef\u001b[39;00m \u001b[38;5;21maddNo\u001b[39m(z, func):\n\u001b[0;32m      6\u001b[0m     \u001b[38;5;28mprint\u001b[39m(z, func())\n\u001b[1;32m----> 8\u001b[0m \u001b[43maddNo\u001b[49m\u001b[43m(\u001b[49m\u001b[38;5;241;43m10\u001b[39;49m\u001b[43m,\u001b[49m\u001b[43m \u001b[49m\u001b[43msquare\u001b[49m\u001b[43m)\u001b[49m\u001b[38;5;66;03m#memory address of square\u001b[39;00m\n",
      "Cell \u001b[1;32mIn[64], line 6\u001b[0m, in \u001b[0;36maddNo\u001b[1;34m(z, func)\u001b[0m\n\u001b[0;32m      5\u001b[0m \u001b[38;5;28;01mdef\u001b[39;00m \u001b[38;5;21maddNo\u001b[39m(z, func):\n\u001b[1;32m----> 6\u001b[0m     \u001b[38;5;28mprint\u001b[39m(z, \u001b[43mfunc\u001b[49m\u001b[43m(\u001b[49m\u001b[43m)\u001b[49m)\n",
      "\u001b[1;31mTypeError\u001b[0m: square() missing 1 required positional argument: 'x'"
     ]
    }
   ],
   "source": [
    "#pass square as argument in another function\n",
    "def square(x):\n",
    "    return x*x\n",
    "\n",
    "def addNo(z, func):\n",
    "    print(z, func())\n",
    "    \n",
    "addNo(10, square)#memory address of square\n"
   ]
  },
  {
   "cell_type": "code",
   "execution_count": 65,
   "id": "941282bf-9be7-4c1e-9de3-cd6679f433ef",
   "metadata": {},
   "outputs": [
    {
     "name": "stdout",
     "output_type": "stream",
     "text": [
      "10 400\n"
     ]
    }
   ],
   "source": [
    "#pass square as argument in another function\n",
    "def square(x):\n",
    "    return x*x\n",
    "\n",
    "def addNo(z, func):\n",
    "    print(z, func(20))\n",
    "    \n",
    "addNo(10, square)#memory address of square\n"
   ]
  },
  {
   "cell_type": "code",
   "execution_count": 66,
   "id": "26e12543-da16-4946-b656-02c34eff5fef",
   "metadata": {},
   "outputs": [
    {
     "name": "stdout",
     "output_type": "stream",
     "text": [
      "410\n"
     ]
    }
   ],
   "source": [
    "#pass square as argument in another function\n",
    "def square(x):\n",
    "    return x*x\n",
    "\n",
    "def addNo(z, func):\n",
    "    print(z + func(20))\n",
    "    \n",
    "addNo(10, square)#memory address of square\n"
   ]
  },
  {
   "cell_type": "code",
   "execution_count": 68,
   "id": "686a8038-ebc1-43a9-b22f-9c1876666db0",
   "metadata": {},
   "outputs": [],
   "source": [
    "#file handling"
   ]
  },
  {
   "cell_type": "code",
   "execution_count": 116,
   "id": "705e5407-63dd-4295-815c-7d1490774a3e",
   "metadata": {},
   "outputs": [
    {
     "name": "stdout",
     "output_type": "stream",
     "text": [
      "100000 {'age': 24} hello\n",
      "99 {} happy\n"
     ]
    }
   ],
   "source": [
    "def instagram(salary, msg, **age):\n",
    "    print(salary, age, msg)\n",
    "\n",
    "instagram(salary=100000, age=24, msg=\"hello\")\n",
    "instagram(msg=\"happy\", salary=99)"
   ]
  },
  {
   "cell_type": "code",
   "execution_count": null,
   "id": "c4045486-31bb-4706-9bd8-8de6f8adf7ae",
   "metadata": {},
   "outputs": [],
   "source": []
  }
 ],
 "metadata": {
  "kernelspec": {
   "display_name": "Python 3 (ipykernel)",
   "language": "python",
   "name": "python3"
  },
  "language_info": {
   "codemirror_mode": {
    "name": "ipython",
    "version": 3
   },
   "file_extension": ".py",
   "mimetype": "text/x-python",
   "name": "python",
   "nbconvert_exporter": "python",
   "pygments_lexer": "ipython3",
   "version": "3.9.0"
  }
 },
 "nbformat": 4,
 "nbformat_minor": 5
}
