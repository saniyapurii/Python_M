{
 "cells": [
  {
   "cell_type": "code",
   "execution_count": 37,
   "id": "10167cc6-ac0c-422f-93e2-d2733f3b5b1e",
   "metadata": {},
   "outputs": [
    {
     "data": {
      "text/plain": [
       "'\\n#Inheritance:-\\nInheritance in Python Class\\nInheritance is the procedure in which one class inherits the attributes and methods of another class.  \\nThe class whose properties and methods are inherited is known as the Parent class. And the class that \\ninherits the properties from the parent class is the Child class.\\nThe interesting thing is, along with the inherited properties and methods, a child class can have its own properties and methods.\\n\\n\\n#Encapsulation:-\\nEncapsulation\\nEncapsulation, as I mentioned in the initial part of the article, is a way to ensure security. Basically, it hides the data from the \\naccess of outsiders. Such as, if an organization wants to protect an object/information from unwanted access by clients or any \\nunauthorized person, then encapsulation is the way to ensure this.\\n\\nYou can declare the methods or the attributes protected by using a single underscore ( ) \\nbefore their names, such as _self.name or def _method( ); Both of these lines tell that the attribute and method are \\nprotected and should not be used outside the access of the class and sub-classes but can be accessed by class methods and objects.\\n\\nThough Python uses ‘ _ ‘ just as a coding convention, it tells that you should use these attributes/methods within \\nthe scope of the class. But you can still access the variables and methods which are defined as protected, as usual.\\n\\nNow to actually prevent the access of attributes/methods from outside the scope of a class, you can use “private members“.\\nIn order to declare the attributes/method as private members, use double underscore ( ) in the prefix. Such as – self.name \\nor def __method(); Both of these lines tell that the attribute and method are private and access is not possible from outside the class.\\n\\n\\n#Polymorphism\\nThis is a Greek word. If we break the term Polymorphism, we get “poly”-many and “morph”-forms. So Polymorphism means having many forms. \\nIn OOP it refers to the functions having the same names but carrying different functionalities.\\n\\n\\n#Data Abstraction\\nWe use Abstraction for hiding the internal details or implementations of a function and showing its functionalities only. This is similar \\nto the way you know how to drive a car without knowing the background mechanism. Or you know how to turn on or off a light using a switch, \\nbut you don’t know what is happening behind the socket.\\n\\nAny class with at least one abstract function is an abstract class. To create an abstraction class, first, you need to import the ABC class \\nfrom abc module. This lets you create abstract methods inside it. ABC stands for Abstract Base Class.\\n'"
      ]
     },
     "execution_count": 37,
     "metadata": {},
     "output_type": "execute_result"
    }
   ],
   "source": [
    "\"\"\"\n",
    "#Inheritance:-\n",
    "Inheritance in Python Class\n",
    "Inheritance is the procedure in which one class inherits the attributes and methods of another class.  \n",
    "The class whose properties and methods are inherited is known as the Parent class. And the class that \n",
    "inherits the properties from the parent class is the Child class.\n",
    "The interesting thing is, along with the inherited properties and methods, a child class can have its own properties and methods.\n",
    "\n",
    "\n",
    "#Encapsulation:-\n",
    "Encapsulation\n",
    "Encapsulation, as I mentioned in the initial part of the article, is a way to ensure security. Basically, it hides the data from the \n",
    "access of outsiders. Such as, if an organization wants to protect an object/information from unwanted access by clients or any \n",
    "unauthorized person, then encapsulation is the way to ensure this.\n",
    "\n",
    "You can declare the methods or the attributes protected by using a single underscore ( ) \n",
    "before their names, such as _self.name or def _method( ); Both of these lines tell that the attribute and method are \n",
    "protected and should not be used outside the access of the class and sub-classes but can be accessed by class methods and objects.\n",
    "\n",
    "Though Python uses ‘ _ ‘ just as a coding convention, it tells that you should use these attributes/methods within \n",
    "the scope of the class. But you can still access the variables and methods which are defined as protected, as usual.\n",
    "\n",
    "Now to actually prevent the access of attributes/methods from outside the scope of a class, you can use “private members“.\n",
    "In order to declare the attributes/method as private members, use double underscore ( ) in the prefix. Such as – self.name \n",
    "or def __method(); Both of these lines tell that the attribute and method are private and access is not possible from outside the class.\n",
    "\n",
    "\n",
    "#Polymorphism\n",
    "This is a Greek word. If we break the term Polymorphism, we get “poly”-many and “morph”-forms. So Polymorphism means having many forms. \n",
    "In OOP it refers to the functions having the same names but carrying different functionalities.\n",
    "\n",
    "\n",
    "#Data Abstraction\n",
    "We use Abstraction for hiding the internal details or implementations of a function and showing its functionalities only. This is similar \n",
    "to the way you know how to drive a car without knowing the background mechanism. Or you know how to turn on or off a light using a switch, \n",
    "but you don’t know what is happening behind the socket.\n",
    "\n",
    "Any class with at least one abstract function is an abstract class. To create an abstraction class, first, you need to import the ABC class \n",
    "from abc module. This lets you create abstract methods inside it. ABC stands for Abstract Base Class.\n",
    "\"\"\""
   ]
  },
  {
   "cell_type": "code",
   "execution_count": null,
   "id": "8a50a475-4e93-4d09-8c41-e43a0a734bae",
   "metadata": {},
   "outputs": [],
   "source": [
    "# oops\n",
    "# classes object\n",
    "# inheritance"
   ]
  },
  {
   "cell_type": "code",
   "execution_count": 4,
   "id": "e264fb98-da7d-43f3-b548-80bbcc944a6b",
   "metadata": {},
   "outputs": [
    {
     "ename": "AttributeError",
     "evalue": "'Son' object has no attribute 'amount'",
     "output_type": "error",
     "traceback": [
      "\u001b[1;31m---------------------------------------------------------------------------\u001b[0m",
      "\u001b[1;31mAttributeError\u001b[0m                            Traceback (most recent call last)",
      "Cell \u001b[1;32mIn[4], line 13\u001b[0m\n\u001b[0;32m     11\u001b[0m s1\u001b[38;5;241m=\u001b[39mSon()\n\u001b[0;32m     12\u001b[0m s1\u001b[38;5;241m.\u001b[39msalary\n\u001b[1;32m---> 13\u001b[0m \u001b[43ms1\u001b[49m\u001b[38;5;241;43m.\u001b[39;49m\u001b[43mamount\u001b[49m\n",
      "\u001b[1;31mAttributeError\u001b[0m: 'Son' object has no attribute 'amount'"
     ]
    }
   ],
   "source": [
    "#Inheritance:-\n",
    "class Father:\n",
    "    amount = 100\n",
    "\n",
    "class Son:\n",
    "    salary=50\n",
    "\n",
    "\n",
    "f1=Father()\n",
    "f1.amount\n",
    "s1=Son()\n",
    "s1.salary"
   ]
  },
  {
   "cell_type": "code",
   "execution_count": 38,
   "id": "753a502c-3f58-4287-ae12-e45c1da936b4",
   "metadata": {},
   "outputs": [
    {
     "data": {
      "text/plain": [
       "100"
      ]
     },
     "execution_count": 38,
     "metadata": {},
     "output_type": "execute_result"
    }
   ],
   "source": [
    "#Inheritance:-\n",
    "class Father:\n",
    "    amount = 100\n",
    "\n",
    "class Son(Father):\n",
    "    salary=50\n",
    "\n",
    "\n",
    "f1=Father()\n",
    "f1.amount\n",
    "s1=Son()\n",
    "s1.salary\n",
    "s1.amount"
   ]
  },
  {
   "cell_type": "code",
   "execution_count": 39,
   "id": "2c097507-76e2-4dfa-9a89-28d56c010755",
   "metadata": {},
   "outputs": [
    {
     "name": "stdout",
     "output_type": "stream",
     "text": [
      "Hey\n"
     ]
    }
   ],
   "source": [
    "#Parent class/ superclass/Base class\n",
    "class Father:\n",
    "    amount = 100\n",
    "    def func(self):\n",
    "        print(\"Hey\")\n",
    "        \n",
    "\n",
    "#Parent? #inherited class/Derived class/ sub-class\n",
    "class Son(Father): \n",
    "    salary=50\n",
    "\n",
    "\n",
    "f1=Father()\n",
    "f1.amount\n",
    "s1=Son()\n",
    "s1.salary\n",
    "s1.amount\n",
    "s1.func()"
   ]
  },
  {
   "cell_type": "code",
   "execution_count": 52,
   "id": "6580cc05-4f85-4b63-afba-44b06321a087",
   "metadata": {},
   "outputs": [
    {
     "data": {
      "text/plain": [
       "'xyz'"
      ]
     },
     "execution_count": 52,
     "metadata": {},
     "output_type": "execute_result"
    }
   ],
   "source": [
    "class Driver:\n",
    "    def __init__(self):\n",
    "        self.id = id\n",
    "        self.name=name\n",
    "        self.email=email\n",
    "\n",
    "class Customer:\n",
    "    def __init__(self, cid, cname, cemail):\n",
    "        self.id = cid\n",
    "        self.name = cname\n",
    "        self.email = cemail\n",
    "\n",
    "c1=Customer(12, \"xyz\", \"xyz@gmail\")\n",
    "c1.id\n",
    "c1.name"
   ]
  },
  {
   "cell_type": "code",
   "execution_count": 55,
   "id": "c288aa99-e559-4335-b42b-1ca5ffc163ce",
   "metadata": {},
   "outputs": [
    {
     "data": {
      "text/plain": [
       "'Regex'"
      ]
     },
     "execution_count": 55,
     "metadata": {},
     "output_type": "execute_result"
    }
   ],
   "source": [
    "class Driver:\n",
    "    company = \"Regex\"\n",
    "    def __init__(self):\n",
    "        self.id = id\n",
    "        self.name=name\n",
    "        self.email=email\n",
    "\n",
    "class Customer(Driver):\n",
    "    def __init__(self, cid, cname, cemail):\n",
    "        self.id = cid\n",
    "        self.name = cname\n",
    "        self.email = cemail\n",
    "\n",
    "c1=Customer(12, \"xyz\", \"xyz@gmail\")\n",
    "c1.id\n",
    "c1.company"
   ]
  },
  {
   "cell_type": "code",
   "execution_count": 57,
   "id": "a10d308a-99e3-4660-bc97-fadf0fb36888",
   "metadata": {},
   "outputs": [
    {
     "name": "stdout",
     "output_type": "stream",
     "text": [
      "Parent Class Variable =  regex\n"
     ]
    }
   ],
   "source": [
    "#Driver: id, name, email\n",
    "#customer: id, name, email\n",
    "\n",
    "class Driver:\n",
    "    company = \"regex\"\n",
    "    def __init__(self, id, name, email):\n",
    "        self.id = id\n",
    "        self.name = name\n",
    "        self.email = email\n",
    "\n",
    "class Customer(Driver):\n",
    "    def __init__(self, cid, cname, cemail ):\n",
    "        print(\"Parent Class Variable = \", super().company ) #parent class se koi bhi chij access krni h toh super keyword se use krege\n",
    "        self.cid = cid\n",
    "        self.cname = cname\n",
    "        self.cemail = cemail\n",
    "\n",
    "\n",
    "c1=Customer(100, \"xyz\", \"xyz@gmail.com\")"
   ]
  },
  {
   "cell_type": "code",
   "execution_count": 64,
   "id": "a880982b-a7c7-4fd1-9fda-9b9e1e0f553d",
   "metadata": {},
   "outputs": [
    {
     "data": {
      "text/plain": [
       "10"
      ]
     },
     "execution_count": 64,
     "metadata": {},
     "output_type": "execute_result"
    }
   ],
   "source": [
    "#Driver: id, name, email\n",
    "#customer: id, name, email\n",
    "\n",
    "class Driver:\n",
    "    company = \"regex\"\n",
    "    def __init__(self, id, name, email):\n",
    "        self.id = id\n",
    "        self.name = name\n",
    "        self.email = email\n",
    "\n",
    "class Customer(Driver):\n",
    "    def __init__(self, cid, cname, cemail ):\n",
    "        super().__init__(10, \"ujjwal\", \"uj@gmail.com\")# ----> calling the parent class constructor\n",
    "        # passing the arguments that are in the child class \n",
    "\n",
    "\n",
    "c1=Customer(100, \"xyz\", \"xyz@gmail.com\")\n",
    "c1.id\n",
    "\n",
    " "
   ]
  },
  {
   "cell_type": "code",
   "execution_count": 66,
   "id": "616df7d0-e492-4695-bec8-5bc8d268c078",
   "metadata": {},
   "outputs": [],
   "source": [
    "       \n",
    "#class variable ko object nhi change krskta, # class variable value cannot be changed by object , it can only change for the object and the original value remain intact\n",
    "#we can only call class variable and inheritance variable, and not Local variable"
   ]
  },
  {
   "cell_type": "code",
   "execution_count": 67,
   "id": "e221e37b-461d-4726-9935-281cc44af3a6",
   "metadata": {},
   "outputs": [
    {
     "data": {
      "text/plain": [
       "100"
      ]
     },
     "execution_count": 67,
     "metadata": {},
     "output_type": "execute_result"
    }
   ],
   "source": [
    "#Driver: id, name, email\n",
    "#customer: id, name, email\n",
    "\n",
    "class Driver:\n",
    "    company = \"regex\"\n",
    "    def __init__(self, id, name, email):\n",
    "        self.id = id\n",
    "        self.name = name\n",
    "        self.email = email\n",
    "\n",
    "class Customer(Driver):\n",
    "    def __init__(self, cid, cname, cemail ):\n",
    "        super().__init__(cid, cname, cemail)# ----> calling the parent class constructor\n",
    "        # passing the arguments that are in the child class \n",
    "\n",
    "\n",
    "c1=Customer(100, \"xyz\", \"xyz@gmail.com\")\n",
    "c1.id\n",
    "\n",
    " "
   ]
  },
  {
   "cell_type": "code",
   "execution_count": 69,
   "id": "8b7fdac9-7607-421f-994f-4ad7e166c8cd",
   "metadata": {},
   "outputs": [
    {
     "name": "stdout",
     "output_type": "stream",
     "text": [
      "Information is 100 & naina \n"
     ]
    }
   ],
   "source": [
    "class Driver:\n",
    "    company = \"regex\"\n",
    "    def __init__(self, id, name, email):\n",
    "        self.id = id\n",
    "        self.name = name\n",
    "        self.email = email\n",
    "\n",
    "    def dinfo(self):\n",
    "        print(f\"Information is {self.id} & {self.name} \")\n",
    "\n",
    "class Customer(Driver):\n",
    "    def __init__(self, cid, cname, cemail ):\n",
    "        super().__init__(cid, cname, cemail)\n",
    "    \n",
    "    def cinfo(self):\n",
    "        super().dinfo()\n",
    "\n",
    "c1=Customer(100,\"naina\",\"abc@gmail.com\")\n",
    "c1.cinfo()\n",
    "        "
   ]
  },
  {
   "cell_type": "code",
   "execution_count": 70,
   "id": "78c3a95e-a499-47a6-91df-24c7b50ee8e4",
   "metadata": {},
   "outputs": [
    {
     "name": "stdout",
     "output_type": "stream",
     "text": [
      "Driver Information: ID - 101, Name - John, Email - john@example.com\n"
     ]
    }
   ],
   "source": [
    "class Driver:\n",
    "    company = \"regex\"\n",
    "    \n",
    "    def __init__(self, id, name, email):\n",
    "        self.id = id\n",
    "        self.name = name\n",
    "        self.email = email\n",
    "\n",
    "    def dinfo(self):\n",
    "        print(f\"Driver Information: ID - {self.id}, Name - {self.name}, Email - {self.email}\")\n",
    "\n",
    "class Customer(Driver):\n",
    "    def __init__(self, cid, cname, cemail):\n",
    "        super().__init__(cid, cname, cemail)\n",
    "        \n",
    "    def cinfo(self):\n",
    "        super().dinfo()\n",
    "\n",
    "# Creating a Customer object\n",
    "c1 = Customer(101, \"John\", \"john@example.com\")\n",
    "# Calling the cinfo method\n",
    "c1.cinfo()\n"
   ]
  },
  {
   "cell_type": "code",
   "execution_count": 36,
   "id": "8489340f-a817-45e8-87db-12627603f7bd",
   "metadata": {},
   "outputs": [],
   "source": [
    "#type of inheritence\n",
    "#MRO (meth0d resolution order)\n",
    "#What is private, protected, default and public modifier"
   ]
  },
  {
   "cell_type": "code",
   "execution_count": 96,
   "id": "02b82696-e71b-4969-905a-67791ae2e63e",
   "metadata": {},
   "outputs": [
    {
     "name": "stdout",
     "output_type": "stream",
     "text": [
      "1\n",
      "2\n",
      "3\n",
      "4\n"
     ]
    },
    {
     "data": {
      "text/plain": [
       "5"
      ]
     },
     "execution_count": 96,
     "metadata": {},
     "output_type": "execute_result"
    }
   ],
   "source": [
    "#make program :- the time you create any object of a class, that variable should increase\n",
    "class Assignment:\n",
    "    x = 0\n",
    "\n",
    "    def __init__(self):\n",
    "        Assignment.x += 1\n",
    "\n",
    "test1 = Assignment()\n",
    "print(test1.x)  # Output: 1\n",
    "\n",
    "test2 = Assignment()\n",
    "print(test2.x)  # Output: 2\n",
    "\n",
    "test3 = Assignment()\n",
    "print(test3.x)\n",
    "\n",
    "test5 = Assignment()\n",
    "print(test5.x)\n",
    "\n",
    "test4 = Assignment()\n",
    "test4.x"
   ]
  },
  {
   "cell_type": "code",
   "execution_count": 95,
   "id": "caac4f6f-e037-486c-a519-e679959d94aa",
   "metadata": {},
   "outputs": [
    {
     "name": "stdout",
     "output_type": "stream",
     "text": [
      "1\n",
      "2\n",
      "3\n",
      "4\n"
     ]
    },
    {
     "data": {
      "text/plain": [
       "5"
      ]
     },
     "execution_count": 95,
     "metadata": {},
     "output_type": "execute_result"
    }
   ],
   "source": []
  },
  {
   "cell_type": "code",
   "execution_count": 71,
   "id": "3b182f4b-ed7f-4986-bc5c-174a00a610b2",
   "metadata": {},
   "outputs": [
    {
     "data": {
      "text/plain": [
       "100"
      ]
     },
     "execution_count": 71,
     "metadata": {},
     "output_type": "execute_result"
    }
   ],
   "source": [
    "#encapsulation\n",
    "#variable/method => bind\n",
    "#accessability\n",
    "\n",
    "class Vehicle:\n",
    "    xyz=100\n",
    "\n",
    "\n",
    "v1=Vehicle()\n",
    "v1.xyz"
   ]
  },
  {
   "cell_type": "code",
   "execution_count": 72,
   "id": "e56ce305-31c5-4a70-9d07-c39893bb50a4",
   "metadata": {},
   "outputs": [
    {
     "data": {
      "text/plain": [
       "100"
      ]
     },
     "execution_count": 72,
     "metadata": {},
     "output_type": "execute_result"
    }
   ],
   "source": [
    "#Protected variable /methid => inherited class can use it only, \"_\" use only to indicate that it is inherited\n",
    "class Vehicle:\n",
    "    _xyz=100\n",
    "\n",
    "\n",
    "v1=Vehicle()\n",
    "v1._xyz"
   ]
  },
  {
   "cell_type": "code",
   "execution_count": 73,
   "id": "4274ba02-7d68-4c3b-b37c-50591573a7d2",
   "metadata": {},
   "outputs": [
    {
     "data": {
      "text/plain": [
       "100"
      ]
     },
     "execution_count": 73,
     "metadata": {},
     "output_type": "execute_result"
    }
   ],
   "source": []
  },
  {
   "cell_type": "code",
   "execution_count": 76,
   "id": "5a3c0468-af95-43ee-80fb-e5cbdb7d1b69",
   "metadata": {},
   "outputs": [
    {
     "ename": "AttributeError",
     "evalue": "'Vehicle' object has no attribute '__xyz'",
     "output_type": "error",
     "traceback": [
      "\u001b[1;31m---------------------------------------------------------------------------\u001b[0m",
      "\u001b[1;31mAttributeError\u001b[0m                            Traceback (most recent call last)",
      "Cell \u001b[1;32mIn[76], line 7\u001b[0m\n\u001b[0;32m      5\u001b[0m \u001b[38;5;66;03m#__xyz=> _class__xyz\u001b[39;00m\n\u001b[0;32m      6\u001b[0m v1\u001b[38;5;241m=\u001b[39mVehicle()\n\u001b[1;32m----> 7\u001b[0m \u001b[43mv1\u001b[49m\u001b[38;5;241;43m.\u001b[39;49m\u001b[43m__xyz\u001b[49m\n",
      "\u001b[1;31mAttributeError\u001b[0m: 'Vehicle' object has no attribute '__xyz'"
     ]
    }
   ],
   "source": [
    "#only inside the class you can use it \"__\"\n",
    "class Vehicle:\n",
    "    __xyz=100\n",
    "\n",
    "#__xyz=> _class__xyz\n",
    "v1=Vehicle()\n",
    "v1.__xyz"
   ]
  },
  {
   "cell_type": "code",
   "execution_count": 77,
   "id": "f7887e4a-dff9-4b67-9386-8af405af43e3",
   "metadata": {},
   "outputs": [
    {
     "data": {
      "text/plain": [
       "100"
      ]
     },
     "execution_count": 77,
     "metadata": {},
     "output_type": "execute_result"
    }
   ],
   "source": [
    "# protected method or variable => inherited class can use it only \n",
    "# private variable / method =>only inside the class you can use this\n",
    "class Vehicle:\n",
    "    __xyz=100\n",
    "\n",
    "# __xyz => _class__xyz  => in python in background name is changed\n",
    "v1=Vehicle()\n",
    "v1._Vehicle__xyz"
   ]
  },
  {
   "cell_type": "code",
   "execution_count": 35,
   "id": "80501df3-ed25-4cc0-a8bd-48aa5be225ee",
   "metadata": {},
   "outputs": [
    {
     "data": {
      "text/plain": [
       "100"
      ]
     },
     "execution_count": 35,
     "metadata": {},
     "output_type": "execute_result"
    }
   ],
   "source": [
    "#only inside the class you can use it \"__\"\n",
    "class Vehicle:\n",
    "    __xyz=100\n",
    "\n",
    "\n",
    "v1=Vehicle()\n",
    "#__xyz=> _class__xyz\n",
    "v1._Vehicle__xyz"
   ]
  },
  {
   "cell_type": "code",
   "execution_count": null,
   "id": "8820d043-b247-4410-9a8b-cea4410c5a54",
   "metadata": {},
   "outputs": [],
   "source": []
  }
 ],
 "metadata": {
  "kernelspec": {
   "display_name": "Python 3 (ipykernel)",
   "language": "python",
   "name": "python3"
  },
  "language_info": {
   "codemirror_mode": {
    "name": "ipython",
    "version": 3
   },
   "file_extension": ".py",
   "mimetype": "text/x-python",
   "name": "python",
   "nbconvert_exporter": "python",
   "pygments_lexer": "ipython3",
   "version": "3.9.0"
  }
 },
 "nbformat": 4,
 "nbformat_minor": 5
}
