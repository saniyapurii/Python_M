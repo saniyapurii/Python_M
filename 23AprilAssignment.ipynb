{
  "nbformat": 4,
  "nbformat_minor": 0,
  "metadata": {
    "colab": {
      "provenance": []
    },
    "kernelspec": {
      "name": "python3",
      "display_name": "Python 3"
    },
    "language_info": {
      "name": "python"
    }
  },
  "cells": [
    {
      "cell_type": "code",
      "source": [
        "\"\"\"\n",
        "****\n",
        "***\n",
        "**\n",
        "*\n",
        "\"\"\"\n",
        "\n",
        "for i in range (1,5):\n",
        "  for j in range(4, i-1, -1):\n",
        "    print(\"*\", end=\" \")\n",
        "  print(\" \")\n"
      ],
      "metadata": {
        "colab": {
          "base_uri": "https://localhost:8080/"
        },
        "id": "2C17ckc4dZos",
        "outputId": "31ee6c70-7e5f-43e3-b0b9-b445064f7828"
      },
      "execution_count": 1,
      "outputs": [
        {
          "output_type": "stream",
          "name": "stdout",
          "text": [
            "* * * *  \n",
            "* * *  \n",
            "* *  \n",
            "*  \n"
          ]
        }
      ]
    },
    {
      "cell_type": "code",
      "source": [
        "\"\"\"\n",
        "10\n",
        "11 12\n",
        "13 14 15\n",
        "\"\"\"\n",
        "num =9\n",
        "for i in range(1,4):\n",
        "  for j in range(1, i+1):\n",
        "    num +=1\n",
        "    print(num, end=\" \")\n",
        "  print(\" \")"
      ],
      "metadata": {
        "colab": {
          "base_uri": "https://localhost:8080/"
        },
        "id": "Kdj2zB4feFp0",
        "outputId": "f5afd911-98cd-477c-8d34-1628ce935320"
      },
      "execution_count": 2,
      "outputs": [
        {
          "output_type": "stream",
          "name": "stdout",
          "text": [
            "10  \n",
            "11 12  \n",
            "13 14 15  \n"
          ]
        }
      ]
    },
    {
      "cell_type": "code",
      "source": [
        "\"\"\"\n",
        "10\n",
        "10 11\n",
        "10 11 12\n",
        "10 11 12 13\n",
        "\"\"\"\n",
        "\n",
        "for i in range (10,14):\n",
        "  for j in range (10, i+1):\n",
        "    print(j, end =\" \")\n",
        "  print(\" \")"
      ],
      "metadata": {
        "colab": {
          "base_uri": "https://localhost:8080/"
        },
        "id": "QjRJJlEOe0Xu",
        "outputId": "428a7451-79fa-4862-d06f-7df3c269bc9f"
      },
      "execution_count": 3,
      "outputs": [
        {
          "output_type": "stream",
          "name": "stdout",
          "text": [
            "10  \n",
            "10 11  \n",
            "10 11 12  \n",
            "10 11 12 13  \n"
          ]
        }
      ]
    },
    {
      "cell_type": "code",
      "execution_count": 4,
      "metadata": {
        "colab": {
          "base_uri": "https://localhost:8080/"
        },
        "id": "n-9SLQpDYczl",
        "outputId": "8a799838-8abc-4ac4-90e0-7de0ee98c425"
      },
      "outputs": [
        {
          "output_type": "stream",
          "name": "stdout",
          "text": [
            " \n",
            "A  \n",
            "A B  \n",
            "A B C  \n",
            "A B C D  \n"
          ]
        }
      ],
      "source": [
        "\"\"\"\n",
        "A\n",
        "AB\n",
        "ABC\n",
        "ABCD\n",
        "\"\"\"\n",
        "\n",
        "for i in range(64,69):\n",
        "  for j in range(65,i+1):\n",
        "    print(chr(j), end=\" \")\n",
        "  print(\" \")"
      ]
    },
    {
      "cell_type": "code",
      "source": [
        "\"\"\"\n",
        "A\n",
        "AB\n",
        "ABC\n",
        "ABCD\n",
        "\"\"\"\n",
        "\n",
        "for i in range(1,5):\n",
        "  for j in range(1, i+1):\n",
        "    print(chr(64+j), end = \" \")\n",
        "  print(\" \")"
      ],
      "metadata": {
        "colab": {
          "base_uri": "https://localhost:8080/"
        },
        "id": "CLjRrTTgaBmx",
        "outputId": "cf549095-e068-4774-e7d3-649f4a01abc4"
      },
      "execution_count": 5,
      "outputs": [
        {
          "output_type": "stream",
          "name": "stdout",
          "text": [
            "A  \n",
            "A B  \n",
            "A B C  \n",
            "A B C D  \n"
          ]
        }
      ]
    },
    {
      "cell_type": "code",
      "source": [
        "\"\"\"\n",
        "D\n",
        "DC\n",
        "DCB\n",
        "DCBA\n",
        "\"\"\"\n",
        "\n",
        "for i in range(1, 5):\n",
        "    for j in range(4, 4-i, -1):\n",
        "        print(chr(64 + j), end=\" \")\n",
        "    print()\n"
      ],
      "metadata": {
        "colab": {
          "base_uri": "https://localhost:8080/"
        },
        "id": "xYU3ELw7aiO_",
        "outputId": "faf1316a-b28d-4c5f-91ed-cadd796dd452"
      },
      "execution_count": 6,
      "outputs": [
        {
          "output_type": "stream",
          "name": "stdout",
          "text": [
            "D \n",
            "D C \n",
            "D C B \n",
            "D C B A \n"
          ]
        }
      ]
    },
    {
      "cell_type": "code",
      "source": [
        "\"\"\"\n",
        "DCBA\n",
        "DCB\n",
        "DC\n",
        "D\n",
        "\"\"\"\n",
        "\n",
        "for i in range (1,5):\n",
        "  for j in range(4, i-1, -1):\n",
        "    print(chr(64+j), end=\" \")\n",
        "  print(\"\" )"
      ],
      "metadata": {
        "colab": {
          "base_uri": "https://localhost:8080/"
        },
        "id": "1Os9Uy06bzu5",
        "outputId": "8381993d-590e-498e-eba9-993d9985db38"
      },
      "execution_count": 7,
      "outputs": [
        {
          "output_type": "stream",
          "name": "stdout",
          "text": [
            "D C B A \n",
            "D C B \n",
            "D C \n",
            "D \n"
          ]
        }
      ]
    },
    {
      "cell_type": "code",
      "source": [
        "\"\"\"\n",
        "1\n",
        "12\n",
        "121\n",
        "1212\n",
        "12121\n",
        "\"\"\"\n",
        "\n",
        "for i in range(1,6):\n",
        "  for j in range(1,i+1):\n",
        "    if(j%2==0):\n",
        "      print(2, end=\" \")\n",
        "    else:\n",
        "      print(1, end=\" \" )\n",
        "  print(\" \")"
      ],
      "metadata": {
        "colab": {
          "base_uri": "https://localhost:8080/"
        },
        "id": "D-ADlkKBgEjr",
        "outputId": "ed05fcde-2333-48f8-8e4a-37ec64cc7e49"
      },
      "execution_count": 8,
      "outputs": [
        {
          "output_type": "stream",
          "name": "stdout",
          "text": [
            "1  \n",
            "1 2  \n",
            "1 2 1  \n",
            "1 2 1 2  \n",
            "1 2 1 2 1  \n"
          ]
        }
      ]
    },
    {
      "cell_type": "code",
      "source": [
        "\"\"\"\n",
        "F\n",
        "HJ\n",
        "LNP\n",
        "RTVX\n",
        "\"\"\"\n",
        "num=70\n",
        "for i in range(1,5):\n",
        "  for j in range(1,i+1):\n",
        "    print(chr(num), end=\" \")\n",
        "    num+=2\n",
        "  print(\" \")\n"
      ],
      "metadata": {
        "colab": {
          "base_uri": "https://localhost:8080/"
        },
        "id": "Bo4x66tuhTEr",
        "outputId": "ce750eb5-fbec-425f-d776-8f982bd93017"
      },
      "execution_count": 9,
      "outputs": [
        {
          "output_type": "stream",
          "name": "stdout",
          "text": [
            "F  \n",
            "H J  \n",
            "L N P  \n",
            "R T V X  \n"
          ]
        }
      ]
    },
    {
      "cell_type": "code",
      "source": [
        "\"\"\"\n",
        "****\n",
        " ***\n",
        "  **\n",
        "   *\n",
        "\"\"\"\n",
        "\n",
        "for i in range(1,5):\n",
        "  for s in range(0, i-1):\n",
        "    print(\" \", end=\" \")\n",
        "  for j in range(4, i-1, -1):\n",
        "      print(\"*\", end=\" \")\n",
        "  print(\" \")"
      ],
      "metadata": {
        "colab": {
          "base_uri": "https://localhost:8080/"
        },
        "id": "YNnvAia1jy3b",
        "outputId": "dc1e837b-6aec-45eb-d5e0-19773fece15d"
      },
      "execution_count": 10,
      "outputs": [
        {
          "output_type": "stream",
          "name": "stdout",
          "text": [
            "* * * *  \n",
            "  * * *  \n",
            "    * *  \n",
            "      *  \n"
          ]
        }
      ]
    }
  ]
}