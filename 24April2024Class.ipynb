{
  "nbformat": 4,
  "nbformat_minor": 0,
  "metadata": {
    "colab": {
      "provenance": []
    },
    "kernelspec": {
      "name": "python3",
      "display_name": "Python 3"
    },
    "language_info": {
      "name": "python"
    }
  },
  "cells": [
    {
      "cell_type": "code",
      "source": [
        "ord('b') #Ascii"
      ],
      "metadata": {
        "colab": {
          "base_uri": "https://localhost:8080/"
        },
        "id": "JRXAHnQ1ODyh",
        "outputId": "db4eee20-460a-4806-bce8-d9c9b5adbaa1"
      },
      "execution_count": 10,
      "outputs": [
        {
          "output_type": "execute_result",
          "data": {
            "text/plain": [
              "98"
            ]
          },
          "metadata": {},
          "execution_count": 10
        }
      ]
    },
    {
      "cell_type": "code",
      "source": [
        "chr(90) #Ascii"
      ],
      "metadata": {
        "colab": {
          "base_uri": "https://localhost:8080/",
          "height": 36
        },
        "id": "XQPm3nFiOF2V",
        "outputId": "091942e8-ae4f-4ef2-e590-08729a324294"
      },
      "execution_count": 11,
      "outputs": [
        {
          "output_type": "execute_result",
          "data": {
            "text/plain": [
              "'Z'"
            ],
            "application/vnd.google.colaboratory.intrinsic+json": {
              "type": "string"
            }
          },
          "metadata": {},
          "execution_count": 11
        }
      ]
    },
    {
      "cell_type": "code",
      "execution_count": 9,
      "metadata": {
        "colab": {
          "base_uri": "https://localhost:8080/"
        },
        "id": "8o8wqwHML8dK",
        "outputId": "80fdba5f-a160-438d-ac80-63fae4e84e38"
      },
      "outputs": [
        {
          "output_type": "stream",
          "name": "stdout",
          "text": [
            "* * * *  \n",
            "  * * *  \n",
            "    * *  \n",
            "      *  \n"
          ]
        }
      ],
      "source": [
        "for i in range (1,5):\n",
        "  for s in range(0, i-1):\n",
        "    print(\" \", end =\" \")\n",
        "  for j in range(4, i-1, -1):\n",
        "    print(\"*\", end =\" \")\n",
        "  print(\" \")"
      ]
    },
    {
      "cell_type": "code",
      "source": [
        "#Nested Loop\n",
        "\"\"\"1\n",
        "2 4\n",
        "8 16 32\n",
        "\n",
        "17\n",
        "19 21\n",
        "23 25 27\"\"\"\n"
      ],
      "metadata": {
        "id": "fecqPY_oN_Ek"
      },
      "execution_count": null,
      "outputs": []
    },
    {
      "cell_type": "code",
      "source": [
        "\"\"\"\n",
        "1\n",
        "2 4\n",
        "8 16 32\n",
        "\"\"\"\n",
        "\n",
        "num=1\n",
        "for i in range(1,4):\n",
        "  for j in range(1,i+1):\n",
        "    print(num, end=\" \")\n",
        "    num*=2\n",
        "  print(\" \")\n"
      ],
      "metadata": {
        "colab": {
          "base_uri": "https://localhost:8080/"
        },
        "id": "cUeZPCStOkcE",
        "outputId": "1a83ffa8-6d5f-4c71-cb82-5285f4c122ee"
      },
      "execution_count": 15,
      "outputs": [
        {
          "output_type": "stream",
          "name": "stdout",
          "text": [
            "1  \n",
            "2 4  \n",
            "8 16 32  \n"
          ]
        }
      ]
    },
    {
      "cell_type": "code",
      "source": [
        "\"\"\"\n",
        "1\n",
        "2 4\n",
        "8 16 32\n",
        "\"\"\"\n",
        "\n",
        "num=0\n",
        "for i in range(1,4):\n",
        "  for j in range(1,i+1):\n",
        "    y=2**num\n",
        "    print(y, end=\" \")\n",
        "    num+=1\n",
        "  print(\" \")\n"
      ],
      "metadata": {
        "colab": {
          "base_uri": "https://localhost:8080/"
        },
        "id": "Q5uqXvUFQ-UY",
        "outputId": "b44d5d34-1658-4fe2-b740-502989e188b5"
      },
      "execution_count": 18,
      "outputs": [
        {
          "output_type": "stream",
          "name": "stdout",
          "text": [
            "1  \n",
            "2 4  \n",
            "8 16 32  \n"
          ]
        }
      ]
    },
    {
      "cell_type": "code",
      "source": [
        "\"\"\"\n",
        "1\n",
        "2 3\n",
        "4 5 6\n",
        "\"\"\"\n",
        "\n",
        "num=1\n",
        "for i in range(1,4):\n",
        "  for j in range(1,i+1):\n",
        "    print(num, end=\" \")\n",
        "    num+=1\n",
        "  print(\" \")\n"
      ],
      "metadata": {
        "colab": {
          "base_uri": "https://localhost:8080/"
        },
        "id": "dGEoXSYsQbHr",
        "outputId": "c5ddaa5a-612a-46bf-8ad4-b7969cdbde69"
      },
      "execution_count": 14,
      "outputs": [
        {
          "output_type": "stream",
          "name": "stdout",
          "text": [
            "1  \n",
            "2 3  \n",
            "4 5 6  \n"
          ]
        }
      ]
    },
    {
      "cell_type": "code",
      "source": [
        "\"\"\"\n",
        "17\n",
        "19 21\n",
        "23 25 27\n",
        "\"\"\"\n",
        "num=17\n",
        "for i in range(1,4):\n",
        "  for j in range(1, i+1):\n",
        "    print(num, end =\" \")\n",
        "    num+=2\n",
        "  print(\" \")"
      ],
      "metadata": {
        "colab": {
          "base_uri": "https://localhost:8080/"
        },
        "id": "ALHWd11rO9Z3",
        "outputId": "bcaff1b3-7ba1-45bf-83b5-308af3d4a5ed"
      },
      "execution_count": 13,
      "outputs": [
        {
          "output_type": "stream",
          "name": "stdout",
          "text": [
            "17  \n",
            "19 21  \n",
            "23 25 27  \n"
          ]
        }
      ]
    },
    {
      "cell_type": "code",
      "source": [
        "for i in range(1,5):\n",
        "  for j in range(1,i+1):\n",
        "    print(\"*\", end=\" \")\n",
        "  print(\" \")\n"
      ],
      "metadata": {
        "colab": {
          "base_uri": "https://localhost:8080/"
        },
        "id": "g2K1pk5SSf77",
        "outputId": "2e0dbc29-6757-4c46-cce8-273583f756fb"
      },
      "execution_count": 22,
      "outputs": [
        {
          "output_type": "stream",
          "name": "stdout",
          "text": [
            "*  \n",
            "* *  \n",
            "* * *  \n",
            "* * * *  \n"
          ]
        }
      ]
    },
    {
      "cell_type": "code",
      "source": [
        "for i in range(1,5):\n",
        "  for j in range(1,i):\n",
        "    print(\"Z\", end=\" \")\n",
        "  for k in range(1,5):\n",
        "    print(\"*\", end =\" \")\n",
        "    break\n",
        "  print(\" \")\n"
      ],
      "metadata": {
        "colab": {
          "base_uri": "https://localhost:8080/"
        },
        "id": "1QuCrK4SS_9e",
        "outputId": "7dba8cb0-e6c3-46bb-ccf8-e69138082ba4"
      },
      "execution_count": 28,
      "outputs": [
        {
          "output_type": "stream",
          "name": "stdout",
          "text": [
            "*  \n",
            "Z *  \n",
            "Z Z *  \n",
            "Z Z Z *  \n"
          ]
        }
      ]
    },
    {
      "cell_type": "code",
      "source": [
        "for i in range(1,5):\n",
        "  #(1,2)\n",
        "  for j in range(1,i):\n",
        "    print(\" \", end=\" \")\n",
        "  for k in range(i,5):\n",
        "    #(i=1 1,5), (i=2 2,5)\n",
        "    print(\"*\", end =\" \")\n",
        "  print(\" \")\n"
      ],
      "metadata": {
        "colab": {
          "base_uri": "https://localhost:8080/"
        },
        "id": "FM4kM6MGTqfy",
        "outputId": "5d8fb5a1-8585-4bfb-bd20-746cd9e7abfe"
      },
      "execution_count": 33,
      "outputs": [
        {
          "output_type": "stream",
          "name": "stdout",
          "text": [
            "* * * *  \n",
            "  * * *  \n",
            "    * *  \n",
            "      *  \n"
          ]
        }
      ]
    },
    {
      "cell_type": "code",
      "source": [
        "\"\"\"\n",
        "1234\n",
        " 123\n",
        "  12\n",
        "   1\n",
        "\n",
        "\n",
        "1234\n",
        " 567\n",
        "  89\n",
        "   10\n",
        "\n",
        "$$$$\n",
        " ###\n",
        "  $$\n",
        "   #\n",
        "4 6 8  10\n",
        " 12 14 16\n",
        "   18 20\n",
        "      22\n",
        "\"\"\"\n"
      ],
      "metadata": {
        "id": "u-gGDb6mU9Ov"
      },
      "execution_count": null,
      "outputs": []
    },
    {
      "cell_type": "code",
      "source": [
        "\"\"\"\n",
        "1234\n",
        " 123\n",
        "  12\n",
        "   1\n",
        "\"\"\"\n",
        "for i in range(1,5):\n",
        "  num=1\n",
        "  for k in range(1, i):\n",
        "    print(\" \", end =\" \")\n",
        "  for j in range(i,5):\n",
        "    print(num, end =\" \")\n",
        "    num+=1\n",
        "  print(\" \")"
      ],
      "metadata": {
        "colab": {
          "base_uri": "https://localhost:8080/"
        },
        "id": "zvwlxcFGVizg",
        "outputId": "5e4bf1ed-0e8d-4556-9432-caf924db35a0"
      },
      "execution_count": 48,
      "outputs": [
        {
          "output_type": "stream",
          "name": "stdout",
          "text": [
            "1 2 3 4  \n",
            "  1 2 3  \n",
            "    1 2  \n",
            "      1  \n"
          ]
        }
      ]
    },
    {
      "cell_type": "code",
      "source": [
        "num=1\n",
        "for i in range(1,5):\n",
        "  for k in range(1, i):\n",
        "    print(\" \", end =\" \")\n",
        "  for j in range(i,5):\n",
        "    print(num, end =\" \")\n",
        "    num+=1\n",
        "  print(\" \")"
      ],
      "metadata": {
        "colab": {
          "base_uri": "https://localhost:8080/"
        },
        "id": "8_51rrFCWeMT",
        "outputId": "07ba834c-10c5-4a79-d800-156a760c44b2"
      },
      "execution_count": 49,
      "outputs": [
        {
          "output_type": "stream",
          "name": "stdout",
          "text": [
            "1 2 3 4  \n",
            "  5 6 7  \n",
            "    8 9  \n",
            "      10  \n"
          ]
        }
      ]
    },
    {
      "cell_type": "code",
      "source": [
        "\"\"\"\"\n",
        "$$$$\n",
        " ###\n",
        "  $$\n",
        "   #\n",
        "\"\"\"\n",
        "\n",
        "for i in range(1,5):\n",
        "  for k in range(1,i):\n",
        "    print(\" \", end =\" \")\n",
        "  for j in range(i,5):\n",
        "    if(i%2!=0):\n",
        "      print(\"$\", end =\" \")\n",
        "    else:\n",
        "      print(\"#\", end=\" \")\n",
        "  print(\" \")"
      ],
      "metadata": {
        "colab": {
          "base_uri": "https://localhost:8080/"
        },
        "id": "X80Yc2XmXn6u",
        "outputId": "940c1ca6-e192-46ba-fed0-eceb32fc394a"
      },
      "execution_count": 55,
      "outputs": [
        {
          "output_type": "stream",
          "name": "stdout",
          "text": [
            "$ $ $ $  \n",
            "  # # #  \n",
            "    $ $  \n",
            "      #  \n"
          ]
        }
      ]
    },
    {
      "cell_type": "code",
      "source": [
        "\"\"\"\"\n",
        "$$$$\n",
        " ###\n",
        "  $$\n",
        "   #\n",
        "\"\"\"\n",
        "\n",
        "for i in range(1,5):\n",
        "  for k in range(1,i):\n",
        "    print(\" \", end =\" \")\n",
        "  for j in range(i,5):\n",
        "    if(i==1 or i==3):\n",
        "      print(\"$\", end =\" \")\n",
        "    else:\n",
        "      print(\"#\", end=\" \")\n",
        "  print(\" \")"
      ],
      "metadata": {
        "colab": {
          "base_uri": "https://localhost:8080/"
        },
        "id": "wqQ2BS9XX3QF",
        "outputId": "3ffe1174-efe4-4723-98e9-15233e2b7643"
      },
      "execution_count": 61,
      "outputs": [
        {
          "output_type": "stream",
          "name": "stdout",
          "text": [
            "$ $ $ $  \n",
            "  # # #  \n",
            "    $ $  \n",
            "      #  \n"
          ]
        }
      ]
    },
    {
      "cell_type": "code",
      "source": [
        "\"\"\"\n",
        "4 6 8  10\n",
        " 12 14 16\n",
        "   18 20\n",
        "      22\n",
        "\"\"\"\n",
        "\n",
        "num=4\n",
        "for i in range(1,5):\n",
        "  for k in  range(1,i):\n",
        "    print(\" \", end =\" \")\n",
        "  for j in range(i,5):\n",
        "    print(num, end=\" \")\n",
        "    num+=2\n",
        "  print(\" \")"
      ],
      "metadata": {
        "colab": {
          "base_uri": "https://localhost:8080/"
        },
        "id": "1jXvYau5XQ2O",
        "outputId": "44bd1b63-beca-4c22-a4e8-56f51922d714"
      },
      "execution_count": 54,
      "outputs": [
        {
          "output_type": "stream",
          "name": "stdout",
          "text": [
            "4 6 8 10  \n",
            "  12 14 16  \n",
            "    18 20  \n",
            "      22  \n"
          ]
        }
      ]
    },
    {
      "cell_type": "code",
      "source": [
        "num=1\n",
        "for i in range(1,5):\n",
        "  for k in range(1, i):\n",
        "    print(\" \", end =\" \")\n",
        "  for j in range(i,5):\n",
        "    print(num, end =\" \")\n",
        "  num+=1\n",
        "  print(\" \")"
      ],
      "metadata": {
        "colab": {
          "base_uri": "https://localhost:8080/"
        },
        "id": "e5HLTj0uWj-Q",
        "outputId": "c43c378f-0cae-414b-da29-f2e91320b355"
      },
      "execution_count": 50,
      "outputs": [
        {
          "output_type": "stream",
          "name": "stdout",
          "text": [
            "1 1 1 1  \n",
            "  2 2 2  \n",
            "    3 3  \n",
            "      4  \n"
          ]
        }
      ]
    },
    {
      "cell_type": "code",
      "source": [
        "for i in range(1,5):\n",
        "  for j in range(1,i):\n",
        "    print(\"\", end=\" \")\n",
        "  for k in range(i,5):\n",
        "    print(\"*\", end =\" \")\n",
        "  print(\" \")\n"
      ],
      "metadata": {
        "colab": {
          "base_uri": "https://localhost:8080/"
        },
        "id": "xDSU8ShWUcjP",
        "outputId": "fe4d6b2f-b9a1-4711-a04b-72c906248ff1"
      },
      "execution_count": 36,
      "outputs": [
        {
          "output_type": "stream",
          "name": "stdout",
          "text": [
            "* * * *  \n",
            " * * *  \n",
            "  * *  \n",
            "   *  \n"
          ]
        }
      ]
    },
    {
      "cell_type": "code",
      "source": [
        "for i in range(1,6):\n",
        "  for j in range(1,6):\n",
        "    if(i==j or i==5 or j == 1):\n",
        "      print(\"*\", end=\" \")\n",
        "    else:\n",
        "      print(\" \", end=\" \")\n",
        "  print(\" \")\n"
      ],
      "metadata": {
        "colab": {
          "base_uri": "https://localhost:8080/"
        },
        "id": "H_EShumXUoJJ",
        "outputId": "61bed9fc-ca0c-43a5-d2fc-20183c1a9d00"
      },
      "execution_count": 78,
      "outputs": [
        {
          "output_type": "stream",
          "name": "stdout",
          "text": [
            "*          \n",
            "* *        \n",
            "*   *      \n",
            "*     *    \n",
            "* * * * *  \n"
          ]
        }
      ]
    },
    {
      "cell_type": "code",
      "source": [
        "for i in range(1,6):\n",
        "  for j in range(1,6):\n",
        "    if(i==j or i==5 or j == 1):\n",
        "      print(j, end=\" \")\n",
        "    else:\n",
        "      print(\" \", end=\" \")\n",
        "  print(\" \")\n"
      ],
      "metadata": {
        "colab": {
          "base_uri": "https://localhost:8080/"
        },
        "id": "IJLTB-_LdfUT",
        "outputId": "6810bc1d-c4df-4d81-8a4b-22b3565fe2a0"
      },
      "execution_count": 80,
      "outputs": [
        {
          "output_type": "stream",
          "name": "stdout",
          "text": [
            "1          \n",
            "1 2        \n",
            "1   3      \n",
            "1     4    \n",
            "1 2 3 4 5  \n"
          ]
        }
      ]
    },
    {
      "cell_type": "code",
      "source": [
        "x = 10\n",
        "\n",
        "for i in range(65, 69):\n",
        "    for k in range(65, i):\n",
        "        print(\" \", end=\" \")\n",
        "\n",
        "    for j in range(i, 69):\n",
        "        if i % 2 == 1:\n",
        "            print(chr(j), end=\" \")\n",
        "        else:\n",
        "            print(x, end=\" \")\n",
        "            x *= 10\n",
        "\n",
        "    print(\"\")\n"
      ],
      "metadata": {
        "colab": {
          "base_uri": "https://localhost:8080/"
        },
        "id": "aSAM5kqtpb8P",
        "outputId": "67636e21-229f-42df-a583-30d4afacc27b"
      },
      "execution_count": 83,
      "outputs": [
        {
          "output_type": "stream",
          "name": "stdout",
          "text": [
            "A B C D \n",
            "  10 100 1000 \n",
            "    C D \n",
            "      10000 \n"
          ]
        }
      ]
    }
  ]
}