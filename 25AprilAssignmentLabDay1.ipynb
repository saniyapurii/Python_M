{
 "cells": [
  {
   "cell_type": "code",
   "execution_count": 11,
   "id": "e1844c56-5934-41ff-ac05-ccdaa6c0abad",
   "metadata": {},
   "outputs": [
    {
     "name": "stdin",
     "output_type": "stream",
     "text": [
      "Input your name:  Saniya\n"
     ]
    },
    {
     "name": "stdout",
     "output_type": "stream",
     "text": [
      "Hello, Saniya\n"
     ]
    }
   ],
   "source": [
    "#Input your name into a variable called $name and then print \"Hello, <your name here>\".\n",
    "name = input(\"Input your name: \")\n",
    "print(\"Hello, \" + name )\n"
   ]
  },
  {
   "cell_type": "code",
   "execution_count": 17,
   "id": "40799beb-430f-4bc6-8871-c0fe0a471d74",
   "metadata": {},
   "outputs": [
    {
     "name": "stdin",
     "output_type": "stream",
     "text": [
      "Enter num1 =  2\n",
      "Enter num2 =  -8\n"
     ]
    },
    {
     "name": "stdout",
     "output_type": "stream",
     "text": [
      "Sum = -6\n",
      "Sum is negative\n"
     ]
    }
   ],
   "source": [
    "#2. Write a program that adds two numbers and then prints out whether the sum of those two numbers is positive or negative.\n",
    "num1=int(input(\"Enter num1 = \"))\n",
    "num2=int(input(\"Enter num2 = \"))\n",
    "\n",
    "sum =num1+num2\n",
    "print(\"Sum =\", sum)\n",
    "\n",
    "if(sum>0):\n",
    "    print(\"Sum is Positive\")\n",
    "elif(sum<0):\n",
    "    print(\"Sum is negative\")\n",
    "else:\n",
    "    print(\"Sum is 0\")"
   ]
  },
  {
   "cell_type": "code",
   "execution_count": 7,
   "id": "dafa109b-a790-4b96-a06b-80d135f079ae",
   "metadata": {},
   "outputs": [
    {
     "name": "stdin",
     "output_type": "stream",
     "text": [
      "Enter a number=  3\n",
      "Enter a number=  4\n",
      "Enter a number=  2\n"
     ]
    },
    {
     "name": "stdout",
     "output_type": "stream",
     "text": [
      "Correct!\n"
     ]
    }
   ],
   "source": [
    "\"\"\"3. Write a program that stores a number and keeps trying to get user input until the user enters the number correctly.\n",
    "As soon as the correct number is entered, it prints: Correct!\"\"\"\n",
    "\n",
    "num=2\n",
    "while True:\n",
    "    x=int(input(\"Enter a number= \"))\n",
    "    if(num==x):\n",
    "        print(\"Correct!\")\n",
    "        break"
   ]
  },
  {
   "cell_type": "code",
   "execution_count": 16,
   "id": "df60788a-e019-4704-892b-749ad1844683",
   "metadata": {},
   "outputs": [
    {
     "name": "stdin",
     "output_type": "stream",
     "text": [
      "Enter your first name =  Saniya\n",
      "Enter your last name =  Puri\n"
     ]
    },
    {
     "name": "stdout",
     "output_type": "stream",
     "text": [
      "Saniya.Puri\n"
     ]
    }
   ],
   "source": [
    "\"\"\"4. Input your first name and last name as two separate variables, labeled as $firstname and $lastname\n",
    "respectively. Concatenate them together using the dot operator '.' into a new variable called\n",
    "$wholename. Then print out the $wholename.\"\"\"\n",
    "\n",
    "firstname=input(\"Enter your first name = \")\n",
    "lastname=input(\"Enter your last name = \")\n",
    "wholename = (firstname +\".\" + lastname)\n",
    "print(wholename)"
   ]
  },
  {
   "cell_type": "code",
   "execution_count": 14,
   "id": "4654f373-5232-4591-9382-146eda07bd01",
   "metadata": {},
   "outputs": [
    {
     "name": "stdin",
     "output_type": "stream",
     "text": [
      "Enter your first name:  Saniya\n",
      "Enter your last name:  Puri\n"
     ]
    },
    {
     "name": "stdout",
     "output_type": "stream",
     "text": [
      "Saniya.Puri\n"
     ]
    }
   ],
   "source": []
  },
  {
   "cell_type": "code",
   "execution_count": 18,
   "id": "dfbc7f76-42ad-49b5-ae42-84bdfcc145b9",
   "metadata": {},
   "outputs": [
    {
     "name": "stdin",
     "output_type": "stream",
     "text": [
      "Enter a string Hello How Are You?\n"
     ]
    },
    {
     "name": "stdout",
     "output_type": "stream",
     "text": [
      "hELLO hOW aRE yOU?\n"
     ]
    }
   ],
   "source": [
    "\"\"\"\n",
    "5. Write a program to accept an input string from the user and toggle the character cases.\n",
    "For example, $str=” Hello How Are You?”\n",
    "\"\"\"\n",
    "str=input(\"Enter a string\")\n",
    "new_str=str.swapcase()\n",
    "print(new_str)\n"
   ]
  },
  {
   "cell_type": "code",
   "execution_count": 1,
   "id": "a128376c-0848-4477-9bc3-2e95843467f8",
   "metadata": {},
   "outputs": [
    {
     "name": "stdout",
     "output_type": "stream",
     "text": [
      "sum =  10\n",
      "product =  24\n"
     ]
    }
   ],
   "source": [
    "\"\"\"\n",
    "6. Write a program which will perform sum and multiplication ,that sums and multiplies\n",
    "(respectively) all the numbers in a list of numbers. For example, sum([1, 2, 3, 4]) should return 10,\n",
    "and multiply([1, 2, 3, 4]) should return 24.\n",
    "\"\"\"\n",
    "list=[1,2,3,4]\n",
    "sum=0\n",
    "product=1\n",
    "for i in list:\n",
    "    sum+=i\n",
    "    product*=i\n",
    "    i+=1\n",
    "print(\"sum = \", sum)\n",
    "print(\"product = \", product)\n"
   ]
  },
  {
   "cell_type": "code",
   "execution_count": null,
   "id": "fb8eae46-d54d-45cb-bb09-065fc9fd087b",
   "metadata": {},
   "outputs": [],
   "source": [
    "\"\"\"\n",
    "7. Write a program that takes a value (i.e. a number, string, etc) x and a list of values a, and returns\n",
    "True if x is a member of a, False otherwise. (Note that this is exactly what the in operator does, but for\n",
    "the sake of the exercise you should pretend Python did not have this operator.)\n",
    "\"\"\"\n",
    "a=[]\n",
    "n=int(input(\"Ente number of elements: \"))\n",
    "for i in range(0,n):\n",
    "    b=input(\"Enter values = \")\n",
    "    a.append(b)\n",
    "print(a)\n",
    "x=input(\"Enter the value to check = \")\n",
    "for i in a:\n",
    "    if i==x:\n",
    "        print(True)\n",
    "        break\n",
    "    else:\n",
    "        print(False)\n",
    "        break"
   ]
  },
  {
   "cell_type": "code",
   "execution_count": 5,
   "id": "c59f9f92-bb39-480c-b702-5166418a7ee3",
   "metadata": {},
   "outputs": [
    {
     "name": "stdout",
     "output_type": "stream",
     "text": [
      "2\n",
      "3\n",
      "Yes\n"
     ]
    }
   ],
   "source": [
    "\"\"\"8. Write a program that has two lists and print True if they have at least one member in common,\n",
    "False otherwise. You may use your is_member() function, or the in operator, but for the sake of the\n",
    "exercise, you should (also) write it using two nested for-loops.\n",
    "\"\"\"\n",
    "list1=[1,2,3]\n",
    "list2=[2,3,4]\n",
    "temp=False\n",
    "for i in list1:\n",
    "    for j in list2:\n",
    "        if i==j:\n",
    "            temp=True\n",
    "            print(i)\n",
    "        else:\n",
    "            temp=False\n",
    "if True:\n",
    "    print(\"Yes\")\n",
    "else:\n",
    "    print(\"False\")\n",
    "\n",
    "            "
   ]
  },
  {
   "cell_type": "code",
   "execution_count": 24,
   "id": "faae5834-cc94-4e50-bef1-49eeabf8742c",
   "metadata": {},
   "outputs": [
    {
     "name": "stdin",
     "output_type": "stream",
     "text": [
      "Total Values =   3\n",
      "Enter the element: 4\n",
      "Enter the element: 9\n",
      "Enter the element: 7\n"
     ]
    },
    {
     "name": "stdout",
     "output_type": "stream",
     "text": [
      "****\n",
      "*********\n",
      "*******\n",
      "\n"
     ]
    }
   ],
   "source": [
    "\"\"\"\n",
    "9. Write a program for histogram that takes a list of integers and prints a histogram to the screen. For example, histogram([4, 9, 7]) should print the following:\n",
    "****\n",
    "*********\n",
    "*******\n",
    "\"\"\"\n",
    "\n",
    "values=int(input(\"Total Values =  \"))\n",
    "hist_list=[]\n",
    "for i in range(1,values+1):\n",
    "    x=int(input(\"Enter the element:\"))\n",
    "    hist_list.append(x)\n",
    "for j in hist_list:\n",
    "    print(\"*\"*j)\n",
    "print(\"\")"
   ]
  },
  {
   "cell_type": "code",
   "execution_count": 28,
   "id": "42e0f613-b304-4a00-ae21-054ca525b055",
   "metadata": {},
   "outputs": [
    {
     "name": "stdout",
     "output_type": "stream",
     "text": [
      "Athletes who participated only in 100m race: {'Vaihai', 'Rajesh', 'Vikay', 'John'}\n",
      "Athletes who participated only in 200m race: {'Vetry', 'Priyanka', 'Petter'}\n",
      "Athletes who participated both in 100m and 200m race: {'Kumar', 'Malar'}\n",
      "Athletes who participated only one race: {'Vetry', 'Petter', 'Vikay', 'Priyanka', 'Vaihai', 'Rajesh', 'John'}\n"
     ]
    }
   ],
   "source": [
    "\"\"\"\n",
    "10 . List of athletes participated in 100m and 200m running race\n",
    "a. hundred_meters = [‘Vikay’,’John’,’Kumar’,’Rajesh’,’Malar’,’Vaihai’]\n",
    "b. two_hundred_meters = [‘Vetry’,’Petter’,’Priyanka’,’Kumar’,’Malar’]\n",
    "Find the answer for below question from above lists (using set and Boolean Operators)\n",
    "a. Find the athletes who participated only in 100m race\n",
    "b. Find the athletes who participated only in 200m race\n",
    "c. Find the athletes who participated both 100m and 200m race\n",
    "d. Find the athletes who participated only one race\n",
    "\"\"\"\n",
    "\n",
    "hundred_meters = ['Vikay', 'John', 'Kumar', 'Rajesh', 'Malar', 'Vaihai']\n",
    "two_hundred_meters = ['Vetry', 'Petter', 'Priyanka', 'Kumar', 'Malar']\n",
    "\n",
    "hundred_set = set(hundred_meters)\n",
    "two_hundred_set = set(two_hundred_meters)\n",
    "\n",
    "only_100m=hundred_set - two_hundred_set\n",
    "only_200m=two_hundred_set - hundred_set\n",
    "\n",
    "both=hundred_set & two_hundred_set\n",
    "\n",
    "only_one_race = only_100m.union(only_200m)\n",
    "\n",
    "print(\"Athletes who participated only in 100m race:\", only_100m)\n",
    "print(\"Athletes who participated only in 200m race:\", only_200m)\n",
    "print(\"Athletes who participated both in 100m and 200m race:\", both)\n",
    "print(\"Athletes who participated only one race:\", only_one_race)\n",
    "\n"
   ]
  },
  {
   "cell_type": "code",
   "execution_count": 25,
   "id": "6e2ad66d-d076-4da1-9a9d-99af68e2ace7",
   "metadata": {},
   "outputs": [
    {
     "name": "stdout",
     "output_type": "stream",
     "text": [
      "Duplicate numbers: [5, 8, 18, 3]\n"
     ]
    }
   ],
   "source": [
    "\"\"\"\n",
    "11. Find the duplicate numbers from below list\n",
    "a. List = [5, 8,4,18,8,55,6,8,3,18,5,3,44,]\n",
    "\"\"\"\n",
    "\n",
    "List=[5, 8, 4, 18, 8, 55, 6, 8, 3, 18, 5, 3, 44]\n",
    "duplicates=[]\n",
    "for num in List:\n",
    "    if List.count(num) > 1:\n",
    "        if num not in duplicates:\n",
    "            duplicates.append(num)\n",
    "print(\"Duplicate numbers:\", duplicates)\n"
   ]
  },
  {
   "cell_type": "code",
   "execution_count": 27,
   "id": "d234179d-bde8-45a7-9fbf-27c70830ae12",
   "metadata": {},
   "outputs": [
    {
     "name": "stdout",
     "output_type": "stream",
     "text": [
      "['cat']\n",
      "['tiger', 'cat']\n",
      "['lion', 'tiger', 'cat']\n",
      "['zebra', 'lion', 'tiger', 'cat']\n",
      "['crocodile', 'zebra', 'lion', 'tiger', 'cat']\n",
      "['snack', 'crocodile', 'zebra', 'lion', 'tiger', 'cat']\n"
     ]
    }
   ],
   "source": [
    "\"\"\"\n",
    "12. Reverse the below list without using any inbuilt keywords (like reverse() or [::-1])\n",
    "List = [\"cat\",\"tiger\",\"lion\", \"zebra\" , \"crocodile\", \"snack\"]\n",
    "\"\"\"\n",
    "List=[\"cat\",\"tiger\",\"lion\", \"zebra\" , \"crocodile\", \"snack\"]\n",
    "Reversed=[]\n",
    "for i in List:\n",
    "    Reversed.insert(0,i)\n",
    "    print(Reversed)"
   ]
  },
  {
   "cell_type": "code",
   "execution_count": null,
   "id": "1e89b852-8bb1-4556-bb8b-1b611bbbf522",
   "metadata": {},
   "outputs": [],
   "source": []
  }
 ],
 "metadata": {
  "kernelspec": {
   "display_name": "Python 3 (ipykernel)",
   "language": "python",
   "name": "python3"
  },
  "language_info": {
   "codemirror_mode": {
    "name": "ipython",
    "version": 3
   },
   "file_extension": ".py",
   "mimetype": "text/x-python",
   "name": "python",
   "nbconvert_exporter": "python",
   "pygments_lexer": "ipython3",
   "version": "3.9.0"
  }
 },
 "nbformat": 4,
 "nbformat_minor": 5
}
