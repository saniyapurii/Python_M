{
 "cells": [
  {
   "cell_type": "code",
   "execution_count": 237,
   "id": "a1c55bc9-4d73-46fe-9027-1eb85c4392d4",
   "metadata": {},
   "outputs": [
    {
     "name": "stdin",
     "output_type": "stream",
     "text": [
      "Enter a number = 234\n"
     ]
    },
    {
     "name": "stdout",
     "output_type": "stream",
     "text": [
      "4"
     ]
    }
   ],
   "source": [
    "# 1. Write a program to reverse an integer in Python.\n",
    "\n",
    "x=int(input(\"Enter a number =\"))\n",
    "i=x\n",
    "while(i>0):\n",
    "    i=x%10\n",
    "    j=x//10\n",
    "    print(i, end=\"\")\n",
    "    i+=1\n",
    "    break\n",
    "    "
   ]
  },
  {
   "cell_type": "code",
   "execution_count": 29,
   "id": "2f9c1338-73ac-4a34-a234-5705149aa586",
   "metadata": {},
   "outputs": [
    {
     "name": "stdin",
     "output_type": "stream",
     "text": [
      "Enter a number:  2345\n"
     ]
    },
    {
     "name": "stdout",
     "output_type": "stream",
     "text": [
      "Reversed number: 5432\n"
     ]
    }
   ],
   "source": [
    "# 1. Write a program to reverse an integer in Python.\n",
    "x = int(input(\"Enter a number: \"))\n",
    "\n",
    "reversed_number = 0\n",
    "while x > 0:\n",
    "    digit = x % 10\n",
    "    reversed_number = (reversed_number * 10) + digit\n",
    "    x //= 10\n",
    "print(\"Reversed number:\", reversed_number)\n"
   ]
  },
  {
   "cell_type": "code",
   "execution_count": 30,
   "id": "5a7dabbc-06a1-4ac5-8369-b419e5bebe50",
   "metadata": {},
   "outputs": [
    {
     "name": "stdin",
     "output_type": "stream",
     "text": [
      "Enter a number:  56\n"
     ]
    },
    {
     "name": "stdout",
     "output_type": "stream",
     "text": [
      "56 is not an Armstrong number\n"
     ]
    }
   ],
   "source": [
    "# 2. Write a program in Python to check whether an integer is Armstrong number or not.\n",
    "\n",
    "num = int(input(\"Enter a number: \"))\n",
    "num_digits = len(str(num))\n",
    "sum = 0\n",
    "temp = num\n",
    "\n",
    "while temp>0:\n",
    "    digit=temp%10\n",
    "    sum+=digit**num_digits\n",
    "    temp//=10\n",
    "\n",
    "if num==sum:\n",
    "    print(num, \"is an Armstrong number\")\n",
    "else:\n",
    "    print(num, \"is not an Armstrong number\")\n"
   ]
  },
  {
   "cell_type": "code",
   "execution_count": 31,
   "id": "80d4a294-51db-46da-9d70-a1ab93f8b749",
   "metadata": {},
   "outputs": [
    {
     "name": "stdin",
     "output_type": "stream",
     "text": [
      "Enter a number =  67\n"
     ]
    },
    {
     "name": "stdout",
     "output_type": "stream",
     "text": [
      "67 is a prime number\n"
     ]
    }
   ],
   "source": [
    "# 3. Write a program in Python to check given number is prime or not.\n",
    "x=int(input(\"Enter a number = \"))\n",
    "if(x>1):\n",
    "    for i in range(2, x):\n",
    "        if(x%i==0):\n",
    "            print(x, \"is not a prime number\")\n",
    "            break\n",
    "    else:\n",
    "        print(x, \"is a prime number\")\n",
    "else:\n",
    "    print(x, \"is not a prime number\")\n"
   ]
  },
  {
   "cell_type": "code",
   "execution_count": 46,
   "id": "c1e68541-0702-4d56-a55b-fde75ac54740",
   "metadata": {},
   "outputs": [
    {
     "name": "stdin",
     "output_type": "stream",
     "text": [
      "Enter the number of terms in the Fibonacci series:  4\n"
     ]
    },
    {
     "name": "stdout",
     "output_type": "stream",
     "text": [
      "0 1 1 2 "
     ]
    }
   ],
   "source": [
    "# 4. Write a program in Python to print the Fibonacci series using iterative method.\n",
    "\n",
    "n = int(input(\"Enter the number of terms in the Fibonacci series: \"))\n",
    "\n",
    "a=0\n",
    "b=1\n",
    "print(a, end=\" \")\n",
    "print(b, end=\" \")\n",
    "\n",
    "for _ in range(2, n):\n",
    "    fib = a + b\n",
    "    print(fib, end=\" \")\n",
    "    a, b = b, fib\n"
   ]
  },
  {
   "cell_type": "code",
   "execution_count": 42,
   "id": "ca511e5d-7b56-418d-a587-1af648ec3d49",
   "metadata": {},
   "outputs": [
    {
     "name": "stdin",
     "output_type": "stream",
     "text": [
      "Enter a number:  232\n"
     ]
    },
    {
     "name": "stdout",
     "output_type": "stream",
     "text": [
      "Reversed number: 232\n",
      "Pallindrome\n"
     ]
    }
   ],
   "source": [
    "# 5. Write a program in Python to check whether a number is palindrome or not using iterative method.\n",
    "x = int(input(\"Enter a number: \"))\n",
    "temp=x\n",
    "reversed_number = 0\n",
    "while x>0:\n",
    "    digit = x % 10\n",
    "    reversed_number = (reversed_number * 10) + digit\n",
    "    x //= 10\n",
    "print(\"Reversed number:\", reversed_number)\n",
    "if (temp==reversed_number):\n",
    "    print(\"Pallindrome\")\n",
    "else:\n",
    "    print(\"Not Pallindrome\")"
   ]
  },
  {
   "cell_type": "code",
   "execution_count": 38,
   "id": "9eedacfb-55e0-4d77-a478-a6d54316258f",
   "metadata": {},
   "outputs": [
    {
     "name": "stdin",
     "output_type": "stream",
     "text": [
      "Enter a number=  28\n"
     ]
    },
    {
     "name": "stdout",
     "output_type": "stream",
     "text": [
      "28 is a perfect number.\n"
     ]
    }
   ],
   "source": [
    "# 6. Write a program in Python to find given number is perfect or not?\n",
    "num=int(input(\"Enter a number= \"))\n",
    "\n",
    "if num<2:\n",
    "    print(num, \"is not a perfect number.\")\n",
    "else:\n",
    "    sum_of_divisors = 1\n",
    "    for i in range(2, num):\n",
    "        if num%i == 0:\n",
    "            sum_of_divisors += i\n",
    "\n",
    "    if sum_of_divisors==num:\n",
    "        print(num, \"is a perfect number.\")\n",
    "    else:\n",
    "        print(num, \"is not a perfect number.\")\n"
   ]
  },
  {
   "cell_type": "code",
   "execution_count": 94,
   "id": "a06ce292-b4c0-4ebd-87f7-462242c3ca33",
   "metadata": {},
   "outputs": [
    {
     "name": "stdout",
     "output_type": "stream",
     "text": [
      "1 a \n",
      "2 b 3 c \n",
      "4 d 5 e 6 f \n",
      "7 g 8 h 9 i 10 j \n",
      "11 k 12 l 13 m 14 n 15 o \n"
     ]
    }
   ],
   "source": [
    "# 7. Write a Python program to print a pyramid of stars like the following pattern\n",
    "\"\"\"\n",
    "1 a\n",
    "2 b 3 c\n",
    "4 d 5 e 6 f\n",
    "7 g 8 h 9 i 10 j\n",
    "11 k 12 l 13 m  14 n  15 o\n",
    "\"\"\"\n",
    "num=1\n",
    "for i in range (1,6):\n",
    "    for j in range (0,i):\n",
    "        print(num, chr(96+num), end=\" \")\n",
    "        num+=1\n",
    "    print()\n"
   ]
  },
  {
   "cell_type": "code",
   "execution_count": 123,
   "id": "01f66df5-ef58-42ed-a0bd-fe93e2d57a96",
   "metadata": {},
   "outputs": [
    {
     "name": "stdout",
     "output_type": "stream",
     "text": [
      "          * * * * * \n",
      "        * * * * \n",
      "      * * * \n",
      "    * * \n",
      "  * \n"
     ]
    }
   ],
   "source": [
    "\"\"\"\n",
    "*****\n",
    " ****\n",
    "  ***\n",
    "   **\n",
    "    *\n",
    "    *\n",
    "   **\n",
    "  ***\n",
    " ****\n",
    "*****\n",
    "\"\"\"\n",
    "\n",
    "rows = 5\n",
    "for i in range(0,5):\n",
    "    for j in range(i,5):\n",
    "        print(\" \", end=\" \")\n",
    "    for k in range(5-i):\n",
    "        print(\"*\", end=\" \")\n",
    "    print()\n",
    "\n"
   ]
  },
  {
   "cell_type": "code",
   "execution_count": 129,
   "id": "4c2581f2-0672-453b-b77a-a9edc71dcb10",
   "metadata": {},
   "outputs": [
    {
     "name": "stdout",
     "output_type": "stream",
     "text": [
      "*****\n",
      " ****\n",
      "  ***\n",
      "   **\n",
      "    *\n",
      "   **\n",
      "  ***\n",
      " ****\n",
      "*****\n"
     ]
    }
   ],
   "source": [
    "# 8. Write a Python program to print a pyramid of stars like the following pattern\n",
    "\"\"\"\n",
    "*****\n",
    " ****\n",
    "  ***\n",
    "   **\n",
    "    *\n",
    "    *\n",
    "   **\n",
    "  ***\n",
    " ****\n",
    "*****\n",
    "\"\"\"\n",
    "for i in range(0,5):\n",
    "    for j in range(i):\n",
    "        print(\" \", end=\"\")\n",
    "    for k in range(5 - i):\n",
    "        print(\"*\", end=\"\")\n",
    "    print()\n",
    "for i in range(2, 6):\n",
    "    for j in range(5 - i):\n",
    "        print(\" \", end=\"\")\n",
    "    for k in range(i):\n",
    "        print(\"*\", end=\"\")\n",
    "    print()\n"
   ]
  },
  {
   "cell_type": "code",
   "execution_count": 190,
   "id": "389eb58e-bca8-4b5c-8202-09f457258b50",
   "metadata": {},
   "outputs": [
    {
     "name": "stdout",
     "output_type": "stream",
     "text": [
      "* * * * * \n",
      " * * * * \n",
      "  * * * \n",
      "   * * \n",
      "    * \n"
     ]
    }
   ],
   "source": [
    "for i in range (1,6):\n",
    "    for k in range(1,i):\n",
    "        print(\" \", end =\"\")\n",
    "    for j in range(i,6):\n",
    "        print(\"*\", end =\" \")\n",
    "    \n",
    "    print()"
   ]
  },
  {
   "cell_type": "code",
   "execution_count": 236,
   "id": "563bcf05-cb52-4b6d-a7b3-0f85a5c6146b",
   "metadata": {},
   "outputs": [
    {
     "name": "stdout",
     "output_type": "stream",
     "text": [
      "* * * * * * * * * \n",
      "  *           *   \n",
      "    *       *     \n",
      "      *   *       \n",
      "        *         \n",
      "      *   *       \n",
      "    *       *     \n",
      "  *           *   \n",
      "* * * * * * * * * \n"
     ]
    }
   ],
   "source": [
    "# 9. Write a Python program to print a pyramid of stars like the following pattern\n",
    "\"\"\"\n",
    "*********\n",
    " *     *\n",
    "  *   *\n",
    "   * *\n",
    "    *\n",
    "    *\n",
    "   * *\n",
    "  *   *\n",
    " *     *\n",
    "********* \n",
    "\"\"\"\n",
    "for i in range(1,10):\n",
    "    for j in range(1, 10):\n",
    "        if (i+j==10 or i==j or i==1 or i==9):\n",
    "            print(\"*\",end=\" \")\n",
    "        else:\n",
    "            print(\" \",end=\" \")\n",
    "    print(\"\")"
   ]
  },
  {
   "cell_type": "code",
   "execution_count": null,
   "id": "f62093df-9ed6-4f1a-863b-ada17fbe57f5",
   "metadata": {},
   "outputs": [],
   "source": []
  }
 ],
 "metadata": {
  "kernelspec": {
   "display_name": "Python 3 (ipykernel)",
   "language": "python",
   "name": "python3"
  },
  "language_info": {
   "codemirror_mode": {
    "name": "ipython",
    "version": 3
   },
   "file_extension": ".py",
   "mimetype": "text/x-python",
   "name": "python",
   "nbconvert_exporter": "python",
   "pygments_lexer": "ipython3",
   "version": "3.9.0"
  }
 },
 "nbformat": 4,
 "nbformat_minor": 5
}
