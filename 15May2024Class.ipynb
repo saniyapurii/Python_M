{
 "cells": [
  {
   "cell_type": "code",
   "execution_count": null,
   "id": "e189b7b4-3ee9-4803-adf9-5280f00cceeb",
   "metadata": {},
   "outputs": [],
   "source": [
    "#inheritence"
   ]
  },
  {
   "cell_type": "code",
   "execution_count": null,
   "id": "7ad47d5e-3deb-428c-bc82-b23acc05a6be",
   "metadata": {},
   "outputs": [],
   "source": [
    "#Polymorphism\n",
    "#many, form\n",
    "#variable, object, function (They can  behave as per the context -> alg tarike se perform krwa skte hai)\n",
    "\n",
    "#method overiding, and (Method overloading in java or other language)\n",
    "#constructor also, call the last one and methid overriding "
   ]
  },
  {
   "cell_type": "code",
   "execution_count": 6,
   "id": "99c4c77b-164f-4ad2-8d98-f799119845ca",
   "metadata": {},
   "outputs": [
    {
     "data": {
      "text/plain": [
       "3"
      ]
     },
     "execution_count": 6,
     "metadata": {},
     "output_type": "execute_result"
    }
   ],
   "source": [
    "1+2"
   ]
  },
  {
   "cell_type": "code",
   "execution_count": 7,
   "id": "f20d9b93-2536-407f-bc82-260bb261776f",
   "metadata": {},
   "outputs": [
    {
     "data": {
      "text/plain": [
       "'12'"
      ]
     },
     "execution_count": 7,
     "metadata": {},
     "output_type": "execute_result"
    }
   ],
   "source": [
    "\"1\"+\"2\""
   ]
  },
  {
   "cell_type": "code",
   "execution_count": 15,
   "id": "e2b3ecdf-27af-4dcb-bb34-2d476f96cef2",
   "metadata": {},
   "outputs": [],
   "source": [
    "class Father:\n",
    "    def info(self):\n",
    "        print(\"Calling the father class\")"
   ]
  },
  {
   "cell_type": "code",
   "execution_count": 18,
   "id": "74aca913-d920-425f-b715-73ce8255f26e",
   "metadata": {},
   "outputs": [
    {
     "name": "stdout",
     "output_type": "stream",
     "text": [
      "Calling the father class\n"
     ]
    }
   ],
   "source": [
    "class son(Father):\n",
    "    def sinfo(self):\n",
    "        print(\"Calling the son class\")\n",
    "\n",
    "s1=son()\n",
    "s1.info()"
   ]
  },
  {
   "cell_type": "code",
   "execution_count": 20,
   "id": "f830b0ab-866c-4abe-8a0f-725ee98cd07b",
   "metadata": {},
   "outputs": [
    {
     "ename": "TypeError",
     "evalue": "info() missing 1 required positional argument: 'x'",
     "output_type": "error",
     "traceback": [
      "\u001b[1;31m---------------------------------------------------------------------------\u001b[0m",
      "\u001b[1;31mTypeError\u001b[0m                                 Traceback (most recent call last)",
      "Cell \u001b[1;32mIn[20], line 9\u001b[0m\n\u001b[0;32m      6\u001b[0m         \u001b[38;5;28mprint\u001b[39m(\u001b[38;5;124m\"\u001b[39m\u001b[38;5;124mCalling the son parameter function\u001b[39m\u001b[38;5;124m\"\u001b[39m)\n\u001b[0;32m      8\u001b[0m s1\u001b[38;5;241m=\u001b[39mson()\n\u001b[1;32m----> 9\u001b[0m \u001b[43ms1\u001b[49m\u001b[38;5;241;43m.\u001b[39;49m\u001b[43minfo\u001b[49m\u001b[43m(\u001b[49m\u001b[43m)\u001b[49m\n",
      "\u001b[1;31mTypeError\u001b[0m: info() missing 1 required positional argument: 'x'"
     ]
    }
   ],
   "source": [
    "class son(Father):\n",
    "    def info(self):\n",
    "        print(\"Calling the son class\")\n",
    "\n",
    "    def info(self, x):\n",
    "        print(\"Calling the son parameter function\")\n",
    "\n",
    "s1=son()\n",
    "s1.info() #do not support method overloading"
   ]
  },
  {
   "cell_type": "code",
   "execution_count": 28,
   "id": "389ed3b3-fc4d-4f90-8a4a-2922315fd658",
   "metadata": {},
   "outputs": [
    {
     "data": {
      "text/plain": [
       "<__main__.Example at 0x1972a39d880>"
      ]
     },
     "execution_count": 28,
     "metadata": {},
     "output_type": "execute_result"
    }
   ],
   "source": [
    "#operator overloading\n",
    "\n",
    "class Example:\n",
    "    def __init__(self, x, y): #instead self we can use another variable, but first parameter will always hold memory addresss\n",
    "        self.num1=x\n",
    "        self.num2=y\n",
    "\n",
    "    \n",
    "e1=Example(10,20)\n",
    "e1"
   ]
  },
  {
   "cell_type": "code",
   "execution_count": 29,
   "id": "5f81bb6b-5580-4ebc-b34e-74ed4cab1455",
   "metadata": {},
   "outputs": [
    {
     "data": {
      "text/plain": [
       "Eample class objecr has : 10 & 20"
      ]
     },
     "execution_count": 29,
     "metadata": {},
     "output_type": "execute_result"
    }
   ],
   "source": [
    "#operator overloading\n",
    "\n",
    "class Example:\n",
    "    def __init__(self, x, y): #instead self we can use another variable, but first parameter will always hold memory addresss\n",
    "        self.num1=x\n",
    "        self.num2=y\n",
    "\n",
    "    #__func__ => dunder methods\n",
    "    def __repr__(self):\n",
    "        return f\"Eample class objecr has : {self.num1} & {self.num2}\"\n",
    "\n",
    "Example(10,20)\n"
   ]
  },
  {
   "cell_type": "code",
   "execution_count": 131,
   "id": "82a338cb-b0b3-4c97-8937-8956470c48dc",
   "metadata": {},
   "outputs": [
    {
     "data": {
      "text/plain": [
       "Eample class objecr has : 15 & 25"
      ]
     },
     "execution_count": 131,
     "metadata": {},
     "output_type": "execute_result"
    }
   ],
   "source": [
    "#operator overloading\n",
    "\n",
    "class Example:\n",
    "    def __init__(self, x, y): #instead self we can use another variable, but first parameter will always hold memory addresss\n",
    "        self.num1=x\n",
    "        self.num2=y\n",
    "\n",
    "    #__func__ => dunder methods\n",
    "    def __repr__(self):\n",
    "        return f\"Eample class objecr has : {self.num1} & {self.num2}\"\n",
    "\n",
    "e1=Example(10,20)\n",
    "e2=Example(15,25)\n",
    "e2"
   ]
  },
  {
   "cell_type": "code",
   "execution_count": 130,
   "id": "49c129fd-9d53-4b4c-b311-aed30317912d",
   "metadata": {},
   "outputs": [
    {
     "ename": "TypeError",
     "evalue": "unsupported operand type(s) for +: 'Example' and 'Example'",
     "output_type": "error",
     "traceback": [
      "\u001b[1;31m---------------------------------------------------------------------------\u001b[0m",
      "\u001b[1;31mTypeError\u001b[0m                                 Traceback (most recent call last)",
      "Cell \u001b[1;32mIn[130], line 3\u001b[0m\n\u001b[0;32m      1\u001b[0m e1\u001b[38;5;241m=\u001b[39mExample(\u001b[38;5;241m10\u001b[39m,\u001b[38;5;241m20\u001b[39m)\n\u001b[0;32m      2\u001b[0m e2\u001b[38;5;241m=\u001b[39mExample(\u001b[38;5;241m15\u001b[39m,\u001b[38;5;241m25\u001b[39m)\n\u001b[1;32m----> 3\u001b[0m \u001b[43me1\u001b[49m\u001b[38;5;241;43m+\u001b[39;49m\u001b[43me2\u001b[49m\n\u001b[0;32m      4\u001b[0m \u001b[38;5;66;03m#e1.__add__(e2)\u001b[39;00m\n\u001b[0;32m      5\u001b[0m \u001b[38;5;66;03m#__gt__\u001b[39;00m\n",
      "\u001b[1;31mTypeError\u001b[0m: unsupported operand type(s) for +: 'Example' and 'Example'"
     ]
    }
   ],
   "source": [
    "e1=Example(10,20)\n",
    "e2=Example(15,25)\n",
    "e1+e2\n",
    "#e1.__add__(e2)\n",
    "#__gt__"
   ]
  },
  {
   "cell_type": "code",
   "execution_count": 132,
   "id": "7956a443-0b15-4068-8925-c5591bcdf288",
   "metadata": {},
   "outputs": [
    {
     "name": "stdout",
     "output_type": "stream",
     "text": [
      "Hello Eample class objecr has : 15 & 25\n"
     ]
    }
   ],
   "source": [
    "#operator overloading\n",
    "\n",
    "class Example:\n",
    "    def __init__(self, x, y): #instead self we can use another variable, but first parameter will always hold memory addresss\n",
    "        self.num1=x\n",
    "        self.num2=y\n",
    "\n",
    "    #__func__ => dunder methods\n",
    "    def __repr__(self):\n",
    "        return f\"Eample class objecr has : {self.num1} & {self.num2}\"\n",
    "\n",
    "    #self = e1 and obj2=e2\n",
    "    def __add__(self, obj2):\n",
    "        print(\"Hello\", obj2)\n",
    "\n",
    "e1=Example(10,20)\n",
    "e2=Example(15,25)\n",
    "e1+e2\n",
    "#e1.__add__(e2)"
   ]
  },
  {
   "cell_type": "code",
   "execution_count": 133,
   "id": "45403113-4a45-4f8f-86d3-ff94d1d06fdc",
   "metadata": {},
   "outputs": [
    {
     "name": "stdout",
     "output_type": "stream",
     "text": [
      "20\n"
     ]
    }
   ],
   "source": [
    "\n",
    "class Example:\n",
    "    def __init__(self, x, y): #instead self we can use another variable, but first parameter will always hold memory addresss\n",
    "        self.num1=x\n",
    "        self.num2=y\n",
    "\n",
    "    #__func__ => dunder methods\n",
    "    def __repr__(self):\n",
    "        return f\"Eample class objecr has : {self.num1} & {self.num2}\"\n",
    "\n",
    "    #self = e1 and obj2=e2\n",
    "    def __add__(self, obj2):\n",
    "        print(self.num1 + self.num1)\n",
    "e1=Example(10,20)\n",
    "e2=Example(15,25)\n",
    "e1+e2"
   ]
  },
  {
   "cell_type": "code",
   "execution_count": 134,
   "id": "de57b6f7-53d2-4fbf-b2f1-c8ade6b5a46d",
   "metadata": {},
   "outputs": [
    {
     "name": "stdout",
     "output_type": "stream",
     "text": [
      "20 45\n"
     ]
    }
   ],
   "source": [
    "\n",
    "class Example:\n",
    "    def __init__(self, x, y): #instead self we can use another variable, but first parameter will always hold memory addresss\n",
    "        self.num1=x\n",
    "        self.num2=y\n",
    "\n",
    "    #__func__ => dunder methods\n",
    "    def __repr__(self):\n",
    "        return f\"Eample class objecr has : {self.num1} & {self.num2}\"\n",
    "\n",
    "    #self = e1 and obj2=e2\n",
    "    def __add__(self, obj2):\n",
    "        x1 = self.num1 + self.num1\n",
    "        y1 = self.num2 + obj2.num2\n",
    "        print(x1, y1)\n",
    "        \n",
    "e1=Example(10,20)\n",
    "e2=Example(15,25)\n",
    "e1+e2"
   ]
  },
  {
   "cell_type": "code",
   "execution_count": 135,
   "id": "92913f6b-e088-44e5-9e56-19d6bb98bc92",
   "metadata": {},
   "outputs": [],
   "source": [
    "\n",
    "class Example:\n",
    "    def __init__(self, x, y): #instead self we can use another variable, but first parameter will always hold memory addresss\n",
    "        self.num1=x\n",
    "        self.num2=y\n",
    "\n",
    "    #__func__ => dunder methods\n",
    "    def __repr__(self):\n",
    "        return f\"Eample class objecr has : {self.num1} & {self.num2}\"\n",
    "\n",
    "    #self = e1 and obj2=e2\n",
    "    def __add__(self, obj2):\n",
    "        x1 = self.num1 + self.num1\n",
    "        y1 = self.num2 + obj2.num2\n",
    "        return Example(x1, y1)\n",
    "        \n"
   ]
  },
  {
   "cell_type": "code",
   "execution_count": 136,
   "id": "6fad1f92-75d3-46ba-8aa6-8643b4792759",
   "metadata": {},
   "outputs": [
    {
     "data": {
      "text/plain": [
       "Eample class objecr has : 20 & 45"
      ]
     },
     "execution_count": 136,
     "metadata": {},
     "output_type": "execute_result"
    }
   ],
   "source": [
    "e1=Example(10,20)\n",
    "e2=Example(15,25)\n",
    "e1+e2"
   ]
  },
  {
   "cell_type": "code",
   "execution_count": 143,
   "id": "7abea6bc-ae4c-472a-98b0-a3e1c9b56a8d",
   "metadata": {},
   "outputs": [
    {
     "name": "stdout",
     "output_type": "stream",
     "text": [
      "30 20 30 40\n"
     ]
    },
    {
     "data": {
      "text/plain": [
       "False"
      ]
     },
     "execution_count": 143,
     "metadata": {},
     "output_type": "execute_result"
    }
   ],
   "source": [
    "#Overload __gt__ method, \n",
    "#p1>p2\n",
    "#if P1 has 3 variable=> 10,20\n",
    "#if P2 has 2 variable=> 30,40\n",
    "\n",
    "#10+20  > p2.var2\n",
    "#10+20 > 35\n",
    "#False otherwise True\n",
    "\n",
    "class Example:\n",
    "    def __init__(self, x, y):\n",
    "        self.num1=x\n",
    "        self.num2=y\n",
    "\n",
    "    def __gt__(self, num):\n",
    "        print ( self.num1, self.num2, num.num1, num.num2)\n",
    "        if (self.num1+self.num2) > num.num2:\n",
    "            return False\n",
    "        else:\n",
    "            return True\n",
    "\n",
    "t1=Example(30,20)\n",
    "t2=Example(30,40)\n",
    "t1>t2"
   ]
  },
  {
   "cell_type": "code",
   "execution_count": 124,
   "id": "aa25a396-3ea1-4e7c-877c-13cc0be835b1",
   "metadata": {},
   "outputs": [],
   "source": [
    "#inheritence\n",
    "#polymorphism\n",
    "#encapsulation => public, protected (_), default (package protected), private (__)"
   ]
  },
  {
   "cell_type": "code",
   "execution_count": null,
   "id": "d0ccf736-db7e-4faa-b17e-e2d57d70f039",
   "metadata": {},
   "outputs": [],
   "source": [
    "#name mangling = > __var => _class__var\n",
    "#Not really private and protected in python\n",
    "#python is less secure for using in big projects"
   ]
  },
  {
   "cell_type": "code",
   "execution_count": null,
   "id": "04068ac7-4174-4a55-b062-a7b083a1438f",
   "metadata": {},
   "outputs": [],
   "source": [
    "#abstraction => feature of OOPS\n",
    "#we want to hide unwanted details from the user"
   ]
  },
  {
   "cell_type": "code",
   "execution_count": 138,
   "id": "c62bc415-be1f-4e31-9ecd-dfa7db44dfc4",
   "metadata": {},
   "outputs": [
    {
     "ename": "AttributeError",
     "evalue": "'Mammels' object has no attribute 'voice'",
     "output_type": "error",
     "traceback": [
      "\u001b[1;31m---------------------------------------------------------------------------\u001b[0m",
      "\u001b[1;31mAttributeError\u001b[0m                            Traceback (most recent call last)",
      "Cell \u001b[1;32mIn[138], line 11\u001b[0m\n\u001b[0;32m      9\u001b[0m d1\u001b[38;5;241m=\u001b[39mMammels()\n\u001b[0;32m     10\u001b[0m d1\u001b[38;5;241m.\u001b[39mtotal_legs()\n\u001b[1;32m---> 11\u001b[0m \u001b[43md1\u001b[49m\u001b[38;5;241;43m.\u001b[39;49m\u001b[43mvoice\u001b[49m()\n",
      "\u001b[1;31mAttributeError\u001b[0m: 'Mammels' object has no attribute 'voice'"
     ]
    }
   ],
   "source": [
    "class Mammels:\n",
    "    def total_legs(self):\n",
    "        return \"legs is 4\"\n",
    "\n",
    "class Dog(Mammels):\n",
    "    def voice(self):\n",
    "        return \"Bark\"\n",
    "\n",
    "d1=Mammels()\n",
    "d1.total_legs()\n",
    "d1.voice()"
   ]
  },
  {
   "cell_type": "code",
   "execution_count": 139,
   "id": "76a4092f-1b08-4829-9013-8eb3e6b09712",
   "metadata": {},
   "outputs": [
    {
     "data": {
      "text/plain": [
       "'legs is 2'"
      ]
     },
     "execution_count": 139,
     "metadata": {},
     "output_type": "execute_result"
    }
   ],
   "source": [
    "class Mammels:\n",
    "    def total_legs(self):\n",
    "        return \"legs is 4\"\n",
    "        \n",
    "class Person(Mammels):\n",
    "    def voice(self):\n",
    "        return \"Speak\"\n",
    "    def total_legs(self):\n",
    "        return \"legs is 2\"\n",
    "\n",
    "class Dog(Mammels):\n",
    "    def voice(self):\n",
    "        return \"Bark\"\n",
    "\n",
    "d1=Person()\n",
    "d1.total_legs()"
   ]
  },
  {
   "cell_type": "code",
   "execution_count": 144,
   "id": "48fe2865-cef4-4f7d-9833-0b7c44b45259",
   "metadata": {},
   "outputs": [
    {
     "name": "stdout",
     "output_type": "stream",
     "text": [
      "info here\n"
     ]
    }
   ],
   "source": [
    "#abstraction class should have 1 abstract method\n",
    "from abc import ABC, abstractmethod\n",
    "\n",
    "# abc=> abc package, ABC is a module/program/class\n",
    "#mammel class is inheriting the property of abstract base class (ABC)\n",
    "class Mammels:\n",
    "    @abstractmethod\n",
    "    def total_legs(self):\n",
    "        pass #to autocomplete\n",
    "\n",
    "    def info(self):\n",
    "        print(\"info here\")\n",
    "        \n",
    "class Person(Mammels):\n",
    "    def voice(self):\n",
    "        return \"Speak\"\n",
    "    def total_legs(self):\n",
    "        return \"2 legs\"\n",
    "\n",
    "\n",
    "#cannot make object of abstract class, it can only impliment and implement by only child class\n",
    "p1=Person()    \n",
    "p1.total_legs()\n",
    "p1.info()"
   ]
  },
  {
   "cell_type": "code",
   "execution_count": 93,
   "id": "b08d7561-ad5c-4679-84b9-4ecbfa62dfb2",
   "metadata": {},
   "outputs": [],
   "source": [
    "#in python how to create a virtual environment\n",
    "#difference between class method, instance method and static method\n",
    "#decorator and Generator"
   ]
  },
  {
   "cell_type": "code",
   "execution_count": null,
   "id": "c1480a62-e974-4a23-9902-89eeb55eaa99",
   "metadata": {},
   "outputs": [],
   "source": []
  }
 ],
 "metadata": {
  "kernelspec": {
   "display_name": "Python 3 (ipykernel)",
   "language": "python",
   "name": "python3"
  },
  "language_info": {
   "codemirror_mode": {
    "name": "ipython",
    "version": 3
   },
   "file_extension": ".py",
   "mimetype": "text/x-python",
   "name": "python",
   "nbconvert_exporter": "python",
   "pygments_lexer": "ipython3",
   "version": "3.9.0"
  }
 },
 "nbformat": 4,
 "nbformat_minor": 5
}
