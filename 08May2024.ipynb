{
 "cells": [
  {
   "cell_type": "code",
   "execution_count": 17,
   "id": "2770026b-6883-43e6-9475-07a782089156",
   "metadata": {},
   "outputs": [
    {
     "name": "stdout",
     "output_type": "stream",
     "text": [
      "Hello\n",
      "15\n"
     ]
    }
   ],
   "source": [
    "#file handling \n",
    "#mechanism (read/write)\n",
    "#content permanently (use kr skte hai)\n",
    "print(\"Hello\")\n",
    "print(10+5)\n"
   ]
  },
  {
   "cell_type": "code",
   "execution_count": null,
   "id": "1e1b9169-cd80-4d9b-8b15-35db5f252c94",
   "metadata": {},
   "outputs": [],
   "source": [
    "#open()\n",
    "#read/write\n",
    "#close()"
   ]
  },
  {
   "cell_type": "code",
   "execution_count": 4,
   "id": "1bd711db-7677-4850-b062-607ebff1a3eb",
   "metadata": {},
   "outputs": [
    {
     "name": "stdout",
     "output_type": "stream",
     "text": [
      "Hey user\n"
     ]
    }
   ],
   "source": [
    "\n",
    "fileobj = open(\"yash.txt\")\n",
    "out = fileobj.read()\n",
    "fileobj.close()\n",
    "\n",
    "print(out)"
   ]
  },
  {
   "cell_type": "code",
   "execution_count": 11,
   "id": "64616e70-3d44-4f87-aa91-626c89720d91",
   "metadata": {},
   "outputs": [
    {
     "name": "stdout",
     "output_type": "stream",
     "text": [
      "user\n"
     ]
    }
   ],
   "source": [
    "#open(\"filename\", access-mode)\n",
    "fileobj = open(\"yash.txt\", \"r\")\n",
    "out = fileobj.read()\n",
    "#fileobj.write(\"user\")\n",
    "fileobj.close()\n",
    "\n",
    "print(out)"
   ]
  },
  {
   "cell_type": "code",
   "execution_count": 12,
   "id": "dafa39cc-ab4d-4726-8c81-c1cd2cd63bc6",
   "metadata": {},
   "outputs": [],
   "source": [
    "#open(\"filename\", access-mode)\n",
    "fileobj = open(\"yash.txt\", \"w\")\n",
    "fileobj.write(\"user\")\n",
    "fileobj.close()\n"
   ]
  },
  {
   "cell_type": "code",
   "execution_count": 15,
   "id": "ddf0b08a-4c7e-48a9-8640-b39d230bb8bb",
   "metadata": {},
   "outputs": [
    {
     "name": "stdout",
     "output_type": "stream",
     "text": [
      "user######\n"
     ]
    }
   ],
   "source": [
    "fileobj = open(\"yash.txt\", \"r+\")\n",
    "print(fileobj.read())\n",
    "fileobj.write(\"###\")\n",
    "fileobj.close()"
   ]
  },
  {
   "cell_type": "code",
   "execution_count": 16,
   "id": "917412a1-13d7-4f27-b2dc-c2393e1c1b18",
   "metadata": {},
   "outputs": [
    {
     "name": "stdout",
     "output_type": "stream",
     "text": [
      "er#########\n"
     ]
    }
   ],
   "source": [
    "fileobj = open(\"yash.txt\", \"r+\")\n",
    "fileobj.write(\"$$\")\n",
    "print(fileobj.read())\n",
    "fileobj.close()"
   ]
  },
  {
   "cell_type": "code",
   "execution_count": 17,
   "id": "849718db-b941-4ceb-a654-6bf6dfd7386a",
   "metadata": {},
   "outputs": [
    {
     "name": "stdout",
     "output_type": "stream",
     "text": [
      "\n"
     ]
    }
   ],
   "source": [
    "fileobj = open(\"yash.txt\", \"w+\")\n",
    "print(fileobj.read())\n",
    "fileobj.close()\n",
    "#w+ mode erase everything, so we dont have anything to read"
   ]
  },
  {
   "cell_type": "code",
   "execution_count": 19,
   "id": "59893bf6-59d7-4e2c-b656-5c4acea3974c",
   "metadata": {},
   "outputs": [
    {
     "name": "stdout",
     "output_type": "stream",
     "text": [
      "13\n",
      "\n"
     ]
    }
   ],
   "source": [
    "fileobj = open(\"yash.txt\", \"w+\")\n",
    "fileobj.write(\"RegexSoftware\")\n",
    "print(fileobj.tell()) #position of cursor\n",
    "print(fileobj.read())\n",
    "fileobj.close()"
   ]
  },
  {
   "cell_type": "code",
   "execution_count": 23,
   "id": "ba455d81-e013-4334-ae19-24f7db5e1048",
   "metadata": {},
   "outputs": [
    {
     "name": "stdout",
     "output_type": "stream",
     "text": [
      "13\n",
      "5\n",
      "Software\n"
     ]
    }
   ],
   "source": [
    "fileobj = open(\"yash.txt\", \"w+\")\n",
    "fileobj.write(\"RegexSoftware\")\n",
    "print(fileobj.tell()) #position of cursor\n",
    "fileobj.seek(5) #change cursor position\n",
    "print(fileobj.tell())\n",
    "print(fileobj.read())\n",
    "fileobj.close()"
   ]
  },
  {
   "cell_type": "code",
   "execution_count": 24,
   "id": "1ad60327-da45-4fe1-93e4-9a1ad9f35731",
   "metadata": {},
   "outputs": [
    {
     "name": "stdout",
     "output_type": "stream",
     "text": [
      "26\n",
      "\n"
     ]
    }
   ],
   "source": [
    "fileobj = open(\"yash.txt\", \"a+\")\n",
    "fileobj.write(\"RegexSoftware\")\n",
    "print(fileobj.tell()) #position of cursor\n",
    "print(fileobj.read())\n",
    "fileobj.close()"
   ]
  },
  {
   "cell_type": "code",
   "execution_count": 25,
   "id": "7b22d8d7-7d9c-435a-bfe3-ec3f20a52392",
   "metadata": {},
   "outputs": [
    {
     "name": "stdout",
     "output_type": "stream",
     "text": [
      "RegexSoftwareRegexSoftware\n"
     ]
    }
   ],
   "source": [
    "#method 2\n",
    "#close()\n",
    "with open(\"yash.txt\", \"r\") as fileobj:\n",
    "    x=fileobj.read()\n",
    "\n",
    "print(x)\n",
    "#we dont need to close the file \"with\" object automatically closes the file"
   ]
  },
  {
   "cell_type": "code",
   "execution_count": 6,
   "id": "ece39543-7192-45f9-9735-b3062a77efce",
   "metadata": {},
   "outputs": [
    {
     "name": "stdout",
     "output_type": "stream",
     "text": [
      "RegexSoftwareRegexSoftware\n",
      "\n"
     ]
    }
   ],
   "source": [
    "with open(\"yash.txt\", \"r\") as fileobj:\n",
    "    print(fileobj.readline())\n",
    "\n"
   ]
  },
  {
   "cell_type": "code",
   "execution_count": 2,
   "id": "1c7227d0-1730-4571-9b17-4c6dd4c4217f",
   "metadata": {},
   "outputs": [
    {
     "name": "stdout",
     "output_type": "stream",
     "text": [
      "RegexSoftwareRegexSoftware\n",
      "hey \n",
      "hello\n",
      "who\n",
      "are\n",
      "you\n"
     ]
    }
   ],
   "source": [
    "with open(\"yash.txt\", \"r\") as fileobj:\n",
    "    print(fileobj.read())\n"
   ]
  },
  {
   "cell_type": "code",
   "execution_count": 3,
   "id": "485d22f6-a244-4cbf-81dc-6ef971e58d03",
   "metadata": {},
   "outputs": [
    {
     "name": "stdout",
     "output_type": "stream",
     "text": [
      "RegexSoftwareRegexSoftware\n",
      "\n",
      "hey \n",
      "\n",
      "hello\n",
      "\n",
      "who\n",
      "\n",
      "are\n",
      "\n",
      "you\n"
     ]
    }
   ],
   "source": [
    "with open(\"yash.txt\", \"r\") as fileobj:\n",
    "    for line in fileobj:\n",
    "        print(line)"
   ]
  },
  {
   "cell_type": "code",
   "execution_count": 4,
   "id": "73970ae9-b2e7-4ec1-b76b-e33a16146c32",
   "metadata": {},
   "outputs": [
    {
     "name": "stdout",
     "output_type": "stream",
     "text": [
      "['RegexSoftwareRegexSoftware\\n', 'hey \\n', 'hello\\n', 'who\\n', 'are\\n', 'you']\n"
     ]
    }
   ],
   "source": [
    "with open(\"yash.txt\", \"r\") as fileobj:\n",
    "    print(fileobj.readlines())\n"
   ]
  },
  {
   "cell_type": "code",
   "execution_count": 5,
   "id": "86a57b58-e0ea-482e-b5ea-028cb00ba308",
   "metadata": {},
   "outputs": [
    {
     "name": "stdout",
     "output_type": "stream",
     "text": [
      "RegexSoftwareRegexSoftware\n",
      "hey\n",
      "hello\n",
      "who\n",
      "are\n",
      "you\n"
     ]
    }
   ],
   "source": [
    "with open(\"yash.txt\", \"r\") as fileobj:\n",
    "    for line in fileobj:\n",
    "        print( line.strip() )"
   ]
  },
  {
   "cell_type": "code",
   "execution_count": 7,
   "id": "db05aaec-04e1-4ebd-a602-4b7d3d0aa1aa",
   "metadata": {},
   "outputs": [
    {
     "name": "stdout",
     "output_type": "stream",
     "text": [
      "hey \n",
      "\n",
      "who\n",
      "\n",
      "you\n"
     ]
    }
   ],
   "source": [
    "with open(\"yash.txt\", \"r\") as fileobj:\n",
    "    for line in fileobj:\n",
    "        print( fileobj.readline() )"
   ]
  },
  {
   "cell_type": "code",
   "execution_count": 8,
   "id": "60fea720-7647-467e-ae77-5e961e3cc577",
   "metadata": {},
   "outputs": [
    {
     "name": "stdout",
     "output_type": "stream",
     "text": [
      "RegexSoftwareRegexSoftware\n",
      "\n",
      "hey \n",
      "\n",
      "hello\n",
      "\n",
      "who\n",
      "\n",
      "are\n",
      "\n",
      "you\n"
     ]
    }
   ],
   "source": [
    "#csv:- comma seperated value\n",
    "with open(\"yash.txt\", \"r\") as fileobj:\n",
    "    for line in fileobj:\n",
    "        print(line)"
   ]
  },
  {
   "cell_type": "code",
   "execution_count": 13,
   "id": "699103e4-c11e-4ec5-9f3f-d98d302070a4",
   "metadata": {},
   "outputs": [
    {
     "name": "stdout",
     "output_type": "stream",
     "text": [
      "['Regex', 'Software', 'RegexSoftware']\n"
     ]
    }
   ],
   "source": [
    "import csv\n",
    "fileobj = open(\"yash.txt\")\n",
    "csv_fileobj = csv.reader(fileobj)\n",
    "\n",
    "for line in csv_fileobj:\n",
    "    print(line)\n",
    "    break"
   ]
  },
  {
   "cell_type": "code",
   "execution_count": 15,
   "id": "9334bdd5-19c3-43eb-9c20-612d8c29f16b",
   "metadata": {},
   "outputs": [
    {
     "name": "stdout",
     "output_type": "stream",
     "text": [
      "['Regex', 'Software', 'RegexSoftware']\n",
      "['1', 'tushar', '900 ']\n",
      "['2', 'aman', '100']\n",
      "['3', 'aksh', '200']\n"
     ]
    }
   ],
   "source": [
    "import csv\n",
    "fileobj = open(\"yash.txt\")\n",
    "csv_fileobj = csv.reader(fileobj)\n",
    "\n",
    "for line in csv_fileobj:\n",
    "    print(line)\n"
   ]
  },
  {
   "cell_type": "code",
   "execution_count": null,
   "id": "349f3267-b897-4d3f-8229-381e64e42a86",
   "metadata": {},
   "outputs": [],
   "source": []
  }
 ],
 "metadata": {
  "kernelspec": {
   "display_name": "Python 3 (ipykernel)",
   "language": "python",
   "name": "python3"
  },
  "language_info": {
   "codemirror_mode": {
    "name": "ipython",
    "version": 3
   },
   "file_extension": ".py",
   "mimetype": "text/x-python",
   "name": "python",
   "nbconvert_exporter": "python",
   "pygments_lexer": "ipython3",
   "version": "3.9.0"
  }
 },
 "nbformat": 4,
 "nbformat_minor": 5
}
