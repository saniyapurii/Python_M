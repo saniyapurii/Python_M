{
 "cells": [
  {
   "cell_type": "code",
   "execution_count": 2,
   "id": "99514bf4-b454-4aaa-af05-2e5e83895550",
   "metadata": {},
   "outputs": [
    {
     "name": "stdin",
     "output_type": "stream",
     "text": [
      "Enter the year to check =  2022\n"
     ]
    },
    {
     "name": "stdout",
     "output_type": "stream",
     "text": [
      "2022 is not a leap year.\n"
     ]
    }
   ],
   "source": [
    "\"\"\"\n",
    "1. Create a Python program to determine if a year entered by the user is a leap year or not \n",
    "using conditional statements\n",
    "\"\"\"\n",
    "year = int(input(\"Enter the year to check = \"))\n",
    "\n",
    "if (year % 4 == 0):\n",
    "    if (year % 100 == 0):\n",
    "        if (year % 400 == 0):\n",
    "            print(f\"{year} is a leap year.\")\n",
    "        else:\n",
    "            print(f\"{year} is not a leap year.\")\n",
    "    else:\n",
    "        print(f\"{year} is a leap year.\")\n",
    "else:\n",
    "    print(f\"{year} is not a leap year.\")\n"
   ]
  },
  {
   "cell_type": "code",
   "execution_count": 6,
   "id": "27fd2754-0f5a-49e2-a14c-43ba47b895e4",
   "metadata": {},
   "outputs": [
    {
     "name": "stdin",
     "output_type": "stream",
     "text": [
      "Enter  a number to check even or odd = 100\n"
     ]
    },
    {
     "name": "stdout",
     "output_type": "stream",
     "text": [
      "Number is even\n"
     ]
    }
   ],
   "source": [
    "\"\"\"\n",
    "2. Create a Python program that determines if a given number is even or odd using \n",
    "conditional statements.\n",
    "\"\"\"\n",
    "\n",
    "num = int(input(\"Enter  a number to check even or odd =\"))\n",
    "if (num%2==0):\n",
    "    print(\"Number is even\")\n",
    "else:\n",
    "    print(\"Number is odd\")"
   ]
  },
  {
   "cell_type": "code",
   "execution_count": 29,
   "id": "d727131e-5d9c-4133-8106-fe86f2b17b49",
   "metadata": {},
   "outputs": [
    {
     "name": "stdout",
     "output_type": "stream",
     "text": [
      "*  \n",
      "* *  \n",
      "* * *  \n",
      "* * * *  \n",
      "* * * * *  \n"
     ]
    }
   ],
   "source": [
    "\"\"\"\n",
    "3. Write a Python program to print a pyramid of stars like the following pattern \n",
    "* \n",
    "* * \n",
    "* * * \n",
    "* * * * \n",
    "* * * * * \n",
    "\"\"\"\n",
    "for i in range(1,6):\n",
    "    for j in range(1,i+1):\n",
    "        print(\"*\", end=\" \")\n",
    "    print(\" \")"
   ]
  },
  {
   "cell_type": "code",
   "execution_count": 40,
   "id": "19f5602d-ca4f-443b-909f-9728e63f99f7",
   "metadata": {},
   "outputs": [
    {
     "name": "stdout",
     "output_type": "stream",
     "text": [
      "          * \n",
      "        * * \n",
      "      * * * \n",
      "    * * * * \n",
      "  * * * * * \n"
     ]
    }
   ],
   "source": [
    "\"\"\"\n",
    "4. Write a Python program to print a pattern of stars like the following pattern \n",
    "         * \n",
    "       * * \n",
    "     * * * \n",
    "   * * * * \n",
    " * * * * *\n",
    "\"\"\"\n",
    "\n",
    "for i in range (1,6):\n",
    "    for j in range(i,6):\n",
    "        print(\" \", end=\" \")\n",
    "    for k in range(1, i+1):\n",
    "        print(\"*\", end=\" \")\n",
    "    print()\n"
   ]
  },
  {
   "cell_type": "code",
   "execution_count": 3,
   "id": "e514187c-61ea-420b-bf02-9bdf2dbeb6f2",
   "metadata": {},
   "outputs": [
    {
     "name": "stdout",
     "output_type": "stream",
     "text": [
      "1 a  \n",
      "2 b 3 c  \n",
      "4 d 5 e 6 f  \n",
      "7 g 8 h 9 i 10 j  \n",
      "11 k 12 l 13 m 14 n 15 o  \n"
     ]
    }
   ],
   "source": [
    "\"\"\"\n",
    "5. Write a Python program to print a following pattern \n",
    "1 a \n",
    "2 b 3 c \n",
    "4 d 5 e 6 f \n",
    "7 g 8 h 9 I 10 j \n",
    "11 k 12 l 13 m 14 n 15 o\n",
    "\"\"\"\n",
    "num=1\n",
    "for i in range(1,6):\n",
    "    for j in range(0,i):\n",
    "        print(num, chr(96+num), end =\" \")\n",
    "        num+=1\n",
    "    print(\" \")"
   ]
  },
  {
   "cell_type": "code",
   "execution_count": 5,
   "id": "bb61bb59-74b8-45e8-bb3c-ceb959809e24",
   "metadata": {},
   "outputs": [
    {
     "data": {
      "text/plain": [
       "True"
      ]
     },
     "execution_count": 5,
     "metadata": {},
     "output_type": "execute_result"
    }
   ],
   "source": [
    "\"\"\"\n",
    "6. Write a Python function is_even that takes a number as input and returns True if it's even \n",
    "and False if it's odd.\n",
    "\"\"\"\n",
    "\n",
    "def is_even(num):\n",
    "    if (num%2==0):\n",
    "        return True\n",
    "    else:\n",
    "        return False\n",
    "\n",
    "is_even(2)\n",
    "    "
   ]
  },
  {
   "cell_type": "code",
   "execution_count": 7,
   "id": "a2dceb26-bfb6-4d46-8a00-17f3a4f19b0a",
   "metadata": {},
   "outputs": [
    {
     "data": {
      "text/plain": [
       "'Vowel'"
      ]
     },
     "execution_count": 7,
     "metadata": {},
     "output_type": "execute_result"
    }
   ],
   "source": [
    "\"\"\"\n",
    "7. Write a Python function check_vowel_consonant that takes a character as input and \n",
    "returns \"Vowel\" if it's a vowel and \"Consonant\" otherwise\n",
    "\"\"\"\n",
    "\n",
    "def check_vowel_consonant(char):\n",
    "    if (char==\"a\" or char==\"e\" or char==\"i\" or char==\"o\" or char==\"u\"):\n",
    "        return \"Vowel\"\n",
    "    else:\n",
    "        return \"Consonant\"\n",
    "\n",
    "check_vowel_consonant(\"a\")"
   ]
  },
  {
   "cell_type": "code",
   "execution_count": 8,
   "id": "ce98766c-9616-4548-846f-024e1ece597d",
   "metadata": {},
   "outputs": [
    {
     "data": {
      "text/plain": [
       "3.84"
      ]
     },
     "execution_count": 8,
     "metadata": {},
     "output_type": "execute_result"
    }
   ],
   "source": [
    "\"\"\"\n",
    "8. Write a Python function calculate_simple_interest that takes principal amount, rate of \n",
    "interest, and time period as input and returns the simple interest\n",
    "\"\"\"\n",
    "def calculate_simple_interest(pa, roi, tp):\n",
    "    simple_interest = (pa*roi*tp)/100\n",
    "    return simple_interest\n",
    "\n",
    "calculate_simple_interest(8,6,8)\n",
    "    \n"
   ]
  },
  {
   "cell_type": "code",
   "execution_count": 39,
   "id": "dca3219d-6fa2-4d95-a714-cec398f5c0f9",
   "metadata": {},
   "outputs": [
    {
     "name": "stdin",
     "output_type": "stream",
     "text": [
      "Enter a list of numbers separated by spaces:  23 45 67\n"
     ]
    },
    {
     "name": "stdout",
     "output_type": "stream",
     "text": [
      "Maximum element: 67\n",
      "Minimum element: 23\n"
     ]
    }
   ],
   "source": [
    "\"\"\"\n",
    "9. Write a Python program to find the maximum and minimum elements in a list. \n",
    "And create a user defined list \n",
    "\"\"\"\n",
    "a = input(\"Enter a list of numbers separated by spaces: \")\n",
    "a = a.split()\n",
    "\n",
    "num_list = [int(a) for a in a]\n",
    "\n",
    "if len(num_list) == 0:\n",
    "    print(\"The list is empty.\")\n",
    "else:\n",
    "    max_num = max(num_list)\n",
    "    min_num = min(num_list)\n",
    "\n",
    "    print(\"Maximum element:\", max_num)\n",
    "    print(\"Minimum element:\", min_num)\n"
   ]
  },
  {
   "cell_type": "code",
   "execution_count": 36,
   "id": "6aefd556-9706-4708-b84b-326cff53022d",
   "metadata": {},
   "outputs": [
    {
     "name": "stdin",
     "output_type": "stream",
     "text": [
      "Enter a string Hello, World, How are you?\n"
     ]
    },
    {
     "name": "stdout",
     "output_type": "stream",
     "text": [
      "vowel count = 8\n",
      "consonanat count = 11\n"
     ]
    }
   ],
   "source": [
    "\"\"\"\n",
    "10. Write a Python program that takes a string input from the user and counts the number of consonants and vowels \n",
    "in the input. After taking the input, your program should print the counts of consonants and vowels separately\n",
    "\"\"\"\n",
    "\n",
    "string=input(\"Enter a string\")\n",
    "vowels=\"aeiouAEIOU\"\n",
    "vc=0\n",
    "cc=0\n",
    "for i in string:\n",
    "    if i.isalpha():\n",
    "        if i in vowels:\n",
    "            vc+=1\n",
    "        else:\n",
    "            cc+=1\n",
    "print(\"vowel count =\", vc)\n",
    "print(\"consonanat count =\", cc)"
   ]
  },
  {
   "cell_type": "code",
   "execution_count": null,
   "id": "0b6609b7-68aa-4846-86d6-cdb42c071f2d",
   "metadata": {},
   "outputs": [],
   "source": []
  }
 ],
 "metadata": {
  "kernelspec": {
   "display_name": "Python 3 (ipykernel)",
   "language": "python",
   "name": "python3"
  },
  "language_info": {
   "codemirror_mode": {
    "name": "ipython",
    "version": 3
   },
   "file_extension": ".py",
   "mimetype": "text/x-python",
   "name": "python",
   "nbconvert_exporter": "python",
   "pygments_lexer": "ipython3",
   "version": "3.9.0"
  }
 },
 "nbformat": 4,
 "nbformat_minor": 5
}
