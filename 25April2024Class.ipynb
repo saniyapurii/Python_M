{
 "cells": [
  {
   "cell_type": "code",
   "execution_count": 57,
   "id": "3f6a376b-8506-4538-ae7d-bdf8a07ef204",
   "metadata": {},
   "outputs": [
    {
     "name": "stdout",
     "output_type": "stream",
     "text": [
      "A B C D \n",
      "  10 100 1000 \n",
      "    B C \n",
      "      10000 \n"
     ]
    }
   ],
   "source": [
    "\"\"\"\n",
    "ABC\n",
    " BC\n",
    "\n",
    "A B  C  D\n",
    " 10 100 1000\n",
    "    B   C\n",
    "        100\n",
    "\"\"\"\n",
    "\n",
    "count=1\n",
    "x=10\n",
    "for i in range(1,5):\n",
    "    for k in range(1,i):\n",
    "        print(\" \", end=\" \")\n",
    "    for j in range(i,5):\n",
    "        if(i%2!=0):\n",
    "            print(chr(64+count), end=\" \")\n",
    "            count+=1\n",
    "        elif(i%2==0):\n",
    "            print(x, end=\" \")\n",
    "            x*=10\n",
    "            \n",
    "    count=2\n",
    "    print()"
   ]
  },
  {
   "cell_type": "markdown",
   "id": "7283b190-e332-4f1e-af56-789ff07caf46",
   "metadata": {},
   "source": [
    "# Pyramid\n",
    "\n",
    "#data type(list)\n"
   ]
  },
  {
   "cell_type": "code",
   "execution_count": 2,
   "id": "434ede63-52a9-437e-848a-dd8fe60426ec",
   "metadata": {},
   "outputs": [
    {
     "name": "stdout",
     "output_type": "stream",
     "text": [
      "1\n",
      "2\n",
      "4\n"
     ]
    }
   ],
   "source": [
    "for i in range(1,5):\n",
    "    if(i==3):\n",
    "        continue\n",
    "        print(\"Hello\")\n",
    "    print(i)"
   ]
  },
  {
   "cell_type": "code",
   "execution_count": 24,
   "id": "63144015-0099-4355-b45a-50bcc183a275",
   "metadata": {},
   "outputs": [
    {
     "name": "stdin",
     "output_type": "stream",
     "text": [
      "Enter a number to check prime number = 1\n"
     ]
    }
   ],
   "source": [
    "#prime numbers\n",
    "#33\n",
    "\n",
    "num=int(input(\"Enter a number to check prime number =\"))\n",
    "#num=int(num)\n",
    "for i in range(2,num):\n",
    "    if(num%i==0):\n",
    "        print(\"not prime\")\n",
    "    else:\n",
    "        print(\"Prime\")"
   ]
  },
  {
   "cell_type": "code",
   "execution_count": 32,
   "id": "4f9a49cf-d1bd-4b78-b903-80e2aefa6344",
   "metadata": {},
   "outputs": [
    {
     "name": "stdin",
     "output_type": "stream",
     "text": [
      "Enter a number to check prime number = 33\n"
     ]
    },
    {
     "name": "stdout",
     "output_type": "stream",
     "text": [
      "prime number\n"
     ]
    }
   ],
   "source": [
    "#prime numbers\n",
    "#33\n",
    "\n",
    "num=int(input(\"Enter a number to check prime number =\"))\n",
    "x=0\n",
    "#num=int(num)\n",
    "for i in range(2,num):\n",
    "    if(num%i==0):\n",
    "        x=1\n",
    "        break\n",
    "if(x==1):\n",
    "    print(\"Not a prime number\")\n",
    "else:\n",
    "    print(\"prime number\")"
   ]
  },
  {
   "cell_type": "code",
   "execution_count": null,
   "id": "b75eecf8-8ec9-4f99-b4bd-46ce52af9387",
   "metadata": {},
   "outputs": [],
   "source": [
    "#List(sequence)\n",
    "#List is a collection of multiple elements of different data types\n",
    "#Mutable:-Address is not changing.\n",
    "#Elements can be mutable or immutale\n",
    "#[]\n",
    "#update, delete, insert and access based on index position"
   ]
  },
  {
   "cell_type": "code",
   "execution_count": 38,
   "id": "27eecff7-1325-43c8-b890-2b8c7b992984",
   "metadata": {},
   "outputs": [
    {
     "data": {
      "text/plain": [
       "list"
      ]
     },
     "execution_count": 38,
     "metadata": {},
     "output_type": "execute_result"
    }
   ],
   "source": [
    "mylist=[10,20,30.0,\"Hello\"]\n",
    "type(mylist)"
   ]
  },
  {
   "cell_type": "code",
   "execution_count": 39,
   "id": "0b28a16b-034d-4c07-aed7-60719e115d64",
   "metadata": {},
   "outputs": [
    {
     "data": {
      "text/plain": [
       "[10, 20, 30.0, 'Hello']"
      ]
     },
     "execution_count": 39,
     "metadata": {},
     "output_type": "execute_result"
    }
   ],
   "source": [
    "mylist"
   ]
  },
  {
   "cell_type": "code",
   "execution_count": 43,
   "id": "5d17b064-6585-4fb7-a0d6-3b299321344e",
   "metadata": {},
   "outputs": [
    {
     "data": {
      "text/plain": [
       "(10, [-2])"
      ]
     },
     "execution_count": 43,
     "metadata": {},
     "output_type": "execute_result"
    }
   ],
   "source": [
    "mylist[0]"
   ]
  },
  {
   "cell_type": "code",
   "execution_count": 44,
   "id": "21afb6c5-340d-45dc-9d63-7a92f181ed30",
   "metadata": {},
   "outputs": [
    {
     "data": {
      "text/plain": [
       "30.0"
      ]
     },
     "execution_count": 44,
     "metadata": {},
     "output_type": "execute_result"
    }
   ],
   "source": [
    "mylist[-2]"
   ]
  },
  {
   "cell_type": "code",
   "execution_count": 49,
   "id": "52ac649d-6e6b-433a-b832-f777987dc9d9",
   "metadata": {},
   "outputs": [
    {
     "data": {
      "text/plain": [
       "[10, 20, 30.0]"
      ]
     },
     "execution_count": 49,
     "metadata": {},
     "output_type": "execute_result"
    }
   ],
   "source": [
    "mylist[0:3]"
   ]
  },
  {
   "cell_type": "code",
   "execution_count": 48,
   "id": "b694ea10-4e99-4f4e-9243-90230d621e5c",
   "metadata": {},
   "outputs": [
    {
     "data": {
      "text/plain": [
       "['Hello', 30.0, 20]"
      ]
     },
     "execution_count": 48,
     "metadata": {},
     "output_type": "execute_result"
    }
   ],
   "source": [
    "mylist[-1:-4:-1]"
   ]
  },
  {
   "cell_type": "code",
   "execution_count": 51,
   "id": "45651114-4f0f-423c-9d6e-18688b0aac59",
   "metadata": {},
   "outputs": [
    {
     "data": {
      "text/plain": [
       "[90, 20, 30.0, 'Hello']"
      ]
     },
     "execution_count": 51,
     "metadata": {},
     "output_type": "execute_result"
    }
   ],
   "source": [
    "mylist=[10,20,30.0,\"Hello\"]\n",
    "mylist[0]=90\n",
    "mylist"
   ]
  },
  {
   "cell_type": "code",
   "execution_count": 53,
   "id": "37b92b3e-8e8b-4ab8-be5b-6410b0b1de61",
   "metadata": {},
   "outputs": [
    {
     "data": {
      "text/plain": [
       "['A', 'B', 30.0, 'Hello']"
      ]
     },
     "execution_count": 53,
     "metadata": {},
     "output_type": "execute_result"
    }
   ],
   "source": [
    "mylist=[10,20,30.0,\"Hello\"]\n",
    "mylist[0:2]=[\"A\", \"B\"]\n",
    "mylist"
   ]
  },
  {
   "cell_type": "code",
   "execution_count": 58,
   "id": "e2f93610-35f5-46f3-9ec1-4db26eca1a9b",
   "metadata": {},
   "outputs": [
    {
     "data": {
      "text/plain": [
       "[10, 20, 30.0, 'Hello', 'Piyush']"
      ]
     },
     "execution_count": 58,
     "metadata": {},
     "output_type": "execute_result"
    }
   ],
   "source": [
    "#list functions\n",
    "\n",
    "mylist=[10,20,30.0,\"Hello\"]\n",
    "mylist.append(\"Piyush\")\n",
    "mylist"
   ]
  },
  {
   "cell_type": "code",
   "execution_count": 62,
   "id": "88c8da72-c19b-400b-97c2-dbcac64017a2",
   "metadata": {},
   "outputs": [
    {
     "data": {
      "text/plain": [
       "[10, 20, 30.0, 'Hello', 'P', 'i', 'y', 'u', 's', 'h']"
      ]
     },
     "execution_count": 62,
     "metadata": {},
     "output_type": "execute_result"
    }
   ],
   "source": [
    "mylist=[10,20,30.0,\"Hello\"]\n",
    "mylist.extend(\"Piyush\")\n",
    "mylist"
   ]
  },
  {
   "cell_type": "code",
   "execution_count": 61,
   "id": "51d2f9b0-ec31-4b61-9bb7-67d1203eb888",
   "metadata": {},
   "outputs": [
    {
     "data": {
      "text/plain": [
       "[10, 20, 30.0, 'Hello', 'Piyush']"
      ]
     },
     "execution_count": 61,
     "metadata": {},
     "output_type": "execute_result"
    }
   ],
   "source": [
    "mylist=[10,20,30.0,\"Hello\"]\n",
    "mylist.extend([\"Piyush\"])\n",
    "mylist"
   ]
  },
  {
   "cell_type": "code",
   "execution_count": 66,
   "id": "7a54da82-dfd4-475e-9593-b99ccfdc2fab",
   "metadata": {},
   "outputs": [
    {
     "data": {
      "text/plain": [
       "[10, 20, 30.0, 'Hello', 'Piyush', 'AB', 9, 10]"
      ]
     },
     "execution_count": 66,
     "metadata": {},
     "output_type": "execute_result"
    }
   ],
   "source": [
    "mylist=[10,20,30.0,\"Hello\"]\n",
    "mylist.extend([\"Piyush\", \"AB\", 9, 10])\n",
    "mylist"
   ]
  },
  {
   "cell_type": "code",
   "execution_count": 72,
   "id": "fc2db38f-edee-4571-8fc4-f4a800a5f880",
   "metadata": {},
   "outputs": [
    {
     "data": {
      "text/plain": [
       "'Hello'"
      ]
     },
     "execution_count": 72,
     "metadata": {},
     "output_type": "execute_result"
    }
   ],
   "source": [
    "mylist=[10,20,30.0,\"Hello\"]\n",
    "mylist.pop()#bydefault deletes last value, and it returns value"
   ]
  },
  {
   "cell_type": "code",
   "execution_count": 75,
   "id": "2af8355c-86e1-4089-9679-7222e19db697",
   "metadata": {},
   "outputs": [],
   "source": [
    "mylist=[10,20,30.0,\"Hello\"]\n",
    "x=mylist.pop()"
   ]
  },
  {
   "cell_type": "code",
   "execution_count": 76,
   "id": "b7635cb5-3560-4ee9-ab1c-051501a04c92",
   "metadata": {},
   "outputs": [
    {
     "name": "stdout",
     "output_type": "stream",
     "text": [
      "[10, 20, 30.0] Hello\n"
     ]
    }
   ],
   "source": [
    "mylist=[10,20,30.0,\"Hello\"]\n",
    "x=mylist.pop()\n",
    "print(mylist, x)"
   ]
  },
  {
   "cell_type": "code",
   "execution_count": 77,
   "id": "e800cc60-915b-482a-94e4-0120a976f3de",
   "metadata": {},
   "outputs": [
    {
     "name": "stdout",
     "output_type": "stream",
     "text": [
      "[10, 20, 'Hello'] 30.0\n"
     ]
    }
   ],
   "source": [
    "mylist=[10,20,30.0,\"Hello\"]\n",
    "x=mylist.pop(2)#Index value\n",
    "print(mylist, x)"
   ]
  },
  {
   "cell_type": "code",
   "execution_count": 81,
   "id": "2803cde9-b674-44db-927f-88109f694074",
   "metadata": {},
   "outputs": [
    {
     "name": "stdout",
     "output_type": "stream",
     "text": [
      "Help on list object:\n",
      "\n",
      "class list(object)\n",
      " |  list(iterable=(), /)\n",
      " |  \n",
      " |  Built-in mutable sequence.\n",
      " |  \n",
      " |  If no argument is given, the constructor creates a new empty list.\n",
      " |  The argument must be an iterable if specified.\n",
      " |  \n",
      " |  Methods defined here:\n",
      " |  \n",
      " |  __add__(self, value, /)\n",
      " |      Return self+value.\n",
      " |  \n",
      " |  __contains__(self, key, /)\n",
      " |      Return key in self.\n",
      " |  \n",
      " |  __delitem__(self, key, /)\n",
      " |      Delete self[key].\n",
      " |  \n",
      " |  __eq__(self, value, /)\n",
      " |      Return self==value.\n",
      " |  \n",
      " |  __ge__(self, value, /)\n",
      " |      Return self>=value.\n",
      " |  \n",
      " |  __getattribute__(self, name, /)\n",
      " |      Return getattr(self, name).\n",
      " |  \n",
      " |  __getitem__(...)\n",
      " |      x.__getitem__(y) <==> x[y]\n",
      " |  \n",
      " |  __gt__(self, value, /)\n",
      " |      Return self>value.\n",
      " |  \n",
      " |  __iadd__(self, value, /)\n",
      " |      Implement self+=value.\n",
      " |  \n",
      " |  __imul__(self, value, /)\n",
      " |      Implement self*=value.\n",
      " |  \n",
      " |  __init__(self, /, *args, **kwargs)\n",
      " |      Initialize self.  See help(type(self)) for accurate signature.\n",
      " |  \n",
      " |  __iter__(self, /)\n",
      " |      Implement iter(self).\n",
      " |  \n",
      " |  __le__(self, value, /)\n",
      " |      Return self<=value.\n",
      " |  \n",
      " |  __len__(self, /)\n",
      " |      Return len(self).\n",
      " |  \n",
      " |  __lt__(self, value, /)\n",
      " |      Return self<value.\n",
      " |  \n",
      " |  __mul__(self, value, /)\n",
      " |      Return self*value.\n",
      " |  \n",
      " |  __ne__(self, value, /)\n",
      " |      Return self!=value.\n",
      " |  \n",
      " |  __repr__(self, /)\n",
      " |      Return repr(self).\n",
      " |  \n",
      " |  __reversed__(self, /)\n",
      " |      Return a reverse iterator over the list.\n",
      " |  \n",
      " |  __rmul__(self, value, /)\n",
      " |      Return value*self.\n",
      " |  \n",
      " |  __setitem__(self, key, value, /)\n",
      " |      Set self[key] to value.\n",
      " |  \n",
      " |  __sizeof__(self, /)\n",
      " |      Return the size of the list in memory, in bytes.\n",
      " |  \n",
      " |  append(self, object, /)\n",
      " |      Append object to the end of the list.\n",
      " |  \n",
      " |  clear(self, /)\n",
      " |      Remove all items from list.\n",
      " |  \n",
      " |  copy(self, /)\n",
      " |      Return a shallow copy of the list.\n",
      " |  \n",
      " |  count(self, value, /)\n",
      " |      Return number of occurrences of value.\n",
      " |  \n",
      " |  extend(self, iterable, /)\n",
      " |      Extend list by appending elements from the iterable.\n",
      " |  \n",
      " |  index(self, value, start=0, stop=9223372036854775807, /)\n",
      " |      Return first index of value.\n",
      " |      \n",
      " |      Raises ValueError if the value is not present.\n",
      " |  \n",
      " |  insert(self, index, object, /)\n",
      " |      Insert object before index.\n",
      " |  \n",
      " |  pop(self, index=-1, /)\n",
      " |      Remove and return item at index (default last).\n",
      " |      \n",
      " |      Raises IndexError if list is empty or index is out of range.\n",
      " |  \n",
      " |  remove(self, value, /)\n",
      " |      Remove first occurrence of value.\n",
      " |      \n",
      " |      Raises ValueError if the value is not present.\n",
      " |  \n",
      " |  reverse(self, /)\n",
      " |      Reverse *IN PLACE*.\n",
      " |  \n",
      " |  sort(self, /, *, key=None, reverse=False)\n",
      " |      Sort the list in ascending order and return None.\n",
      " |      \n",
      " |      The sort is in-place (i.e. the list itself is modified) and stable (i.e. the\n",
      " |      order of two equal elements is maintained).\n",
      " |      \n",
      " |      If a key function is given, apply it once to each list item and sort them,\n",
      " |      ascending or descending, according to their function values.\n",
      " |      \n",
      " |      The reverse flag can be set to sort in descending order.\n",
      " |  \n",
      " |  ----------------------------------------------------------------------\n",
      " |  Class methods defined here:\n",
      " |  \n",
      " |  __class_getitem__(...) from builtins.type\n",
      " |      See PEP 585\n",
      " |  \n",
      " |  ----------------------------------------------------------------------\n",
      " |  Static methods defined here:\n",
      " |  \n",
      " |  __new__(*args, **kwargs) from builtins.type\n",
      " |      Create and return a new object.  See help(type) for accurate signature.\n",
      " |  \n",
      " |  ----------------------------------------------------------------------\n",
      " |  Data and other attributes defined here:\n",
      " |  \n",
      " |  __hash__ = None\n",
      "\n"
     ]
    }
   ],
   "source": [
    "mylist=[10,20,30.0,\"Hello\"]\n",
    "mylist.pop #Press tab for more functions/options\n",
    "help(mylist)#help(name of list)"
   ]
  },
  {
   "cell_type": "code",
   "execution_count": null,
   "id": "a6d79a8c-b877-4f4d-b594-e852464eba5f",
   "metadata": {},
   "outputs": [],
   "source": [
    "mylist=[10,20,30.0,\"Hello\"]\n",
    "x=mylist.pop(2)#Index value\n",
    "print(mylist, x)"
   ]
  },
  {
   "cell_type": "code",
   "execution_count": 83,
   "id": "4c224242-c22f-4005-80e2-249d32813500",
   "metadata": {},
   "outputs": [
    {
     "data": {
      "text/plain": [
       "[10, 30.0, 'Hello']"
      ]
     },
     "execution_count": 83,
     "metadata": {},
     "output_type": "execute_result"
    }
   ],
   "source": [
    "mylist=[10,20,30.0,\"Hello\"]\n",
    "mylist.remove(20)\n",
    "mylist"
   ]
  },
  {
   "cell_type": "code",
   "execution_count": 85,
   "id": "8d6f7f20-df54-4b93-9305-c9df19535148",
   "metadata": {},
   "outputs": [
    {
     "data": {
      "text/plain": [
       "[10, 30.0, 'Hello', 20, 10, 20]"
      ]
     },
     "execution_count": 85,
     "metadata": {},
     "output_type": "execute_result"
    }
   ],
   "source": [
    "mylist=[10,20,30.0,\"Hello\",20,10,20]\n",
    "mylist.remove(20)#Delete first 20 from left\n",
    "mylist"
   ]
  },
  {
   "cell_type": "code",
   "execution_count": 86,
   "id": "e695c802-c09b-44a2-a6be-24012ca17777",
   "metadata": {},
   "outputs": [
    {
     "name": "stdout",
     "output_type": "stream",
     "text": [
      "[30.0, 'Hello', 20, 10, 20]\n"
     ]
    }
   ],
   "source": [
    "del mylist[0]\n",
    "print(mylist)"
   ]
  },
  {
   "cell_type": "code",
   "execution_count": 88,
   "id": "7fbbe65e-6888-4ed2-97c1-289581df4558",
   "metadata": {},
   "outputs": [
    {
     "name": "stdout",
     "output_type": "stream",
     "text": [
      "10\n",
      "20\n",
      "30.0\n",
      "Hello\n"
     ]
    }
   ],
   "source": [
    "mylist=[10,20,30.0,\"Hello\"]\n",
    "for i in mylist:\n",
    "    print(i)"
   ]
  },
  {
   "cell_type": "code",
   "execution_count": 98,
   "id": "6cb52850-bb03-4a7a-8303-67c387807313",
   "metadata": {},
   "outputs": [
    {
     "name": "stdout",
     "output_type": "stream",
     "text": [
      "1\n",
      "2\n"
     ]
    }
   ],
   "source": [
    "#make a list, and check the data type of list, if int then print otherwise no\n",
    "\n",
    "mylist=[\"a\", 1, 2]\n",
    "\n",
    "for i in mylist:\n",
    "    if type(i) == int:\n",
    "        print(i)"
   ]
  },
  {
   "cell_type": "code",
   "execution_count": 101,
   "id": "de9d8c39-e63f-4c4e-b1ee-d48d4534d394",
   "metadata": {},
   "outputs": [
    {
     "name": "stdout",
     "output_type": "stream",
     "text": [
      "a\n"
     ]
    }
   ],
   "source": [
    "mylist=[\"a\", 1, 2]\n",
    "\n",
    "for i in mylist:\n",
    "    if (type(i) is str):\n",
    "        print(i)"
   ]
  },
  {
   "cell_type": "code",
   "execution_count": 106,
   "id": "9f03b4b0-2712-43db-9a87-7a3887a2f378",
   "metadata": {},
   "outputs": [
    {
     "name": "stdout",
     "output_type": "stream",
     "text": [
      "2\n",
      "4\n",
      "8\n",
      "10\n"
     ]
    }
   ],
   "source": [
    "mylist=[\"a\", 1, 2, 4, 5, 8, 9, 10]\n",
    "\n",
    "for i in mylist:\n",
    "    if (type(i) is int and i%2==0):\n",
    "        print(i)"
   ]
  },
  {
   "cell_type": "code",
   "execution_count": 110,
   "id": "3d614a66-5225-4f23-907e-5a8a7001c515",
   "metadata": {},
   "outputs": [
    {
     "data": {
      "text/plain": [
       "[2, 4, 8, 10]"
      ]
     },
     "execution_count": 110,
     "metadata": {},
     "output_type": "execute_result"
    }
   ],
   "source": [
    "mylist=[\"a\", 1, 2, 4, 5, 8, 9, 10]\n",
    "newlist=[]\n",
    "for i in mylist:\n",
    "    if (type(i) is int and i%2==0):\n",
    "        newlist.append(i)\n",
    "newlist"
   ]
  },
  {
   "cell_type": "code",
   "execution_count": 125,
   "id": "8aa09021-a078-49e8-b41d-f27360563880",
   "metadata": {},
   "outputs": [
    {
     "name": "stdin",
     "output_type": "stream",
     "text": [
      "Enter value =  7\n"
     ]
    },
    {
     "data": {
      "text/plain": [
       "[1, 7]"
      ]
     },
     "execution_count": 125,
     "metadata": {},
     "output_type": "execute_result"
    }
   ],
   "source": [
    "#take user input int value, and store it facotrs in list\n",
    "x=int(input(\"Enter value = \"))\n",
    "newlist=[]\n",
    "for i in range (1,x+1):\n",
    "    if (x%i==0):\n",
    "        newlist.append(i)\n",
    "newlist"
   ]
  },
  {
   "cell_type": "code",
   "execution_count": null,
   "id": "a0f3e47a-1755-4c18-8e50-2df45c387c3a",
   "metadata": {},
   "outputs": [],
   "source": []
  }
 ],
 "metadata": {
  "kernelspec": {
   "display_name": "Python 3 (ipykernel)",
   "language": "python",
   "name": "python3"
  },
  "language_info": {
   "codemirror_mode": {
    "name": "ipython",
    "version": 3
   },
   "file_extension": ".py",
   "mimetype": "text/x-python",
   "name": "python",
   "nbconvert_exporter": "python",
   "pygments_lexer": "ipython3",
   "version": "3.9.0"
  }
 },
 "nbformat": 4,
 "nbformat_minor": 5
}
