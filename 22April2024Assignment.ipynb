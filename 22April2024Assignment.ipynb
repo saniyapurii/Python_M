{
 "cells": [
  {
   "cell_type": "code",
   "execution_count": 2,
   "metadata": {},
   "outputs": [],
   "source": [
    "#1 run a for loop and find total sum of first 20 natural numbers\n",
    "#2 run a for loop and find total sum of last 20, 3-digit natural numbers\n",
    "#3 run a for loop and find the product & average of any 20 natural numbers\n",
    "#4 print a multiplication table of a number given by user\n",
    "#5 find out the sum of power of starting 6 number\n",
    "  #2**6\n",
    "    #2**1 + 2**2 + 2**3 + .... 2**6\n",
    "#6 take a string from the user and find out the total consonant which are available in a string\n",
    "#7 take a int number from the user and find out the total sum, average aand the product of that number from 1 to the input provided only for odd values"
   ]
  },
  {
   "cell_type": "code",
   "execution_count": 3,
   "metadata": {},
   "outputs": [
    {
     "name": "stdout",
     "output_type": "stream",
     "text": [
      "210\n"
     ]
    }
   ],
   "source": [
    "#1 run a for loop and find total sum of first 20 natural numbers\n",
    "\n",
    "sum = 0\n",
    "for i in range(1,21):\n",
    "    sum +=i\n",
    "print(sum)\n"
   ]
  },
  {
   "cell_type": "code",
   "execution_count": 4,
   "metadata": {},
   "outputs": [
    {
     "name": "stdout",
     "output_type": "stream",
     "text": [
      "19790\n"
     ]
    }
   ],
   "source": [
    "#2 run a for loop and find total sum of last 20, 3-digit natural numbers\n",
    "\n",
    "sum=0\n",
    "for i in range (999,979, -1):\n",
    "    sum += i\n",
    "print(sum)"
   ]
  },
  {
   "cell_type": "code",
   "execution_count": 5,
   "metadata": {},
   "outputs": [
    {
     "name": "stdout",
     "output_type": "stream",
     "text": [
      "2432902008176640000 10.5\n"
     ]
    }
   ],
   "source": [
    "#3 run a for loop and find the product & average of any 20 natural numbers\n",
    "\n",
    "prod=1\n",
    "avg=0\n",
    "sum = 0\n",
    "\n",
    "for i in range(1,21):\n",
    "    prod *=i\n",
    "    sum += i\n",
    "    avg = sum/20\n",
    "print(prod, avg)"
   ]
  },
  {
   "cell_type": "code",
   "execution_count": 6,
   "metadata": {},
   "outputs": [
    {
     "name": "stdout",
     "output_type": "stream",
     "text": [
      "2\n",
      "4\n",
      "6\n",
      "8\n",
      "10\n",
      "12\n",
      "14\n",
      "16\n",
      "18\n",
      "20\n"
     ]
    }
   ],
   "source": [
    "#4 print a multiplication table of a number given by user\n",
    "x=int(input(\"Enter number to print table = \"))\n",
    "\n",
    "for i in range(1,11):\n",
    "    table = x*i\n",
    "    print(table)\n",
    "    \n"
   ]
  },
  {
   "cell_type": "code",
   "execution_count": 7,
   "metadata": {},
   "outputs": [
    {
     "name": "stdout",
     "output_type": "stream",
     "text": [
      "2\n",
      "6\n",
      "14\n",
      "30\n",
      "62\n",
      "126\n"
     ]
    }
   ],
   "source": [
    "#5 find out the sum of power of starting 6 number\n",
    "\n",
    "x=int(input(\"Enter the number = \"))\n",
    "sum=0\n",
    "prod=1\n",
    "for i in range(1, 7):\n",
    "    prod=x**i\n",
    "    sum=prod+sum\n",
    "    print(sum)\n",
    "    "
   ]
  },
  {
   "cell_type": "code",
   "execution_count": 8,
   "metadata": {},
   "outputs": [
    {
     "name": "stdout",
     "output_type": "stream",
     "text": [
      "Total consonants: 4\n"
     ]
    }
   ],
   "source": [
    "#6 take a string from the user and find out the total consonant which are available in a string\n",
    "x = input(\"Enter a word: \")\n",
    "vowels = {'a', 'e', 'i', 'o', 'u'}\n",
    "count = 0\n",
    "\n",
    "for i in x:\n",
    "    if i not in vowels:\n",
    "        count += 1\n",
    "\n",
    "print(\"Total consonants:\", count)\n"
   ]
  },
  {
   "cell_type": "code",
   "execution_count": 9,
   "metadata": {},
   "outputs": [
    {
     "name": "stdout",
     "output_type": "stream",
     "text": [
      "Total consonants: 3\n"
     ]
    }
   ],
   "source": [
    "#6 take a string from the user and find out the total consonant which are available in a string\n",
    "x = input(\"Enter a word: \")\n",
    "count =0\n",
    "for i in x:\n",
    "    if(i!='a' and i!='e' and i!='i' and i!='o' and i!='u'):\n",
    "        count = count +1\n",
    "print(\"Total consonants:\", count)\n"
   ]
  },
  {
   "cell_type": "code",
   "execution_count": 10,
   "metadata": {},
   "outputs": [
    {
     "name": "stdout",
     "output_type": "stream",
     "text": [
      "55 3628800 5.5\n"
     ]
    }
   ],
   "source": [
    "#7 take a int number from the user and find out the total sum, average aand the product of that number from 1 to the input provided only for odd values\n",
    "\n",
    "num = int(input(\"Enter the end number for range = \"))\n",
    "\n",
    "sum =0\n",
    "prod =1\n",
    "\n",
    "for i in range (1,num+1):\n",
    "    sum +=i\n",
    "    prod= prod *i\n",
    "    avg = sum/num\n",
    "print(sum, prod, avg)"
   ]
  },
  {
   "cell_type": "code",
   "execution_count": 11,
   "metadata": {},
   "outputs": [
    {
     "name": "stdout",
     "output_type": "stream",
     "text": [
      "25 945 5.0\n"
     ]
    }
   ],
   "source": [
    "#7 take a int number from the user and find out the total sum, average aand the product of that number from 1 to the input provided only for odd values\n",
    "\n",
    "num = int(input(\"Enter the end number for range = \"))\n",
    "\n",
    "sum =0\n",
    "prod =1\n",
    "count=0\n",
    "for i in range (1,num+1):\n",
    "    if(i%2!=0):\n",
    "        sum +=i\n",
    "        count=count+1\n",
    "        prod= prod *i\n",
    "        avg = sum/count\n",
    "        \n",
    "print(sum, prod, avg)"
   ]
  }
 ],
 "metadata": {
  "kernelspec": {
   "display_name": "Python 3",
   "language": "python",
   "name": "python3"
  },
  "language_info": {
   "codemirror_mode": {
    "name": "ipython",
    "version": 3
   },
   "file_extension": ".py",
   "mimetype": "text/x-python",
   "name": "python",
   "nbconvert_exporter": "python",
   "pygments_lexer": "ipython3",
   "version": "3.9.0"
  }
 },
 "nbformat": 4,
 "nbformat_minor": 2
}
