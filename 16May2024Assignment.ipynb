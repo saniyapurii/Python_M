{
 "cells": [
  {
   "cell_type": "code",
   "execution_count": 3,
   "id": "d4dc6609-e81f-4464-9658-26d4cda2009f",
   "metadata": {},
   "outputs": [
    {
     "name": "stdout",
     "output_type": "stream",
     "text": [
      "a= 4 b= 3\n"
     ]
    }
   ],
   "source": [
    "#Q1 Swap the number without using third varible\n",
    "\n",
    "a=3\n",
    "b=4\n",
    "a=b+a\n",
    "b=a-b\n",
    "a=a-b\n",
    "print (\"a=\",a,\"b=\",b)"
   ]
  },
  {
   "cell_type": "code",
   "execution_count": 15,
   "id": "f50fb5c9-1958-4583-a987-b0ddbe965be7",
   "metadata": {},
   "outputs": [
    {
     "name": "stdout",
     "output_type": "stream",
     "text": [
      "6 3 5 7 "
     ]
    }
   ],
   "source": [
    "#Q2 : Write a Program to extract each digit from an integer in the reverse order.\n",
    "\"\"\"For example, If the given int is 7536, the output shall be “6 3 5 7“, with a space separating the\n",
    "digits.\"\"\"\n",
    "\n",
    "a=7536\n",
    "while a!= 0:\n",
    "    c = a % 10\n",
    "    print (c, end = \" \")\n",
    "    a //= 10\n",
    "\n"
   ]
  },
  {
   "cell_type": "code",
   "execution_count": 19,
   "id": "6857028a-680f-499a-8598-a000e328d215",
   "metadata": {},
   "outputs": [
    {
     "name": "stdout",
     "output_type": "stream",
     "text": [
      "Sum is  10\n"
     ]
    }
   ],
   "source": [
    "#Q3 Write a program that will give you the sum of 3 digits\n",
    "\n",
    "a=253\n",
    "sum = 0\n",
    "while a!=0:\n",
    "    c = a%10\n",
    "    sum += c\n",
    "    a//=10\n",
    "print(\"Sum is \", sum)"
   ]
  },
  {
   "cell_type": "code",
   "execution_count": 2,
   "id": "6d96b624-033a-40d8-92b1-5cf6ebe6876d",
   "metadata": {},
   "outputs": [
    {
     "name": "stdin",
     "output_type": "stream",
     "text": [
      "Enter a 3 digit number =  234\n"
     ]
    },
    {
     "name": "stdout",
     "output_type": "stream",
     "text": [
      "sum of square of 3 digits of goven number is = 29\n"
     ]
    }
   ],
   "source": [
    "#Q4 Write a program that will take three digits from the user and add the square of each digit.\n",
    "\n",
    "a=int(input(\"Enter a 3 digit number = \"))\n",
    "\n",
    "sum_of_square = 0\n",
    "while a!=0:\n",
    "    c=a%10\n",
    "    s=c**2\n",
    "    sum_of_square+=s\n",
    "    a//=10\n",
    "print (\"sum of square of 3 digits of goven number is =\", sum_of_square)"
   ]
  },
  {
   "cell_type": "code",
   "execution_count": 4,
   "id": "ddaa1671-5411-4130-8a78-0d45b0cd6cb2",
   "metadata": {},
   "outputs": [
    {
     "name": "stdin",
     "output_type": "stream",
     "text": [
      "Enter a number:  153\n"
     ]
    },
    {
     "name": "stdout",
     "output_type": "stream",
     "text": [
      "153 is an Armstrong number\n"
     ]
    }
   ],
   "source": [
    "#Q5 Write a program that will check whether the number is armstrong number or not.\n",
    "\n",
    "num = int(input(\"Enter a number: \"))\n",
    "sum = 0\n",
    "a = num\n",
    "while a > 0:\n",
    "   digit = a % 10\n",
    "   sum += digit ** 3\n",
    "   a //= 10\n",
    "\n",
    "if num == sum:\n",
    "   print(num,\"is an Armstrong number\")\n",
    "else:\n",
    "   print(num,\"is not an Armstrong number\")"
   ]
  },
  {
   "cell_type": "code",
   "execution_count": 2,
   "id": "2d747717-9ecc-4abb-9757-70ced4164b73",
   "metadata": {},
   "outputs": [
    {
     "name": "stdin",
     "output_type": "stream",
     "text": [
      "Enter a number:  1634\n"
     ]
    },
    {
     "name": "stdout",
     "output_type": "stream",
     "text": [
      "1634 is an narcissist number\n"
     ]
    }
   ],
   "source": [
    "#Q6 :Write a program that will take user input of (4 digits number) and check whether the number is narcissist number or not.\n",
    "num = int(input(\"Enter a number: \"))\n",
    "num_str = str(num)\n",
    "n = len(num_str)\n",
    "sum = 0\n",
    "\n",
    "for a in num_str:\n",
    "    sq=int(a)**n\n",
    "    sum+= sq\n",
    "\n",
    "if num == sum:\n",
    "   print(num,\"is an narcissist number\")\n",
    "else:\n",
    "   print(num,\"is not an narcissist number\")"
   ]
  },
  {
   "cell_type": "code",
   "execution_count": 10,
   "id": "38612b9b-21f9-411e-a289-d0f25e7cf65a",
   "metadata": {},
   "outputs": [
    {
     "name": "stdout",
     "output_type": "stream",
     "text": [
      "Formatted float number: 12.12\n"
     ]
    }
   ],
   "source": [
    "#Q7 Display float number with 2 decimal places using print()\n",
    "\n",
    "num = 12.123\n",
    "print(\"Formatted float number:\", \"{:.2f}\".format(num))\n"
   ]
  },
  {
   "cell_type": "code",
   "execution_count": 20,
   "id": "cf35030a-74c0-4e4f-9fa6-b9a4b21d7d6b",
   "metadata": {},
   "outputs": [
    {
     "name": "stdin",
     "output_type": "stream",
     "text": [
      "Enter a number:  7\n"
     ]
    },
    {
     "name": "stdout",
     "output_type": "stream",
     "text": [
      "Factors of 7 =\n",
      "1\n",
      "7\n"
     ]
    }
   ],
   "source": [
    "#Q8 Print all factors of a given number provided by the user.\n",
    "a = int(input(\"Enter a number: \"))\n",
    "\n",
    "print(\"Factors of\", a, \"=\")\n",
    "for i in range(1, a+1):\n",
    "    if a%i == 0:\n",
    "        print(i)\n"
   ]
  },
  {
   "cell_type": "code",
   "execution_count": 29,
   "id": "9e3b68e2-a769-4065-bb91-8a8dbe0c8702",
   "metadata": {},
   "outputs": [
    {
     "name": "stdout",
     "output_type": "stream",
     "text": [
      "Enter float numbers = \n"
     ]
    },
    {
     "name": "stdin",
     "output_type": "stream",
     "text": [
      " 1.2\n",
      " 2.3\n",
      " 3.4\n",
      " 4.5\n",
      " 5.6\n"
     ]
    },
    {
     "name": "stdout",
     "output_type": "stream",
     "text": [
      "List of float numbers: [1.2, 2.3, 3.4, 4.5, 5.6]\n"
     ]
    }
   ],
   "source": [
    "#Q9 Accept a list of 5 float numbers as an input from the user\n",
    "list1 = [ ]\n",
    "print(\"Enter float numbers = \")\n",
    "for i in range (0,5):\n",
    "    num = float(input())\n",
    "    list1.append(num)\n",
    "print(\"List of float numbers:\", list1)"
   ]
  },
  {
   "cell_type": "code",
   "execution_count": 31,
   "id": "69b4da6a-e4bf-45ee-b72c-8c5029441d75",
   "metadata": {},
   "outputs": [
    {
     "name": "stdin",
     "output_type": "stream",
     "text": [
      "Enter the radius of the cylinder (in cm):  3\n",
      "Enter the height of the cylinder (in cm):  4\n"
     ]
    },
    {
     "name": "stdout",
     "output_type": "stream",
     "text": [
      "Volume of the cylinder: 113.04 cubic cm\n",
      "Cost of filling the cylinder with milk: Rs. 4521.6\n"
     ]
    }
   ],
   "source": [
    "#Q10 : Write a program to find the volume of the cylinder. Also find the cost when ,when the cost of 1litre milk is 40Rs.\n",
    "radius = float(input(\"Enter the radius of the cylinder (in cm): \"))\n",
    "height = float(input(\"Enter the height of the cylinder (in cm): \"))\n",
    "#pi=3.14\n",
    "volume = 3.14 * radius**2 * height\n",
    "cost_per_liter = 40\n",
    "total_cost = volume * cost_per_liter\n",
    "print(\"Volume of the cylinder:\", volume, \"cubic cm\")\n",
    "print(\"Cost of filling the cylinder with milk: Rs.\", total_cost)\n"
   ]
  },
  {
   "cell_type": "code",
   "execution_count": null,
   "id": "7ad371a3-f501-4bdf-a26d-ae6698e4b124",
   "metadata": {},
   "outputs": [],
   "source": [
    "#set 1 Basic_if_for_loop questions"
   ]
  },
  {
   "cell_type": "code",
   "execution_count": 32,
   "id": "d54615f0-454b-4b3d-b120-ffdf98bfd9d4",
   "metadata": {},
   "outputs": [
    {
     "name": "stdin",
     "output_type": "stream",
     "text": [
      "Enter your salary = 45000\n"
     ]
    },
    {
     "name": "stdout",
     "output_type": "stream",
     "text": [
      "Income tax payable: 6000.0\n"
     ]
    }
   ],
   "source": [
    "\"\"\"\n",
    "1. Calculate income tax for the given income by adhering to the below rules\n",
    "a. first 10k => 0%\n",
    "b. second 10 => 10%\n",
    "c. Remaining => 20%\n",
    "d. For example, suppose the taxable income is 45000 the income tax payable is\n",
    "$6000\n",
    "\"\"\"\n",
    "\n",
    "income = int(input(\"Enter your salary =\"))\n",
    "\n",
    "if income <= 10000:\n",
    "    tax_payable = 0\n",
    "elif income <= 20000:\n",
    "    tax_payable = (income - 10000) * (10/100)\n",
    "elif income > 20000:\n",
    "    tax_payable = 10000 * (10/100) + (income - 20000) * (20/100)\n",
    "\n",
    "print(\"Income tax payable:\", tax_payable)\n"
   ]
  },
  {
   "cell_type": "code",
   "execution_count": 35,
   "id": "41b3dc7b-5621-4b38-a4f6-1b6570ff23d4",
   "metadata": {},
   "outputs": [
    {
     "name": "stdin",
     "output_type": "stream",
     "text": [
      "Enter angle 1 = 40\n",
      "Enter angle 2 = 60\n",
      "Enter angle 3 = 80\n"
     ]
    },
    {
     "name": "stdout",
     "output_type": "stream",
     "text": [
      "It can form a triangle.\n"
     ]
    }
   ],
   "source": [
    "\"\"\"\n",
    "2. Write a program that take a user input of three angles and will find out whether it can\n",
    "form a triangle or not.\n",
    "\"\"\"\n",
    "angle1 = int(input(\"Enter angle 1 =\"))\n",
    "angle2 = int(input(\"Enter angle 2 =\"))\n",
    "angle3 = int(input(\"Enter angle 3 =\"))\n",
    "\n",
    "angles_sum = angle1+angle2+angle3\n",
    "\n",
    "if (angles_sum==180 and angle1>0 and angle2>0 and angle3>0):\n",
    "    print(\"It can form a triangle.\")\n",
    "else:\n",
    "    print(\"It cannot form a triangle.\")"
   ]
  },
  {
   "cell_type": "code",
   "execution_count": 36,
   "id": "055c37c0-d88e-4c90-a046-b255321c495a",
   "metadata": {},
   "outputs": [
    {
     "name": "stdin",
     "output_type": "stream",
     "text": [
      "Enter the temperature =  30\n",
      "Enter the humidity = 78\n"
     ]
    },
    {
     "name": "stdout",
     "output_type": "stream",
     "text": [
      "Weather is Hot\n"
     ]
    }
   ],
   "source": [
    "\"\"\"3. Write a program that will determine weather when the value of temperature and\n",
    "humidity is provided by the user.\n",
    "\"\"\"\n",
    "temperature = int(input(\"Enter the temperature = \"))\n",
    "humidity = int(input(\"Enter the humidity =\"))\n",
    "\n",
    "if (temperature>=30 and humidity>=90):\n",
    "    print(\"Weather is Hot and Humid\")\n",
    "elif(temperature>=30 and humidity<90):\n",
    "    print(\"Weather is Hot\")\n",
    "elif(temperature<30 and humidity>=90):\n",
    "    print(\"Weather is Cool and Humid\")\n",
    "elif(temperature<30 and humidity<90):\n",
    "    print(\"Weather is Cool\")"
   ]
  },
  {
   "cell_type": "code",
   "execution_count": 52,
   "id": "b8e79a59-ee53-4feb-aea5-ac7aa31725c0",
   "metadata": {},
   "outputs": [
    {
     "name": "stdin",
     "output_type": "stream",
     "text": [
      "Choose an option from below:1 => cm to ft2 => km to miles3 => usd to inr4 => exit 8\n"
     ]
    },
    {
     "name": "stdout",
     "output_type": "stream",
     "text": [
      "Invalid option. Please choose a valid option.\n"
     ]
    }
   ],
   "source": [
    "\"\"\"\n",
    "4. Write a menu driven program\n",
    "a. In case the user has given the value from the option the following task should\n",
    "be done\n",
    "b. 1 cm to ft\n",
    "c. 2 km to miles\n",
    "d. 3 usd to inr\n",
    "e. 4 exit\n",
    "\"\"\"\n",
    "\n",
    "option=int(input(\"Choose an option from below:\"  \"1 => cm to ft\"  \"2 => km to miles\" \"3 => usd to inr\"  \"4 => exit\"))\n",
    "\n",
    "if (option == 1):\n",
    "    print(\"Conversion from cm to ft\")\n",
    "    val1=int(input(\"Enter a value in cm\"))\n",
    "    val2= val1*0.032808399\n",
    "    print(\"After conversion \", val1, \"cm to ft, the value is \", val2, \"ft\")\n",
    "\n",
    "elif (option == 2):\n",
    "    print(\"Conversion from km to miles\")\n",
    "    val1=int(input(\"Enter a value in km\"))\n",
    "    val2 = val1*0.621371\n",
    "    print(\"After conversion \", val1, \"km to miles, the value is \", val2, \"miles\")\n",
    "\n",
    "elif (option == 3):\n",
    "    print(\"Conversion from usd to inr\")\n",
    "    val1=int(input(\"Enter a value in usd\"))\n",
    "    val2 = val1*83.49\n",
    "    print(\"After conversion \", val1, \"usd to inr, the value is \", val2, \"inr\")\n",
    "\n",
    "elif option == 4:\n",
    "        print(\"Exiting the program. Goodbye!\")\n",
    "\n",
    "else:\n",
    "    print(\"Invalid option. Please choose a valid option.\")"
   ]
  },
  {
   "cell_type": "code",
   "execution_count": 57,
   "id": "96f9848a-6858-4923-ab67-3fca97d68795",
   "metadata": {},
   "outputs": [
    {
     "name": "stdout",
     "output_type": "stream",
     "text": [
      "-10 -9 -8 -7 -6 -5 -4 -3 -2 -1 "
     ]
    }
   ],
   "source": [
    "\"\"\"\n",
    "5. Display numbers from -10 to -1 using for loop\n",
    "\"\"\"\n",
    "\n",
    "for i in range (-10, 0):\n",
    "    print (i, end = \" \")"
   ]
  },
  {
   "cell_type": "code",
   "execution_count": 59,
   "id": "7f6280e2-9e32-45ee-88a9-70d2d58989ba",
   "metadata": {},
   "outputs": [
    {
     "name": "stdout",
     "output_type": "stream",
     "text": [
      "1\n",
      "2\n",
      "3\n",
      "4\n",
      "5\n",
      "6\n",
      "7\n",
      "8\n",
      "9\n",
      "10\n"
     ]
    }
   ],
   "source": [
    "\"\"\"6. Print First 10 natural numbers using while loop\"\"\"\n",
    "a=1\n",
    "while a<11:\n",
    "    print (a)\n",
    "    a+=1"
   ]
  },
  {
   "cell_type": "code",
   "execution_count": 62,
   "id": "6cc149bd-e9e7-48b7-82a3-ee2f9ce5d772",
   "metadata": {},
   "outputs": [
    {
     "name": "stdout",
     "output_type": "stream",
     "text": [
      "1 2 3 4 5 Done!\n"
     ]
    }
   ],
   "source": [
    "\"\"\"7. Use else block to display a message “Done!” after successful execution of for loop\n",
    "Output\n",
    "1 2 3 4 5 Done!\n",
    "\"\"\"\n",
    "for a in range(1,6):\n",
    "    print(a, end=\" \")\n",
    "else:\n",
    "    print(\"Done!\")"
   ]
  },
  {
   "cell_type": "code",
   "execution_count": 63,
   "id": "d81e4694-5116-41d2-9992-03afc76a02cd",
   "metadata": {},
   "outputs": [
    {
     "name": "stdin",
     "output_type": "stream",
     "text": [
      "Enter a number to find its factorial:  5\n"
     ]
    },
    {
     "name": "stdout",
     "output_type": "stream",
     "text": [
      "Factorial of 5 is 120\n"
     ]
    }
   ],
   "source": [
    "\"\"\"\n",
    "8. Write a program to use the loop to find the factorial of a given number.\n",
    "a. The factorial (symbol: !) means to multiply all whole numbers from the chosen\n",
    "number down to 1.\n",
    "\"\"\"\n",
    "\n",
    "num = int(input(\"Enter a number to find its factorial: \"))\n",
    "factorial = 1\n",
    "if num < 0:\n",
    "    print(\"Factorial is not defined for negative numbers.\")\n",
    "elif num == 0:\n",
    "    print(\"Factorial of 0 is 1\")\n",
    "else:\n",
    "    for i in range(1, num + 1):\n",
    "        factorial *= i\n",
    "    print(\"Factorial of\", num, \"is\", factorial)\n"
   ]
  },
  {
   "cell_type": "code",
   "execution_count": 67,
   "id": "63ff9b20-5779-4e6b-a6c5-edb94ec2a4a0",
   "metadata": {},
   "outputs": [
    {
     "name": "stdin",
     "output_type": "stream",
     "text": [
      "Enter a number =  6\n"
     ]
    },
    {
     "name": "stdout",
     "output_type": "stream",
     "text": [
      "1\n",
      "8\n",
      "27\n",
      "64\n",
      "125\n",
      "216\n"
     ]
    }
   ],
   "source": [
    "\"\"\"\n",
    "9. Write a program to print the cube of all numbers from 1 to a given number\n",
    "\"\"\"\n",
    "num=int(input(\"Enter a number = \"))\n",
    "\n",
    "for i in range(1, num+1):\n",
    "    cube = i*i*i\n",
    "    print(cube)"
   ]
  },
  {
   "cell_type": "code",
   "execution_count": 68,
   "id": "4c6822a8-ce04-4525-b651-83619685b2cf",
   "metadata": {},
   "outputs": [
    {
     "name": "stdin",
     "output_type": "stream",
     "text": [
      "Enter the cost price =  45\n",
      "Enter the selling price=  50\n"
     ]
    },
    {
     "name": "stdout",
     "output_type": "stream",
     "text": [
      "There is Profit of 5\n"
     ]
    }
   ],
   "source": [
    "\"\"\"\n",
    "10. Write a program that will take user input of cost price and selling price and\n",
    "determines whether its a loss or a profit.\n",
    "\"\"\"\n",
    "cp=int(input(\"Enter the cost price = \"))\n",
    "sp=int(input(\"Enter the selling price= \"))\n",
    "\n",
    "value = sp-cp\n",
    "\n",
    "if value>0:\n",
    "    print(\"There is Profit of\", value)\n",
    "elif value<0:\n",
    "    print(\"There is a loss of\", value)\n",
    "else:\n",
    "    print(\"There is neither profit or loss\")"
   ]
  },
  {
   "cell_type": "code",
   "execution_count": null,
   "id": "6f9a7d86-bc96-41fa-b387-9c3de196f80e",
   "metadata": {},
   "outputs": [],
   "source": [
    "\"\"\"\n",
    "11. Print the sum of the current number and the previous number.\n",
    "a. Write a program to iterate the first 10 numbers and in each iteration, print the\n",
    "sum of the current and previous number.\n",
    "b. Expected result: 0,1,3,5,7,9,11,13,15,17\n",
    "\"\"\""
   ]
  },
  {
   "cell_type": "code",
   "execution_count": 74,
   "id": "57216034-878f-492c-813e-dda7edcf0c6b",
   "metadata": {},
   "outputs": [
    {
     "name": "stdout",
     "output_type": "stream",
     "text": [
      "1 2 3 4 5 6 7 8 9 10 \n",
      "2 4 6 8 10 12 14 16 18 20 \n",
      "3 6 9 12 15 18 21 24 27 30 \n",
      "4 8 12 16 20 24 28 32 36 40 \n",
      "5 10 15 20 25 30 35 40 45 50 \n",
      "6 12 18 24 30 36 42 48 54 60 \n",
      "7 14 21 28 35 42 49 56 63 70 \n",
      "8 16 24 32 40 48 56 64 72 80 \n",
      "9 18 27 36 45 54 63 72 81 90 \n",
      "10 20 30 40 50 60 70 80 90 100 \n"
     ]
    }
   ],
   "source": [
    "\"\"\"\n",
    "12. Print multiplication table form 1 to 10\n",
    "\"\"\"\n",
    "\n",
    "for i in range (1,11):\n",
    "    for j in range(1, 11):\n",
    "        table=i*j\n",
    "        print(table, end=\" \")\n",
    "    print()"
   ]
  },
  {
   "cell_type": "code",
   "execution_count": 80,
   "id": "02b4aa4d-f7b6-4b38-82f1-1eedef631e1d",
   "metadata": {},
   "outputs": [
    {
     "name": "stdout",
     "output_type": "stream",
     "text": [
      "Armstrong numbers between 100 and 1000:\n",
      "153, 370, 371, 407, "
     ]
    }
   ],
   "source": [
    "\"\"\"\n",
    "13. Print all the armstrong numbers in the range of 100 to 1000\n",
    "a. Output : 153, 370,371,407\n",
    "\"\"\"\n",
    "print(\"Armstrong numbers between 100 and 1000:\")\n",
    "for num in range(100, 1000):\n",
    "    num_digits = len(str(num))\n",
    "    sum_of_cubes = 0\n",
    "    temp = num\n",
    "    while temp > 0:\n",
    "        digit = temp % 10\n",
    "        sum_of_cubes += digit ** num_digits\n",
    "        temp //= 10\n",
    "    if num == sum_of_cubes:\n",
    "        print(num, end=\", \")\n"
   ]
  },
  {
   "cell_type": "code",
   "execution_count": null,
   "id": "d0f491b3-1427-4f12-a1fa-ada97a071ca3",
   "metadata": {},
   "outputs": [],
   "source": []
  }
 ],
 "metadata": {
  "kernelspec": {
   "display_name": "Python 3 (ipykernel)",
   "language": "python",
   "name": "python3"
  },
  "language_info": {
   "codemirror_mode": {
    "name": "ipython",
    "version": 3
   },
   "file_extension": ".py",
   "mimetype": "text/x-python",
   "name": "python",
   "nbconvert_exporter": "python",
   "pygments_lexer": "ipython3",
   "version": "3.9.0"
  }
 },
 "nbformat": 4,
 "nbformat_minor": 5
}
