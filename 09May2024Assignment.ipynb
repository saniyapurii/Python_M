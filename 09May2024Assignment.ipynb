{
 "cells": [
  {
   "cell_type": "code",
   "execution_count": null,
   "id": "282a6fcc-7e8e-4202-9eae-26ab0bfbd219",
   "metadata": {},
   "outputs": [],
   "source": [
    "\"\"\"\n",
    "4. Write a program in Python to print the Fibonacci series using recursive\n",
    "method.\n",
    "\n",
    "5. Counting the Number of Occurrences of a Character in a String without using count function\n",
    "\n",
    "6. Write a Python function that takes a tuple of strings as input and returns a new tuple with each word capitalized.\n",
    "\n",
    "7. Write a program to find a maximum of three numbers. Without using max , sort function and indexing\n",
    "\n",
    "8. Write a python program for print the following pattern\n",
    "\n",
    "9. Write a python program for print the following pattern\n",
    "1 A\n",
    "\n",
    "4 B 9 C\n",
    "\n",
    "16 D 25 E 36 F\n",
    "\n",
    "49 G 64 H 81 I 100 J\n",
    "\n",
    "10.Write a python program for print the following pattern\n",
    "\"\"\""
   ]
  },
  {
   "cell_type": "code",
   "execution_count": 7,
   "id": "ed79e382-129e-40d2-a233-2a68e34680d7",
   "metadata": {},
   "outputs": [
    {
     "name": "stdout",
     "output_type": "stream",
     "text": [
      "0 1 1 2 3 5 8 13 21 "
     ]
    }
   ],
   "source": [
    "\"\"\"\n",
    "4. Write a program in Python to print the Fibonacci series using recursive method.\n",
    "\"\"\"\n",
    "def fib(n, prev1, prev2):\n",
    "    if n < 3:\n",
    "        return\n",
    "    fn = prev1 + prev2\n",
    "    prev2 = prev1\n",
    "    prev1 = fn\n",
    "    print(fn, end=\" \")\n",
    "    fib(n - 1, prev1, prev2)\n",
    "\n",
    "def print_fib(n):\n",
    "    if n < 1:\n",
    "        print(\"Invalid number of terms\")\n",
    "    elif n == 1:\n",
    "        print(0)\n",
    "    elif n == 2:\n",
    "        print(\"0 1\")\n",
    "    else:\n",
    "        print(\"0 1\", end=\" \")\n",
    "        fib(n, 1, 0)\n",
    "\n",
    "\n",
    "n = 9\n",
    "print_fib(n)"
   ]
  },
  {
   "cell_type": "code",
   "execution_count": 8,
   "id": "3a172fa2-3818-4f61-ba8a-e51332f09e57",
   "metadata": {},
   "outputs": [
    {
     "name": "stdout",
     "output_type": "stream",
     "text": [
      "{'a': 7, 'b': 14, 'c': 3, 'd': 3}\n"
     ]
    }
   ],
   "source": [
    "\"\"\"\n",
    "5. Counting the Number of Occurrences of a Character in a String without using count function\n",
    "\"\"\"\n",
    "def char_freq(string):\n",
    "    frequency = {}\n",
    "    for char in string:\n",
    "        frequency[char] = frequency.get(char, 0) + 1\n",
    "    return frequency\n",
    "\n",
    "input_string = \"abbabcbdbabdbdbabababcbcbab\"\n",
    "frequency_listing = char_freq(input_string)\n",
    "print(frequency_listing)\n"
   ]
  },
  {
   "cell_type": "code",
   "execution_count": 2,
   "id": "5e66f06c-6f9d-4fe0-8331-28fca3d75667",
   "metadata": {},
   "outputs": [
    {
     "name": "stdout",
     "output_type": "stream",
     "text": [
      "('HELLO', 'WORLD', 'HEY', 'THIS', 'IS', 'TEST', 'STATEMENT')\n"
     ]
    }
   ],
   "source": [
    "\"\"\"\n",
    "6. Write a Python function that takes a tuple of strings as input and returns a new tuple with each word capitalized.\n",
    "\"\"\"\n",
    "def capital(x):\n",
    "    #y = [word.capitalize() for word in x]\n",
    "    y = [word.swapcase() for word in x]\n",
    "    return tuple(y)\n",
    "\n",
    "x = (\"hello\", \"world\", \"hey\", \"this\", \"is\", \"test\", \"statement\")\n",
    "result = capital(x)\n",
    "print(result)"
   ]
  },
  {
   "cell_type": "code",
   "execution_count": 8,
   "id": "7b4d7a72-d1e1-4a94-9ec9-8842a61292c0",
   "metadata": {},
   "outputs": [
    {
     "name": "stdin",
     "output_type": "stream",
     "text": [
      "Enter the first number:  9\n",
      "Enter the second number:  5\n",
      "Enter the third number:  1\n"
     ]
    },
    {
     "name": "stdout",
     "output_type": "stream",
     "text": [
      "The maximum of the three numbers is: 9\n"
     ]
    }
   ],
   "source": [
    "\"\"\"\n",
    "7. Write a program to find a maximum of three numbers. Without using max , sort function and indexing\n",
    "\"\"\"\n",
    "def max(a, b, c):\n",
    "    if a >= b and a >= c:\n",
    "        return a\n",
    "    elif b >= a and b >= c:\n",
    "        return b\n",
    "    else:\n",
    "        return c\n",
    "\n",
    "\n",
    "num1 = int(input(\"Enter the first number: \"))\n",
    "num2 = int(input(\"Enter the second number: \"))\n",
    "num3 = int(input(\"Enter the third number: \"))\n",
    "\n",
    "maximum = max(num1, num2, num3)\n",
    "print(\"The maximum of the three numbers is:\", maximum)\n"
   ]
  },
  {
   "cell_type": "code",
   "execution_count": 26,
   "id": "4d32477b-ec3a-4948-b6e0-3b6a7435348d",
   "metadata": {},
   "outputs": [
    {
     "name": "stdin",
     "output_type": "stream",
     "text": [
      "Enter the first number:  5\n",
      "Enter the second number:  3\n",
      "Enter the third number:  4\n"
     ]
    },
    {
     "name": "stdout",
     "output_type": "stream",
     "text": [
      "The maximum of the three numbers is: 5\n"
     ]
    }
   ],
   "source": [
    "#Max from 3 numbers\n",
    "\n",
    "\n",
    "max = lambda a,b,c: (a if (a>b and a>c) else b if b>c else c)\n",
    "\n",
    "num1 = int(input(\"Enter the first number: \"))\n",
    "num2 = int(input(\"Enter the second number: \"))\n",
    "num3 = int(input(\"Enter the third number: \"))\n",
    "\n",
    "maximum = max(num1, num2, num3)\n",
    "print(\"The maximum of the three numbers is:\", maximum)\n"
   ]
  },
  {
   "cell_type": "code",
   "execution_count": 10,
   "id": "0d3a7f3f-1195-46b9-818d-ce5d6a4a207c",
   "metadata": {},
   "outputs": [
    {
     "name": "stdout",
     "output_type": "stream",
     "text": [
      "A \n",
      "1 2 \n",
      "A B C \n",
      "1 2 3 4 \n",
      "A B C D E \n"
     ]
    }
   ],
   "source": [
    "\"\"\"\n",
    "8. Write a python program for print the following pattern\n",
    "A \n",
    "1 2 \n",
    "A B C \n",
    "1 2 3 4 \n",
    "A B C D E \n",
    "\"\"\"\n",
    "\n",
    "def print_pattern(rows):\n",
    "    for i in range(1, rows + 1):\n",
    "        if i % 2 == 0:\n",
    "            for j in range(1, i + 1):\n",
    "                print(j, end=\" \")\n",
    "        else:\n",
    "            letter = ord('A')\n",
    "            for j in range(1, i + 1):\n",
    "                print(chr(letter), end=\" \")\n",
    "                letter += 1\n",
    "        print()\n",
    "\n",
    "\n",
    "rows = 5\n",
    "print_pattern(rows)\n"
   ]
  },
  {
   "cell_type": "code",
   "execution_count": 27,
   "id": "13081a19-9fc9-40da-8626-01a8465e3f22",
   "metadata": {},
   "outputs": [
    {
     "name": "stdout",
     "output_type": "stream",
     "text": [
      "1 A \n",
      "4 B 9 C \n",
      "16 D 25 E 36 F \n",
      "49 G 64 H 81 I 100 J \n"
     ]
    }
   ],
   "source": [
    "\"\"\"\n",
    "9. Write a python program for print the following pattern\n",
    "1 A\n",
    "\n",
    "4 B 9 C\n",
    "\n",
    "16 D 25 E 36 F\n",
    "\n",
    "49 G 64 H 81 I 100 J\n",
    "\n",
    "\"\"\"\n",
    "\n",
    "a=1\n",
    "char=65\n",
    "for i in range(1,5):\n",
    "    for k in range(1,i+1):\n",
    "        print(a**2,chr(char),end=\" \")\n",
    "        a=a+1\n",
    "        char+=1\n",
    "        \n",
    "    print()\n"
   ]
  },
  {
   "cell_type": "code",
   "execution_count": 35,
   "id": "23087d4c-e54a-4401-bf5e-7c9b1362ce19",
   "metadata": {},
   "outputs": [
    {
     "ename": "TypeError",
     "evalue": "<lambda>() missing 1 required positional argument: 'i'",
     "output_type": "error",
     "traceback": [
      "\u001b[1;31m---------------------------------------------------------------------------\u001b[0m",
      "\u001b[1;31mTypeError\u001b[0m                                 Traceback (most recent call last)",
      "Cell \u001b[1;32mIn[35], line 27\u001b[0m\n\u001b[0;32m     25\u001b[0m print_pattern \u001b[38;5;241m=\u001b[39m \u001b[38;5;28;01mlambda\u001b[39;00m rows, i: ( \u001b[38;5;124m\"\u001b[39m\u001b[38;5;124m*\u001b[39m\u001b[38;5;124m\"\u001b[39m \u001b[38;5;28;01mif\u001b[39;00m i \u001b[38;5;241m>\u001b[39m\u001b[38;5;241m=\u001b[39m rows \u001b[38;5;28;01melse\u001b[39;00m \u001b[38;5;124m\"\u001b[39m\u001b[38;5;124m \u001b[39m\u001b[38;5;124m\"\u001b[39m)\n\u001b[0;32m     26\u001b[0m rows \u001b[38;5;241m=\u001b[39m \u001b[38;5;241m5\u001b[39m\n\u001b[1;32m---> 27\u001b[0m \u001b[43mprint_pattern\u001b[49m\u001b[43m(\u001b[49m\u001b[43mrows\u001b[49m\u001b[43m)\u001b[49m\n",
      "\u001b[1;31mTypeError\u001b[0m: <lambda>() missing 1 required positional argument: 'i'"
     ]
    }
   ],
   "source": [
    "\"\"\"\n",
    "10.Write a python program for print the following pattern\n",
    "\n",
    "*****\n",
    " ****\n",
    "  ***\n",
    "   **\n",
    "    *\n",
    "    *\n",
    "   **\n",
    "  ***\n",
    " ****\n",
    "*****\n",
    "\"\"\"\n",
    "\"\"\"\n",
    "def print_pattern(rows):\n",
    "    for i in range(rows, 0, -1):\n",
    "        print(\" \" * (rows - i), end=\"\")\n",
    "        print(\"*\" * i)\n",
    "\n",
    "    for i in range(2, rows + 1):\n",
    "        print(\" \" * (rows - i), end=\"\")\n",
    "        print(\"*\" * i)\n",
    "\"\"\"\n",
    "print_pattern = lambda rows, i: ( \"*\" if i >= rows else \" \")\n",
    "rows = 5\n",
    "print_pattern(rows)\n"
   ]
  },
  {
   "cell_type": "code",
   "execution_count": 37,
   "id": "72228d9d-4233-4bfa-9ff5-f01944a21673",
   "metadata": {},
   "outputs": [
    {
     "name": "stdout",
     "output_type": "stream",
     "text": [
      "*****\n",
      " ****\n",
      "  ***\n",
      "   **\n",
      "    *\n",
      "   **\n",
      "  ***\n",
      " ****\n",
      "*****\n"
     ]
    }
   ],
   "source": [
    "print_pattern = lambda rows, i: \"*\" if i >= rows else \" \"\n",
    "rows = 5\n",
    "for i in range(rows, 0, -1):\n",
    "    print(\" \" * (rows - i), end=\"\")\n",
    "    print(\"*\" * i)\n",
    "\n",
    "for i in range(2, rows + 1):\n",
    "    print(\" \" * (rows - i), end=\"\")\n",
    "    print(\"*\" * i)\n"
   ]
  },
  {
   "cell_type": "code",
   "execution_count": null,
   "id": "c960b903-b8af-4f70-a07c-48082db1c1a6",
   "metadata": {},
   "outputs": [],
   "source": []
  }
 ],
 "metadata": {
  "kernelspec": {
   "display_name": "Python 3 (ipykernel)",
   "language": "python",
   "name": "python3"
  },
  "language_info": {
   "codemirror_mode": {
    "name": "ipython",
    "version": 3
   },
   "file_extension": ".py",
   "mimetype": "text/x-python",
   "name": "python",
   "nbconvert_exporter": "python",
   "pygments_lexer": "ipython3",
   "version": "3.9.0"
  }
 },
 "nbformat": 4,
 "nbformat_minor": 5
}
