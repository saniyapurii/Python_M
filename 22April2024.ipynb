{
  "cells": [
    {
      "cell_type": "code",
      "execution_count": 1,
      "metadata": {
        "id": "DWzSax5XXB6S"
      },
      "outputs": [],
      "source": [
        "#Nested if-else\n",
        "#Loops"
      ]
    },
    {
      "cell_type": "code",
      "execution_count": 2,
      "metadata": {
        "id": "NXSAN_7IXB6U"
      },
      "outputs": [],
      "source": [
        "age=18\n",
        "city=\"Jaipur\"\n",
        "#if age>=18 => (Age is eligible)\n",
        "#eligible for vote"
      ]
    },
    {
      "cell_type": "code",
      "execution_count": 3,
      "metadata": {
        "colab": {
          "base_uri": "https://localhost:8080/"
        },
        "id": "K2AnWn2zXB6V",
        "outputId": "01e17d9d-1be8-48a8-bb1e-38043f734e87"
      },
      "outputs": [
        {
          "output_type": "stream",
          "name": "stdout",
          "text": [
            "Age is eligible\n",
            "Eligible for voting\n"
          ]
        }
      ],
      "source": [
        "age=18\n",
        "city=\"Jaipur\"\n",
        "if(age>=18):\n",
        "    print(\"Age is eligible\")\n",
        "    if(city == \"Jaipur\"):\n",
        "        print(\"Eligible for voting\")\n",
        "    else:\n",
        "        print(\"Not eligible for voting\")\n",
        "else:\n",
        "    print(\"Age is less than 18\")"
      ]
    },
    {
      "cell_type": "code",
      "execution_count": 6,
      "metadata": {
        "colab": {
          "base_uri": "https://localhost:8080/"
        },
        "id": "iiSg0yA6XB6W",
        "outputId": "e12a83b7-7111-4449-ee31-dfc6ec888a63"
      },
      "outputs": [
        {
          "output_type": "stream",
          "name": "stdout",
          "text": [
            "Enter your age = 11\n",
            "Enter your city = cft\n",
            "Age is less than 18\n"
          ]
        }
      ],
      "source": [
        "age=int(input(\"Enter your age = \"))\n",
        "city=input(\"Enter your city = \")\n",
        "\n",
        "if(age>=18):\n",
        "    print(\"Age is eligible\")\n",
        "    if(city == \"Jaipur\"):\n",
        "        print(\"Eligible for voting\")\n",
        "    else:\n",
        "        print(\"Not eligible for voting\")\n",
        "else:\n",
        "    print(\"Age is less than 18\")"
      ]
    },
    {
      "cell_type": "code",
      "execution_count": 7,
      "metadata": {
        "colab": {
          "base_uri": "https://localhost:8080/"
        },
        "id": "ZlQfWfd0XB6W",
        "outputId": "067b650c-4782-4354-e5e1-ee5837e554a1"
      },
      "outputs": [
        {
          "output_type": "stream",
          "name": "stdout",
          "text": [
            "hey\n",
            "hey\n",
            "hey\n",
            "hey\n"
          ]
        }
      ],
      "source": [
        "#Looping Statement\n",
        "\n",
        "print(\"hey\")\n",
        "print(\"hey\")\n",
        "print(\"hey\")\n",
        "print(\"hey\")"
      ]
    },
    {
      "cell_type": "code",
      "execution_count": 7,
      "metadata": {
        "id": "O2DpmE3-XB6W"
      },
      "outputs": [],
      "source": []
    },
    {
      "cell_type": "code",
      "execution_count": 8,
      "metadata": {
        "colab": {
          "base_uri": "https://localhost:8080/"
        },
        "id": "wXc-lC4QXB6W",
        "outputId": "d521b8ee-ff4e-4c78-db44-ca8867c0125d"
      },
      "outputs": [
        {
          "output_type": "stream",
          "name": "stdout",
          "text": [
            "0\n",
            "1\n",
            "2\n",
            "3\n",
            "4\n"
          ]
        }
      ],
      "source": [
        "#using range\n",
        "#0 upto 5 (5 is exclusive)\n",
        "#for(i=0; i<5; i++)\n",
        "\n",
        "for i in range(0,5):\n",
        "    print(i)"
      ]
    },
    {
      "cell_type": "code",
      "execution_count": 9,
      "metadata": {
        "colab": {
          "base_uri": "https://localhost:8080/"
        },
        "id": "C4mF0IOEXB6W",
        "outputId": "3e89b477-7ed1-41f8-bef1-c158a92b649c"
      },
      "outputs": [
        {
          "output_type": "stream",
          "name": "stdout",
          "text": [
            "0\n",
            "1\n",
            "2\n",
            "3\n",
            "4\n"
          ]
        }
      ],
      "source": [
        "for i in range(0,5,1):\n",
        "    print(i)"
      ]
    },
    {
      "cell_type": "code",
      "execution_count": 10,
      "metadata": {
        "colab": {
          "base_uri": "https://localhost:8080/"
        },
        "id": "5-ofsgELXB6X",
        "outputId": "0aa6d915-bce2-4acf-a6e2-6a5d800bbea7"
      },
      "outputs": [
        {
          "output_type": "stream",
          "name": "stdout",
          "text": [
            "5\n",
            "4\n",
            "3\n",
            "2\n",
            "1\n",
            "0\n"
          ]
        }
      ],
      "source": [
        "#for 5 to 1(Backword loop)\n",
        "for j in range(5, 0-1,-1):\n",
        "    print(j)"
      ]
    },
    {
      "cell_type": "code",
      "execution_count": 13,
      "metadata": {
        "colab": {
          "base_uri": "https://localhost:8080/"
        },
        "id": "8CREH16nXB6X",
        "outputId": "0df06dea-2c3a-490a-ed3e-90e3acfe07a6"
      },
      "outputs": [
        {
          "output_type": "stream",
          "name": "stdout",
          "text": [
            "3\n",
            "6\n",
            "9\n",
            "12\n",
            "15\n",
            "18\n",
            "21\n",
            "24\n",
            "27\n",
            "30\n",
            "33\n",
            "36\n",
            "39\n"
          ]
        }
      ],
      "source": [
        "#divisible by 3\n",
        "for count in range(1,41):\n",
        "    if(count%3==0):\n",
        "        print(count)\n"
      ]
    },
    {
      "cell_type": "code",
      "execution_count": 12,
      "metadata": {
        "colab": {
          "base_uri": "https://localhost:8080/"
        },
        "id": "_j-S03NAXB6X",
        "outputId": "70584350-5ebd-4cc0-cebd-fc34d0d385d3"
      },
      "outputs": [
        {
          "output_type": "stream",
          "name": "stdout",
          "text": [
            "90\n",
            "75\n",
            "60\n",
            "45\n",
            "30\n",
            "15\n",
            "0\n"
          ]
        }
      ],
      "source": [
        "#find all the numbers 100 to 0, those are divisible by 5 and 15\n",
        "for num in range(100, 0-1, -1):\n",
        "    if(num%5==0 and num%15==0):\n",
        "        print(num)"
      ]
    },
    {
      "cell_type": "code",
      "execution_count": 14,
      "metadata": {
        "colab": {
          "base_uri": "https://localhost:8080/"
        },
        "id": "6FMvPM3gXB6X",
        "outputId": "594ddfeb-2c48-4172-a10f-1d0867d5d845"
      },
      "outputs": [
        {
          "output_type": "stream",
          "name": "stdout",
          "text": [
            "55\n"
          ]
        }
      ],
      "source": [
        "#total of 1 to 10\n",
        "sum =0\n",
        "for num in range(1,11):\n",
        "    sum =sum+num\n",
        "print(sum)"
      ]
    },
    {
      "cell_type": "code",
      "execution_count": 15,
      "metadata": {
        "colab": {
          "base_uri": "https://localhost:8080/"
        },
        "id": "WpcC_1RTXB6Y",
        "outputId": "b2dd9890-ca63-4fca-9d0e-397cf9ec988b"
      },
      "outputs": [
        {
          "output_type": "stream",
          "name": "stdout",
          "text": [
            "240\n"
          ]
        }
      ],
      "source": [
        "#sum of even numbers between 1 to 30\n",
        "sum=0\n",
        "for num in range(1,31):\n",
        "    if(num%2==0):\n",
        "        sum=sum+num\n",
        "print(sum)"
      ]
    },
    {
      "cell_type": "code",
      "execution_count": 16,
      "metadata": {
        "colab": {
          "base_uri": "https://localhost:8080/"
        },
        "id": "FvieJVpPXB6Y",
        "outputId": "f9fb0c3c-e066-4041-8084-ac7dda876110"
      },
      "outputs": [
        {
          "output_type": "stream",
          "name": "stdout",
          "text": [
            "40320\n"
          ]
        }
      ],
      "source": [
        "#product of all the number from 8 to 1(factorial of 8)\n",
        "product=1\n",
        "for num in range(8,0,-1):\n",
        "    product=product*num       #(product *= num)\n",
        "print(product)"
      ]
    },
    {
      "cell_type": "code",
      "execution_count": 17,
      "metadata": {
        "colab": {
          "base_uri": "https://localhost:8080/"
        },
        "id": "oIGlG7pUXB6Z",
        "outputId": "25bb046b-1836-4c43-b91e-500a2af7a582"
      },
      "outputs": [
        {
          "output_type": "stream",
          "name": "stdout",
          "text": [
            "h\n",
            "e\n",
            "y\n",
            "j\n",
            "a\n",
            "i\n",
            "p\n",
            "u\n",
            "r\n"
          ]
        }
      ],
      "source": [
        "#for loop for string\n",
        "\n",
        "for x in \"hey\":\n",
        "    print(x)\n",
        "\n",
        "data=\"jaipur\"\n",
        "for x in data:\n",
        "    print(x)"
      ]
    },
    {
      "cell_type": "code",
      "execution_count": 18,
      "metadata": {
        "colab": {
          "base_uri": "https://localhost:8080/"
        },
        "id": "6RwhcHWXXB6Z",
        "outputId": "4e9d3e32-2a06-4d4e-c6be-1d5aa487b657"
      },
      "outputs": [
        {
          "output_type": "execute_result",
          "data": {
            "text/plain": [
              "6"
            ]
          },
          "metadata": {},
          "execution_count": 18
        }
      ],
      "source": [
        "#for loop on string using index position\n",
        "\n",
        "len(\"Jaipur\")"
      ]
    },
    {
      "cell_type": "code",
      "execution_count": 19,
      "metadata": {
        "colab": {
          "base_uri": "https://localhost:8080/"
        },
        "id": "MCCA7242XB6Z",
        "outputId": "e1e0160e-f6fa-43fc-9710-bf42a220e7ee"
      },
      "outputs": [
        {
          "output_type": "stream",
          "name": "stdout",
          "text": [
            "0\n",
            "1\n",
            "2\n",
            "3\n",
            "4\n",
            "5\n"
          ]
        }
      ],
      "source": [
        "city = \"Jaipur\"\n",
        "len(city)\n",
        "\n",
        "for index in range (0,6):\n",
        "    print(index)\n"
      ]
    },
    {
      "cell_type": "code",
      "execution_count": 20,
      "metadata": {
        "colab": {
          "base_uri": "https://localhost:8080/"
        },
        "id": "5d2VpHPoXB6Z",
        "outputId": "4708b199-54ac-4e69-9f85-e325bb1380f0"
      },
      "outputs": [
        {
          "output_type": "stream",
          "name": "stdout",
          "text": [
            "0\n",
            "1\n",
            "2\n",
            "3\n",
            "4\n",
            "5\n"
          ]
        }
      ],
      "source": [
        "city = \"Jaipur\"\n",
        "len(city)\n",
        "\n",
        "for index in range (0,len(city)):\n",
        "    print(index)\n"
      ]
    },
    {
      "cell_type": "code",
      "execution_count": 21,
      "metadata": {
        "colab": {
          "base_uri": "https://localhost:8080/"
        },
        "id": "xgxmouulXB6a",
        "outputId": "20319962-d4af-473b-b2c5-6bab46da286e"
      },
      "outputs": [
        {
          "output_type": "stream",
          "name": "stdout",
          "text": [
            "0 J a\n",
            "1 J a\n",
            "2 J a\n",
            "3 J a\n",
            "4 J a\n",
            "5 J a\n"
          ]
        }
      ],
      "source": [
        "city = \"Jaipur\"\n",
        "len(city)\n",
        "\n",
        "for index in range (0,len(city)):\n",
        "    print(index, city[0], city[1])\n"
      ]
    },
    {
      "cell_type": "code",
      "execution_count": 22,
      "metadata": {
        "colab": {
          "base_uri": "https://localhost:8080/"
        },
        "id": "_MaRzuyQXB6a",
        "outputId": "2bc4a054-81dd-4c02-fdc6-a4c83edd3aee"
      },
      "outputs": [
        {
          "output_type": "stream",
          "name": "stdout",
          "text": [
            "0 J\n",
            "1 a\n",
            "2 i\n",
            "3 p\n",
            "4 u\n",
            "5 r\n"
          ]
        }
      ],
      "source": [
        "city = \"Jaipur\"\n",
        "len(city)\n",
        "\n",
        "for index in range (0,len(city)):\n",
        "    print(index, city[index])\n"
      ]
    },
    {
      "cell_type": "code",
      "execution_count": 23,
      "metadata": {
        "colab": {
          "base_uri": "https://localhost:8080/"
        },
        "id": "Tiu6jONAXB6a",
        "outputId": "de3fbf7f-69ae-4eb0-f965-863ae94586e6"
      },
      "outputs": [
        {
          "output_type": "stream",
          "name": "stdout",
          "text": [
            "Total character 6\n",
            "1\n"
          ]
        }
      ],
      "source": [
        "#from this string data i need to find the total number of characters\n",
        "#and find out how many time a is present in this string data\n",
        "\n",
        "\n",
        "city=\"Jaipur\"\n",
        "print(f\"Total character {len(city)}\")\n",
        "count=0\n",
        "for index in range(0, len(city)):\n",
        "    if(city[index] == \"a\"):\n",
        "        count=count+1\n",
        "print(count)\n",
        "\n"
      ]
    },
    {
      "cell_type": "code",
      "execution_count": 24,
      "metadata": {
        "colab": {
          "base_uri": "https://localhost:8080/"
        },
        "id": "2vhxAv95XB6a",
        "outputId": "ac41dc01-d651-417c-9468-c228f8ff1fc5"
      },
      "outputs": [
        {
          "output_type": "stream",
          "name": "stdout",
          "text": [
            "5\n"
          ]
        }
      ],
      "source": [
        "#how many vowels are present in the string\n",
        "city=\"Jaipaura\"\n",
        "len(city)\n",
        "count=0\n",
        "for index in range(0, len(city)):\n",
        "    if(city[index] == \"a\" or city[index] == \"e\" or city[index] == \"i\" or city[index] == \"o\" or city[index] == \"u\" ):\n",
        "        count += 1\n",
        "print(count)"
      ]
    },
    {
      "cell_type": "code",
      "execution_count": 25,
      "metadata": {
        "colab": {
          "base_uri": "https://localhost:8080/"
        },
        "id": "P_Il9ceOXB6a",
        "outputId": "2a58d1a9-b94f-450e-964d-fd67c132753d"
      },
      "outputs": [
        {
          "output_type": "stream",
          "name": "stdout",
          "text": [
            "Vowel a\n",
            "Vowel i\n",
            "Vowel u\n",
            "0\n"
          ]
        }
      ],
      "source": [
        "total = 0\n",
        "for i in \"Jaipur\":\n",
        "    if(i==\"a\" or i ==\"e\" or i==\"i\" or i==\"o\" or i==\"u\"):\n",
        "        print(\"Vowel\", i)\n",
        "print(total)"
      ]
    },
    {
      "cell_type": "code",
      "execution_count": null,
      "metadata": {
        "id": "xsKNPltdXB6b"
      },
      "outputs": [],
      "source": [
        "#1 run a for loop and find total sum of first 20 natural numbers\n",
        "#2 run a for loop and find total sum of last 20, 3-digit natural numbers\n",
        "#3 run a for loop and find the product & average of any 20 natural numbers\n",
        "#4 print a multiplication table of a number given by user\n",
        "#5 find out the sum of power of starting 6 number\n",
        "  #2**6\n",
        "    #2**1 + 2**2 + 2**3 + .... 2**6\n",
        "#6 take a string from the user and find out the total consonant which are available in a string\n",
        "#7 take a int number from the user and find out the total sum, average aand the product of that number from 1 to the input provided only for odd values"
      ]
    },
    {
      "cell_type": "code",
      "execution_count": 26,
      "metadata": {
        "colab": {
          "base_uri": "https://localhost:8080/"
        },
        "id": "RD0EZs-EXB6b",
        "outputId": "76746e46-ef45-4608-9d23-2909ffff111b"
      },
      "outputs": [
        {
          "output_type": "stream",
          "name": "stdout",
          "text": [
            "210\n"
          ]
        }
      ],
      "source": [
        "#1 run a for loop and find total sum of first 20 natural numbers\n",
        "\n",
        "sum = 0\n",
        "for i in range(1,21):\n",
        "    sum +=i\n",
        "print(sum)\n"
      ]
    },
    {
      "cell_type": "code",
      "execution_count": 28,
      "metadata": {
        "colab": {
          "base_uri": "https://localhost:8080/"
        },
        "id": "eBBY2pEJXB6b",
        "outputId": "36072229-f49d-43c0-9f03-0effd697d1c4"
      },
      "outputs": [
        {
          "output_type": "stream",
          "name": "stdout",
          "text": [
            "19790\n"
          ]
        }
      ],
      "source": [
        "#2 run a for loop and find total sum of last 20, 3-digit natural numbers\n",
        "\n",
        "sum=0\n",
        "for i in range (999,979, -1):\n",
        "    sum += i\n",
        "print(sum)"
      ]
    },
    {
      "cell_type": "code",
      "execution_count": 29,
      "metadata": {
        "colab": {
          "base_uri": "https://localhost:8080/"
        },
        "id": "uZxsaJaPXB6b",
        "outputId": "541a9347-8a95-47fc-8322-a7dfc8920961"
      },
      "outputs": [
        {
          "output_type": "stream",
          "name": "stdout",
          "text": [
            "2432902008176640000 10.5\n"
          ]
        }
      ],
      "source": [
        "#3 run a for loop and find the product & average of any 20 natural numbers\n",
        "\n",
        "prod=1\n",
        "avg=0\n",
        "sum = 0\n",
        "\n",
        "for i in range(1,21):\n",
        "    prod *=i\n",
        "    sum += i\n",
        "    avg = sum/20\n",
        "print(prod, avg)"
      ]
    },
    {
      "cell_type": "code",
      "execution_count": 30,
      "metadata": {
        "colab": {
          "base_uri": "https://localhost:8080/"
        },
        "id": "TelNLFSIXB6b",
        "outputId": "dfed30c1-4171-4eed-fd3a-26d0d21dfd46"
      },
      "outputs": [
        {
          "output_type": "stream",
          "name": "stdout",
          "text": [
            "Enter number to print table = 2\n",
            "2\n",
            "4\n",
            "6\n",
            "8\n",
            "10\n",
            "12\n",
            "14\n",
            "16\n",
            "18\n",
            "20\n"
          ]
        }
      ],
      "source": [
        "#4 print a multiplication table of a number given by user\n",
        "x=int(input(\"Enter number to print table = \"))\n",
        "\n",
        "for i in range(1,11):\n",
        "    table = x*i\n",
        "    print(table)\n",
        "\n"
      ]
    },
    {
      "cell_type": "code",
      "execution_count": 32,
      "metadata": {
        "colab": {
          "base_uri": "https://localhost:8080/"
        },
        "id": "V8QNYvq5XB6b",
        "outputId": "b9ed0fab-ccbd-40a6-bfd4-17b0865755ef"
      },
      "outputs": [
        {
          "output_type": "stream",
          "name": "stdout",
          "text": [
            "Enter the number = 2\n",
            "2\n",
            "6\n",
            "14\n",
            "30\n",
            "62\n",
            "126\n"
          ]
        }
      ],
      "source": [
        "#5 find out the sum of power of starting 6 number\n",
        "\n",
        "x=int(input(\"Enter the number = \"))\n",
        "sum=0\n",
        "prod=1\n",
        "for i in range(1, 7):\n",
        "    prod=x**i\n",
        "    sum=prod+sum\n",
        "    print(sum)\n",
        ""
      ]
    },
    {
      "cell_type": "code",
      "execution_count": 33,
      "metadata": {
        "colab": {
          "base_uri": "https://localhost:8080/"
        },
        "id": "6BuVmW4ZXB6c",
        "outputId": "7b7a86e6-eba1-4333-9618-b88a37694207"
      },
      "outputs": [
        {
          "output_type": "stream",
          "name": "stdout",
          "text": [
            "Enter a word: jaipur\n",
            "Total consonants: 3\n"
          ]
        }
      ],
      "source": [
        "#6 take a string from the user and find out the total consonant which are available in a string\n",
        "x = input(\"Enter a word: \")\n",
        "vowels = {'a', 'e', 'i', 'o', 'u'}\n",
        "count = 0\n",
        "\n",
        "for i in x:\n",
        "    if i not in vowels:\n",
        "        count += 1\n",
        "\n",
        "print(\"Total consonants:\", count)\n"
      ]
    },
    {
      "cell_type": "code",
      "execution_count": 34,
      "metadata": {
        "colab": {
          "base_uri": "https://localhost:8080/"
        },
        "id": "Nkne0V-aXB6c",
        "outputId": "6df9c7a7-a91f-4c88-907e-21543d45695b"
      },
      "outputs": [
        {
          "output_type": "stream",
          "name": "stdout",
          "text": [
            "Enter the end number for range = 10\n",
            "55 3628800 5.5\n"
          ]
        }
      ],
      "source": [
        "#7 take a int number from the user and find out the total sum, average aand the product of that number from 1 to the input provided only for odd values\n",
        "\n",
        "num = int(input(\"Enter the end number for range = \"))\n",
        "\n",
        "sum =0\n",
        "prod =1\n",
        "\n",
        "for i in range (1,num+1):\n",
        "    sum +=i\n",
        "    prod= prod *i\n",
        "    avg = sum/num\n",
        "print(sum, prod, avg)"
      ]
    },
    {
      "cell_type": "code",
      "execution_count": 35,
      "metadata": {
        "colab": {
          "base_uri": "https://localhost:8080/"
        },
        "id": "1s1oeCM8XB6c",
        "outputId": "9c2a6618-1844-460b-d3e6-acc69478111a"
      },
      "outputs": [
        {
          "output_type": "stream",
          "name": "stdout",
          "text": [
            "Enter the end number for range = 10\n",
            "25 945 5.0\n"
          ]
        }
      ],
      "source": [
        "#7 take a int number from the user and find out the total sum, average aand the product of that number from 1 to the input provided only for odd values\n",
        "\n",
        "num = int(input(\"Enter the end number for range = \"))\n",
        "\n",
        "sum =0\n",
        "prod =1\n",
        "count=0\n",
        "for i in range (1,num+1):\n",
        "    if(i%2!=0):\n",
        "        sum +=i\n",
        "        count=count+1\n",
        "        prod= prod *i\n",
        "        avg = sum/count\n",
        "\n",
        "print(sum, prod, avg)"
      ]
    }
  ],
  "metadata": {
    "kernelspec": {
      "display_name": "Python 3",
      "language": "python",
      "name": "python3"
    },
    "language_info": {
      "codemirror_mode": {
        "name": "ipython",
        "version": 3
      },
      "file_extension": ".py",
      "mimetype": "text/x-python",
      "name": "python",
      "nbconvert_exporter": "python",
      "pygments_lexer": "ipython3",
      "version": "3.9.0"
    },
    "colab": {
      "provenance": []
    }
  },
  "nbformat": 4,
  "nbformat_minor": 0
}