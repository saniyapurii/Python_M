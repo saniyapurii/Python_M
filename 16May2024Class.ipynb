{
 "cells": [
  {
   "cell_type": "code",
   "execution_count": 2,
   "id": "8207d782-0611-4b51-b5bc-9b10f36e6e9c",
   "metadata": {},
   "outputs": [
    {
     "data": {
      "text/plain": [
       "100"
      ]
     },
     "execution_count": 2,
     "metadata": {},
     "output_type": "execute_result"
    }
   ],
   "source": [
    "class Student:\n",
    "    def __init__(self, fee):\n",
    "        self.fee=fee\n",
    "\n",
    "    def info(self):\n",
    "        return self.fee*80\n",
    "\n",
    "s1=Student(100)\n",
    "s1.fee"
   ]
  },
  {
   "cell_type": "code",
   "execution_count": 4,
   "id": "a7a8ca2f-6f3b-4e10-8935-9a47fb9ca6f3",
   "metadata": {},
   "outputs": [
    {
     "data": {
      "text/plain": [
       "8000"
      ]
     },
     "execution_count": 4,
     "metadata": {},
     "output_type": "execute_result"
    }
   ],
   "source": [
    "class Student:\n",
    "    def __init__(self, fee):\n",
    "        self.fee=fee\n",
    "\n",
    "    def convert(self):\n",
    "        return self.fee*80\n",
    "\n",
    "s1=Student(100)\n",
    "s1.convert()"
   ]
  },
  {
   "cell_type": "code",
   "execution_count": 8,
   "id": "d55653bd-da67-4d22-a8a9-1be219ff0316",
   "metadata": {},
   "outputs": [
    {
     "data": {
      "text/plain": [
       "8000"
      ]
     },
     "execution_count": 8,
     "metadata": {},
     "output_type": "execute_result"
    }
   ],
   "source": [
    "#decorator is use to change the working of function , without making changes in exsisting code \n",
    "#used by adding @\n",
    "#to use function as a variable\n",
    "\n",
    "class Student:\n",
    "    def __init__(self, fee):\n",
    "        self.fee=fee\n",
    "        \n",
    "    @property   #@property decorator is used here to treat function as a variable\n",
    "    def convert(self):\n",
    "        return self.fee*80\n",
    "\n",
    "s1=Student(100)\n",
    "s1.convert"
   ]
  },
  {
   "cell_type": "code",
   "execution_count": 12,
   "id": "44e1ea47-0c3b-406c-982b-9728f6456e43",
   "metadata": {},
   "outputs": [
    {
     "ename": "TypeError",
     "evalue": "convert() missing 1 required positional argument: 'self'",
     "output_type": "error",
     "traceback": [
      "\u001b[1;31m---------------------------------------------------------------------------\u001b[0m",
      "\u001b[1;31mTypeError\u001b[0m                                 Traceback (most recent call last)",
      "Cell \u001b[1;32mIn[12], line 13\u001b[0m\n\u001b[0;32m     10\u001b[0m s1\u001b[38;5;241m=\u001b[39mStudent(\u001b[38;5;241m100\u001b[39m)\n\u001b[0;32m     11\u001b[0m s1\u001b[38;5;241m.\u001b[39mconvert()\n\u001b[1;32m---> 13\u001b[0m \u001b[43mStudent\u001b[49m\u001b[38;5;241;43m.\u001b[39;49m\u001b[43mconvert\u001b[49m\u001b[43m(\u001b[49m\u001b[43m)\u001b[49m\n",
      "\u001b[1;31mTypeError\u001b[0m: convert() missing 1 required positional argument: 'self'"
     ]
    }
   ],
   "source": [
    "#instance method can be used only by there functions\n",
    "class Student:\n",
    "    def __init__(self, fee):\n",
    "        self.fee=fee\n",
    "        \n",
    "    \n",
    "    def convert(self):\n",
    "        return self.fee*80\n",
    "\n",
    "s1=Student(100)\n",
    "s1.convert()\n",
    "\n",
    "Student.convert()\n",
    "\n"
   ]
  },
  {
   "cell_type": "code",
   "execution_count": 24,
   "id": "e8208362-a1b4-412b-8bf8-10a95be2eaaa",
   "metadata": {},
   "outputs": [
    {
     "ename": "TypeError",
     "evalue": "convert() takes 0 positional arguments but 1 was given",
     "output_type": "error",
     "traceback": [
      "\u001b[1;31m---------------------------------------------------------------------------\u001b[0m",
      "\u001b[1;31mTypeError\u001b[0m                                 Traceback (most recent call last)",
      "Cell \u001b[1;32mIn[24], line 10\u001b[0m\n\u001b[0;32m      7\u001b[0m         \u001b[38;5;28;01mreturn\u001b[39;00m \u001b[38;5;28mself\u001b[39m\u001b[38;5;241m.\u001b[39mfee\u001b[38;5;241m*\u001b[39m\u001b[38;5;241m80\u001b[39m\n\u001b[0;32m      9\u001b[0m s1\u001b[38;5;241m=\u001b[39mStudent(\u001b[38;5;241m100\u001b[39m)\n\u001b[1;32m---> 10\u001b[0m \u001b[43ms1\u001b[49m\u001b[38;5;241;43m.\u001b[39;49m\u001b[43mconvert\u001b[49m\u001b[43m(\u001b[49m\u001b[43m)\u001b[49m\n\u001b[0;32m     12\u001b[0m Student\u001b[38;5;241m.\u001b[39mconvert()\n",
      "\u001b[1;31mTypeError\u001b[0m: convert() takes 0 positional arguments but 1 was given"
     ]
    }
   ],
   "source": [
    "class Student:\n",
    "    def __init__(self, fee):\n",
    "        self.fee=fee\n",
    "        \n",
    "    \n",
    "    def convert():\n",
    "        return self.fee*80\n",
    "\n",
    "s1=Student(100)\n",
    "s1.convert()\n",
    "\n",
    "Student.convert()"
   ]
  },
  {
   "cell_type": "code",
   "execution_count": 27,
   "id": "3d957f54-2075-40dd-82fe-929071c3f5e7",
   "metadata": {},
   "outputs": [
    {
     "data": {
      "text/plain": [
       "80"
      ]
     },
     "execution_count": 27,
     "metadata": {},
     "output_type": "execute_result"
    }
   ],
   "source": [
    "class Student:\n",
    "    def __init__(self, fee):\n",
    "        self.fee=fee\n",
    "\n",
    "    def convert():\n",
    "        return 80\n",
    "\n",
    "s1=Student(100)\n",
    "#s1.convert()\n",
    "\n",
    "Student.convert()"
   ]
  },
  {
   "cell_type": "code",
   "execution_count": 29,
   "id": "1e2614d1-8b1c-4a6a-9d06-01fe7eaa68b2",
   "metadata": {},
   "outputs": [
    {
     "data": {
      "text/plain": [
       "80"
      ]
     },
     "execution_count": 29,
     "metadata": {},
     "output_type": "execute_result"
    }
   ],
   "source": [
    "class Student:\n",
    "    def __init__(self, fee):\n",
    "        self.fee=fee\n",
    "\n",
    "    def convert(self):\n",
    "        return 80\n",
    "\n",
    "s1=Student(100)\n",
    "s1.convert()"
   ]
  },
  {
   "cell_type": "code",
   "execution_count": 30,
   "id": "0fd1d2e1-6049-4186-bbc9-f6eaf96403be",
   "metadata": {},
   "outputs": [
    {
     "data": {
      "text/plain": [
       "80"
      ]
     },
     "execution_count": 30,
     "metadata": {},
     "output_type": "execute_result"
    }
   ],
   "source": [
    "#static method is method which can be called by anyone, class or object\n",
    "#it is bound to the class and not object\n",
    "#it cannot change the class\n",
    "#to remove boundation  from object\n",
    "\n",
    "class Student:\n",
    "    def __init__(self, fee):\n",
    "        self.fee=fee\n",
    "\n",
    "    @staticmethod\n",
    "    def convert():\n",
    "        return 80\n",
    "\n",
    "s1=Student(100)\n",
    "#s1.convert()\n",
    "\n",
    "Student.convert()"
   ]
  },
  {
   "cell_type": "code",
   "execution_count": 31,
   "id": "81ad3658-6688-4542-87a1-6539b64076b8",
   "metadata": {},
   "outputs": [
    {
     "data": {
      "text/plain": [
       "80"
      ]
     },
     "execution_count": 31,
     "metadata": {},
     "output_type": "execute_result"
    }
   ],
   "source": [
    "class Student:\n",
    "    def __init__(self, fee):\n",
    "        self.fee=fee\n",
    "\n",
    "    @staticmethod\n",
    "    def convert():\n",
    "        return 80\n",
    "\n",
    "s1=Student(100)\n",
    "s1.convert()\n",
    "\n",
    "#Student.convert()"
   ]
  },
  {
   "cell_type": "code",
   "execution_count": 34,
   "id": "3d63670d-57cb-43a6-add4-9d1d629c83ac",
   "metadata": {},
   "outputs": [
    {
     "data": {
      "text/plain": [
       "30"
      ]
     },
     "execution_count": 34,
     "metadata": {},
     "output_type": "execute_result"
    }
   ],
   "source": [
    "class Student:\n",
    "    def __init__(self, fee):\n",
    "        self.fee=fee\n",
    "\n",
    "    @staticmethod\n",
    "    def convert(x,y):\n",
    "        return x+y\n",
    "\n",
    "\n",
    "Student.convert(10, 20)"
   ]
  },
  {
   "cell_type": "code",
   "execution_count": 55,
   "id": "c576ff63-c788-4bf0-bcee-7f8205afc735",
   "metadata": {},
   "outputs": [
    {
     "data": {
      "text/plain": [
       "Dollar class has value 5"
      ]
     },
     "execution_count": 55,
     "metadata": {},
     "output_type": "execute_result"
    }
   ],
   "source": [
    "class Dollar:\n",
    "    def __init__(self, amount ):\n",
    "        self.amount =amount\n",
    "\n",
    "    def __repr__(self):\n",
    "        return f\"Dollar class has value {self.amount}\"\n",
    "\n",
    "   # @staticmethod\n",
    "    def convert(x):\n",
    "        return Dollar(x)\n",
    "\n",
    "d1=Dollar(5)\n",
    "#d1.convert()\n",
    "d1"
   ]
  },
  {
   "cell_type": "code",
   "execution_count": 56,
   "id": "9e9ecd89-8cd0-4f98-b8ab-8d5770f265c5",
   "metadata": {},
   "outputs": [
    {
     "data": {
      "text/plain": [
       "Dollar class has value 25"
      ]
     },
     "execution_count": 56,
     "metadata": {},
     "output_type": "execute_result"
    }
   ],
   "source": [
    "class Dollar:\n",
    "    def __init__(self, amount ):\n",
    "        self.amount =amount\n",
    "\n",
    "    def __repr__(self):\n",
    "        return f\"Dollar class has value {self.amount}\"\n",
    "\n",
    "    @staticmethod\n",
    "    def convert(x,y):\n",
    "        return Dollar(x+y)\n",
    "\n",
    "d1=Dollar(5)\n",
    "d1.convert(10,15)\n"
   ]
  },
  {
   "cell_type": "code",
   "execution_count": 60,
   "id": "61e63835-6c26-4d71-8ca7-226ddf5ba75a",
   "metadata": {},
   "outputs": [
    {
     "data": {
      "text/plain": [
       "Dollar class has value 30"
      ]
     },
     "execution_count": 60,
     "metadata": {},
     "output_type": "execute_result"
    }
   ],
   "source": [
    "class Dollar:\n",
    "    def __init__(self, amount ):\n",
    "        self.amount =amount\n",
    "\n",
    "    def __repr__(self):\n",
    "        return f\"Dollar class has value {self.amount}\"\n",
    "\n",
    "    @staticmethod\n",
    "    def convert(x,y):\n",
    "        return Dollar(x+y)\n",
    "\n",
    "class Euro(Dollar):\n",
    "    def __init__(self, amount):\n",
    "        super().__init__(amount)\n",
    "\n",
    "    def __repr__(self):\n",
    "        return f\"Dollar class has value {self.amount}\"\n",
    "\n",
    "d1=Euro(90)\n",
    "d1.convert(10,20)\n"
   ]
  },
  {
   "cell_type": "code",
   "execution_count": 63,
   "id": "a14ccb90-784b-4d3a-8ab1-541dccf0c02b",
   "metadata": {},
   "outputs": [
    {
     "data": {
      "text/plain": [
       "Dollar class has value 90"
      ]
     },
     "execution_count": 63,
     "metadata": {},
     "output_type": "execute_result"
    }
   ],
   "source": [
    "class Dollar:\n",
    "    def __init__(self, amount ):\n",
    "        self.amount =amount\n",
    "\n",
    "    def __repr__(self):\n",
    "        return f\"Dollar class has value {self.amount}\"\n",
    "\n",
    "    @classmethod\n",
    "    def convert(cls,x,y):\n",
    "        return Dollar(x+y)\n",
    "\n",
    "class Euro(Dollar):\n",
    "    def __init__(self, amount):\n",
    "        super().__init__(amount)\n",
    "\n",
    "    def __repr__(self):\n",
    "        return f\"Dollar class has value {self.amount}\"\n",
    "\n",
    "\n",
    "d1=Dollar(90)\n",
    "d1.convert(10,2)\n",
    "\n",
    "d1=Euro(90)\n",
    "d1.convert(40,50)"
   ]
  },
  {
   "cell_type": "code",
   "execution_count": 65,
   "id": "fc131bbd-d257-42c4-8f53-6f5545b0d403",
   "metadata": {},
   "outputs": [],
   "source": [
    "#functions\n",
    "#lambda\n",
    "#list+tuple\n",
    "#dictionry\n",
    "#class object\n",
    "#inheritance\n",
    "#polymorphism\n",
    "#mdthod overloading, overriding\n",
    "#__init__\n",
    "#Self\n",
    "#MRO\n",
    "#__new__() => instane banana\n"
   ]
  },
  {
   "cell_type": "code",
   "execution_count": null,
   "id": "520ba5f3-7de9-4da3-8b2e-53f5b34f8b39",
   "metadata": {},
   "outputs": [],
   "source": []
  },
  {
   "cell_type": "code",
   "execution_count": null,
   "id": "f011e33f-84f3-4da9-b52f-7db8eef9d9c5",
   "metadata": {},
   "outputs": [],
   "source": []
  }
 ],
 "metadata": {
  "kernelspec": {
   "display_name": "Python 3 (ipykernel)",
   "language": "python",
   "name": "python3"
  },
  "language_info": {
   "codemirror_mode": {
    "name": "ipython",
    "version": 3
   },
   "file_extension": ".py",
   "mimetype": "text/x-python",
   "name": "python",
   "nbconvert_exporter": "python",
   "pygments_lexer": "ipython3",
   "version": "3.9.0"
  }
 },
 "nbformat": 4,
 "nbformat_minor": 5
}
