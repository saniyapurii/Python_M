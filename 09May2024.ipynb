{
 "cells": [
  {
   "cell_type": "code",
   "execution_count": null,
   "id": "aa29611c-6bbf-420e-9633-eddcf7930fc7",
   "metadata": {},
   "outputs": [],
   "source": [
    "#Exception handling\n",
    "#Error => Terminate\n",
    "#Syntax Error , Exception (unwanted error)"
   ]
  },
  {
   "cell_type": "code",
   "execution_count": null,
   "id": "50b1bb51-0add-4d12-a4b6-95426d718348",
   "metadata": {},
   "outputs": [],
   "source": [
    "#Exception Error\n",
    "#Arithmetic Error\n",
    "#Name Error\n",
    "#intendetion error\n",
    "#Type error\n",
    "#value error\n",
    "#zerodivisionerror\n",
    "\n"
   ]
  },
  {
   "cell_type": "code",
   "execution_count": 1,
   "id": "fae9ef1e-5b0c-4af2-ba69-6fc31f5dd91f",
   "metadata": {},
   "outputs": [
    {
     "name": "stdout",
     "output_type": "stream",
     "text": [
      "Hello\n"
     ]
    },
    {
     "ename": "ZeroDivisionError",
     "evalue": "division by zero",
     "output_type": "error",
     "traceback": [
      "\u001b[1;31m---------------------------------------------------------------------------\u001b[0m",
      "\u001b[1;31mZeroDivisionError\u001b[0m                         Traceback (most recent call last)",
      "Cell \u001b[1;32mIn[1], line 3\u001b[0m\n\u001b[0;32m      1\u001b[0m \u001b[38;5;28mprint\u001b[39m(\u001b[38;5;124m\"\u001b[39m\u001b[38;5;124mHello\u001b[39m\u001b[38;5;124m\"\u001b[39m)\n\u001b[0;32m      2\u001b[0m x\u001b[38;5;241m=\u001b[39m\u001b[38;5;241m10\u001b[39m\n\u001b[1;32m----> 3\u001b[0m \u001b[38;5;241;43m10\u001b[39;49m\u001b[38;5;241;43m/\u001b[39;49m\u001b[38;5;241;43m0\u001b[39;49m\n\u001b[0;32m      4\u001b[0m \u001b[38;5;28mprint\u001b[39m(\u001b[38;5;124m\"\u001b[39m\u001b[38;5;124mtushar\u001b[39m\u001b[38;5;124m\"\u001b[39m)\n",
      "\u001b[1;31mZeroDivisionError\u001b[0m: division by zero"
     ]
    }
   ],
   "source": [
    "print(\"Hello\")\n",
    "x=10\n",
    "10/0\n",
    "print(\"tushar\")"
   ]
  },
  {
   "cell_type": "code",
   "execution_count": 31,
   "id": "91fcf0a0-13c1-4ade-b8b9-dc1f9a792cf0",
   "metadata": {},
   "outputs": [
    {
     "name": "stdout",
     "output_type": "stream",
     "text": [
      "Hello\n",
      "Error Handled\n"
     ]
    }
   ],
   "source": [
    "#2 blocks are used, try and except for handling the error\n",
    "#try:- the code which can have error, except:- if there is error, then what we can get as output \n",
    "try:\n",
    "    print(\"Hello\")\n",
    "    x=10\n",
    "    10/0\n",
    "    print(\"tushar\")\n",
    "except: #all errors are handled except syntax error\n",
    "    print(\"Error Handled\")"
   ]
  },
  {
   "cell_type": "code",
   "execution_count": 5,
   "id": "bade76de-5118-4c56-ad82-96d532bdfbe5",
   "metadata": {},
   "outputs": [
    {
     "name": "stdout",
     "output_type": "stream",
     "text": [
      "Hello\n",
      "Error Handled\n"
     ]
    }
   ],
   "source": [
    "try:\n",
    "    print(\"Hello\")\n",
    "    x=10\n",
    "    10/0\n",
    "    print(\"tushar\")\n",
    "except ZeroDivisionError:\n",
    "    print(\"Error Handled\")"
   ]
  },
  {
   "cell_type": "code",
   "execution_count": 6,
   "id": "a8f95efc-25fd-45ea-ab49-c0e75414f90c",
   "metadata": {},
   "outputs": [
    {
     "name": "stdout",
     "output_type": "stream",
     "text": [
      "Hello\n"
     ]
    },
    {
     "ename": "NameError",
     "evalue": "name 'yy' is not defined",
     "output_type": "error",
     "traceback": [
      "\u001b[1;31m---------------------------------------------------------------------------\u001b[0m",
      "\u001b[1;31mNameError\u001b[0m                                 Traceback (most recent call last)",
      "Cell \u001b[1;32mIn[6], line 4\u001b[0m\n\u001b[0;32m      2\u001b[0m     \u001b[38;5;28mprint\u001b[39m(\u001b[38;5;124m\"\u001b[39m\u001b[38;5;124mHello\u001b[39m\u001b[38;5;124m\"\u001b[39m)\n\u001b[0;32m      3\u001b[0m     x\u001b[38;5;241m=\u001b[39m\u001b[38;5;241m10\u001b[39m\n\u001b[1;32m----> 4\u001b[0m     \u001b[38;5;241m10\u001b[39m\u001b[38;5;241m/\u001b[39m\u001b[43myy\u001b[49m\n\u001b[0;32m      5\u001b[0m     \u001b[38;5;28mprint\u001b[39m(\u001b[38;5;124m\"\u001b[39m\u001b[38;5;124mtushar\u001b[39m\u001b[38;5;124m\"\u001b[39m)\n\u001b[0;32m      6\u001b[0m \u001b[38;5;28;01mexcept\u001b[39;00m \u001b[38;5;167;01mZeroDivisionError\u001b[39;00m:\n",
      "\u001b[1;31mNameError\u001b[0m: name 'yy' is not defined"
     ]
    }
   ],
   "source": [
    "try:\n",
    "    print(\"Hello\")\n",
    "    x=10\n",
    "    10/yy\n",
    "    print(\"tushar\")\n",
    "except ZeroDivisionError:\n",
    "    print(\"Error Handled\")"
   ]
  },
  {
   "cell_type": "code",
   "execution_count": 8,
   "id": "cc55be68-dc28-4922-9a08-ed3bc96234e6",
   "metadata": {},
   "outputs": [
    {
     "name": "stdout",
     "output_type": "stream",
     "text": [
      "Hello\n",
      "Error Handled\n"
     ]
    }
   ],
   "source": [
    "try:\n",
    "    print(\"Hello\")\n",
    "    x=10\n",
    "    10/yy\n",
    "    print(\"tushar\")\n",
    "except :\n",
    "    print(\"Error Handled\")"
   ]
  },
  {
   "cell_type": "code",
   "execution_count": 10,
   "id": "cc560f9a-d2c9-4abc-83f1-273bc1aff0b7",
   "metadata": {},
   "outputs": [
    {
     "name": "stdout",
     "output_type": "stream",
     "text": [
      "Hello\n",
      "Name Error Handled\n"
     ]
    }
   ],
   "source": [
    "try:\n",
    "    print(\"Hello\")\n",
    "    x=10\n",
    "    10/yy\n",
    "    print(\"tushar\")\n",
    "except ZeroDivisionError:\n",
    "    print(\"Zero Error Handled\")\n",
    "except NameError:\n",
    "    print(\"Name Error Handled\")"
   ]
  },
  {
   "cell_type": "code",
   "execution_count": 11,
   "id": "f92c31a5-b36a-419e-843a-c6e00929ba89",
   "metadata": {},
   "outputs": [
    {
     "name": "stdout",
     "output_type": "stream",
     "text": [
      "Hello\n",
      "Zero Error Handled\n"
     ]
    }
   ],
   "source": [
    "try:\n",
    "    print(\"Hello\")\n",
    "    x=10\n",
    "    10/0\n",
    "    print(\"tushar\")\n",
    "except ZeroDivisionError:\n",
    "    print(\"Zero Error Handled\")\n",
    "except NameError:\n",
    "    print(\"Name Error Handled\")"
   ]
  },
  {
   "cell_type": "code",
   "execution_count": 16,
   "id": "29da6b0f-540a-41bd-8933-fa48605e2c32",
   "metadata": {},
   "outputs": [
    {
     "name": "stdout",
     "output_type": "stream",
     "text": [
      "Hello\n",
      "Error Handled\n"
     ]
    }
   ],
   "source": [
    "#define 2 exception in 1 block\n",
    "\n",
    "try:\n",
    "    print(\"Hello\")\n",
    "    x=10\n",
    "    10/yy\n",
    "    10/0\n",
    "    print(\"tushar\")\n",
    "except (ZeroDivisionError, NameError):\n",
    "    print(\"Error Handled\")"
   ]
  },
  {
   "cell_type": "code",
   "execution_count": 19,
   "id": "f9378b36-c759-4d32-88bd-021c69a2e69a",
   "metadata": {},
   "outputs": [
    {
     "name": "stdout",
     "output_type": "stream",
     "text": [
      "Hello\n",
      "Name Error Handled\n"
     ]
    }
   ],
   "source": [
    "try:\n",
    "    print(\"Hello\")\n",
    "    x=10\n",
    "    10/yy\n",
    "    10/0\n",
    "    print(\"tushar\")\n",
    "except ZeroDivisionError:\n",
    "    print(\"Zero Error Handled\")\n",
    "except NameError:\n",
    "    print(\"Name Error Handled\")"
   ]
  },
  {
   "cell_type": "code",
   "execution_count": 23,
   "id": "f40417fe-bd0b-4a4d-a9d3-a8732b13f80c",
   "metadata": {},
   "outputs": [
    {
     "name": "stdout",
     "output_type": "stream",
     "text": [
      "Hello\n",
      "Error Handled, name 'yy' is not defined\n"
     ]
    }
   ],
   "source": [
    "#define 2 exception in 1 block and identify the error\n",
    "\n",
    "try:\n",
    "    print(\"Hello\")\n",
    "    x=10\n",
    "    10/yy\n",
    "    10/0\n",
    "    print(\"tushar\")\n",
    "except (ZeroDivisionError, NameError) as e:\n",
    "    print(\"Error Handled,\", e)"
   ]
  },
  {
   "cell_type": "code",
   "execution_count": 32,
   "id": "b505da97-30e0-4fd7-af6e-a8d4c8a4145f",
   "metadata": {},
   "outputs": [
    {
     "name": "stdout",
     "output_type": "stream",
     "text": [
      "Hello\n",
      "All errors are handled\n"
     ]
    }
   ],
   "source": [
    "try:\n",
    "    print(\"Hello\")\n",
    "    x=10\n",
    "    10/1\n",
    "    data = \"abc\"\n",
    "    data [6]\n",
    "    print(\"tushar\")\n",
    "except (ZeroDivisionError, NameError) as e:\n",
    "    print(\"Error Handled,\", e)\n",
    "except Exception: #syntax error are not solved\n",
    "    print(\"All errors are handled\")"
   ]
  },
  {
   "cell_type": "code",
   "execution_count": 33,
   "id": "8b3287ef-7263-4e84-818d-bab94f86282d",
   "metadata": {},
   "outputs": [
    {
     "name": "stdout",
     "output_type": "stream",
     "text": [
      "Hello\n",
      "Index Error Handled\n",
      "tushar\n"
     ]
    }
   ],
   "source": [
    "#nested try :\n",
    "\n",
    "try:\n",
    "    print(\"Hello\")\n",
    "    x=10\n",
    "    10/1\n",
    "    try:\n",
    "        data = \"abc\"\n",
    "        data [6]\n",
    "    except:\n",
    "        print(\"Index Error Handled\")\n",
    "    print(\"tushar\")\n",
    "except (ZeroDivisionError, NameError) as e:\n",
    "    print(\"Error Handled,\", e)\n",
    "except Exception: #syntax error are not solved\n",
    "    print(\"All errors are handled\")"
   ]
  },
  {
   "cell_type": "code",
   "execution_count": 35,
   "id": "389afd60-eb00-44f7-a546-5e43e4c8b809",
   "metadata": {},
   "outputs": [
    {
     "name": "stdout",
     "output_type": "stream",
     "text": [
      "Hello\n",
      "Index Error Handled\n",
      "tushar\n"
     ]
    }
   ],
   "source": [
    "print(\"Hello\")\n",
    "x=10\n",
    "10/1\n",
    "try:\n",
    "    data = \"abc\"\n",
    "    data [6]\n",
    "except:\n",
    "    print(\"Index Error Handled\")\n",
    "print(\"tushar\")"
   ]
  },
  {
   "cell_type": "code",
   "execution_count": 40,
   "id": "001e3a88-0534-4f47-820d-641606a03664",
   "metadata": {},
   "outputs": [
    {
     "name": "stdout",
     "output_type": "stream",
     "text": [
      "Hello\n",
      "All errors are handled, division by zero\n"
     ]
    }
   ],
   "source": [
    "#identify the error:\n",
    "try:\n",
    "    print(\"Hello\")\n",
    "    x=10\n",
    "    10/0\n",
    "    print(\"tushar\")\n",
    "except Exception as e: #syntax error are not solved\n",
    "    print(\"All errors are handled,\", e)"
   ]
  },
  {
   "cell_type": "code",
   "execution_count": 41,
   "id": "5ba4abc7-ea19-443d-b97f-f3771d98c1a2",
   "metadata": {},
   "outputs": [
    {
     "name": "stdout",
     "output_type": "stream",
     "text": [
      "Hello\n",
      "tushar\n",
      "Else block\n"
     ]
    }
   ],
   "source": [
    "#else block: else block will run, if there is no error in try block\n",
    "try:\n",
    "    print(\"Hello\")\n",
    "    x=10\n",
    "    10/1\n",
    "    print(\"tushar\")\n",
    "except (ZeroDivisionError, NameError) as e:\n",
    "    print(\"Error Handled,\", e)\n",
    "else:\n",
    "    print (\"Else block\")"
   ]
  },
  {
   "cell_type": "code",
   "execution_count": 46,
   "id": "c354423b-a248-4326-872f-b97bd378cd5e",
   "metadata": {},
   "outputs": [
    {
     "name": "stdout",
     "output_type": "stream",
     "text": [
      "Hello\n",
      "Error Handled, division by zero\n",
      "Finally block\n"
     ]
    }
   ],
   "source": [
    "#finally block: finally block will run, whether there is error or no error in try block\n",
    "try:\n",
    "    print(\"Hello\")\n",
    "    x=10\n",
    "    10/0\n",
    "    print(\"tushar\")\n",
    "except (ZeroDivisionError, NameError) as e:\n",
    "    print(\"Error Handled,\", e)\n",
    "finally:\n",
    "    print (\"Finally block\")"
   ]
  },
  {
   "cell_type": "code",
   "execution_count": 49,
   "id": "eb4e7bb9-131b-42fb-bfef-3169fce4a412",
   "metadata": {},
   "outputs": [
    {
     "name": "stdout",
     "output_type": "stream",
     "text": [
      "Eligible for the voting\n"
     ]
    }
   ],
   "source": [
    "#raise : keyword which is used to generate error\n",
    "age=19\n",
    "try: \n",
    "    if (age<18):\n",
    "        raise ValueError\n",
    "    else:\n",
    "        print(\"Eligible for the voting\")\n",
    "except ValueError:\n",
    "    print(\"Value Error is handled\")"
   ]
  },
  {
   "cell_type": "code",
   "execution_count": 51,
   "id": "c993e16f-58c1-4a74-ba7c-3d5ac2ad2907",
   "metadata": {},
   "outputs": [
    {
     "name": "stdout",
     "output_type": "stream",
     "text": [
      "Value Error is handled\n"
     ]
    }
   ],
   "source": [
    "age=16\n",
    "try: \n",
    "    if (age<18):\n",
    "        raise ValueError\n",
    "    else:\n",
    "        print(\"Eligible for the voting\")\n",
    "except ValueError:\n",
    "    print(\"Value Error is handled\")"
   ]
  },
  {
   "cell_type": "code",
   "execution_count": null,
   "id": "7f6753a3-716c-4b84-a77d-3148d5010223",
   "metadata": {},
   "outputs": [],
   "source": [
    "#exception handling done"
   ]
  },
  {
   "cell_type": "code",
   "execution_count": 52,
   "id": "d9075c3c-2334-4a9f-807f-83593fc37d95",
   "metadata": {},
   "outputs": [],
   "source": [
    "#lambda function and its use\n",
    "#=> annoynmous function(which have no name) \n",
    "#inline function or one line function\n",
    "#code readable\n"
   ]
  },
  {
   "cell_type": "code",
   "execution_count": null,
   "id": "8a746c96-017b-4c10-8265-aa783b3504a0",
   "metadata": {},
   "outputs": [],
   "source": [
    "\"\"\"\n",
    "def func(x):\n",
    "    return x+5\n",
    "func (10)\n",
    "\"\"\""
   ]
  },
  {
   "cell_type": "code",
   "execution_count": 55,
   "id": "48dd2a36-0866-48ed-ab69-3fc27dfa2b15",
   "metadata": {},
   "outputs": [
    {
     "data": {
      "text/plain": [
       "15"
      ]
     },
     "execution_count": 55,
     "metadata": {},
     "output_type": "execute_result"
    }
   ],
   "source": [
    "def func(x):\n",
    "    return x+5\n",
    "func (10)"
   ]
  },
  {
   "cell_type": "code",
   "execution_count": 56,
   "id": "d5f22ccc-b676-418d-b1af-14d6b0868b5b",
   "metadata": {},
   "outputs": [
    {
     "data": {
      "text/plain": [
       "<function __main__.func(x)>"
      ]
     },
     "execution_count": 56,
     "metadata": {},
     "output_type": "execute_result"
    }
   ],
   "source": [
    "def func(x):\n",
    "    return x+5\n",
    "func"
   ]
  },
  {
   "cell_type": "code",
   "execution_count": 54,
   "id": "796e3f1a-92b0-48e5-9f86-3fc64ddedbf8",
   "metadata": {},
   "outputs": [
    {
     "data": {
      "text/plain": [
       "<function __main__.<lambda>(x)>"
      ]
     },
     "execution_count": 54,
     "metadata": {},
     "output_type": "execute_result"
    }
   ],
   "source": [
    "#lambda  parameter : expression\n",
    "lambda x: x+5"
   ]
  },
  {
   "cell_type": "code",
   "execution_count": 61,
   "id": "431e7d3d-e752-49b0-9865-92be43e7d2a9",
   "metadata": {},
   "outputs": [
    {
     "data": {
      "text/plain": [
       "15"
      ]
     },
     "execution_count": 61,
     "metadata": {},
     "output_type": "execute_result"
    }
   ],
   "source": [
    "(lambda x: x+5) (10)"
   ]
  },
  {
   "cell_type": "code",
   "execution_count": 63,
   "id": "4a93de4b-a4c0-48fe-9e68-abb0c6226cc2",
   "metadata": {},
   "outputs": [
    {
     "data": {
      "text/plain": [
       "24"
      ]
     },
     "execution_count": 63,
     "metadata": {},
     "output_type": "execute_result"
    }
   ],
   "source": [
    "(lambda x,y: x+y) (10,14)"
   ]
  },
  {
   "cell_type": "code",
   "execution_count": 64,
   "id": "0ddba776-85a4-4894-aba3-53b7c95ae09f",
   "metadata": {},
   "outputs": [
    {
     "name": "stdout",
     "output_type": "stream",
     "text": [
      "15\n"
     ]
    }
   ],
   "source": [
    "(lambda x: print(x+5)) (10)"
   ]
  },
  {
   "cell_type": "code",
   "execution_count": 57,
   "id": "acd8e837-4b9c-4279-a02d-db443b67ae83",
   "metadata": {},
   "outputs": [
    {
     "data": {
      "text/plain": [
       "15"
      ]
     },
     "execution_count": 57,
     "metadata": {},
     "output_type": "execute_result"
    }
   ],
   "source": [
    "#lambda  parameter : expression\n",
    "out= lambda x: x+5\n",
    "\n",
    "out(10)"
   ]
  },
  {
   "cell_type": "code",
   "execution_count": 68,
   "id": "5cc1c237-18ac-4f8e-a347-d745d0037dd5",
   "metadata": {},
   "outputs": [
    {
     "name": "stdout",
     "output_type": "stream",
     "text": [
      "15\n"
     ]
    }
   ],
   "source": [
    "out= (lambda x: x+5) (10) \n",
    "x=out\n",
    "print(x)"
   ]
  },
  {
   "cell_type": "code",
   "execution_count": null,
   "id": "b6dea389-04f6-4606-8553-0bf5e8c33ac9",
   "metadata": {},
   "outputs": [],
   "source": [
    "#Map function - filter, -> high prder function\n",
    "#takes another function as parameter\n",
    "#map => 1 value at time=> function, =>return value\n",
    "\n"
   ]
  },
  {
   "cell_type": "code",
   "execution_count": 71,
   "id": "b529d179-0699-4f58-bb9c-b20943de5e1b",
   "metadata": {},
   "outputs": [
    {
     "data": {
      "text/plain": [
       "20"
      ]
     },
     "execution_count": 71,
     "metadata": {},
     "output_type": "execute_result"
    }
   ],
   "source": [
    "#map(function, iterable)\n",
    "\n",
    "def addNo(x):\n",
    "    return x+10\n",
    "addNo(10)"
   ]
  },
  {
   "cell_type": "code",
   "execution_count": 73,
   "id": "476fbd74-74fb-43f4-a5be-b73001ca28b1",
   "metadata": {},
   "outputs": [
    {
     "data": {
      "text/plain": [
       "<map at 0x1f9a1ff3550>"
      ]
     },
     "execution_count": 73,
     "metadata": {},
     "output_type": "execute_result"
    }
   ],
   "source": [
    "def addNo(x):\n",
    "    return x+10\n",
    "    \n",
    "mylist=[15,18,69,74]\n",
    "map( addNo, mylist)"
   ]
  },
  {
   "cell_type": "code",
   "execution_count": 74,
   "id": "2849ab90-1236-4e28-8b88-8aec9423b105",
   "metadata": {},
   "outputs": [
    {
     "data": {
      "text/plain": [
       "[25, 28, 79, 84]"
      ]
     },
     "execution_count": 74,
     "metadata": {},
     "output_type": "execute_result"
    }
   ],
   "source": [
    "def addNo(x):\n",
    "    return x+10\n",
    "    \n",
    "mylist=[15,18,69,74]\n",
    "list(map( addNo, mylist))"
   ]
  },
  {
   "cell_type": "code",
   "execution_count": 78,
   "id": "2417e2cf-b7a8-4529-a3f5-7e62e7c9fd4c",
   "metadata": {},
   "outputs": [
    {
     "name": "stdout",
     "output_type": "stream",
     "text": [
      "25\n",
      "28\n",
      "79\n",
      "84\n"
     ]
    },
    {
     "data": {
      "text/plain": [
       "[None, None, None, None]"
      ]
     },
     "execution_count": 78,
     "metadata": {},
     "output_type": "execute_result"
    }
   ],
   "source": [
    "def addNo(x):\n",
    "    print(x+10)\n",
    "    \n",
    "mylist=[15,18,69,74]\n",
    "list(map( addNo, mylist))"
   ]
  },
  {
   "cell_type": "code",
   "execution_count": 82,
   "id": "7937aec6-9755-4196-a2cf-cf4379d6e3a1",
   "metadata": {},
   "outputs": [
    {
     "name": "stdout",
     "output_type": "stream",
     "text": [
      "25\n",
      "28\n",
      "79\n",
      "84\n"
     ]
    },
    {
     "data": {
      "text/plain": [
       "[None, None, None, None]"
      ]
     },
     "execution_count": 82,
     "metadata": {},
     "output_type": "execute_result"
    }
   ],
   "source": [
    "def addNo(x):\n",
    "    print(x+10)\n",
    "    \n",
    "mylist=[15,18,69,74]\n",
    "list(map( addNo, mylist))"
   ]
  },
  {
   "cell_type": "code",
   "execution_count": 81,
   "id": "b53956e0-df93-4bad-81a4-606e139b58c9",
   "metadata": {},
   "outputs": [
    {
     "data": {
      "text/plain": [
       "[25, 28, 79, 84]"
      ]
     },
     "execution_count": 81,
     "metadata": {},
     "output_type": "execute_result"
    }
   ],
   "source": [
    "mylist=[15,18,69,74]\n",
    "\n",
    "list(map(lambda x:x+10, mylist))"
   ]
  },
  {
   "cell_type": "code",
   "execution_count": 83,
   "id": "ff0effae-373e-41c9-bddf-330085c55fc3",
   "metadata": {},
   "outputs": [],
   "source": [
    "# ['10 tushar 200', '20 aman 100', '90 happy 700']\n",
    "\n",
    "#[(200,tushar), (100, aman), (700,happy)]"
   ]
  },
  {
   "cell_type": "code",
   "execution_count": 104,
   "id": "e328fe38-b40b-4a59-851c-8342de9e23bb",
   "metadata": {},
   "outputs": [
    {
     "data": {
      "text/plain": [
       "[('200', 'tushar'), ('100', 'aman'), ('700', 'happy')]"
      ]
     },
     "execution_count": 104,
     "metadata": {},
     "output_type": "execute_result"
    }
   ],
   "source": [
    "mylist =['10 tushar 200', '20 aman 100', '90 happy 700']\n",
    "\"\"\"\n",
    "new_list =[]\n",
    "temp_list =[]\n",
    "for i in mylist:\n",
    "    if i == ',':\n",
    "        temp_list.append(i)\n",
    "        new_list.append(temp_list)\n",
    "        temp_list = []\n",
    "    else:\n",
    "        temp_list.append(i)\n",
    "new_list.append(temp_list)\n",
    "print (new_list)\n",
    "\"\"\"\n",
    "def func(x):\n",
    "    y =x.split()\n",
    "    return y[2], y[1]\n",
    "list(map(func, mylist ))"
   ]
  },
  {
   "cell_type": "code",
   "execution_count": 115,
   "id": "0267e90a-86af-43ae-a349-7160be16d6b1",
   "metadata": {},
   "outputs": [
    {
     "ename": "SyntaxError",
     "evalue": "invalid syntax (2589693258.py, line 2)",
     "output_type": "error",
     "traceback": [
      "\u001b[1;36m  Cell \u001b[1;32mIn[115], line 2\u001b[1;36m\u001b[0m\n\u001b[1;33m    list(map(func x: x.split() x[2],x[0], mylist ))\u001b[0m\n\u001b[1;37m                  ^\u001b[0m\n\u001b[1;31mSyntaxError\u001b[0m\u001b[1;31m:\u001b[0m invalid syntax\n"
     ]
    }
   ],
   "source": [
    "mylist =['10 tushar 200', '20 aman 100', '90 happy 700']\n",
    "list(map(func x: x.split() x[2],x[0], mylist ))"
   ]
  },
  {
   "cell_type": "code",
   "execution_count": 126,
   "id": "b3a5cf7a-81b5-4e3e-abd7-792887ccc4fd",
   "metadata": {},
   "outputs": [
    {
     "data": {
      "text/plain": [
       "['200', '100', '700']"
      ]
     },
     "execution_count": 126,
     "metadata": {},
     "output_type": "execute_result"
    }
   ],
   "source": [
    "mylist = ['10 tushar 200', '20 aman 100', '90 happy 700']\n",
    "list(map(lambda x: x.split()[2], mylist))"
   ]
  },
  {
   "cell_type": "code",
   "execution_count": 125,
   "id": "ed63b437-d047-4366-9baf-a60757e327ec",
   "metadata": {},
   "outputs": [
    {
     "name": "stdout",
     "output_type": "stream",
     "text": [
      "[('200', 'tushar'), ('100', 'aman'), ('700', 'happy')]\n"
     ]
    }
   ],
   "source": [
    "mylist = ['10 tushar 200', '20 aman 100', '90 happy 700']\n",
    "output = list(map(lambda x: (x.split()[2], x.split()[1]), mylist))\n",
    "print(output)"
   ]
  },
  {
   "cell_type": "code",
   "execution_count": null,
   "id": "3f3bda58-95e2-4977-a783-25ac3aacaa88",
   "metadata": {},
   "outputs": [],
   "source": [
    "#list comphrension\n",
    "#set & dictionary comprehnsion \n",
    "\n",
    "#what is class, object, \n",
    "#feature of oops\n",
    "\n"
   ]
  }
 ],
 "metadata": {
  "kernelspec": {
   "display_name": "Python 3 (ipykernel)",
   "language": "python",
   "name": "python3"
  },
  "language_info": {
   "codemirror_mode": {
    "name": "ipython",
    "version": 3
   },
   "file_extension": ".py",
   "mimetype": "text/x-python",
   "name": "python",
   "nbconvert_exporter": "python",
   "pygments_lexer": "ipython3",
   "version": "3.9.0"
  }
 },
 "nbformat": 4,
 "nbformat_minor": 5
}
