{
 "cells": [
  {
   "cell_type": "code",
   "execution_count": 2,
   "id": "c15b48ee-dccb-42c7-b48d-8c793250661f",
   "metadata": {},
   "outputs": [
    {
     "name": "stdout",
     "output_type": "stream",
     "text": [
      "h\n",
      "e\n",
      "y\n",
      " \n",
      "t\n",
      "u\n",
      "s\n",
      "h\n",
      "a\n",
      "r\n",
      " \n",
      "h\n",
      "e\n",
      "y\n"
     ]
    }
   ],
   "source": [
    "data=\"hey tushar hey\"\n",
    "\n",
    "for i in data:\n",
    "    print(i)"
   ]
  },
  {
   "cell_type": "code",
   "execution_count": 6,
   "id": "be73ebc4-b8c8-42dd-9905-632895f4c319",
   "metadata": {},
   "outputs": [
    {
     "data": {
      "text/plain": [
       "['hey', 'tushar', 'hey']"
      ]
     },
     "execution_count": 6,
     "metadata": {},
     "output_type": "execute_result"
    }
   ],
   "source": [
    "data=\"hey tushar hey\"\n",
    "\n",
    "data.split()\n",
    "#return data type of split is list."
   ]
  },
  {
   "cell_type": "code",
   "execution_count": 7,
   "id": "81b93e22-1a56-4e3e-a6c0-b05f6ba68220",
   "metadata": {},
   "outputs": [
    {
     "data": {
      "text/plain": [
       "['hey ', 'ushar hey']"
      ]
     },
     "execution_count": 7,
     "metadata": {},
     "output_type": "execute_result"
    }
   ],
   "source": [
    "data=\"hey tushar hey\"\n",
    "\n",
    "data.split(\"t\")\n",
    "#return data type of split is list."
   ]
  },
  {
   "cell_type": "code",
   "execution_count": 8,
   "id": "582b5e8a-452f-46f9-b01c-cc18792fe9e9",
   "metadata": {},
   "outputs": [
    {
     "data": {
      "text/plain": [
       "['', 'ey tus', 'ar ', 'ey']"
      ]
     },
     "execution_count": 8,
     "metadata": {},
     "output_type": "execute_result"
    }
   ],
   "source": [
    "data=\"hey tushar hey\"\n",
    "data.split(\"h\")"
   ]
  },
  {
   "cell_type": "code",
   "execution_count": 13,
   "id": "92d6d86d-96a4-44ce-80db-f294133f4728",
   "metadata": {},
   "outputs": [
    {
     "name": "stdout",
     "output_type": "stream",
     "text": [
      "['', 'ey tus', 'ar ', 'ey'] <class 'list'>\n"
     ]
    }
   ],
   "source": [
    "data=\"hey tushar hey\"\n",
    "x=data.split(\"h\")\n",
    "print(x, type(x))"
   ]
  },
  {
   "cell_type": "code",
   "execution_count": 15,
   "id": "faca2660-a295-4a88-a67f-afcecb236016",
   "metadata": {},
   "outputs": [
    {
     "name": "stdout",
     "output_type": "stream",
     "text": [
      "['hey', 'tushar', 'hey', 'helo', 'hey', 'user', 'user', 'hey'] <class 'list'>\n"
     ]
    }
   ],
   "source": [
    "data=\"hey tushar hey hello hey user user hey\"\n",
    "\n",
    "#[hey tushar hello user]\n",
    "x=data.split()\n",
    "print(x, type(x))"
   ]
  },
  {
   "cell_type": "code",
   "execution_count": 16,
   "id": "87368311-9f22-441b-b03a-f3da82e34bbe",
   "metadata": {},
   "outputs": [
    {
     "name": "stdout",
     "output_type": "stream",
     "text": [
      "['hey', 'tushar', 'hey', 'helo', 'hey', 'user', 'user', 'hey']\n"
     ]
    }
   ],
   "source": [
    "data=\"hey tushar hey hello hey user user hey\"\n",
    "\n",
    "mylist=data.split()\n",
    "print(mylist)"
   ]
  },
  {
   "cell_type": "code",
   "execution_count": 19,
   "id": "73ce89e9-0351-408e-b44a-ad76e7902139",
   "metadata": {},
   "outputs": [
    {
     "name": "stdout",
     "output_type": "stream",
     "text": [
      "['hey', 'tushar', 'hey', 'helo', 'hey', 'user', 'user', 'hey']\n",
      "['hey', 'tushar', 'hey', 'helo', 'hey', 'user', 'user', 'hey']\n",
      "['hey', 'tushar', 'hey', 'helo', 'hey', 'user', 'user', 'hey']\n",
      "['hey', 'tushar', 'hey', 'helo', 'hey', 'user', 'user', 'hey']\n",
      "['hey', 'tushar', 'hey', 'helo', 'hey', 'user', 'user', 'hey']\n",
      "['hey', 'tushar', 'hey', 'helo', 'hey', 'user', 'user', 'hey']\n",
      "['hey', 'tushar', 'hey', 'helo', 'hey', 'user', 'user', 'hey']\n",
      "['hey', 'tushar', 'hey', 'helo', 'hey', 'user', 'user', 'hey']\n"
     ]
    }
   ],
   "source": [
    "data=\"hey tushar hey hello hey user user hey\"\n",
    "\n",
    "mylist=data.split()\n",
    "for i in mylist:\n",
    "    print(mylist)"
   ]
  },
  {
   "cell_type": "code",
   "execution_count": 20,
   "id": "6ed60af4-264c-4b8e-aa12-46718f58fa39",
   "metadata": {},
   "outputs": [
    {
     "name": "stdout",
     "output_type": "stream",
     "text": [
      "hey\n",
      "tushar\n",
      "hey\n",
      "helo\n",
      "hey\n",
      "user\n",
      "user\n",
      "hey\n"
     ]
    }
   ],
   "source": [
    "data=\"hey tushar hey hello hey user user hey\"\n",
    "\n",
    "mylist=data.split()\n",
    "for i in mylist:\n",
    "    print(i)"
   ]
  },
  {
   "cell_type": "code",
   "execution_count": 22,
   "id": "57edb71d-83fd-4849-950a-4de66a1da613",
   "metadata": {},
   "outputs": [
    {
     "name": "stdout",
     "output_type": "stream",
     "text": [
      "['hey']\n",
      "['hey', 'tushar']\n",
      "['hey', 'tushar', 'hey']\n",
      "['hey', 'tushar', 'hey', 'helo']\n",
      "['hey', 'tushar', 'hey', 'helo', 'hey']\n",
      "['hey', 'tushar', 'hey', 'helo', 'hey', 'user']\n",
      "['hey', 'tushar', 'hey', 'helo', 'hey', 'user', 'user']\n",
      "['hey', 'tushar', 'hey', 'helo', 'hey', 'user', 'user', 'hey']\n"
     ]
    }
   ],
   "source": [
    "data=\"hey tushar hey hello hey user user hey\"\n",
    "\n",
    "mylist=data.split()\n",
    "newlist=[]\n",
    "for i in mylist:\n",
    "    newlist.append(i)\n",
    "    print(newlist)"
   ]
  },
  {
   "cell_type": "code",
   "execution_count": 23,
   "id": "75306ac2-ac71-4411-a47c-283cd0b90c7b",
   "metadata": {},
   "outputs": [
    {
     "name": "stdout",
     "output_type": "stream",
     "text": [
      "['hey', 'tushar', 'hey', 'helo', 'hey', 'user', 'user', 'hey']\n"
     ]
    }
   ],
   "source": [
    "data=\"hey tushar hey hello hey user user hey\"\n",
    "\n",
    "mylist=data.split()\n",
    "newlist=[]\n",
    "for i in mylist:\n",
    "    newlist.append(i)\n",
    "print(newlist)"
   ]
  },
  {
   "cell_type": "code",
   "execution_count": 25,
   "id": "0a27ca95-4f84-4e8b-9cab-f2372668a0ea",
   "metadata": {},
   "outputs": [
    {
     "data": {
      "text/plain": [
       "False"
      ]
     },
     "execution_count": 25,
     "metadata": {},
     "output_type": "execute_result"
    }
   ],
   "source": [
    "data=\"hey tushar hey hello hey user user hey\"\n",
    "\n",
    "mylist=data.split()\n",
    "newlist=[]\n",
    "for i in mylist:\n",
    "    newlist.append(i)\n",
    "\"hey12\" in newlist"
   ]
  },
  {
   "cell_type": "code",
   "execution_count": 27,
   "id": "43f636e6-bd78-4a07-b8cf-dcee3f915a82",
   "metadata": {},
   "outputs": [
    {
     "name": "stdout",
     "output_type": "stream",
     "text": [
      "['hey']\n",
      "['hey', 'tushar']\n",
      "['hey', 'tushar', 'helo']\n",
      "['hey', 'tushar', 'helo', 'user']\n"
     ]
    }
   ],
   "source": [
    "data=\"hey tushar hey hello hey user user hey\"\n",
    "\n",
    "mylist=data.split()\n",
    "newlist=[]\n",
    "for i in mylist:\n",
    "    if i not in newlist:\n",
    "        newlist.append(i)\n",
    "        print(newlist)"
   ]
  },
  {
   "cell_type": "code",
   "execution_count": 30,
   "id": "20cfbdd4-3a8e-4257-bc23-6afba5cebaf8",
   "metadata": {},
   "outputs": [
    {
     "name": "stdout",
     "output_type": "stream",
     "text": [
      "['hey']\n",
      "['hey', 'tushar']\n",
      "['hey', 'tushar']\n",
      "['hey', 'tushar', 'hello']\n",
      "['hey', 'tushar', 'hello']\n",
      "['hey', 'tushar', 'hello', 'user']\n",
      "['hey', 'tushar', 'hello', 'user']\n",
      "['hey', 'tushar', 'hello', 'user']\n"
     ]
    }
   ],
   "source": [
    "data=\"hey tushar hey hello hey user user hey\"\n",
    "\n",
    "mylist=data.split()\n",
    "newlist=[]\n",
    "for i in mylist:\n",
    "    if i not in newlist:\n",
    "        newlist.append(i)\n",
    "    print(newlist)"
   ]
  },
  {
   "cell_type": "code",
   "execution_count": 1,
   "id": "6f96f941-7b39-4650-8439-f0d2a0796738",
   "metadata": {},
   "outputs": [
    {
     "name": "stdout",
     "output_type": "stream",
     "text": [
      "['hey', 'tushar', 'hello', 'user']\n"
     ]
    }
   ],
   "source": [
    "data=\"hey tushar hey hello hey user user hey\"\n",
    "\n",
    "mylist=data.split()\n",
    "newlist=[]\n",
    "for i in mylist:\n",
    "    if (i not in newlist):\n",
    "        newlist.append(i)\n",
    "print(newlist)"
   ]
  },
  {
   "cell_type": "code",
   "execution_count": null,
   "id": "8d7e67da-3f6e-4705-b679-cfbb001edf69",
   "metadata": {},
   "outputs": [],
   "source": [
    "#tuple\n",
    "#collection of multiple element\n",
    "#immutable\n",
    "#index position () \n",
    "#declaration in parenthesis"
   ]
  },
  {
   "cell_type": "code",
   "execution_count": 6,
   "id": "3885a554-3284-4ce0-a58e-add7726603b1",
   "metadata": {},
   "outputs": [
    {
     "name": "stdout",
     "output_type": "stream",
     "text": [
      "<class 'int'>\n"
     ]
    }
   ],
   "source": [
    "mytuple=10\n",
    "print(type(mytuple))\n",
    "\n",
    "#type =int, when single value"
   ]
  },
  {
   "cell_type": "code",
   "execution_count": 4,
   "id": "c2e5c938-8e94-49e7-946f-9d6a5e1c57ec",
   "metadata": {},
   "outputs": [
    {
     "name": "stdout",
     "output_type": "stream",
     "text": [
      "<class 'tuple'>\n"
     ]
    }
   ],
   "source": [
    "mytuple=10,20\n",
    "print(type(mytuple))\n",
    "\n",
    "#type=tuple, when multiple value"
   ]
  },
  {
   "cell_type": "code",
   "execution_count": 5,
   "id": "68ceccfc-3aaf-48db-bfc9-f0aa0ef3ff34",
   "metadata": {},
   "outputs": [
    {
     "name": "stdout",
     "output_type": "stream",
     "text": [
      "<class 'tuple'>\n"
     ]
    }
   ],
   "source": [
    "mytuple=(10,20)\n",
    "print(type(mytuple))"
   ]
  },
  {
   "cell_type": "code",
   "execution_count": 7,
   "id": "e42cbd54-935e-4b3d-87c0-d0da9cf29f52",
   "metadata": {},
   "outputs": [
    {
     "name": "stdout",
     "output_type": "stream",
     "text": [
      "<class 'tuple'>\n"
     ]
    }
   ],
   "source": [
    "mytuple=(10,)\n",
    "print(type(mytuple))"
   ]
  },
  {
   "cell_type": "code",
   "execution_count": 9,
   "id": "e8e2a1ec-d94a-4f23-99ed-dd9ba7265f2c",
   "metadata": {},
   "outputs": [
    {
     "name": "stdout",
     "output_type": "stream",
     "text": [
      "<class 'tuple'>\n"
     ]
    }
   ],
   "source": [
    "mytuple=(10,20,\"Hey\",10.0)\n",
    "print(type(mytuple))"
   ]
  },
  {
   "cell_type": "code",
   "execution_count": 10,
   "id": "8a2b38b4-61e6-4598-8ebf-ec71c3a42c61",
   "metadata": {},
   "outputs": [
    {
     "data": {
      "text/plain": [
       "10"
      ]
     },
     "execution_count": 10,
     "metadata": {},
     "output_type": "execute_result"
    }
   ],
   "source": [
    "mytuple[0]"
   ]
  },
  {
   "cell_type": "code",
   "execution_count": 11,
   "id": "ab6cb34c-c60e-4daf-8d3c-fef14d006f14",
   "metadata": {},
   "outputs": [
    {
     "data": {
      "text/plain": [
       "(10, 20, 'Hey')"
      ]
     },
     "execution_count": 11,
     "metadata": {},
     "output_type": "execute_result"
    }
   ],
   "source": [
    "mytuple[0:3]"
   ]
  },
  {
   "cell_type": "code",
   "execution_count": 12,
   "id": "b3ab1d44-57b4-493b-965d-5bd3f1052e0a",
   "metadata": {},
   "outputs": [
    {
     "data": {
      "text/plain": [
       "2"
      ]
     },
     "execution_count": 12,
     "metadata": {},
     "output_type": "execute_result"
    }
   ],
   "source": [
    "mytuple.index(\"Hey\")"
   ]
  },
  {
   "cell_type": "code",
   "execution_count": 13,
   "id": "cd5c978b-a2a2-4a4f-b0c6-5a64aa9fb7de",
   "metadata": {},
   "outputs": [
    {
     "ename": "TypeError",
     "evalue": "'tuple' object does not support item assignment",
     "output_type": "error",
     "traceback": [
      "\u001b[1;31m---------------------------------------------------------------------------\u001b[0m",
      "\u001b[1;31mTypeError\u001b[0m                                 Traceback (most recent call last)",
      "Cell \u001b[1;32mIn[13], line 1\u001b[0m\n\u001b[1;32m----> 1\u001b[0m \u001b[43mmytuple\u001b[49m\u001b[43m[\u001b[49m\u001b[38;5;241;43m0\u001b[39;49m\u001b[43m]\u001b[49m\u001b[38;5;241m=\u001b[39m\u001b[38;5;241m10\u001b[39m\n",
      "\u001b[1;31mTypeError\u001b[0m: 'tuple' object does not support item assignment"
     ]
    }
   ],
   "source": [
    "mytuple[0]=10"
   ]
  },
  {
   "cell_type": "code",
   "execution_count": 16,
   "id": "220bfc29-5177-4590-811c-888928b5bba9",
   "metadata": {},
   "outputs": [
    {
     "data": {
      "text/plain": [
       "1745433851200"
      ]
     },
     "execution_count": 16,
     "metadata": {},
     "output_type": "execute_result"
    }
   ],
   "source": [
    "mytuple=(10,20,\"Hey\",10.0)\n",
    "id(mytuple)"
   ]
  },
  {
   "cell_type": "code",
   "execution_count": 14,
   "id": "43048673-0297-47df-a046-143abb48226e",
   "metadata": {},
   "outputs": [
    {
     "data": {
      "text/plain": [
       "(10, 20, 'Hey', 10.0, 60, 70, 80)"
      ]
     },
     "execution_count": 14,
     "metadata": {},
     "output_type": "execute_result"
    }
   ],
   "source": [
    "mytuple+(60,70,80)"
   ]
  },
  {
   "cell_type": "code",
   "execution_count": 15,
   "id": "84479648-ebe5-4976-88cf-9defb9bd13fb",
   "metadata": {},
   "outputs": [
    {
     "data": {
      "text/plain": [
       "1745434284096"
      ]
     },
     "execution_count": 15,
     "metadata": {},
     "output_type": "execute_result"
    }
   ],
   "source": [
    "mytuple=mytuple+(60,70,80)\n",
    "id(mytuple)"
   ]
  },
  {
   "cell_type": "code",
   "execution_count": null,
   "id": "635333b8-1f11-4e03-8705-0b1c7702404c",
   "metadata": {},
   "outputs": [],
   "source": [
    "# \"hey tushar hey hello hello tushar tushar\"\n"
   ]
  },
  {
   "cell_type": "code",
   "execution_count": 17,
   "id": "1b485305-4382-443c-b04d-a8ab2ae5b089",
   "metadata": {},
   "outputs": [],
   "source": [
    "# armstrong number \n",
    "#153=1**3+5**3+3**3= 1+125+27"
   ]
  },
  {
   "cell_type": "code",
   "execution_count": 18,
   "id": "59724dc9-5539-4998-90c1-e74295a92ccf",
   "metadata": {},
   "outputs": [
    {
     "name": "stdout",
     "output_type": "stream",
     "text": [
      "1\n",
      "0\n"
     ]
    },
    {
     "data": {
      "text/plain": [
       "153"
      ]
     },
     "execution_count": 18,
     "metadata": {},
     "output_type": "execute_result"
    }
   ],
   "source": [
    "x=153\n",
    "rem1=x%10\n",
    "\n",
    "x=x//10\n",
    "\n",
    "#x=> 15  rem2=> 5\n",
    "rem2=x%10\n",
    "\n",
    "x=x//10\n",
    "rem3=x%10\n",
    "print(rem3)\n",
    "\n",
    "x=x//10\n",
    "print(x)\n",
    "\n",
    "rem1**3 + rem2**3+rem3**3"
   ]
  },
  {
   "cell_type": "code",
   "execution_count": 20,
   "id": "82d5a070-a221-4bc0-85c3-6f8f2042b34f",
   "metadata": {},
   "outputs": [
    {
     "name": "stdout",
     "output_type": "stream",
     "text": [
      "10\n"
     ]
    }
   ],
   "source": [
    "x=10\n",
    "x+5\n",
    "print(x)\n",
    "# 15   10  5  ( Error)"
   ]
  },
  {
   "cell_type": "code",
   "execution_count": 19,
   "id": "e80016bd-65d1-4515-b860-ee43efa471dd",
   "metadata": {},
   "outputs": [
    {
     "name": "stdout",
     "output_type": "stream",
     "text": [
      "Armstrong number\n"
     ]
    }
   ],
   "source": [
    "# more than 0\n",
    "# x=153   =>  %   , //\n",
    "# aisa data jo purani value ko yad raakhe ( variable)\n",
    "\n",
    "x=153\n",
    "originalnum=x\n",
    "total=0\n",
    "while(x>0):\n",
    "    \n",
    "    rem=x%10\n",
    "    total += rem**3\n",
    "    \n",
    "    x=x//10\n",
    "    \n",
    "if(total==originalnum):\n",
    "    print(\"Armstrong number\")\n",
    "else:\n",
    "    print(\"Not\")"
   ]
  },
  {
   "cell_type": "code",
   "execution_count": null,
   "id": "8095d6fe-5c13-443a-a474-7d0fde43fcab",
   "metadata": {},
   "outputs": [],
   "source": [
    "# to find out whether a 4digit number is a armstrong\n",
    "# to find all the unique word from a string no duplicacy\n",
    "#    \"hey hello user tushar tushar hello\"\n",
    "#   [hey, user]"
   ]
  }
 ],
 "metadata": {
  "kernelspec": {
   "display_name": "Python 3 (ipykernel)",
   "language": "python",
   "name": "python3"
  },
  "language_info": {
   "codemirror_mode": {
    "name": "ipython",
    "version": 3
   },
   "file_extension": ".py",
   "mimetype": "text/x-python",
   "name": "python",
   "nbconvert_exporter": "python",
   "pygments_lexer": "ipython3",
   "version": "3.9.0"
  }
 },
 "nbformat": 4,
 "nbformat_minor": 5
}
