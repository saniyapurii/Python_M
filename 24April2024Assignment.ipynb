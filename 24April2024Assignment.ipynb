{
 "cells": [
  {
   "cell_type": "code",
   "execution_count": 5,
   "id": "191d52ca-b92e-4e03-a359-225c4c78528b",
   "metadata": {},
   "outputs": [
    {
     "name": "stdout",
     "output_type": "stream",
     "text": [
      "*          \n",
      "* *        \n",
      "*   *      \n",
      "*     *    \n",
      "* * * * *  \n"
     ]
    }
   ],
   "source": [
    "\"\"\"\n",
    "ABCD\n",
    " BCD\n",
    "  CD\n",
    "   D\n",
    "\n",
    "ABCD\n",
    " ABC\n",
    "  AB\n",
    "   A\n",
    "\n",
    "A B  C  D\n",
    " 10 100 1000\n",
    "    B   C\n",
    "        100\n",
    "\n",
    "ZYX\n",
    " WV\n",
    "  U\n",
    "\n",
    "*\n",
    "**\n",
    "* *\n",
    "*  * \n",
    "*   *\n",
    "*****\n",
    "\n",
    "*****\n",
    " *  *\n",
    "  * *\n",
    "   **\n",
    "    *\n",
    "\n",
    "\n",
    "*****\n",
    "*  *\n",
    "* *\n",
    "**\n",
    "*\n",
    "\n",
    "\"\"\"\n",
    "\n",
    "for i in range(1,6):\n",
    "  for j in range(1,6):\n",
    "    if(i==j or i==5 or j==1):\n",
    "      print(\"*\", end =\" \")\n",
    "    else:\n",
    "        print(\" \", end=\" \")\n",
    "  print(\" \")"
   ]
  },
  {
   "cell_type": "code",
   "execution_count": 22,
   "id": "3c4ee1e1-064b-4e0f-8384-e0c4e601a722",
   "metadata": {},
   "outputs": [
    {
     "name": "stdout",
     "output_type": "stream",
     "text": [
      "  A B C D  \n",
      "    B C D  \n",
      "      C D  \n",
      "        D  \n"
     ]
    }
   ],
   "source": [
    "\"\"\"\n",
    "ABCD\n",
    " BCD\n",
    "  CD\n",
    "   D\n",
    "\"\"\"\n",
    "for i in range (65,69):\n",
    "    for k in range(64,i):\n",
    "        print(\" \", end =\" \")\n",
    "    for j in range(i,69):\n",
    "        print(chr(j), end=\" \")\n",
    "    print(\" \")"
   ]
  },
  {
   "cell_type": "code",
   "execution_count": 35,
   "id": "304a768a-1bbb-479e-ae02-e87a71753e66",
   "metadata": {},
   "outputs": [
    {
     "name": "stdout",
     "output_type": "stream",
     "text": [
      "  ABCD \n",
      "    ABC \n",
      "      AB \n",
      "        A \n"
     ]
    }
   ],
   "source": [
    "\"\"\"\n",
    "ABCD\n",
    " ABC\n",
    "  AB\n",
    "   A\n",
    "\"\"\"\n",
    "\n",
    "for i in range(65,69):\n",
    "    x=65\n",
    "    for k in range(64,i):\n",
    "        print(\" \", end=\" \")\n",
    "    for j in range(i,69):\n",
    "        print(chr(x), end=\"\")\n",
    "        x+=1\n",
    "    print(\" \")"
   ]
  },
  {
   "cell_type": "code",
   "execution_count": 104,
   "id": "7a4e3635-ea54-4b6e-bd28-27b20e4534f8",
   "metadata": {},
   "outputs": [
    {
     "name": "stdout",
     "output_type": "stream",
     "text": [
      "A B C D  \n",
      "  10 100 1000  \n",
      "    B C  \n",
      "      10000  \n"
     ]
    }
   ],
   "source": [
    "\"\"\"\n",
    "A B  C  D\n",
    " 10 100 1000\n",
    "    B   C\n",
    "        100\n",
    "\"\"\"\n",
    "x=10\n",
    "y=66\n",
    "for i in range(65,69):\n",
    "    for k in range(65,i):\n",
    "        print(\" \", end=\" \")\n",
    "    for j in range(i,69):\n",
    "        if(i%2==0):\n",
    "            print(x, end=\" \")\n",
    "            x*=10\n",
    "        elif(i==67):\n",
    "            print(chr(y), end=\" \")\n",
    "            y+=1\n",
    "        elif(i==68):\n",
    "            print(\"100\", end=\" \")\n",
    "        else:\n",
    "            print(chr(j), end=\" \")\n",
    "        \n",
    "    print(\" \")"
   ]
  },
  {
   "cell_type": "code",
   "execution_count": 175,
   "id": "d1f0db07-a588-45c5-bc0e-c56bf5bebf36",
   "metadata": {},
   "outputs": [
    {
     "name": "stdout",
     "output_type": "stream",
     "text": [
      "A B C D \n",
      "  10 100 1000 \n",
      "    B C \n",
      "      100 \n"
     ]
    }
   ],
   "source": [
    "\"\"\"\n",
    "A B  C  D\n",
    " 10 100 1000\n",
    "    B   C\n",
    "        100\n",
    "\"\"\"\n",
    "temp =0\n",
    "sum = 0\n",
    "for i in range(1,5):\n",
    "    num =10   \n",
    "    if(i%2!=0):\n",
    "        for j in range(1,i):\n",
    "            print(\" \",end=\" \")\n",
    "        for k in range(i,5):\n",
    "            print(chr(64+i-sum),end=\" \")\n",
    "            i+=1\n",
    "        sum+=1      \n",
    "    else:      \n",
    "        for j in range(1,i):\n",
    "            print(\" \",end=\" \")\n",
    "        for k in range(i,5):\n",
    "            print(num + temp,end=\" \")\n",
    "            num*=10\n",
    "        temp+=90    \n",
    "    print(\"\")"
   ]
  },
  {
   "cell_type": "code",
   "execution_count": 179,
   "id": "d4358dc0-750b-44e2-a16c-e1679f6fad25",
   "metadata": {},
   "outputs": [
    {
     "name": "stdout",
     "output_type": "stream",
     "text": [
      "A B C D \n",
      "  10 100 1000 \n",
      "    B C \n",
      "      100 \n"
     ]
    }
   ],
   "source": [
    "\"\"\"\n",
    "A B  C  D\n",
    " 10 100 1000\n",
    "    B   C\n",
    "        100\n",
    "\"\"\"\n",
    "temp =0\n",
    "sum = 0\n",
    "for i in range(1,5):\n",
    "    num =10   \n",
    "    for j in range(1,i):\n",
    "            print(\" \",end=\" \")\n",
    "    if(i%2!=0):\n",
    "        for k in range(i,5):\n",
    "            print(chr(64+i-sum),end=\" \")\n",
    "            i+=1\n",
    "        sum+=1      \n",
    "    else:      \n",
    "        for k in range(i,5):\n",
    "            print(num + temp,end=\" \")\n",
    "            num*=10\n",
    "        temp+=90    \n",
    "    print(\"\")"
   ]
  },
  {
   "cell_type": "code",
   "execution_count": 102,
   "id": "98fba60c-684b-4063-ba85-dc176a1475a3",
   "metadata": {},
   "outputs": [
    {
     "name": "stdout",
     "output_type": "stream",
     "text": [
      "  A B C D \n",
      "    10 100 1000 \n",
      "      B C \n",
      "        100 \n"
     ]
    }
   ],
   "source": [
    "n=4\n",
    "for i in range(1,n+1):\n",
    "    a=1\n",
    "    b=65\n",
    "    for k in range(i):\n",
    "        print(\" \",end=\" \")\n",
    "    for m in range((n+1)-i):\n",
    "        if (i%2==0) and i==2:\n",
    "            a=a*10\n",
    "            print(a,end=\" \")\n",
    "        elif i==4:\n",
    "            a=a*100\n",
    "            print(a,end=\" \")\n",
    "        elif i==3:\n",
    "            b=b+1\n",
    "            print(chr(b),end=\" \")\n",
    "        else :\n",
    "            print(chr(b),end=\" \")\n",
    "            b=b+1\n",
    "            \n",
    "    print()"
   ]
  },
  {
   "cell_type": "code",
   "execution_count": 38,
   "id": "a503fffc-5946-4565-a8c7-786ee05c379e",
   "metadata": {},
   "outputs": [
    {
     "name": "stdout",
     "output_type": "stream",
     "text": [
      "  ZYX \n",
      "    WV \n",
      "      U \n"
     ]
    }
   ],
   "source": [
    "\"\"\"\n",
    "ZYX\n",
    " WV\n",
    "  U\n",
    "\"\"\"\n",
    "x=90\n",
    "for i in range(65,68):\n",
    "    for k in range(64,i):\n",
    "        print(\" \", end=\" \")\n",
    "    for j in range(i,68):\n",
    "        print(chr(x), end=\"\")\n",
    "        x-=1\n",
    "    print(\" \")"
   ]
  },
  {
   "cell_type": "code",
   "execution_count": 79,
   "id": "4fe761ad-77e6-4907-ab1e-a231f6015b03",
   "metadata": {},
   "outputs": [
    {
     "name": "stdout",
     "output_type": "stream",
     "text": [
      "*          \n",
      "* *        \n",
      "*   *      \n",
      "*     *    \n",
      "* * * * *  \n"
     ]
    }
   ],
   "source": [
    "\"\"\"\n",
    "*\n",
    "**\n",
    "* *\n",
    "*  * \n",
    "*   *\n",
    "*****\n",
    "\"\"\"\n",
    "\n",
    "for i in range(1,6):\n",
    "    for j in range(1,6):\n",
    "        if(i==5 or j==1 or i==j):\n",
    "            print(\"*\", end=\" \")\n",
    "        else:\n",
    "            print(\" \", end=\" \")\n",
    "    print(\" \")\n"
   ]
  },
  {
   "cell_type": "code",
   "execution_count": 81,
   "id": "caf17cd9-8596-42df-8afa-f385235ae750",
   "metadata": {},
   "outputs": [
    {
     "name": "stdout",
     "output_type": "stream",
     "text": [
      "* * * * *  \n",
      "  *     *  \n",
      "    *   *  \n",
      "      * *  \n",
      "        *  \n"
     ]
    }
   ],
   "source": [
    "\"\"\"\n",
    "*****\n",
    " *  *\n",
    "  * *\n",
    "   **\n",
    "    *\n",
    "\n",
    "\"\"\"\n",
    "\n",
    "for i in range(1,6):\n",
    "    for j in range(1,6):\n",
    "        if(i==1 or j==5 or i==j):\n",
    "            print(\"*\", end=\" \")\n",
    "        else:\n",
    "            print(\" \", end=\" \")\n",
    "    print(\" \")"
   ]
  },
  {
   "cell_type": "code",
   "execution_count": 86,
   "id": "a08a840c-3b61-467c-a420-f46d17644536",
   "metadata": {},
   "outputs": [
    {
     "name": "stdout",
     "output_type": "stream",
     "text": [
      "* * * * *  \n",
      "*     *    \n",
      "*   *      \n",
      "* *        \n",
      "*          \n"
     ]
    }
   ],
   "source": [
    "\"\"\"\n",
    "*****\n",
    "*  *\n",
    "* *\n",
    "**\n",
    "*\n",
    "\"\"\"\n",
    "\n",
    "\n",
    "for i in range(1,6):\n",
    "    for j in range(1,6):\n",
    "        if(i==1 or j==1 or i+j==6):\n",
    "            print(\"*\", end=\" \")\n",
    "        else:\n",
    "            print(\" \", end=\" \")\n",
    "    print(\" \")"
   ]
  }
 ],
 "metadata": {
  "kernelspec": {
   "display_name": "Python 3 (ipykernel)",
   "language": "python",
   "name": "python3"
  },
  "language_info": {
   "codemirror_mode": {
    "name": "ipython",
    "version": 3
   },
   "file_extension": ".py",
   "mimetype": "text/x-python",
   "name": "python",
   "nbconvert_exporter": "python",
   "pygments_lexer": "ipython3",
   "version": "3.9.0"
  }
 },
 "nbformat": 4,
 "nbformat_minor": 5
}
