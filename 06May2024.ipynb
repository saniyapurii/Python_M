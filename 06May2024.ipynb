{
 "cells": [
  {
   "cell_type": "code",
   "execution_count": null,
   "id": "41ba55d5-6737-4b8b-bf51-e286baa1c350",
   "metadata": {},
   "outputs": [],
   "source": [
    "#function\n",
    "#block of code - reuse"
   ]
  },
  {
   "cell_type": "code",
   "execution_count": 30,
   "id": "e9ac3ff7-9c99-454a-a405-95f2fa8c1b5c",
   "metadata": {},
   "outputs": [],
   "source": [
    "def func():\n",
    "    print(\"Hello\")"
   ]
  },
  {
   "cell_type": "code",
   "execution_count": 32,
   "id": "f0c04325-cba5-4541-b776-7a1ef79479e4",
   "metadata": {},
   "outputs": [
    {
     "name": "stdout",
     "output_type": "stream",
     "text": [
      "Hello\n",
      "Hello\n",
      "Hello\n"
     ]
    }
   ],
   "source": [
    "#function call\n",
    "func()\n",
    "func()\n",
    "func()"
   ]
  },
  {
   "cell_type": "code",
   "execution_count": 37,
   "id": "1aa34671-d000-438b-b0ac-b99a6e38be4e",
   "metadata": {},
   "outputs": [
    {
     "name": "stdout",
     "output_type": "stream",
     "text": [
      "Hello 10\n"
     ]
    }
   ],
   "source": [
    "#parameter / formal parameter/ informal argument\n",
    "def func(x):\n",
    "    print(\"Hello\", x)\n",
    "func(10)"
   ]
  },
  {
   "cell_type": "code",
   "execution_count": 38,
   "id": "701774ec-ad88-47ce-a891-1ffa311f1c3d",
   "metadata": {},
   "outputs": [
    {
     "name": "stdout",
     "output_type": "stream",
     "text": [
      "Hello tushar\n"
     ]
    }
   ],
   "source": [
    "def func(x):\n",
    "    print(\"Hello\", x)\n",
    "func(\"tushar\")"
   ]
  },
  {
   "cell_type": "code",
   "execution_count": 39,
   "id": "f6c12754-69a7-41b1-9422-e3dde961f9a1",
   "metadata": {},
   "outputs": [
    {
     "name": "stdout",
     "output_type": "stream",
     "text": [
      "Hello aman\n"
     ]
    }
   ],
   "source": [
    "func(\"aman\")"
   ]
  },
  {
   "cell_type": "code",
   "execution_count": 40,
   "id": "b2953287-96d4-453b-bf01-e261e8dff0ef",
   "metadata": {},
   "outputs": [
    {
     "name": "stdout",
     "output_type": "stream",
     "text": [
      "Hello tushar\n"
     ]
    },
    {
     "ename": "NameError",
     "evalue": "name 'x' is not defined",
     "output_type": "error",
     "traceback": [
      "\u001b[1;31m---------------------------------------------------------------------------\u001b[0m",
      "\u001b[1;31mNameError\u001b[0m                                 Traceback (most recent call last)",
      "Cell \u001b[1;32mIn[40], line 4\u001b[0m\n\u001b[0;32m      2\u001b[0m     \u001b[38;5;28mprint\u001b[39m(\u001b[38;5;124m\"\u001b[39m\u001b[38;5;124mHello\u001b[39m\u001b[38;5;124m\"\u001b[39m, x)\n\u001b[0;32m      3\u001b[0m func(\u001b[38;5;124m\"\u001b[39m\u001b[38;5;124mtushar\u001b[39m\u001b[38;5;124m\"\u001b[39m)\n\u001b[1;32m----> 4\u001b[0m \u001b[38;5;28mprint\u001b[39m(\u001b[43mx\u001b[49m)\n",
      "\u001b[1;31mNameError\u001b[0m: name 'x' is not defined"
     ]
    }
   ],
   "source": [
    "def func(x):\n",
    "    print(\"Hello\", x)\n",
    "func(\"tushar\")\n",
    "print(x)"
   ]
  },
  {
   "cell_type": "code",
   "execution_count": 42,
   "id": "736085c3-d020-4bc8-93b8-89240adaa6a5",
   "metadata": {},
   "outputs": [
    {
     "name": "stdout",
     "output_type": "stream",
     "text": [
      "30\n"
     ]
    }
   ],
   "source": [
    "def func(x,y):\n",
    "    print(x+y)\n",
    "\n",
    "#10 argument /formal argument/informal parameter\n",
    "func(10,20)\n"
   ]
  },
  {
   "cell_type": "code",
   "execution_count": 48,
   "id": "868259db-af7e-4e5f-8814-84e13d0d3730",
   "metadata": {},
   "outputs": [
    {
     "name": "stdout",
     "output_type": "stream",
     "text": [
      "18\n",
      "out Hey\n"
     ]
    }
   ],
   "source": [
    "def func(x,y):\n",
    "    print(x+y)\n",
    "    return \"Hey\" \n",
    "    \n",
    "out=func(5,13)\n",
    "print(\"out\", out)\n",
    "#print(func(10,20))\n"
   ]
  },
  {
   "cell_type": "raw",
   "id": "83c86d72-0241-4dbf-a85e-a7dba81f2e6f",
   "metadata": {},
   "source": [
    "print(out)"
   ]
  },
  {
   "cell_type": "code",
   "execution_count": 50,
   "id": "8c511b79-a67e-48a3-aff2-180fcfda2e7d",
   "metadata": {},
   "outputs": [
    {
     "name": "stdout",
     "output_type": "stream",
     "text": [
      "out 18\n"
     ]
    }
   ],
   "source": [
    "def func(x,y):\n",
    "    return x+y #always use return instead of print \n",
    "    \n",
    "out=func(5,13)\n",
    "print(\"Out:\", out)\n",
    "#print(func(10,20))\n"
   ]
  },
  {
   "cell_type": "code",
   "execution_count": 51,
   "id": "47474e0b-4483-4e32-8f8f-9ee46f06e3c1",
   "metadata": {},
   "outputs": [
    {
     "name": "stdout",
     "output_type": "stream",
     "text": [
      "18\n"
     ]
    }
   ],
   "source": [
    "print(out)"
   ]
  },
  {
   "cell_type": "code",
   "execution_count": 52,
   "id": "db6e572b-5ad4-49d0-ad33-df489842ac08",
   "metadata": {},
   "outputs": [
    {
     "name": "stdout",
     "output_type": "stream",
     "text": [
      "<class 'int'>\n"
     ]
    }
   ],
   "source": [
    "# call by object reference\n",
    "x=10\n",
    "print(type(x))"
   ]
  },
  {
   "cell_type": "code",
   "execution_count": 53,
   "id": "f97f36bf-2203-4ab8-bb15-2177f41dbc7c",
   "metadata": {},
   "outputs": [
    {
     "name": "stdout",
     "output_type": "stream",
     "text": [
      "20\n",
      "10\n"
     ]
    }
   ],
   "source": [
    "def func(x):\n",
    "    print(x+10)\n",
    "\n",
    "#outside the functions\n",
    "x=10\n",
    "func(10)\n",
    "print(x)"
   ]
  },
  {
   "cell_type": "code",
   "execution_count": 3,
   "id": "43db9a30-1f61-4201-8f37-05baf3035912",
   "metadata": {},
   "outputs": [
    {
     "name": "stdout",
     "output_type": "stream",
     "text": [
      "20\n",
      "10\n"
     ]
    }
   ],
   "source": [
    "x=10\n",
    "func(10)\n",
    "print(x)"
   ]
  },
  {
   "cell_type": "code",
   "execution_count": 4,
   "id": "54f61bc6-c660-4b1e-a464-5cd5794555b0",
   "metadata": {},
   "outputs": [
    {
     "name": "stdout",
     "output_type": "stream",
     "text": [
      "20\n",
      "10\n"
     ]
    }
   ],
   "source": [
    "x=10\n",
    "func(x)\n",
    "print(x)"
   ]
  },
  {
   "cell_type": "code",
   "execution_count": 5,
   "id": "a54154e7-cf5f-4f02-bb17-982b890b217c",
   "metadata": {},
   "outputs": [],
   "source": [
    "def func(x):\n",
    "    x=x+10\n",
    "    print(x+10)"
   ]
  },
  {
   "cell_type": "code",
   "execution_count": 6,
   "id": "e33d0b6f-433b-4504-94b2-7328d8023fec",
   "metadata": {},
   "outputs": [
    {
     "name": "stdout",
     "output_type": "stream",
     "text": [
      "30\n",
      "10\n"
     ]
    }
   ],
   "source": [
    "x=10\n",
    "func(x)\n",
    "print(x)"
   ]
  },
  {
   "cell_type": "code",
   "execution_count": 7,
   "id": "49ef4263-cbb1-4a32-9ac1-45877ba27851",
   "metadata": {},
   "outputs": [],
   "source": [
    "def func(x):\n",
    "    x[0]=\"tushar\"\n",
    "    print(x, id(x))"
   ]
  },
  {
   "cell_type": "code",
   "execution_count": 8,
   "id": "82f0479f-fd1d-4f7c-bd68-a5ae4afcee74",
   "metadata": {},
   "outputs": [
    {
     "name": "stdout",
     "output_type": "stream",
     "text": [
      "list1 memory 3060603967040\n",
      "['tushar', 2, 3, 4] 3060603967040\n",
      "value of list ['tushar', 2, 3, 4]\n"
     ]
    }
   ],
   "source": [
    "list1=[100, 2,3,4]\n",
    "print(\"list1 memory\", id(list1))\n",
    "func(list1)\n",
    "print(\"value of list\", list1)"
   ]
  },
  {
   "cell_type": "code",
   "execution_count": null,
   "id": "405fb2e4-5c01-4cb0-80a1-1a5b5b4b3e57",
   "metadata": {},
   "outputs": [],
   "source": [
    "#create a function and find lCM of 2 numbers\n",
    "#create a function and find the prime number from the input\n",
    "\n",
    "#create a function which takes 1 parameter as int and print the following pattern\n",
    "\"\"\"\n",
    "*****\n",
    " ***\n",
    "  *\n",
    "\"\"\""
   ]
  },
  {
   "cell_type": "code",
   "execution_count": 75,
   "id": "5e7090e3-6ea8-45fd-97b6-1cd8ea60a20e",
   "metadata": {},
   "outputs": [
    {
     "name": "stdin",
     "output_type": "stream",
     "text": [
      "Enter first number:  1\n",
      "Enter second number:  2\n"
     ]
    },
    {
     "name": "stdout",
     "output_type": "stream",
     "text": [
      "The L.C.M. of 1 and 2 is 2\n"
     ]
    }
   ],
   "source": [
    "#create a function and find lCM of 2 numbers\n",
    "\n",
    "def LCM(x, y):  \n",
    "    if x>y:  \n",
    "        greater=x  \n",
    "    else:  \n",
    "        greater=y  \n",
    "    while(True):  \n",
    "        if((greater%x==0)and(greater%y == 0)):  \n",
    "            lcm=greater  \n",
    "            break  \n",
    "        greater+=1  \n",
    "    return LCM  \n",
    "  \n",
    "  \n",
    "x = int(input(\"Enter first number: \"))  \n",
    "y = int(input(\"Enter second number: \"))  \n",
    "\n",
    "print(\"The L.C.M. of\", x,\"and\", y,\"is\", lcm(x,y))    "
   ]
  },
  {
   "cell_type": "code",
   "execution_count": 91,
   "id": "f35658c3-9de4-402e-9593-4fd84b4104b0",
   "metadata": {},
   "outputs": [
    {
     "name": "stdin",
     "output_type": "stream",
     "text": [
      "Enter the number to check prime =  10\n"
     ]
    },
    {
     "name": "stdout",
     "output_type": "stream",
     "text": [
      "10 is not a prime number\n"
     ]
    }
   ],
   "source": [
    "#create a function and find the prime number from the input\n",
    "def prime(y):\n",
    "    if y == 2:\n",
    "        print(y,\"is a prime number\")\n",
    "    else:\n",
    "        for i in range(2,y):\n",
    "            if (y%i)==0:\n",
    "                print(y, \"is not a prime number\")\n",
    "                break\n",
    "        else:\n",
    "            print(y, \"is a prime number\")\n",
    "\n",
    "y=int(input(\"Enter the number to check prime = \"))\n",
    "prime(y)\n",
    "\n",
    "#prime(10)"
   ]
  },
  {
   "cell_type": "code",
   "execution_count": 26,
   "id": "628b64ce-3b4b-4f4e-8f0e-85f7c356c9d7",
   "metadata": {},
   "outputs": [
    {
     "name": "stdout",
     "output_type": "stream",
     "text": [
      "* * * \n",
      "* * \n",
      "* \n"
     ]
    }
   ],
   "source": [
    "#create a function which takes 1 parameter as int and print the following pattern\n",
    "\"\"\"\n",
    "*****\n",
    " ***\n",
    "  *\n",
    "\"\"\"\n",
    "\n",
    "def pattern(x):\n",
    "    for i in range(0,x):\n",
    "        print(\"*\", end = \" \")\n",
    "        for j in range(0,i):\n",
    "            print(\"*\", end = \" \")\n",
    "            print()\n",
    "\n",
    "pattern(3)"
   ]
  },
  {
   "cell_type": "code",
   "execution_count": 27,
   "id": "d561958e-9835-4b98-a0e2-51a256725490",
   "metadata": {},
   "outputs": [
    {
     "name": "stdout",
     "output_type": "stream",
     "text": [
      "*****\n",
      " ***\n",
      "  *\n"
     ]
    }
   ],
   "source": [
    "def pattern(x):\n",
    "    for i in range(x, 0, -1):\n",
    "        for j in range(0, x-i):\n",
    "            print(\" \", end=\"\")\n",
    "        for k in range(0, 2*i-1):\n",
    "            print(\"*\", end=\"\")\n",
    "        print()\n",
    "\n",
    "pattern(3)\n"
   ]
  },
  {
   "cell_type": "code",
   "execution_count": 56,
   "id": "5ff21900-713d-4cd6-9d48-346237a4792a",
   "metadata": {},
   "outputs": [
    {
     "name": "stdout",
     "output_type": "stream",
     "text": [
      "18\n"
     ]
    }
   ],
   "source": [
    "def lcm(a, b):\n",
    "    max_number = max(a, b)\n",
    "    lcm = max_number\n",
    "    \n",
    "    while True:\n",
    "        if lcm % a == 0 and lcm % b == 0:\n",
    "            return lcm\n",
    "        lcm += max_number\n",
    "\n",
    "print(lcm(2, 9))  \n"
   ]
  },
  {
   "cell_type": "code",
   "execution_count": null,
   "id": "665d2499-98bb-4b9f-b06d-f7050de00e1e",
   "metadata": {},
   "outputs": [],
   "source": []
  }
 ],
 "metadata": {
  "kernelspec": {
   "display_name": "Python 3 (ipykernel)",
   "language": "python",
   "name": "python3"
  },
  "language_info": {
   "codemirror_mode": {
    "name": "ipython",
    "version": 3
   },
   "file_extension": ".py",
   "mimetype": "text/x-python",
   "name": "python",
   "nbconvert_exporter": "python",
   "pygments_lexer": "ipython3",
   "version": "3.9.0"
  }
 },
 "nbformat": 4,
 "nbformat_minor": 5
}
