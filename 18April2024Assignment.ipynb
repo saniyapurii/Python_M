{
 "cells": [
  {
   "cell_type": "code",
   "execution_count": null,
   "metadata": {},
   "outputs": [],
   "source": [
    "# take a int number from the user and print the weekday\n",
    "# take a int number from the user and print the month name\n",
    "\n",
    "'''\n",
    "Take a number from the user\n",
    "- if the number is less than 60 => fail\n",
    "- if number is more than 60 and less than 80  => average\n",
    "- if number is more than 80 and less than 90  => good\n",
    "- if number is more tham 90  => excellent\n",
    "'''"
   ]
  },
  {
   "cell_type": "code",
   "execution_count": 9,
   "metadata": {},
   "outputs": [
    {
     "name": "stdout",
     "output_type": "stream",
     "text": [
      "Invalid input\n"
     ]
    }
   ],
   "source": [
    "#take a int number from the user and print the weekday\n",
    "\n",
    "x=int (input(\"Enter the value to print weekday\"))\n",
    "if(x==1):\n",
    "    print(\"Sunday\")\n",
    "elif(x==2):\n",
    "    print(\"Monday\")\n",
    "elif(x==3):\n",
    "    print(\"Tuesday\")\n",
    "elif(x==4):\n",
    "    print(\"Wednesday\")\n",
    "elif(x==5):\n",
    "    print(\"Thursday\")\n",
    "elif(x==6):\n",
    "    print(\"Friday\")\n",
    "elif(x==7):\n",
    "    print(\"Saturday\")\n",
    "else:\n",
    "    print(\"Invalid input\")"
   ]
  },
  {
   "cell_type": "code",
   "execution_count": 10,
   "metadata": {},
   "outputs": [
    {
     "name": "stdout",
     "output_type": "stream",
     "text": [
      "December\n"
     ]
    }
   ],
   "source": [
    "# take a int number from the user and print the month name\n",
    "x=int (input(\"Enter the value to print Month\"))\n",
    "if(x==1):\n",
    "    print(\"January\")\n",
    "elif(x==2):\n",
    "    print(\"February\")\n",
    "elif(x==3):\n",
    "    print(\"March\")\n",
    "elif(x==4):\n",
    "    print(\"April\")\n",
    "elif(x==5):\n",
    "    print(\"May\")\n",
    "elif(x==6):\n",
    "    print(\"June\")\n",
    "elif(x==7):\n",
    "    print(\"July\")\n",
    "elif(x==8):\n",
    "    print(\"August\")\n",
    "elif(x==9):\n",
    "    print(\"September\")\n",
    "elif(x==10):\n",
    "    print(\"October\")\n",
    "elif(x==11):\n",
    "    print(\"November\")\n",
    "elif(x==12):\n",
    "    print(\"December\")\n",
    "else:\n",
    "    print(\"Invalid input\")"
   ]
  },
  {
   "cell_type": "code",
   "execution_count": 18,
   "metadata": {},
   "outputs": [
    {
     "name": "stdout",
     "output_type": "stream",
     "text": [
      "Fail\n"
     ]
    }
   ],
   "source": [
    "'''\n",
    "Take a number from the user\n",
    "- if the number is less than 60 => fail\n",
    "- if number is more than 60 and less than 80  => average\n",
    "- if number is more than 80 and less than 90  => good\n",
    "- if number is more tham 90  => excellent\n",
    "'''\n",
    "\n",
    "x=int (input(\"Enter your percentage\"))\n",
    "if(x<60):\n",
    "    print(\"Fail\")\n",
    "elif(x>=60 & x<=80):\n",
    "    print(\"Average\")\n",
    "elif(x>=81 & x<=90):\n",
    "    print(\"Good\")\n",
    "elif(x>=90):\n",
    "    print(\"Average\")\n",
    "else:\n",
    "    print(\"Invalid input\")\n"
   ]
  }
 ],
 "metadata": {
  "kernelspec": {
   "display_name": "Python 3",
   "language": "python",
   "name": "python3"
  },
  "language_info": {
   "codemirror_mode": {
    "name": "ipython",
    "version": 3
   },
   "file_extension": ".py",
   "mimetype": "text/x-python",
   "name": "python",
   "nbconvert_exporter": "python",
   "pygments_lexer": "ipython3",
   "version": "3.9.0"
  }
 },
 "nbformat": 4,
 "nbformat_minor": 2
}
