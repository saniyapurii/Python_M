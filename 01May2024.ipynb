{
 "cells": [
  {
   "cell_type": "code",
   "execution_count": 9,
   "id": "3125b797-0fa7-45fc-a542-5aae72b2e482",
   "metadata": {},
   "outputs": [
    {
     "name": "stdout",
     "output_type": "stream",
     "text": [
      "[1, 2, 3, 4, 5]\n",
      "No. of unique elemnts are = 5\n"
     ]
    }
   ],
   "source": [
    "\"\"\"\n",
    "1) defined a list of integers nuns sorted in non-decreasing order, write a python code to remove the duplicates in-place such that each unique \n",
    "element appears only once. The relative order of the elements should be kept the same. Then return the number of unique elements in nuns\n",
    "\"\"\"\n",
    "\n",
    "nuns=[1,2,2,3,3,3,4,5]\n",
    "l1=[]\n",
    "for i in nuns:\n",
    "    if i not in l1:\n",
    "        l1.append(i)\n",
    "print (l1)\n",
    "print(\"No. of unique elemnts are =\", len(l1))"
   ]
  },
  {
   "cell_type": "code",
   "execution_count": null,
   "id": "e8af0bf5-b0e3-4b6b-a5dc-0a7c0b3f5c1a",
   "metadata": {},
   "outputs": [],
   "source": [
    "\"\"\"\n",
    "2) Write a program to generate all possible permutations of a given tuple of elements\n",
    "\"\"\"\n",
    "tup1 =(1,2,3)\n",
    "tup2 =(4,5,6)\n",
    "tup3 = ()\n",
    "\n",
    "for i in tup1:\n",
    "    \n"
   ]
  },
  {
   "cell_type": "code",
   "execution_count": 67,
   "id": "41688cf6-a2b0-41ca-aa7f-9cdfff3db5d8",
   "metadata": {},
   "outputs": [
    {
     "name": "stdout",
     "output_type": "stream",
     "text": [
      "{(4, 9), (3, 7), (4, 6), (3, 10), (5, 7), (5, 10), (1, 6), (1, 9), (2, 8), (3, 9), (5, 6), (4, 8), (3, 6), (5, 9), (2, 7), (2, 10), (1, 8), (4, 7), (4, 10), (3, 8), (5, 8), (2, 9), (1, 7), (2, 6), (1, 10)}\n"
     ]
    },
    {
     "data": {
      "text/plain": [
       "25"
      ]
     },
     "execution_count": 67,
     "metadata": {},
     "output_type": "execute_result"
    }
   ],
   "source": [
    "\"\"\"\n",
    "3. Implement a program to find the Cartesian product of two sets\n",
    "\"\"\"\n",
    "set1={1,2,3,4,5}\n",
    "set2={6,7,8,9,10}\n",
    "set3=set({})\n",
    "for i in set1:\n",
    "    for j in set2:\n",
    "        set3.add((i,j))\n",
    "print(set3)\n",
    "len(set3)"
   ]
  },
  {
   "cell_type": "code",
   "execution_count": 48,
   "id": "26508ae9-67a9-4ff0-af15-d110ae54eb4d",
   "metadata": {},
   "outputs": [
    {
     "name": "stdout",
     "output_type": "stream",
     "text": [
      "11\n",
      "1\n"
     ]
    }
   ],
   "source": [
    "\"\"\"\n",
    "4. Implement a program to find the maximum and minimum elements in a tuple of integers\n",
    "\"\"\"\n",
    "tuple1=(3,5,4,7,8,2,1,11)\n",
    "a=0\n",
    "b=tuple1[0]\n",
    "for i in tuple1:\n",
    "    if i>a:\n",
    "        a=i\n",
    "    elif i<b:\n",
    "        b=i\n",
    "print(a)\n",
    "print(b)"
   ]
  },
  {
   "cell_type": "code",
   "execution_count": 63,
   "id": "b3bb8a26-99ba-4d9b-89dd-0f0cb281114e",
   "metadata": {},
   "outputs": [
    {
     "name": "stdout",
     "output_type": "stream",
     "text": [
      "[1, 2, 3, 4, 5, 6, 7]\n",
      "4\n",
      "Median = 4\n"
     ]
    }
   ],
   "source": [
    "\"\"\"\n",
    "5. Implement a program to find the median of a list of integers without using built-in median functions\n",
    "\"\"\"\n",
    "list1=[1,2,4,6,3,7,5]\n",
    "list1.sort()\n",
    "print(list1)\n",
    "x=(len(list1)+1)//2\n",
    "print(x)\n",
    "print(\"Median =\", list1[x-1])"
   ]
  },
  {
   "cell_type": "code",
   "execution_count": 121,
   "id": "20b3977e-cce0-484a-a3c1-80ebac6c6dfb",
   "metadata": {},
   "outputs": [
    {
     "name": "stdout",
     "output_type": "stream",
     "text": [
      "tuple3 = (5, 7, 9)\n"
     ]
    }
   ],
   "source": [
    "\"\"\"\n",
    "6. Write a program to perform element-wise addition of two tuples of integers without using loops.\n",
    "\"\"\"\n",
    "tuple1=(1,2,3)\n",
    "tuple2=(4,5,6)\n",
    "tuple3=()\n",
    "for i in range (len(tuple1)):\n",
    "    tuple3 += (tuple1[i]+tuple2[i],)\n",
    "print (\"tuple3 =\",tuple3)\n"
   ]
  },
  {
   "cell_type": "code",
   "execution_count": 85,
   "id": "dbc14c9b-6fd0-42f3-aff3-6c726bacdd11",
   "metadata": {},
   "outputs": [
    {
     "name": "stdout",
     "output_type": "stream",
     "text": [
      "Correct\n",
      "Correct\n"
     ]
    }
   ],
   "source": [
    "\n",
    "#input= \" [] {} () \" => brackets are correct\n",
    "#input= \"[{} ()]\" => brackets are correct\n",
    "#input= \"[{( ]}]\" => brackets are incorrect\n",
    "\n",
    "mydict={\")\":\"(\", \"]\":\"[\", \"}\":\"{\"}\n",
    "mylist=[]\n",
    "a=\"[()]\"\n",
    "for i in a:\n",
    "    if i in mydict.values():\n",
    "        mylist.append(i)\n",
    "    elif i in mydict.keys():\n",
    "        if mydict[i]!=mylist.pop():\n",
    "            print(\"Not correct\")\n",
    "        else:\n",
    "            print(\"Correct\")\n",
    "    else:\n",
    "        print(\"Not correct\")\n",
    "        \n"
   ]
  },
  {
   "cell_type": "code",
   "execution_count": 90,
   "id": "91f21a87-0c90-44d8-9409-33c6739d74a1",
   "metadata": {},
   "outputs": [
    {
     "name": "stdout",
     "output_type": "stream",
     "text": [
      "Not correct\n"
     ]
    }
   ],
   "source": [
    "mydict = {\")\": \"(\", \"]\": \"[\", \"}\": \"{\"}\n",
    "mylist = []\n",
    "a = \"[(])\"\n",
    "\n",
    "for char in a:\n",
    "    if char in mydict.values():\n",
    "        mylist.append(char)\n",
    "    elif char in mydict.keys():\n",
    "        if not mylist or mylist.pop() != mydict[char]:\n",
    "            print(\"Not correct\")\n",
    "            break\n",
    "else:\n",
    "    if not mylist:\n",
    "        print(\"Brackets are correct\")\n",
    "    else:\n",
    "        print(\"Not correct\")\n"
   ]
  },
  {
   "cell_type": "code",
   "execution_count": 77,
   "id": "85497c6c-9386-42fe-b296-9ebc352c1fc0",
   "metadata": {},
   "outputs": [
    {
     "name": "stdout",
     "output_type": "stream",
     "text": [
      "1\n",
      "[1, 2, 3]\n"
     ]
    }
   ],
   "source": [
    "x=[1,2,3]\n",
    "y=[]\n",
    "print(x.index(2))\n",
    "for i in x:\n",
    "    \n",
    "    y.append(i)\n",
    "print(y)"
   ]
  }
 ],
 "metadata": {
  "kernelspec": {
   "display_name": "Python 3 (ipykernel)",
   "language": "python",
   "name": "python3"
  },
  "language_info": {
   "codemirror_mode": {
    "name": "ipython",
    "version": 3
   },
   "file_extension": ".py",
   "mimetype": "text/x-python",
   "name": "python",
   "nbconvert_exporter": "python",
   "pygments_lexer": "ipython3",
   "version": "3.9.0"
  }
 },
 "nbformat": 4,
 "nbformat_minor": 5
}
