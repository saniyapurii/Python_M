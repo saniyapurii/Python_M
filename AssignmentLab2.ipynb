{
 "cells": [
  {
   "cell_type": "code",
   "execution_count": 1,
   "id": "ad5ac54b-efdd-4cfd-82df-7e08bb184d15",
   "metadata": {},
   "outputs": [
    {
     "name": "stdout",
     "output_type": "stream",
     "text": [
      "xxxxx\n"
     ]
    }
   ],
   "source": [
    "\"\"\"\n",
    "1. Define a function generate_n_chars() that takes an integer n and a character c and returns a string, n\n",
    "characters long, consisting only of c:s. For example, generate_n_chars(5,\"x\") should return the string\n",
    "\"xxxxx\". (Python is unusual in that you can actually write an expression 5 * \"x\" that will evaluate to\n",
    "\"xxxxx\". For the sake of the exercise you should ignore that the problem can be solved in this\n",
    "manner.)\n",
    "\"\"\"\n",
    "\n",
    "def generate_n_chars(n,c):\n",
    "    result = \"\"\n",
    "    for i in range(n):\n",
    "        result += c\n",
    "    return result\n",
    "\n",
    "\n",
    "generate_n_chars(5, \"x\")\n",
    "print(generate_n_chars(5, \"x\"))"
   ]
  },
  {
   "cell_type": "code",
   "execution_count": 2,
   "id": "e067d3ab-775d-4a92-a6fa-3ec1c8762c1a",
   "metadata": {},
   "outputs": [
    {
     "name": "stdout",
     "output_type": "stream",
     "text": [
      "5\n"
     ]
    }
   ],
   "source": [
    "\"\"\"\n",
    "2. The function max() from exercise 1) and the function max_of_three() from exercise 2) will only\n",
    "work for two and three numbers, respectively. But suppose we have a much larger number of\n",
    "numbers, or suppose we cannot tell in advance how many they are? Write a function max_in_list()\n",
    "that takes a list of numbers and returns the largest one.\n",
    "\"\"\"\n",
    "\n",
    "def max_in_list(num):\n",
    "    largest = num[0]\n",
    "    for i in num[1:]:\n",
    "        if i > largest:\n",
    "            largest = i\n",
    "    return largest\n",
    "\n",
    "num=[4,2,5,1,3]\n",
    "print(max_in_list(num))"
   ]
  },
  {
   "cell_type": "code",
   "execution_count": 3,
   "id": "105d2c66-0c85-444e-a38e-b6c861821f6e",
   "metadata": {},
   "outputs": [
    {
     "data": {
      "text/plain": [
       "[5, 3, 5, 3, 3, 3]"
      ]
     },
     "execution_count": 3,
     "metadata": {},
     "output_type": "execute_result"
    }
   ],
   "source": [
    "\"\"\"\n",
    "3. Write a program that maps a list of words into a list of integers representing the lengths of the\n",
    "correponding words.\n",
    "\"\"\"\n",
    "def num_of_words(a):\n",
    "    return [len(length) for length in a]\n",
    "        \n",
    "    \n",
    "a = [\"Hello\", \"Hey\", \"World\", \"How\", \"Are\", \"You\"]\n",
    "num_of_words(a)"
   ]
  },
  {
   "cell_type": "code",
   "execution_count": 4,
   "id": "3d18f59a-65bc-46ac-a86e-abd3130d6e23",
   "metadata": {},
   "outputs": [
    {
     "name": "stdout",
     "output_type": "stream",
     "text": [
      "8 WoohWooh\n"
     ]
    },
    {
     "data": {
      "text/plain": [
       "(8, 'WoohWooh')"
      ]
     },
     "execution_count": 4,
     "metadata": {},
     "output_type": "execute_result"
    }
   ],
   "source": [
    "\"\"\"\n",
    "4. Write a function find_longest_word() that takes a list of words and returns the length of the longest\n",
    "one. Modify the same to do with lambda expression.\n",
    "\"\"\"\n",
    "\n",
    "def find_longest_word(words):\n",
    "    for i in words:\n",
    "        largest = len(words[0])\n",
    "        if len(i) > largest:\n",
    "            print(len(i), i)\n",
    "            largest = len(i)\n",
    "            return largest, i\n",
    "\n",
    "\n",
    "words = [\"Hello\", \"World\", \"WoohWooh\", \"Have\", \"Good\", \"Day\", \"heyhey\"]\n",
    "find_longest_word(words)"
   ]
  },
  {
   "cell_type": "code",
   "execution_count": 5,
   "id": "a5fcbc3a-0d25-40f2-a24f-249649d1a786",
   "metadata": {},
   "outputs": [
    {
     "data": {
      "text/plain": [
       "['Hello', 'World', 'WoohWooh', 'Have', 'Good', 'HeyHey']"
      ]
     },
     "execution_count": 5,
     "metadata": {},
     "output_type": "execute_result"
    }
   ],
   "source": [
    "\"\"\"\n",
    "5. Write a function filter_long_words() that takes a list of words and an integer n and returns the list\n",
    "of words that are longer than n. Modify the same to do with lambda expression.\n",
    "\"\"\"\n",
    "\n",
    "def filter_long_words(words, n):\n",
    "    list = []\n",
    "    for i in words:\n",
    "        if len(i) > n:\n",
    "            list.append(i)\n",
    "    return list\n",
    "\n",
    "\n",
    "\n",
    "words = [\"Hello\", \"World\", \"WoohWooh\", \"Have\", \"Good\", \"Day\", \"HeyHey\"]\n",
    "n = 3\n",
    "filter_long_words(words, n)"
   ]
  },
  {
   "cell_type": "code",
   "execution_count": null,
   "id": "b4a396db-d0fb-4f87-9bcd-20b4661e8504",
   "metadata": {},
   "outputs": [],
   "source": [
    "\"\"\"\n",
    "6. Write a version of a palindrome recognizer that also accepts phrase palindromes such as \"Go hang a\n",
    "salami I'm a lasagna hog.\", \"Was it a rat I saw?\", \"Step on no pets\", \"Sit on a potato pan, Otis\", \"Lisa\n",
    "Bonet ate no basil\", \"Satan, oscillate my metallic sonatas\", \"I roamed under it as a tired nude Maori\",\n",
    "\"Rise to vote sir\", or the exclamation \"Dammit, I'm mad!\". Note that punctuation, capitalization, and\n",
    "spacing are usually ignored.\n",
    "\"\"\"\n",
    "\n",
    "import string\n",
    "\n",
    "def isPalindrome(s):\n",
    "    s1 = s.translate(str.maketrans('', '', string.punctuation)).lower()\n",
    "    s1=s1.replace(\" \", \"\")\n",
    "    print (s1)\n",
    "    s2 = s1[::-1]\n",
    "    return s1 == s2\n",
    "\n",
    "s = input(\"Enter the sentence: \")\n",
    "if isPalindrome(s): \n",
    "    print(\"Sentence is a palindrome.\") \n",
    "else: \n",
    "    print(\"Sentence is not a palindrome.\")\n",
    "\n"
   ]
  },
  {
   "cell_type": "code",
   "execution_count": null,
   "id": "89dc9668-e179-4653-89bc-75bcca534fd5",
   "metadata": {},
   "outputs": [],
   "source": [
    "\"\"\"\n",
    "7. A pangram is a sentence that contains all the letters of the English alphabet at least once, for\n",
    "example: The quick brown fox jumps over the lazy dog. Your task here is to write a function to check\n",
    "a sentence to see if it is a pangram or not.\n",
    "\"\"\"\n",
    "import string\n",
    "\n",
    "def is_pangram(sentence):\n",
    "    letters_seen = set()\n",
    "    sentence = sentence.lower()\n",
    "    for char in sentence:\n",
    "        if char.isalpha():\n",
    "            letters_seen.add(char)\n",
    "    return len(letters_seen) == 26\n",
    "\n",
    "sentence = \"The quick brown fox jumps over the lazy dog.\"\n",
    "if is_pangram(sentence):\n",
    "    print(\"The sentence is a pangram.\")\n",
    "else:\n",
    "    print(\"The sentence is not a pangram.\")\n",
    "\n"
   ]
  },
  {
   "cell_type": "code",
   "execution_count": null,
   "id": "0ba18070-701f-48c5-8204-ae309ab93fb1",
   "metadata": {},
   "outputs": [],
   "source": [
    "\"\"\"\n",
    "8. Represent a small bilingual lexicon as a Python dictionary in the following fashion {\"merry\":\"god\",\n",
    "\"christmas\":\"jul\", \"and\":\"och\", \"happy\":gott\", \"new\":\"nytt\", \"year\":\"år\"} and use it to translate your\n",
    "Christmas cards from English into Swedish. That is, write a function translate() that takes a list of\n",
    "English words and returns a list of Swedish words.\n",
    "\"\"\"\n",
    "def translate(words, lexicon):\n",
    "    return [lexicon.get(word, word) for word in words]\n",
    "\n",
    "bilingual_lexicon = {\n",
    "    \"merry\": \"god\",\n",
    "    \"christmas\": \"jul\",\n",
    "    \"and\": \"och\",\n",
    "    \"happy\": \"gott\",\n",
    "    \"new\": \"nytt\",\n",
    "    \"year\": \"år\"\n",
    "}\n",
    "\n",
    "english_words = [\"merry\", \"christmas\", \"and\", \"happy\", \"new\", \"year\"]\n",
    "swedish_translations = translate(english_words, bilingual_lexicon)\n",
    "print(swedish_translations)\n"
   ]
  },
  {
   "cell_type": "code",
   "execution_count": null,
   "id": "e43ea556-97b1-488d-80d2-250fd8d1ec99",
   "metadata": {},
   "outputs": [],
   "source": [
    "\"\"\"\n",
    "9. Write a function char_freq() that takes a string and builds a frequency listing of the characters\n",
    "contained in it. Represent the frequency listing as a Python dictionary. Try it with something\n",
    "likechar_freq(\"abbabcbdbabdbdbabababcbcbab\").\n",
    "\"\"\"\n",
    "\n",
    "def char_freq(string):\n",
    "    frequency = {}\n",
    "    for char in string:\n",
    "        frequency[char] = frequency.get(char, 0) + 1\n",
    "    return frequency\n",
    "\n",
    "\n",
    "\n",
    "string = \"abbabcbdbabdbdbabababcbcbab\"\n",
    "frequency_listing = char_freq(string)\n",
    "print(frequency_listing)\n"
   ]
  },
  {
   "cell_type": "code",
   "execution_count": 1,
   "id": "8dd9dcc3-d482-4b05-8408-c48506304bf2",
   "metadata": {},
   "outputs": [
    {
     "name": "stdout",
     "output_type": "stream",
     "text": [
      "Addition of two arrays: 33\n",
      "Subtraction of two arrays: -29\n",
      "Minimum value: -29\n",
      "Maximum value: 33\n",
      "Sorted: [-29, 33]\n"
     ]
    }
   ],
   "source": [
    "\"\"\"\n",
    "10. Create a module called mathematics.py and provide subroutines (should be defined generally and\n",
    "should work for any number of arguments) such as:\n",
    "Add Sub\n",
    "Sort the values Max Sort\n",
    "\n",
    "Internal Use - Confidential\n",
    "\n",
    "Use the module in a program and apply the functions on two array variables (say a and b) to:\n",
    "Add two arrays (and store it in c) Subtract two arrays(and store it in d)\n",
    "Find the minimum and maximum value of the resultant array (c or d) Sort the resultant array(c or d)\n",
    "\"\"\"\n",
    "\n",
    "\"\"\"\n",
    "10. Create a module called mathematics.py and provide subroutines (should be defined generally and\n",
    "should work for any number of arguments) such as:\n",
    "Add Sub\n",
    "Sort the values Max Sort\n",
    "\n",
    "Internal Use - Confidential\n",
    "\n",
    "Use the module in a program and apply the functions on two array variables (say a and b) to:\n",
    "Add two arrays (and store it in c) Subtract two arrays(and store it in d)\n",
    "Find the minimum and maximum value of the resultant array (c or d) Sort the resultant array(c or d)\n",
    "\"\"\"\n",
    "\n",
    "from Mathematics1 import add, sub, sort, max_values, min_values\n",
    "\n",
    "a = [2,5,8,11]\n",
    "b = [1,2,4]\n",
    "\n",
    "\n",
    "c = add.add(*a, *b)\n",
    "print(\"Addition of two arrays:\", c)\n",
    "\n",
    "\n",
    "d = sub.sub(*a, *b)\n",
    "print(\"Subtraction of two arrays:\", d)\n",
    "\n",
    "\n",
    "min_value = min_values.min_value(c, d)\n",
    "max_value = max_values.max_value(c, d)\n",
    "print(\"Minimum value:\", min_value)\n",
    "print(\"Maximum value:\", max_value)\n",
    "\n",
    "\n",
    "sorted_result = sort.sort_values(c, d)\n",
    "print(\"Sorted:\", sorted_result)"
   ]
  },
  {
   "cell_type": "code",
   "execution_count": 2,
   "id": "68a5a8ed-1ee4-46e6-9fed-33dbd653b996",
   "metadata": {},
   "outputs": [
    {
     "name": "stdout",
     "output_type": "stream",
     "text": [
      "Addition of two arrays: 33\n",
      "Subtraction of two arrays: -29\n",
      "Minimum value: -29\n",
      "Maximum value: 33\n",
      "Sorted: [-29, 33]\n"
     ]
    }
   ],
   "source": [
    "\"\"\"\n",
    "11. Try above programme with package.\n",
    "\"\"\"\n",
    "\n",
    "#from package\n",
    "\n",
    "import mathematics\n",
    "\n",
    "a = [2,5,8,11]\n",
    "b = [1,2,4]\n",
    "\n",
    "\n",
    "c = mathematics.add(*a, *b)\n",
    "print(\"Addition of two arrays:\", c)\n",
    "\n",
    "\n",
    "d = mathematics.sub(*a, *b)\n",
    "print(\"Subtraction of two arrays:\", d)\n",
    "\n",
    "\n",
    "min_value = mathematics.min_value(c, d)\n",
    "max_value = mathematics.max_value(c, d)\n",
    "print(\"Minimum value:\", min_value)\n",
    "print(\"Maximum value:\", max_value)\n",
    "\n",
    "\n",
    "sorted_result = mathematics.sort_values(c, d)\n",
    "print(\"Sorted:\", sorted_result)\n"
   ]
  },
  {
   "cell_type": "code",
   "execution_count": null,
   "id": "39e632df-3abd-40ba-93dc-f53e6e8b13fd",
   "metadata": {},
   "outputs": [],
   "source": []
  },
  {
   "cell_type": "code",
   "execution_count": null,
   "id": "55bd37d1-7ec2-444c-8786-4569359fcf4f",
   "metadata": {},
   "outputs": [],
   "source": [
    "from  mathematics import add "
   ]
  },
  {
   "cell_type": "code",
   "execution_count": null,
   "id": "10cfdae6-1330-447c-bf0e-b388fcb7c471",
   "metadata": {},
   "outputs": [],
   "source": [
    "add(1,2,3,4,5)"
   ]
  },
  {
   "cell_type": "code",
   "execution_count": null,
   "id": "458c417b-fe28-4a83-9dc0-28130ae80c03",
   "metadata": {},
   "outputs": [],
   "source": [
    "from "
   ]
  }
 ],
 "metadata": {
  "kernelspec": {
   "display_name": "Python 3 (ipykernel)",
   "language": "python",
   "name": "python3"
  },
  "language_info": {
   "codemirror_mode": {
    "name": "ipython",
    "version": 3
   },
   "file_extension": ".py",
   "mimetype": "text/x-python",
   "name": "python",
   "nbconvert_exporter": "python",
   "pygments_lexer": "ipython3",
   "version": "3.9.0"
  }
 },
 "nbformat": 4,
 "nbformat_minor": 5
}
