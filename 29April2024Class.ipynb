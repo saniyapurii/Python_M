{
 "cells": [
  {
   "cell_type": "code",
   "execution_count": null,
   "id": "5a5795cf-2c12-490f-bcb4-8f8d474dd64d",
   "metadata": {},
   "outputs": [],
   "source": [
    "#Dictionary\n",
    "\n",
    "\"\"\"\n",
    "12 Days\n",
    "\n",
    "sunday\n",
    "1 2 3 4 5 6 7 \n",
    "2 3 4 5 6 \n",
    "\"\"\""
   ]
  },
  {
   "cell_type": "code",
   "execution_count": null,
   "id": "4deee99d-7966-4cd8-b3bf-ff39d9e86d6e",
   "metadata": {},
   "outputs": [],
   "source": [
    "#set\n",
    "# a collection of elements, unique\n",
    "#mutable in nature\n",
    "#{}\n",
    "#important:- Set only have immutable datatype as element\n"
   ]
  },
  {
   "cell_type": "code",
   "execution_count": 1,
   "id": "a323b717-05b7-4b35-874d-5ed8e740f6d1",
   "metadata": {},
   "outputs": [
    {
     "name": "stdout",
     "output_type": "stream",
     "text": [
      "<class 'dict'>\n"
     ]
    }
   ],
   "source": [
    "myset={}\n",
    "print(type(myset))"
   ]
  },
  {
   "cell_type": "code",
   "execution_count": 1,
   "id": "0ccd9197-3a34-4120-b156-12a8cbbd5597",
   "metadata": {},
   "outputs": [
    {
     "name": "stdout",
     "output_type": "stream",
     "text": [
      "<class 'set'>\n"
     ]
    }
   ],
   "source": [
    "myset=set({})\n",
    "print(type(myset))"
   ]
  },
  {
   "cell_type": "code",
   "execution_count": 3,
   "id": "0ba2d3f6-5bc4-42e7-a7c9-7ed8baef5c1a",
   "metadata": {},
   "outputs": [
    {
     "name": "stdout",
     "output_type": "stream",
     "text": [
      "{10, 20, 30}\n"
     ]
    }
   ],
   "source": [
    "myset={10,20,30}\n",
    "print(myset)"
   ]
  },
  {
   "cell_type": "code",
   "execution_count": 2,
   "id": "eaf1d361-6001-49d4-9122-30fba4a523e5",
   "metadata": {},
   "outputs": [
    {
     "name": "stdout",
     "output_type": "stream",
     "text": [
      "{10, 20, 30}\n"
     ]
    }
   ],
   "source": [
    "myset={10,20,30,20,10,30,10}\n",
    "print(myset)#set only have unique elemnts, if element is duplicated than, it will only give one time"
   ]
  },
  {
   "cell_type": "code",
   "execution_count": null,
   "id": "10b00d11-be87-42b4-8fde-65f00f6887b7",
   "metadata": {},
   "outputs": [],
   "source": [
    "#unordered datatype\n",
    "#no index"
   ]
  },
  {
   "cell_type": "code",
   "execution_count": 4,
   "id": "81896e3c-29ab-4dd6-a31b-143386e8841c",
   "metadata": {},
   "outputs": [
    {
     "name": "stdout",
     "output_type": "stream",
     "text": [
      "{20, 40, 'yash', 10, 30}\n"
     ]
    }
   ],
   "source": [
    "myset={10,40, \"yash\", 10,20,30}\n",
    "print(myset)"
   ]
  },
  {
   "cell_type": "code",
   "execution_count": 6,
   "id": "1accaafa-28e9-4b58-a0ae-a83a6d1377f5",
   "metadata": {},
   "outputs": [
    {
     "ename": "TypeError",
     "evalue": "unhashable type: 'list'",
     "output_type": "error",
     "traceback": [
      "\u001b[1;31m---------------------------------------------------------------------------\u001b[0m",
      "\u001b[1;31mTypeError\u001b[0m                                 Traceback (most recent call last)",
      "Cell \u001b[1;32mIn[6], line 1\u001b[0m\n\u001b[1;32m----> 1\u001b[0m myset\u001b[38;5;241m=\u001b[39m{\u001b[38;5;241m10\u001b[39m,\u001b[38;5;241m20\u001b[39m,\u001b[38;5;241m30\u001b[39m, \u001b[38;5;241m10\u001b[39m,\u001b[38;5;241m40\u001b[39m, \u001b[38;5;124m\"\u001b[39m\u001b[38;5;124myash\u001b[39m\u001b[38;5;124m\"\u001b[39m, [\u001b[38;5;241m10\u001b[39m,\u001b[38;5;241m0\u001b[39m], (\u001b[38;5;241m10\u001b[39m,\u001b[38;5;241m20\u001b[39m)}\n\u001b[0;32m      2\u001b[0m \u001b[38;5;28mprint\u001b[39m(myset)\n",
      "\u001b[1;31mTypeError\u001b[0m: unhashable type: 'list'"
     ]
    }
   ],
   "source": [
    "myset={10,20,30, 10,40, \"yash\", [10,0], (10,20)} #list cannot be store, because it is mutable\n",
    "print(myset)"
   ]
  },
  {
   "cell_type": "code",
   "execution_count": 7,
   "id": "da2f5eb8-c9c7-42dd-9876-1e079fe75344",
   "metadata": {},
   "outputs": [
    {
     "name": "stdout",
     "output_type": "stream",
     "text": [
      "{20, 40, 'yash', 10, 30, (10, 20)}\n"
     ]
    }
   ],
   "source": [
    "myset={10,20,30,10,40, \"yash\", (10,20)}\n",
    "print(myset)"
   ]
  },
  {
   "cell_type": "code",
   "execution_count": 7,
   "id": "e642ddde-c979-493a-abaa-7280ca869a07",
   "metadata": {},
   "outputs": [
    {
     "name": "stdout",
     "output_type": "stream",
     "text": [
      "{800, 20, 40, 10, 'yash', 30, (10, 20)}\n"
     ]
    }
   ],
   "source": [
    "myset.add(800) #add one element\n",
    "print(myset)"
   ]
  },
  {
   "cell_type": "code",
   "execution_count": 37,
   "id": "ef4b4f39-0971-41ca-bb72-39c1bfe17f75",
   "metadata": {},
   "outputs": [
    {
     "name": "stdout",
     "output_type": "stream",
     "text": [
      "{10, 'u', 'yash', 20, 's', 30, 't', 40, 888}\n"
     ]
    }
   ],
   "source": [
    "myset.update([888])#update:-insert multiple elements\n",
    "print(myset)"
   ]
  },
  {
   "cell_type": "code",
   "execution_count": 41,
   "id": "8f307ff8-8828-42cb-b784-2b79807facda",
   "metadata": {},
   "outputs": [
    {
     "name": "stdout",
     "output_type": "stream",
     "text": [
      "{10, 'u', 'yash', (10, 20), 20, 's', 30, 't', 40}\n"
     ]
    }
   ],
   "source": [
    "myset.update(\"uts\")\n",
    "print(myset)"
   ]
  },
  {
   "cell_type": "code",
   "execution_count": 42,
   "id": "37aad0d9-f4e9-4522-9f16-92caf2905ae2",
   "metadata": {},
   "outputs": [
    {
     "name": "stdout",
     "output_type": "stream",
     "text": [
      "{10, 'u', 'yash', 20, 's', 30, 't', 40}\n"
     ]
    }
   ],
   "source": [
    "myset.remove((10,20))#error if there is no same value\n",
    "print(myset)"
   ]
  },
  {
   "cell_type": "code",
   "execution_count": null,
   "id": "d1ee08fc-9057-4f14-99f1-005d1ecc75b0",
   "metadata": {},
   "outputs": [],
   "source": [
    "myset.pop()\n",
    "print(myset)"
   ]
  },
  {
   "cell_type": "code",
   "execution_count": 43,
   "id": "85bcf112-335d-4959-a577-4497e494b18e",
   "metadata": {},
   "outputs": [
    {
     "name": "stdout",
     "output_type": "stream",
     "text": [
      "{'u', 'yash', 20, 's', 30, 't', 40}\n"
     ]
    }
   ],
   "source": [
    "myset.discard(10) #same as remove, but it doesnt give error, and remove give\n",
    "print(myset)"
   ]
  },
  {
   "cell_type": "code",
   "execution_count": 45,
   "id": "4d1024b7-e3b0-40c8-9792-c0773f36f1cf",
   "metadata": {},
   "outputs": [
    {
     "data": {
      "text/plain": [
       "{10, 20, 30, 40, 50}"
      ]
     },
     "execution_count": 45,
     "metadata": {},
     "output_type": "execute_result"
    }
   ],
   "source": [
    "myset1={10,20,30}\n",
    "myset2={30,40,50}\n",
    "myset1.union(myset2)"
   ]
  },
  {
   "cell_type": "code",
   "execution_count": 8,
   "id": "96953a51-1ff8-4d1b-9904-187f5fc0e473",
   "metadata": {},
   "outputs": [
    {
     "data": {
      "text/plain": [
       "'\\nstring=\"hey this side tushar hey\"\\ns1=string.split()\\nprint(s1)\\nset1={}\\nfor i in s1:\\n    if i not in set1:\\n        set1.update(i)\\nprint(set1)'"
      ]
     },
     "execution_count": 8,
     "metadata": {},
     "output_type": "execute_result"
    }
   ],
   "source": [
    "#\"hey this side tushar hey\"\n",
    "#using set (hey this tushar side)\n",
    "\"\"\"\n",
    "string=\"hey this side tushar hey\"\n",
    "s1=string.split()\n",
    "print(s1)\n",
    "set1={}\n",
    "for i in s1:\n",
    "    if i not in set1:\n",
    "        set1.update(i)\n",
    "print(set1)\"\"\""
   ]
  },
  {
   "cell_type": "code",
   "execution_count": 78,
   "id": "c104c12f-5a24-49f9-9da2-6b315adfaa1f",
   "metadata": {},
   "outputs": [
    {
     "name": "stdout",
     "output_type": "stream",
     "text": [
      "{'hey', 'tushar', 'this', 'side'}\n"
     ]
    }
   ],
   "source": [
    "#\"hey this side tushar hey\"\n",
    "#using set (hey this tushar side)\n",
    "\n",
    "string=\"hey this side tushar hey\"\n",
    "s1=string.split()\n",
    "set1=set(s1)\n",
    "print(set1)"
   ]
  },
  {
   "cell_type": "code",
   "execution_count": 48,
   "id": "13d52aef-3a56-44d7-8335-3ea0ebc679bc",
   "metadata": {},
   "outputs": [
    {
     "name": "stdin",
     "output_type": "stream",
     "text": [
      "Enter the number of days =  7\n"
     ]
    },
    {
     "name": "stdout",
     "output_type": "stream",
     "text": [
      "28\n"
     ]
    }
   ],
   "source": [
    "#Dictionary\n",
    "\n",
    "\"\"\"\n",
    "12 Days\n",
    "\n",
    "sunday\n",
    "1 2 3 4 5 6 7 \n",
    "2 3 4 5 6 \n",
    "\n",
    "\n",
    "8 days\n",
    "1+2+3+4+5+6+7\n",
    "+2\n",
    "\n",
    "3days\n",
    "1+2+3\n",
    "\n",
    "25 days\n",
    "1+2+3+4+5+6+7\n",
    "2+3+4+5+6+7+8\n",
    "3\n",
    "\"\"\"\n",
    "\n",
    "x=int(input(\"Enter the number of days = \"))\n",
    "sum =0\n",
    "for i in range (1,x+1):\n",
    "    for j in range(i,x+1):\n",
    "        sum+=1\n",
    "        j+=1\n",
    "    i+=1\n",
    "print(sum)"
   ]
  },
  {
   "cell_type": "code",
   "execution_count": null,
   "id": "2eb3806c-6b38-4970-af65-ab0591460860",
   "metadata": {},
   "outputs": [],
   "source": [
    "x=int(input(\"Enter the number of days = \"))\n",
    "sum =0\n",
    "c=0\n",
    "for i in range (1,x+1):\n",
    "    for j in range(i,i+7):\n",
    "        if(c<x):\n",
    "            sum+=j\n",
    "            c+=1\n",
    "print(c)\n",
    "print(sum)"
   ]
  },
  {
   "cell_type": "code",
   "execution_count": 14,
   "id": "16967ae3-d723-4c88-bdc1-6501d7d42194",
   "metadata": {},
   "outputs": [
    {
     "ename": "IndentationError",
     "evalue": "expected an indented block (3337071742.py, line 13)",
     "output_type": "error",
     "traceback": [
      "\u001b[1;36m  Cell \u001b[1;32mIn[14], line 13\u001b[1;36m\u001b[0m\n\u001b[1;33m    \u001b[0m\n\u001b[1;37m    ^\u001b[0m\n\u001b[1;31mIndentationError\u001b[0m\u001b[1;31m:\u001b[0m expected an indented block\n"
     ]
    }
   ],
   "source": [
    "#input= \" [] {} () \" => brackets are correct\n",
    "#input= \"[{} ()]\" => brackets are correct\n",
    "#input= \"[{( ]}]\" => brackets are incorrect\n",
    "\n",
    "y=input()\n",
    "x=y.split()\n",
    "print (x)\n",
    "l1=['{', '(', '[']\n",
    "l2=['}', ')', ']']\n",
    "\n",
    "for i in x:\n",
    "    if i in l1:\n",
    "        \n"
   ]
  }
 ],
 "metadata": {
  "kernelspec": {
   "display_name": "Python 3 (ipykernel)",
   "language": "python",
   "name": "python3"
  },
  "language_info": {
   "codemirror_mode": {
    "name": "ipython",
    "version": 3
   },
   "file_extension": ".py",
   "mimetype": "text/x-python",
   "name": "python",
   "nbconvert_exporter": "python",
   "pygments_lexer": "ipython3",
   "version": "3.9.0"
  }
 },
 "nbformat": 4,
 "nbformat_minor": 5
}
