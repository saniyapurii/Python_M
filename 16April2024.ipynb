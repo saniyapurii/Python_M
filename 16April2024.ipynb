{
  "cells": [
    {
      "cell_type": "code",
      "execution_count": 1,
      "metadata": {
        "colab": {
          "base_uri": "https://localhost:8080/",
          "height": 141
        },
        "id": "S7fno84IRT4a",
        "outputId": "49c58fd5-9162-44ec-b409-822b27c2ecf8"
      },
      "outputs": [
        {
          "name": "stdout",
          "output_type": "stream",
          "text": [
            "Hello World!\n"
          ]
        }
      ],
      "source": [
        "print(\"Hello World!\")"
      ]
    },
    {
      "cell_type": "code",
      "execution_count": 2,
      "metadata": {
        "colab": {
          "base_uri": "https://localhost:8080/"
        },
        "id": "ukg8DKj0RjmD",
        "outputId": "eaefbf6a-e5fc-4fc0-a359-f23face16b39"
      },
      "outputs": [
        {
          "name": "stdout",
          "output_type": "stream",
          "text": [
            "Hello World\n",
            "Hello Tushar\n"
          ]
        }
      ],
      "source": [
        "print(\"Hello World\")\n",
        "print(\"Hello Tushar\")"
      ]
    },
    {
      "cell_type": "code",
      "execution_count": 3,
      "metadata": {
        "colab": {
          "base_uri": "https://localhost:8080/"
        },
        "id": "wIqC27MAR0U_",
        "outputId": "8e46fae5-802e-42ad-d149-b7d958478ec9"
      },
      "outputs": [
        {
          "name": "stdout",
          "output_type": "stream",
          "text": [
            "Hello World\n",
            "Hello world!\n"
          ]
        }
      ],
      "source": [
        "print(\"Hello World\", end=\"\\n\")\n",
        "print(\"Hello world!\")\n"
      ]
    },
    {
      "cell_type": "code",
      "execution_count": 4,
      "metadata": {
        "colab": {
          "base_uri": "https://localhost:8080/"
        },
        "id": "iq_PiB22SCrQ",
        "outputId": "732efe27-8a19-41bd-800c-230ac1e1c80c"
      },
      "outputs": [
        {
          "name": "stdout",
          "output_type": "stream",
          "text": [
            "Hello World#Hello Tushar\n",
            "Regex\n"
          ]
        }
      ],
      "source": [
        "print(\"Hello World\", end=\"#\")\n",
        "print(\"Hello Tushar\")\n",
        "print(\"Regex\")"
      ]
    },
    {
      "cell_type": "code",
      "execution_count": 5,
      "metadata": {
        "colab": {
          "base_uri": "https://localhost:8080/"
        },
        "id": "jHzI_G-BSSyy",
        "outputId": "84484518-8e0e-4014-9b82-a508d7fca457"
      },
      "outputs": [
        {
          "name": "stdout",
          "output_type": "stream",
          "text": [
            "Hello-Hey\n",
            "Regex\n"
          ]
        }
      ],
      "source": [
        "print(\"Hello\", \"Hey\", sep=\"-\")\n",
        "print(\"Regex\")"
      ]
    },
    {
      "cell_type": "code",
      "execution_count": 6,
      "metadata": {
        "id": "LeMn3cOxTmdO"
      },
      "outputs": [],
      "source": [
        "x=100"
      ]
    },
    {
      "cell_type": "code",
      "execution_count": 10,
      "metadata": {
        "colab": {
          "base_uri": "https://localhost:8080/"
        },
        "id": "Bg_27LmxTpjB",
        "outputId": "a7e82d91-9f94-447b-8954-e8e8fabfa03f"
      },
      "outputs": [
        {
          "name": "stdout",
          "output_type": "stream",
          "text": [
            "Value 100\n"
          ]
        }
      ],
      "source": [
        "print(\"Value\", x)"
      ]
    },
    {
      "cell_type": "code",
      "execution_count": 7,
      "metadata": {
        "colab": {
          "base_uri": "https://localhost:8080/",
          "height": 141
        },
        "id": "2_-zfzfATwmx",
        "outputId": "c28eaebb-b4b8-46d8-aa8d-cac72a88249d"
      },
      "outputs": [
        {
          "name": "stdout",
          "output_type": "stream",
          "text": [
            "<class 'int'>\n"
          ]
        }
      ],
      "source": [
        "print( type(x))"
      ]
    },
    {
      "cell_type": "code",
      "execution_count": 8,
      "metadata": {
        "colab": {
          "base_uri": "https://localhost:8080/"
        },
        "id": "kQPkG3ObT0pQ",
        "outputId": "0637541c-b156-4ad0-e3ca-40a76a61a10a"
      },
      "outputs": [
        {
          "name": "stdout",
          "output_type": "stream",
          "text": [
            "<class 'str'>\n"
          ]
        }
      ],
      "source": [
        "gender=\"Male\"\n",
        "print( type(gender))"
      ]
    },
    {
      "cell_type": "code",
      "execution_count": 9,
      "metadata": {
        "colab": {
          "base_uri": "https://localhost:8080/",
          "height": 158
        },
        "id": "bfOkYRfZUDt1",
        "outputId": "166584a7-24f4-4bc7-a1cb-14ef81fbc55f"
      },
      "outputs": [
        {
          "name": "stdout",
          "output_type": "stream",
          "text": [
            "<class 'str'>\n"
          ]
        }
      ],
      "source": [
        "gender=\"M\"\n",
        "print( type(gender))"
      ]
    },
    {
      "cell_type": "code",
      "execution_count": 10,
      "metadata": {
        "colab": {
          "base_uri": "https://localhost:8080/",
          "height": 158
        },
        "id": "8JicVV_CUggp",
        "outputId": "562ee077-7db9-4990-debf-07c30bd0fa18"
      },
      "outputs": [
        {
          "name": "stdout",
          "output_type": "stream",
          "text": [
            "<class 'str'>\n"
          ]
        }
      ],
      "source": [
        "gender=\"M\"\n",
        "print( type(gender)  )\n"
      ]
    },
    {
      "cell_type": "code",
      "execution_count": 11,
      "metadata": {
        "colab": {
          "base_uri": "https://localhost:8080/",
          "height": 158
        },
        "id": "wBS0Hp26VWQv",
        "outputId": "ead0fd45-ec82-473c-c5c8-bbb1846038e1"
      },
      "outputs": [
        {
          "name": "stdout",
          "output_type": "stream",
          "text": [
            "<class 'str'>\n"
          ]
        }
      ],
      "source": [
        "gender = 'F'\n",
        "print( type(gender))"
      ]
    },
    {
      "cell_type": "code",
      "execution_count": 12,
      "metadata": {
        "colab": {
          "base_uri": "https://localhost:8080/",
          "height": 158
        },
        "id": "I_84a1c7VfI_",
        "outputId": "225ffd51-9bca-4870-f9ce-7152d3471ba3"
      },
      "outputs": [
        {
          "name": "stdout",
          "output_type": "stream",
          "text": [
            "10\n"
          ]
        }
      ],
      "source": [
        "x=10\n",
        "print(x)"
      ]
    },
    {
      "cell_type": "code",
      "execution_count": 13,
      "metadata": {
        "colab": {
          "base_uri": "https://localhost:8080/",
          "height": 158
        },
        "id": "KzKKPacFVzg6",
        "outputId": "6696c269-708c-40b6-e642-fb38549e973f"
      },
      "outputs": [
        {
          "name": "stdout",
          "output_type": "stream",
          "text": [
            "20\n"
          ]
        }
      ],
      "source": [
        "x=20\n",
        "print(x)"
      ]
    },
    {
      "cell_type": "code",
      "execution_count": 14,
      "metadata": {
        "colab": {
          "base_uri": "https://localhost:8080/",
          "height": 158
        },
        "id": "aWLB5VWWV6_b",
        "outputId": "f69b0e3f-ec30-4fa4-af38-27b445958d52"
      },
      "outputs": [
        {
          "name": "stdout",
          "output_type": "stream",
          "text": [
            "b35  regex software \n",
            "gopalpura\n"
          ]
        }
      ],
      "source": [
        "address=\"b35  regex software \\ngopalpura\"\n",
        "print(address)"
      ]
    },
    {
      "cell_type": "code",
      "execution_count": 15,
      "metadata": {
        "colab": {
          "base_uri": "https://localhost:8080/",
          "height": 176
        },
        "id": "dDe5aWgeWbxE",
        "outputId": "c922dc26-8974-4b6f-ad62-390ecf5002a5"
      },
      "outputs": [
        {
          "name": "stdout",
          "output_type": "stream",
          "text": [
            "b35\n",
            "regex software\n",
            "gopalpura\n"
          ]
        }
      ],
      "source": [
        "address=\"\"\"b35\n",
        "regex software\n",
        "gopalpura\"\"\"\n",
        "print(address)"
      ]
    },
    {
      "cell_type": "code",
      "execution_count": 16,
      "metadata": {
        "colab": {
          "base_uri": "https://localhost:8080/",
          "height": 176
        },
        "id": "9ExFllu6WgNW",
        "outputId": "97f07aaa-1033-4651-a698-00b4001bcddc"
      },
      "outputs": [
        {
          "name": "stdout",
          "output_type": "stream",
          "text": [
            "b35\n",
            "regex software\n",
            "gopalpura\n"
          ]
        }
      ],
      "source": [
        "address='''b35\n",
        "regex software\n",
        "gopalpura'''\n",
        "print(address)"
      ]
    },
    {
      "cell_type": "code",
      "execution_count": 17,
      "metadata": {
        "colab": {
          "base_uri": "https://localhost:8080/",
          "height": 176
        },
        "id": "YyRxYpkLWlDH",
        "outputId": "f434fbe0-659e-4308-a34a-7a5a30b36387"
      },
      "outputs": [
        {
          "name": "stdout",
          "output_type": "stream",
          "text": [
            "hey\n"
          ]
        }
      ],
      "source": [
        "# heyasdf asdf asdf asd f asdf\n",
        "# come\n",
        "# hey\n",
        "print(\"hey\")"
      ]
    },
    {
      "cell_type": "code",
      "execution_count": 18,
      "metadata": {
        "colab": {
          "base_uri": "https://localhost:8080/",
          "height": 36
        },
        "id": "5_rOm8PxWpbi",
        "outputId": "132839e9-4d08-4ebd-d6cc-5884b5937214"
      },
      "outputs": [
        {
          "data": {
            "text/plain": [
              "'\\n\\thhis will be a multi line\\n\\ncomment'"
            ]
          },
          "execution_count": 18,
          "metadata": {},
          "output_type": "execute_result"
        }
      ],
      "source": [
        "\"\"\"\n",
        "\\thhis will be a multi line\n",
        "\\ncomment\\\n",
        "\"\"\""
      ]
    },
    {
      "cell_type": "code",
      "execution_count": 19,
      "metadata": {
        "id": "58l97R8ZWumX"
      },
      "outputs": [],
      "source": [
        "# string formatting\n",
        "year=2024\n",
        "company=\"REGEX SOFTWARE\""
      ]
    },
    {
      "cell_type": "code",
      "execution_count": 20,
      "metadata": {
        "colab": {
          "base_uri": "https://localhost:8080/",
          "height": 141
        },
        "id": "yjg7fpmtWyj9",
        "outputId": "a54b424a-7408-41e4-e47e-23c0f8b7f1f5"
      },
      "outputs": [
        {
          "name": "stdout",
          "output_type": "stream",
          "text": [
            "Year is 2024 Company name is REGEX SOFTWARE\n"
          ]
        }
      ],
      "source": [
        "print(\"Year is\",year,\"Company name is\",company)"
      ]
    },
    {
      "cell_type": "code",
      "execution_count": 21,
      "metadata": {
        "colab": {
          "base_uri": "https://localhost:8080/",
          "height": 141
        },
        "id": "Dby6iGJdW198",
        "outputId": "962a8df1-cdb0-4b56-82c9-fddbfd07abb3"
      },
      "outputs": [
        {
          "name": "stdout",
          "output_type": "stream",
          "text": [
            "Year is 2024 Company name is REGEX SOFTWARE \n"
          ]
        }
      ],
      "source": [
        "print(f\"Year is {year} Company name is {company} \")\n"
      ]
    },
    {
      "cell_type": "code",
      "execution_count": 22,
      "metadata": {
        "colab": {
          "base_uri": "https://localhost:8080/",
          "height": 211
        },
        "id": "Zi35LHd6W4rL",
        "outputId": "203d6b5e-4eba-40c6-871f-867c8b8e2d25"
      },
      "outputs": [
        {
          "name": "stdout",
          "output_type": "stream",
          "text": [
            "hey user tushargoyal\n",
            "hey user tushargoyal\n"
          ]
        }
      ],
      "source": [
        "username=\"tushargoyal\"\n",
        "greeting=f\"hey user {username}\"\n",
        "\n",
        "print(greeting)\n",
        "\n",
        "username=\"aman\"\n",
        "\n",
        "print(greeting)"
      ]
    },
    {
      "cell_type": "code",
      "execution_count": 23,
      "metadata": {
        "colab": {
          "base_uri": "https://localhost:8080/",
          "height": 176
        },
        "id": "96yLbnw2W8CD",
        "outputId": "014dcad9-7672-4aa9-e522-67bfa6b72e7e"
      },
      "outputs": [
        {
          "name": "stdout",
          "output_type": "stream",
          "text": [
            "hey year is 2023 company is abc \n"
          ]
        }
      ],
      "source": [
        "# .format method\n",
        "yr=2023\n",
        "print(  \"hey year is {0} company is {1} \".format(yr,\"abc\")   )"
      ]
    },
    {
      "cell_type": "code",
      "execution_count": 24,
      "metadata": {
        "colab": {
          "base_uri": "https://localhost:8080/",
          "height": 176
        },
        "id": "99WBQbrQW_cy",
        "outputId": "950f3dff-909d-46a7-e582-dcf55422e9d4"
      },
      "outputs": [
        {
          "name": "stdout",
          "output_type": "stream",
          "text": [
            "hey year is 2023 company is abc \n"
          ]
        }
      ],
      "source": [
        "# .format method\n",
        "yr=2023\n",
        "print(  \"hey year is {} company is {} \".format(yr,\"abc\")   )"
      ]
    },
    {
      "cell_type": "code",
      "execution_count": 25,
      "metadata": {
        "colab": {
          "base_uri": "https://localhost:8080/",
          "height": 176
        },
        "id": "GxkjPp0mXCiS",
        "outputId": "85ff55f6-d825-424b-a722-86c241953983"
      },
      "outputs": [
        {
          "name": "stdout",
          "output_type": "stream",
          "text": [
            "hey year is abc company is 2023 \n"
          ]
        }
      ],
      "source": [
        "# .format method\n",
        "yr=2023\n",
        "print(  \"hey year is {1} company is {0} \".format(yr,\"abc\")   )"
      ]
    }
  ],
  "metadata": {
    "colab": {
      "provenance": []
    },
    "kernelspec": {
      "display_name": "Python 3",
      "name": "python3"
    },
    "language_info": {
      "codemirror_mode": {
        "name": "ipython",
        "version": 3
      },
      "file_extension": ".py",
      "mimetype": "text/x-python",
      "name": "python",
      "nbconvert_exporter": "python",
      "pygments_lexer": "ipython3",
      "version": "3.9.0"
    }
  },
  "nbformat": 4,
  "nbformat_minor": 0
}
