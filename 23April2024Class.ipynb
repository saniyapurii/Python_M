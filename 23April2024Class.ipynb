{
  "nbformat": 4,
  "nbformat_minor": 0,
  "metadata": {
    "colab": {
      "provenance": []
    },
    "kernelspec": {
      "name": "python3",
      "display_name": "Python 3"
    },
    "language_info": {
      "name": "python"
    }
  },
  "cells": [
    {
      "cell_type": "code",
      "source": [
        "#while loop\n",
        "#for loop+> we know no. of iteration"
      ],
      "metadata": {
        "id": "vRs95BE6Ggso"
      },
      "execution_count": null,
      "outputs": []
    },
    {
      "cell_type": "code",
      "source": [
        "i=1\n",
        "while(i<10):\n",
        "  print(i)\n",
        "  i+=1"
      ],
      "metadata": {
        "colab": {
          "base_uri": "https://localhost:8080/"
        },
        "id": "WMXV4_oEGRyA",
        "outputId": "0ecc470c-e86d-457f-eae1-d8d396f9988f"
      },
      "execution_count": 4,
      "outputs": [
        {
          "output_type": "stream",
          "name": "stdout",
          "text": [
            "1\n",
            "2\n",
            "3\n",
            "4\n",
            "5\n",
            "6\n",
            "7\n",
            "8\n",
            "9\n"
          ]
        }
      ]
    },
    {
      "cell_type": "code",
      "source": [
        "company = \"regex\"\n",
        "index=0\n",
        "while(index< len(company)):\n",
        "    print(index, company[index])\n",
        "    index +=1"
      ],
      "metadata": {
        "colab": {
          "base_uri": "https://localhost:8080/"
        },
        "id": "JbnAxjQdGOkC",
        "outputId": "f81afb15-68db-4a2a-bf42-4f904d86bb18"
      },
      "execution_count": 2,
      "outputs": [
        {
          "output_type": "stream",
          "name": "stdout",
          "text": [
            "0 r\n",
            "1 e\n",
            "2 g\n",
            "3 e\n",
            "4 x\n"
          ]
        }
      ]
    },
    {
      "cell_type": "code",
      "execution_count": 1,
      "metadata": {
        "colab": {
          "base_uri": "https://localhost:8080/"
        },
        "id": "zk5hvm2RFwL4",
        "outputId": "76efac6a-637e-4999-8a7c-b4fc3cea4ee1"
      },
      "outputs": [
        {
          "output_type": "stream",
          "name": "stdout",
          "text": [
            "1\n",
            "2\n"
          ]
        }
      ],
      "source": [
        "for i in range(1,5):\n",
        "    if(i==3):\n",
        "        break\n",
        "    print(i)"
      ]
    },
    {
      "cell_type": "code",
      "source": [
        "#print sum of 50 to 20 by while loop\n",
        "\n",
        "i=50\n",
        "sum=0\n",
        "while(i>=20):\n",
        "  sum=sum+i\n",
        "  i-=1\n",
        "print(sum)\n",
        ""
      ],
      "metadata": {
        "colab": {
          "base_uri": "https://localhost:8080/"
        },
        "id": "1uMKv2mnGLbk",
        "outputId": "6f0152fd-806c-41f5-a5bd-43abd6cb19b1"
      },
      "execution_count": 10,
      "outputs": [
        {
          "output_type": "stream",
          "name": "stdout",
          "text": [
            "1085\n"
          ]
        }
      ]
    },
    {
      "cell_type": "code",
      "source": [
        "#print total 10 numbers from 50 which are divisible by 5 and 7\n",
        "\n",
        "i=50\n",
        "count=0\n",
        "while(count<10):\n",
        "  if(i%5==0 and i%7==0):\n",
        "    count+=1\n",
        "    print(i)\n",
        "  i+=1"
      ],
      "metadata": {
        "colab": {
          "base_uri": "https://localhost:8080/"
        },
        "id": "moOA7kvVIIrj",
        "outputId": "2b87a617-66f8-40f9-bebf-17b08d478f0f"
      },
      "execution_count": 21,
      "outputs": [
        {
          "output_type": "stream",
          "name": "stdout",
          "text": [
            "70\n",
            "105\n",
            "140\n",
            "175\n",
            "210\n",
            "245\n",
            "280\n",
            "315\n",
            "350\n",
            "385\n"
          ]
        }
      ]
    },
    {
      "cell_type": "code",
      "source": [
        "#print total 10 numbers from 50 which are divisible by 5 and 7\n",
        "\n",
        "i=30\n",
        "count=0\n",
        "while(count<10):\n",
        "  if(i%5==0 and i%7==0):\n",
        "    count+=1\n",
        "    print(i)\n",
        "  i+=1"
      ],
      "metadata": {
        "colab": {
          "base_uri": "https://localhost:8080/"
        },
        "outputId": "1d2d4b6e-a232-4c0c-f530-0171d561e496",
        "id": "ERU9HEEOM3fX"
      },
      "execution_count": 26,
      "outputs": [
        {
          "output_type": "stream",
          "name": "stdout",
          "text": [
            "35\n",
            "70\n",
            "105\n",
            "140\n",
            "175\n",
            "210\n",
            "245\n",
            "280\n",
            "315\n",
            "350\n"
          ]
        }
      ]
    },
    {
      "cell_type": "code",
      "source": [
        "#print total 10 numbers from 50 which are divisible by 5 and 7\n",
        "\n",
        "i=50\n",
        "while(True):\n",
        "  if(i%5==0 and i%7==0):\n",
        "    print(i)\n",
        "    break\n",
        "  i+=1"
      ],
      "metadata": {
        "colab": {
          "base_uri": "https://localhost:8080/"
        },
        "id": "UGMR9RmdLPZf",
        "outputId": "3f48a9ce-717e-4b2b-a044-849ce3091344"
      },
      "execution_count": 23,
      "outputs": [
        {
          "output_type": "stream",
          "name": "stdout",
          "text": [
            "70\n"
          ]
        }
      ]
    },
    {
      "cell_type": "code",
      "source": [
        "i=50\n",
        "count=0\n",
        "while(True):\n",
        "  if(i%5==0 and i%7==0):\n",
        "    count+=1\n",
        "    print(i)\n",
        "  if(count==10):\n",
        "    break\n",
        "  i+=1\n",
        "print(count)"
      ],
      "metadata": {
        "colab": {
          "base_uri": "https://localhost:8080/"
        },
        "id": "UZjh4YSELYFY",
        "outputId": "dae7f3ca-b2d8-4dd2-d73d-4ceb7a2aa595"
      },
      "execution_count": 25,
      "outputs": [
        {
          "output_type": "stream",
          "name": "stdout",
          "text": [
            "70\n",
            "105\n",
            "140\n",
            "175\n",
            "210\n",
            "245\n",
            "280\n",
            "315\n",
            "350\n",
            "385\n",
            "10\n"
          ]
        }
      ]
    },
    {
      "cell_type": "code",
      "source": [
        "#nested loop => Loop in a loop\n",
        "\n",
        "for i in range(1,6):\n",
        "  print(\"Hello\")\n",
        ""
      ],
      "metadata": {
        "colab": {
          "base_uri": "https://localhost:8080/"
        },
        "id": "wGFhPbTRNi3-",
        "outputId": "b19dc6f8-9064-47f1-9128-6ea902f2e9f1"
      },
      "execution_count": 27,
      "outputs": [
        {
          "output_type": "stream",
          "name": "stdout",
          "text": [
            "Hello\n",
            "Hello\n",
            "Hello\n",
            "Hello\n",
            "Hello\n"
          ]
        }
      ]
    },
    {
      "cell_type": "code",
      "source": [
        "for i in range(1,6):\n",
        "  print(\"Hello\")\n",
        "  for k in range (1,4):\n",
        "    print(k)"
      ],
      "metadata": {
        "colab": {
          "base_uri": "https://localhost:8080/"
        },
        "id": "ceV2U2-ON04a",
        "outputId": "deaff8dc-3a5f-49a9-94d9-148673b928f8"
      },
      "execution_count": 28,
      "outputs": [
        {
          "output_type": "stream",
          "name": "stdout",
          "text": [
            "Hello\n",
            "1\n",
            "2\n",
            "3\n",
            "Hello\n",
            "1\n",
            "2\n",
            "3\n",
            "Hello\n",
            "1\n",
            "2\n",
            "3\n",
            "Hello\n",
            "1\n",
            "2\n",
            "3\n",
            "Hello\n",
            "1\n",
            "2\n",
            "3\n"
          ]
        }
      ]
    },
    {
      "cell_type": "code",
      "source": [
        "for i in range(1,6):\n",
        "  print(\"\\n\")\n",
        "  for k in range (1,4):\n",
        "    print(k)"
      ],
      "metadata": {
        "colab": {
          "base_uri": "https://localhost:8080/"
        },
        "id": "eoaZC4poPQqV",
        "outputId": "9aaee2e5-c075-4594-b86a-2d034ae090f2"
      },
      "execution_count": 30,
      "outputs": [
        {
          "output_type": "stream",
          "name": "stdout",
          "text": [
            "\n",
            "\n",
            "1\n",
            "2\n",
            "3\n",
            "\n",
            "\n",
            "1\n",
            "2\n",
            "3\n",
            "\n",
            "\n",
            "1\n",
            "2\n",
            "3\n",
            "\n",
            "\n",
            "1\n",
            "2\n",
            "3\n",
            "\n",
            "\n",
            "1\n",
            "2\n",
            "3\n"
          ]
        }
      ]
    },
    {
      "cell_type": "code",
      "source": [
        "for i in range(1,6):\n",
        "  for k in range (1,4):\n",
        "    print(k)\n",
        "  print(\" \")"
      ],
      "metadata": {
        "colab": {
          "base_uri": "https://localhost:8080/"
        },
        "id": "Mx8O4T67Ph2X",
        "outputId": "3bf59ae9-b0ca-4d64-a0e5-e0fd3714b93a"
      },
      "execution_count": 34,
      "outputs": [
        {
          "output_type": "stream",
          "name": "stdout",
          "text": [
            "1\n",
            "2\n",
            "3\n",
            " \n",
            "1\n",
            "2\n",
            "3\n",
            " \n",
            "1\n",
            "2\n",
            "3\n",
            " \n",
            "1\n",
            "2\n",
            "3\n",
            " \n",
            "1\n",
            "2\n",
            "3\n",
            " \n"
          ]
        }
      ]
    },
    {
      "cell_type": "code",
      "source": [
        "print(\"Hello\", end=\" \")\n",
        "print(\"Hey\")"
      ],
      "metadata": {
        "colab": {
          "base_uri": "https://localhost:8080/"
        },
        "id": "cLNB_LApQTjB",
        "outputId": "5a5941a8-6499-4d70-aca4-71497419a50c"
      },
      "execution_count": 35,
      "outputs": [
        {
          "output_type": "stream",
          "name": "stdout",
          "text": [
            "Hello Hey\n"
          ]
        }
      ]
    },
    {
      "cell_type": "code",
      "source": [
        "for i in range(1,8):\n",
        "  for k in range (1,5):\n",
        "    print(k, end=\" \")\n",
        "  print(\" \", end=\"\\n\")"
      ],
      "metadata": {
        "colab": {
          "base_uri": "https://localhost:8080/"
        },
        "id": "hKtnoM7yQbA8",
        "outputId": "3fcb1a02-8199-4479-bd5e-456be0acaade"
      },
      "execution_count": 38,
      "outputs": [
        {
          "output_type": "stream",
          "name": "stdout",
          "text": [
            "1 2 3 4  \n",
            "1 2 3 4  \n",
            "1 2 3 4  \n",
            "1 2 3 4  \n",
            "1 2 3 4  \n",
            "1 2 3 4  \n",
            "1 2 3 4  \n"
          ]
        }
      ]
    },
    {
      "cell_type": "code",
      "source": [
        "for i in range(1,4):\n",
        "  for j in range(1,5):\n",
        "    print(\"*\", end=\" \")\n",
        "  print(\" \")"
      ],
      "metadata": {
        "colab": {
          "base_uri": "https://localhost:8080/"
        },
        "id": "-ckLwynKQvl0",
        "outputId": "fc1f7c71-7390-443b-dbc8-8fd1d1884de6"
      },
      "execution_count": 43,
      "outputs": [
        {
          "output_type": "stream",
          "name": "stdout",
          "text": [
            "* * * *  \n",
            "* * * *  \n",
            "* * * *  \n"
          ]
        }
      ]
    },
    {
      "cell_type": "code",
      "source": [
        "for i in range(1,5):\n",
        "  for j in range(1,i+1):\n",
        "      print(\"*\", end=\" \")\n",
        "  print(\" \")"
      ],
      "metadata": {
        "colab": {
          "base_uri": "https://localhost:8080/"
        },
        "id": "byv9sXPtR4Bd",
        "outputId": "66c28f5a-06c5-43d9-a890-3bb8fc92a676"
      },
      "execution_count": 49,
      "outputs": [
        {
          "output_type": "stream",
          "name": "stdout",
          "text": [
            "*  \n",
            "* *  \n",
            "* * *  \n",
            "* * * *  \n"
          ]
        }
      ]
    },
    {
      "cell_type": "code",
      "source": [],
      "metadata": {
        "id": "5FHHvgGMTko3"
      },
      "execution_count": null,
      "outputs": []
    }
  ]
}